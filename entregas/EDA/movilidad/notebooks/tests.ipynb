{
 "cells": [
  {
   "cell_type": "code",
   "execution_count": 6,
   "id": "59c44a7b-59d5-46fd-af44-680f29e0d22a",
   "metadata": {},
   "outputs": [],
   "source": [
    "import pandas as pd\n",
    "import numpy as np\n",
    "import matplotlib.pyplot as plt"
   ]
  },
  {
   "cell_type": "code",
   "execution_count": 7,
   "id": "a0013fa5-3a74-4113-8d6c-6c0f2d4a8cc2",
   "metadata": {},
   "outputs": [
    {
     "name": "stdout",
     "output_type": "stream",
     "text": [
      "   num                 date  colC   colD  colE\n",
      "0    1  2020-04-01 00:01:00   158   True  12.8\n",
      "1    2  2020-05-02 01:02:00   567  False  74.2\n",
      "2    3  2020-06-03 03:04:00   123  False   1.1\n",
      "3    4  2020-07-29 09:20:00   578   True  45.8\n",
      "4    5  2020-08-31 10:30:00   418   True  21.1\n",
      "5    6  2020-09-30 11:59:00    98  False  98.1\n"
     ]
    }
   ],
   "source": [
    "df = pd.DataFrame(\n",
    "    [\n",
    "        (1, '2020-04-01 00:01:00', 158, True, 12.8),\n",
    "        (2, '2020-05-02 01:02:00', 567, False, 74.2),\n",
    "        (3, '2020-06-03 03:04:00', 123, False, 1.1),\n",
    "        (4, '2020-07-29 09:20:00', 578, True, 45.8),\n",
    "        (5, '2020-08-31 10:30:00', 418, True, 21.1),\n",
    "        (6, '2020-09-30 11:59:00', 98, False, 98.1),\n",
    "    ],\n",
    "    columns=['num', 'date', 'colC', 'colD', 'colE']\n",
    ")\n",
    "\n",
    "print(df)"
   ]
  },
  {
   "cell_type": "code",
   "execution_count": 13,
   "id": "4aedc2fc-4456-4b88-8c71-57f63e387050",
   "metadata": {},
   "outputs": [],
   "source": [
    "def extract_year_value(row):\n",
    "    string_year = row['date']\n",
    "    return string_year[0:4]\n",
    "    \n",
    "def extract_month_value(row):\n",
    "    string_month = row['date']\n",
    "    return string_month[5:7]\n",
    "\n",
    "def extract_day_value(row):\n",
    "    string_day = row['date']\n",
    "    return string_day[8:10]\n",
    "\n",
    "def extract_hour_value(row):\n",
    "    string_day = row['date']\n",
    "    return string_day[11:13]"
   ]
  },
  {
   "cell_type": "code",
   "execution_count": 14,
   "id": "0e750930-b595-45bc-9772-e95b73295b88",
   "metadata": {},
   "outputs": [],
   "source": [
    "df['year'] = df.apply(lambda row: extract_year_value(row), axis=1)\n",
    "df['month'] = df.apply(lambda row: extract_month_value(row), axis=1)\n",
    "df['day'] = df.apply(lambda row: extract_day_value(row), axis=1)\n",
    "df['hour'] = df.apply(lambda row: extract_hour_value(row), axis=1)"
   ]
  },
  {
   "cell_type": "code",
   "execution_count": null,
   "id": "b0e33fa6-5557-4845-9af8-a909c00ea0e8",
   "metadata": {},
   "outputs": [],
   "source": [
    "\n",
    "    "
   ]
  },
  {
   "cell_type": "code",
   "execution_count": null,
   "id": "1dee346d-ce71-4b2f-9180-e860a4db7c1f",
   "metadata": {},
   "outputs": [],
   "source": []
  },
  {
   "cell_type": "code",
   "execution_count": 15,
   "id": "341be70d-b4f3-4002-ae88-9c31a55f85fb",
   "metadata": {},
   "outputs": [
    {
     "name": "stdout",
     "output_type": "stream",
     "text": [
      "   num                 date  colC   colD  colE  year month day hour\n",
      "0    1  2020-04-01 00:01:00   158   True  12.8  2020    04  01   00\n",
      "1    2  2020-05-02 01:02:00   567  False  74.2  2020    05  02   01\n",
      "2    3  2020-06-03 03:04:00   123  False   1.1  2020    06  03   03\n",
      "3    4  2020-07-29 09:20:00   578   True  45.8  2020    07  29   09\n",
      "4    5  2020-08-31 10:30:00   418   True  21.1  2020    08  31   10\n",
      "5    6  2020-09-30 11:59:00    98  False  98.1  2020    09  30   11\n"
     ]
    }
   ],
   "source": [
    "print(df)\n"
   ]
  },
  {
   "cell_type": "code",
   "execution_count": null,
   "id": "ad844f57-f63e-4232-a8f5-839c9d149ef4",
   "metadata": {},
   "outputs": [],
   "source": []
  }
 ],
 "metadata": {
  "kernelspec": {
   "display_name": "PyCharm (movilidad)",
   "language": "python",
   "name": "pycharm-19fd599e"
  },
  "language_info": {
   "codemirror_mode": {
    "name": "ipython",
    "version": 3
   },
   "file_extension": ".py",
   "mimetype": "text/x-python",
   "name": "python",
   "nbconvert_exporter": "python",
   "pygments_lexer": "ipython3",
   "version": "3.7.11"
  }
 },
 "nbformat": 4,
 "nbformat_minor": 5
}
