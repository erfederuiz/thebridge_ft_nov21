22-01-24 22:10:24.728   Dest filename: C:\Program Files\Wondershare\Recoverit\msvcp90.dll
2022-01-24 22:10:24.728   Time stamp of our file: 2021-11-15 23:17:12.000
2022-01-24 22:10:24.728   Installing the file.
2022-01-24 22:10:24.740   Successfully installed the file.
2022-01-24 22:10:24.740   -- File entry --
2022-01-24 22:10:24.741   Dest filename: C:\Program Files\Wondershare\Recoverit\msvcr90.dll
2022-01-24 22:10:24.741   Time stamp of our file: 2021-11-15 23:16:54.000
2022-01-24 22:10:24.741   Installing the file.
2022-01-24 22:10:24.762   Successfully installed the file.
2022-01-24 22:10:24.762   -- File entry --
2022-01-24 22:10:24.762   Dest filename: C:\Program Files\Wondershare\Recoverit\msvcp100.dll
2022-01-24 22:10:24.762   Time stamp of our file: 2021-11-15 23:16:56.000
2022-01-24 22:10:24.762   Installing the file.
2022-01-24 22:10:24.771   Successfully installed the file.
2022-01-24 22:10:24.771   -- File entry --
2022-01-24 22:10:24.771   Dest filename: C:\Program Files\Wondershare\Recoverit\msvcr100.dll
2022-01-24 22:10:24.771   Time stamp of our file: 2021-11-15 23:16:56.000
2022-01-24 22:10:24.771   Installing the file.
2022-01-24 22:10:24.791   Successfully installed the file.
2022-01-24 22:10:24.791   -- File entry --
2022-01-24 22:10:24.791   Dest filename: C:\Program Files\Wondershare\Recoverit\msvcp120.dll
2022-01-24 22:10:24.791   Time stamp of our file: 2021-11-15 23:16:50.000
2022-01-24 22:10:24.791   Installing the file.
2022-01-24 22:10:24.806   Successfully installed the file.
2022-01-24 22:10:24.806   -- File entry --
2022-01-24 22:10:24.806   Dest filename: C:\Program Files\Wondershare\Recoverit\msvcr120.dll
2022-01-24 22:10:24.806   Time stamp of our file: 2021-11-15 23:17:12.000
2022-01-24 22:10:24.806   Installing the file.
2022-01-24 22:10:24.856   Successfully installed the file.
2022-01-24 22:10:24.856   -- File entry --
2022-01-24 22:10:24.857   Dest filename: C:\Program Files\Wondershare\Recoverit\msvcp140.dll
2022-01-24 22:10:24.857   Time stamp of our file: 2021-11-15 23:17:00.000
2022-01-24 22:10:24.857   Installing the file.
2022-01-24 22:10:24.876   Successfully installed the file.
2022-01-24 22:10:24.876   -- File entry --
2022-01-24 22:10:24.876   Dest filename: C:\Program Files\Wondershare\Recoverit\vcruntime140.dll
2022-01-24 22:10:24.876   Time stamp of our file: 2021-11-15 23:16:58.000
2022-01-24 22:10:24.876   Installing the file.
2022-01-24 22:10:24.880   Successfully installed the file.
2022-01-24 22:10:24.880   -- File entry --
2022-01-24 22:10:24.880   Dest filename: C:\Program Files\Wondershare\Recoverit\concrt140.dll
2022-01-24 22:10:24.880   Time stamp of our file: 2021-11-15 23:17:10.000
2022-01-24 22:10:24.880   Installing the file.
2022-01-24 22:10:24.891   Successfully installed the file.
2022-01-24 22:10:24.891   -- File entry --
2022-01-24 22:10:24.891   Dest filename: C:\Program Files\Wondershare\Recoverit\ucrtbase.dll
2022-01-24 22:10:24.891   Time stamp of our file: 2021-11-15 23:17:10.000
2022-01-24 22:10:24.891   Installing the file.
2022-01-24 22:10:24.917   Successfully installed the file.
2022-01-24 22:10:24.917   -- File entry --
2022-01-24 22:10:24.917   Dest filename: C:\Program Files\Wondershare\Recoverit\vcomp120.dll
2022-01-24 22:10:24.917   Time stamp of our file: 2021-11-15 23:16:56.000
2022-01-24 22:10:24.917   Installing the file.
2022-01-24 22:10:24.921   Successfully installed the file.
2022-01-24 22:10:24.921   -- File entry --
2022-01-24 22:10:24.921   Dest filename: C:\Program Files\Wondershare\Recoverit\api-ms-win-core-console-l1-1-0.dll
2022-01-24 22:10:24.922   Time stamp of our file: 2021-05-06 18:00:06.000
2022-01-24 22:10:24.922   Installing the file.
2022-01-24 22:10:24.924   Successfully installed the file.
2022-01-24 22:10:24.924   -- File entry --
2022-01-24 22:10:24.924   Dest filename: C:\Program Files\Wondershare\Recoverit\api-ms-win-core-datetime-l1-1-0.dll
2022-01-24 22:10:24.925   Time stamp of our file: 2021-05-06 18:00:06.000
2022-01-24 22:10:24.925   Installing the file.
2022-01-24 22:10:24.926   Successfully installed the file.
2022-01-24 22:10:24.926   -- File entry --
2022-01-24 22:10:24.926   Dest filename: C:\Program Files\Wondershare\Recoverit\api-ms-win-core-debug-l1-1-0.dll
2022-01-24 22:10:24.926   Time stamp of our file: 2021-05-06 18:00:06.000
2022-01-24 22:10:24.926   Installing the file.
2022-01-24 22:10:24.928   Successfully installed the file.
2022-01-24 22:10:24.928   -- File entry --
2022-01-24 22:10:24.928   Dest filename: C:\Program Files\Wondershare\Recoverit\api-ms-win-core-errorhandling-l1-1-0.dll
2022-01-24 22:10:24.928   Time stamp of our file: 2021-05-06 18:00:06.000
2022-01-24 22:10:24.928   Installing the file.
2022-01-24 22:10:24.929   Successfully installed the file.
2022-01-24 22:10:24.929   -- File entry --
2022-01-24 22:10:24.929   Dest filename: C:\Program Files\Wondershare\Recoverit\api-ms-win-core-file-l1-1-0.dll
2022-01-24 22:10:24.929   Time stamp of our file: 2021-05-06 18:00:06.000
2022-01-24 22:10:24.929   Installing the file.
2022-01-24 22:10:24.931   Successfully installed the file.
2022-01-24 22:10:24.931   -- File entry --
2022-01-24 22:10:24.931   Dest filename: C:\Program Files\Wondershare\Recoverit\api-ms-win-core-file-l1-2-0.dll
2022-01-24 22:10:24.931   Time stamp of our file: 2021-05-06 18:00:06.000
2022-01-24 22:10:24.931   Installing the file.
2022-01-24 22:10:24.932   Successfully installed the file.
2022-01-24 22:10:24.932   -- File entry --
2022-01-24 22:10:24.932   Dest filename: C:\Program Files\Wondershare\Recoverit\api-ms-win-core-file-l2-1-0.dll
2022-01-24 22:10:24.932   Time stamp of our file: 2021-05-06 18:00:06.000
2022-01-24 22:10:24.933   Installing the file.
2022-01-24 22:10:24.934   Successfully installed the file.
2022-01-24 22:10:24.934   -- File entry --
2022-01-24 22:10:24.934   Dest filename: C:\Program Files\Wondershare\Recoverit\api-ms-win-core-handle-l1-1-0.dll
2022-01-24 22:10:24.934   Time stamp of our file: 2021-05-06 18:00:06.000
2022-01-24 22:10:24.934   Installing the file.
2022-01-24 22:10:24.935   Successfully installed the file.
2022-01-24 22:10:24.935   -- File entry --
2022-01-24 22:10:24.935   Dest filename: C:\Program Files\Wondershare\Recoverit\api-ms-win-core-heap-l1-1-0.dll
2022-01-24 22:10:24.935   Time stamp of our file: 2021-05-06 18:00:06.000
2022-01-24 22:10:24.935   Installing the file.
2022-01-24 22:10:24.937   Successfully installed the file.
2022-01-24 22:10:24.937   -- File entry --
2022-01-24 22:10:24.937   Dest filename: C:\Program Files\Wondershare\Recoverit\api-ms-win-core-interlocked-l1-1-0.dll
2022-01-24 22:10:24.937   Time stamp of our file: 2021-05-06 18:00:06.000
2022-01-24 22:10:24.937   Installing the file.
2022-01-24 22:10:24.938   Successfully installed the file.
2022-01-24 22:10:24.938   -- File entry --
2022-01-24 22:10:24.938   Dest filename: C:\Program Files\Wondershare\Recoverit\api-ms-win-core-libraryloader-l1-1-0.dll
2022-01-24 22:10:24.939   Time stamp of our file: 2021-05-06 18:00:06.000
2022-01-24 22:10:24.939   Installing the file.
2022-01-24 22:10:24.940   Successfully installed the file.
2022-01-24 22:10:24.940   -- File entry --
2022-01-24 22:10:24.940   Dest filename: C:\Program Files\Wondershare\Recoverit\api-ms-win-core-localization-l1-2-0.dll
2022-01-24 22:10:24.940   Time stamp of our file: 2021-05-06 18:00:06.000
2022-01-24 22:10:24.940   Installing the file.
2022-01-24 22:10:24.941   Successfully installed the file.
2022-01-24 22:10:24.941   -- File entry --
2022-01-24 22:10:24.941   Dest filename: C:\Program Files\Wondershare\Recoverit\api-ms-win-core-memory-l1-1-0.dll
2022-01-24 22:10:24.942   Time stamp of our file: 2021-05-06 18:00:06.000
2022-01-24 22:10:24.942   Installing the file.
2022-01-24 22:10:24.943   Successfully installed the file.
2022-01-24 22:10:24.943   -- File entry --
2022-01-24 22:10:24.943   Dest filename: C:\Program Files\Wondershare\Recoverit\api-ms-win-core-namedpipe-l1-1-0.dll
2022-01-24 22:10:24.943   Time stamp of our file: 2021-05-06 18:00:06.000
2022-01-24 22:10:24.943   Installing the file.
2022-01-24 22:10:24.944   Successfully installed the file.
2022-01-24 22:10:24.944   -- File entry --
2022-01-24 22:10:24.944   Dest filename: C:\Program Files\Wondershare\Recoverit\api-ms-win-core-processenvironment-l1-1-0.dll
2022-01-24 22:10:24.945   Time stamp of our file: 2021-05-06 18:00:06.000
2022-01-24 22:10:24.945   Installing the file.
2022-01-24 22:10:24.946   Successfully installed the file.
2022-01-24 22:10:24.946   -- File entry --
2022-01-24 22:10:24.946   Dest filename: C:\Program Files\Wondershare\Recoverit\api-ms-win-core-processthreads-l1-1-0.dll
2022-01-24 22:10:24.946   Time stamp of our file: 2021-05-06 18:00:06.000
2022-01-24 22:10:24.946   Installing the file.
2022-01-24 22:10:24.947   Successfully installed the file.
2022-01-24 22:10:24.948   -- File entry --
2022-01-24 22:10:24.948   Dest filename: C:\Program Files\Wondershare\Recoverit\api-ms-win-core-processthreads-l1-1-1.dll
2022-01-24 22:10:24.948   Time stamp of our file: 2021-05-06 18:00:06.000
2022-01-24 22:10:24.948   Installing the file.
2022-01-24 22:10:24.950   Successfully installed the file.
2022-01-24 22:10:24.950   -- File entry --
2022-01-24 22:10:24.950   Dest filename: C:\Program Files\Wondershare\Recoverit\api-ms-win-core-profile-l1-1-0.dll
2022-01-24 22:10:24.950   Time stamp of our file: 2021-05-06 18:00:06.000
2022-01-24 22:10:24.950   Installing the file.
2022-01-24 22:10:24.951   Successfully installed the file.
2022-01-24 22:10:24.951   -- File entry --
2022-01-24 22:10:24.951   Dest filename: C:\Program Files\Wondershare\Recoverit\api-ms-win-core-rtlsupport-l1-1-0.dll
2022-01-24 22:10:24.951   Time stamp of our file: 2021-05-06 18:00:06.000
2022-01-24 22:10:24.951   Installing the file.
2022-01-24 22:10:24.953   Successfully installed the file.
2022-01-24 22:10:24.953   -- File entry --
2022-01-24 22:10:24.953   Dest filename: C:\Program Files\Wondershare\Recoverit\api-ms-win-core-string-l1-1-0.dll
2022-01-24 22:10:24.953   Time stamp of our file: 2021-05-06 18:00:06.000
2022-01-24 22:10:24.953   Installing the file.
2022-01-24 22:10:24.955   Successfully installed the file.
2022-01-24 22:10:24.955   -- File entry --
2022-01-24 22:10:24.955   Dest filename: C:\Program Files\Wondershare\Recoverit\api-ms-win-core-synch-l1-1-0.dll
2022-01-24 22:10:24.955   Time stamp of our file: 2021-05-06 18:00:06.000
2022-01-24 22:10:24.955   Installing the file.
2022-01-24 22:10:24.956   Successfully installed the file.
2022-01-24 22:10:24.956   -- File entry --
2022-01-24 22:10:24.956   Dest filename: C:\Program Files\Wondershare\Recoverit\api-ms-win-core-synch-l1-2-0.dll
2022-01-24 22:10:24.956   Time stamp of our file: 2021-05-06 18:00:06.000
2022-01-24 22:10:24.956   Installing the file.
2022-01-24 22:10:24.958   Successfully installed the file.
2022-01-24 22:10:24.958   -- File entry --
2022-01-24 22:10:24.958   Dest filename: C:\Program Files\Wondershare\Recoverit\api-ms-win-core-sysinfo-l1-1-0.dll
2022-01-24 22:10:24.958   Time stamp of our file: 2021-05-06 18:00:06.000
2022-01-24 22:10:24.958   Installing the file.
2022-01-24 22:10:24.960   Successfully installed the file.
2022-01-24 22:10:24.961   -- File entry --
2022-01-24 22:10:24.961   Dest filename: C:\Program Files\Wondershare\Recoverit\api-ms-win-core-timezone-l1-1-0.dll
2022-01-24 22:10:24.961   Time stamp of our file: 2021-05-06 18:00:06.000
2022-01-24 22:10:24.961   Installing the file.
2022-01-24 22:10:24.962   Successfully installed the file.
2022-01-24 22:10:24.962   -- File entry --
2022-01-24 22:10:24.962   Dest filename: C:\Program Files\Wondershare\Recoverit\api-ms-win-core-util-l1-1-0.dll
2022-01-24 22:10:24.962   Time stamp of our file: 2021-05-06 18:00:06.000
2022-01-24 22:10:24.962   Installing the file.
2022-01-24 22:10:24.963   Successfully installed the file.
2022-01-24 22:10:24.963   -- File entry --
2022-01-24 22:10:24.963   Dest filename: C:\Program Files\Wondershare\Recoverit\api-ms-win-crt-conio-l1-1-0.dll
2022-01-24 22:10:24.964   Time stamp of our file: 2021-05-06 18:00:06.000
2022-01-24 22:10:24.964   Installing the file.
2022-01-24 22:10:24.965   Successfully installed the file.
2022-01-24 22:10:24.965   -- File entry --
2022-01-24 22:10:24.965   Dest filename: C:\Program Files\Wondershare\Recoverit\api-ms-win-crt-convert-l1-1-0.dll
2022-01-24 22:10:24.965   Time stamp of our file: 2021-05-06 18:00:06.000
2022-01-24 22:10:24.965   Installing the file.
2022-01-24 22:10:24.967   Successfully installed the file.
2022-01-24 22:10:24.967   -- File entry --
2022-01-24 22:10:24.967   Dest filename: C:\Program Files\Wondershare\Recoverit\api-ms-win-crt-environment-l1-1-0.dll
2022-01-24 22:10:24.967   Time stamp of our file: 2021-05-06 18:00:06.000
2022-01-24 22:10:24.967   Installing the file.
2022-01-24 22:10:24.968   Successfully installed the file.
2022-01-24 22:10:24.968   -- File entry --
2022-01-24 22:10:24.968   Dest filename: C:\Program Files\Wondershare\Recoverit\api-ms-win-crt-filesystem-l1-1-0.dll
2022-01-24 22:10:24.968   Time stamp of our file: 2021-05-06 18:00:06.000
2022-01-24 22:10:24.968   Installing the file.
2022-01-24 22:10:24.970   Successfully installed the file.
2022-01-24 22:10:24.970   -- File entry --
2022-01-24 22:10:24.970   Dest filename: C:\Program Files\Wondershare\Recoverit\api-ms-win-crt-heap-l1-1-0.dll
2022-01-24 22:10:24.970   Time stamp of our file: 2021-05-06 18:00:06.000
2022-01-24 22:10:24.970   Installing the file.
2022-01-24 22:10:24.971   Successfully installed the file.
2022-01-24 22:10:24.971   -- File entry --
2022-01-24 22:10:24.971   Dest filename: C:\Program Files\Wondershare\Recoverit\api-ms-win-crt-locale-l1-1-0.dll
2022-01-24 22:10:24.971   Time stamp of our file: 2021-05-06 18:00:06.000
2022-01-24 22:10:24.971   Installing the file.
2022-01-24 22:10:24.973   Successfully installed the file.
2022-01-24 22:10:24.973   -- File entry --
2022-01-24 22:10:24.973   Dest filename: C:\Program Files\Wondershare\Recoverit\api-ms-win-crt-math-l1-1-0.dll
2022-01-24 22:10:24.973   Time stamp of our file: 2021-05-06 18:00:06.000
2022-01-24 22:10:24.973   Installing the file.
2022-01-24 22:10:24.974   Successfully installed the file.
2022-01-24 22:10:24.975   -- File entry --
2022-01-24 22:10:24.975   Dest filename: C:\Program Files\Wondershare\Recoverit\api-ms-win-crt-multibyte-l1-1-0.dll
2022-01-24 22:10:24.975   Time stamp of our file: 2021-05-06 18:00:06.000
2022-01-24 22:10:24.975   Installing the file.
2022-01-24 22:10:24.976   Successfully installed the file.
2022-01-24 22:10:24.976   -- File entry --
2022-01-24 22:10:24.976   Dest filename: C:\Program Files\Wondershare\Recoverit\api-ms-win-crt-private-l1-1-0.dll
2022-01-24 22:10:24.976   Time stamp of our file: 2021-05-06 18:00:06.000
2022-01-24 22:10:24.976   Installing the file.
2022-01-24 22:10:24.979   Successfully installed the file.
2022-01-24 22:10:24.979   -- File entry --
2022-01-24 22:10:24.979   Dest filename: C:\Program Files\Wondershare\Recoverit\api-ms-win-crt-process-l1-1-0.dll
2022-01-24 22:10:24.979   Time stamp of our file: 2021-05-06 18:00:06.000
2022-01-24 22:10:24.979   Installing the file.
2022-01-24 22:10:24.981   Successfully installed the file.
2022-01-24 22:10:24.981   -- File entry --
2022-01-24 22:10:24.981   Dest filename: C:\Program Files\Wondershare\Recoverit\api-ms-win-crt-runtime-l1-1-0.dll
2022-01-24 22:10:24.981   Time stamp of our file: 2021-05-06 18:00:06.000
2022-01-24 22:10:24.981   Installing the file.
2022-01-24 22:10:24.982   Successfully installed the file.
2022-01-24 22:10:24.982   -- File entry --
2022-01-24 22:10:24.982   Dest filename: C:\Program Files\Wondershare\Recoverit\api-ms-win-crt-stdio-l1-1-0.dll
2022-01-24 22:10:24.982   Time stamp of our file: 2021-05-06 18:00:06.000
2022-01-24 22:10:24.982   Installing the file.
2022-01-24 22:10:24.984   Successfully installed the file.
2022-01-24 22:10:24.984   -- File entry --
2022-01-24 22:10:24.984   Dest filename: C:\Program Files\Wondershare\Recoverit\api-ms-win-crt-string-l1-1-0.dll
2022-01-24 22:10:24.984   Time stamp of our file: 2021-05-06 18:00:06.000
2022-01-24 22:10:24.984   Installing the file.
2022-01-24 22:10:24.985   Successfully installed the file.
2022-01-24 22:10:24.985   -- File entry --
2022-01-24 22:10:24.985   Dest filename: C:\Program Files\Wondershare\Recoverit\api-ms-win-crt-time-l1-1-0.dll
2022-01-24 22:10:24.986   Time stamp of our file: 2021-05-06 18:00:06.000
2022-01-24 22:10:24.986   Installing the file.
2022-01-24 22:10:24.987   Successfully installed the file.
2022-01-24 22:10:24.987   -- File entry --
2022-01-24 22:10:24.987   Dest filename: C:\Program Files\Wondershare\Recoverit\api-ms-win-crt-utility-l1-1-0.dll
2022-01-24 22:10:24.987   Time stamp of our file: 2021-05-06 18:00:06.000
2022-01-24 22:10:24.987   Installing the file.
2022-01-24 22:10:24.989   Successfully installed the file.
2022-01-24 22:10:24.989   -- File entry --
2022-01-24 22:10:24.989   Dest filename: C:\Program Files\Wondershare\Recoverit\cbscustomizedclient.exe
2022-01-24 22:10:24.989   Time stamp of our file: 2021-11-15 23:16:56.000
2022-01-24 22:10:24.989   Installing the file.
2022-01-24 22:10:24.990   Successfully installed the file.
2022-01-24 22:10:24.990   -- File entry --
2022-01-24 22:10:24.991   Dest filename: C:\Program Files\Wondershare\Recoverit\cbscustomizedclient.exe.config
2022-01-24 22:10:24.991   Time stamp of our file: 2021-05-06 18:01:14.000
2022-01-24 22:10:24.991   Installing the file.
2022-01-24 22:10:24.992   Successfully installed the file.
2022-01-24 22:10:24.992   -- File entry --
2022-01-24 22:10:24.992   Dest filename: C:\Program Files\Wondershare\Recoverit\cbscustomizedclient_datacollect.exe
2022-01-24 22:10:24.992   Time stamp of our file: 2021-11-15 23:16:56.000
2022-01-24 22:10:24.992   Installing the file.
2022-01-24 22:10:24.993   Successfully installed the file.
2022-01-24 22:10:24.993   -- File entry --
2022-01-24 22:10:24.993   Dest filename: C:\Program Files\Wondershare\Recoverit\cbscustomizedclient_datacollect.exe.config
2022-01-24 22:10:24.993   Time stamp of our file: 2021-05-06 18:01:14.000
2022-01-24 22:10:24.993   Installing the file.
2022-01-24 22:10:24.994   Successfully installed the file.
2022-01-24 22:10:24.995   -- File entry --
2022-01-24 22:10:24.995   Dest filename: C:\Program Files\Wondershare\Recoverit\Utilities.dll
2022-01-24 22:10:24.995   Time stamp of our file: 2021-11-15 23:17:14.000
2022-01-24 22:10:24.995   Installing the file.
2022-01-24 22:10:25.016   Successfully installed the file.
2022-01-24 22:10:25.016   -- File entry --
2022-01-24 22:10:25.016   Dest filename: C:\Program Files\Wondershare\Recoverit\Aspose.Cells.dll
2022-01-24 22:10:25.016   Time stamp of our file: 2021-11-15 23:16:54.000
2022-01-24 22:10:25.016   Installing the file.
2022-01-24 22:10:25.367   Successfully installed the file.
2022-01-24 22:10:25.367   -- File entry --
2022-01-24 22:10:25.367   Dest filename: C:\Program Files\Wondershare\Recoverit\Aspose.Diagram.dll
2022-01-24 22:10:25.367   Time stamp of our file: 2021-11-15 23:17:12.000
2022-01-24 22:10:25.367   Installing the file.
2022-01-24 22:10:25.476   Successfully installed the file.
2022-01-24 22:10:25.476   -- File entry --
2022-01-24 22:10:25.476   Dest filename: C:\Program Files\Wondershare\Recoverit\Aspose.Email.dll
2022-01-24 22:10:25.476   Time stamp of our file: 2021-11-15 23:17:00.000
2022-01-24 22:10:25.476   Installing the file.
2022-01-24 22:10:25.661   Successfully installed the file.
2022-01-24 22:10:25.661   -- File entry --
2022-01-24 22:10:25.661   Dest filename: C:\Program Files\Wondershare\Recoverit\Aspose.PDF.dll
2022-01-24 22:10:25.661   Time stamp of our file: 2021-11-15 23:16:56.000
2022-01-24 22:10:25.661   Installing the file.
2022-01-24 22:10:26.540   Successfully installed the file.
2022-01-24 22:10:26.540   -- File entry --
2022-01-24 22:10:26.540   Dest filename: C:\Program Files\Wondershare\Recoverit\Aspose.Slides.dll
2022-01-24 22:10:26.540   Time stamp of our file: 2021-11-15 23:16:58.000
2022-01-24 22:10:26.540   Installing the file.
2022-01-24 22:10:27.172   Successfully installed the file.
2022-01-24 22:10:27.172   -- File entry --
2022-01-24 22:10:27.172   Dest filename: C:\Program Files\Wondershare\Recoverit\Aspose.Tasks.dll
2022-01-24 22:10:27.172   Time stamp of our file: 2021-11-15 23:16:52.000
2022-01-24 22:10:27.172   Installing the file.
2022-01-24 22:10:27.334   Successfully installed the file.
2022-01-24 22:10:27.334   -- File entry --
2022-01-24 22:10:27.334   Dest filename: C:\Program Files\Wondershare\Recoverit\Aspose.Words.dll
2022-01-24 22:10:27.334   Time stamp of our file: 2021-11-15 23:17:12.000
2022-01-24 22:10:27.334   Installing the file.
2022-01-24 22:10:27.731   Successfully installed the file.
2022-01-24 22:10:27.731   -- File entry --
2022-01-24 22:10:27.731   Dest filename: C:\Program Files\Wondershare\Recoverit\FreeImage.dll
2022-01-24 22:10:27.731   Time stamp of our file: 2021-11-15 23:16:56.000
2022-01-24 22:10:27.731   Installing the file.
2022-01-24 22:10:27.957   Successfully installed the file.
2022-01-24 22:10:27.957   -- File entry --
2022-01-24 22:10:27.957   Dest filename: C:\Program Files\Wondershare\Recoverit\officelibrary.exe
2022-01-24 22:10:27.957   Time stamp of our file: 2021-11-15 23:16:52.000
2022-01-24 22:10:27.957   Installing the file.
2022-01-24 22:10:27.960   Successfully installed the file.
2022-01-24 22:10:27.960   -- File entry --
2022-01-24 22:10:27.960   Dest filename: C:\Program Files\Wondershare\Recoverit\officelibrary.exe.config
2022-01-24 22:10:27.960   Time stamp of our file: 2021-05-06 18:01:14.000
2022-01-24 22:10:27.960   Installing the file.
2022-01-24 22:10:27.962   Successfully installed the file.
2022-01-24 22:10:27.962   -- File entry --
2022-01-24 22:10:27.962   Dest filename: C:\Program Files\Wondershare\Recoverit\officeviewer.exe
2022-01-24 22:10:27.962   Time stamp of our file: 2021-11-15 23:17:14.000
2022-01-24 22:10:27.962   Installing the file.
2022-01-24 22:10:27.967   Successfully installed the file.
2022-01-24 22:10:27.967   -- File entry --
2022-01-24 22:10:27.967   Dest filename: C:\Program Files\Wondershare\Recoverit\imageviewex.exe
2022-01-24 22:10:27.967   Time stamp of our file: 2021-11-15 23:16:58.000
2022-01-24 22:10:27.967   Installing the file.
2022-01-24 22:10:27.972   Successfully installed the file.
2022-01-24 22:10:27.972   -- File entry --
2022-01-24 22:10:27.972   Dest filename: C:\Program Files\Wondershare\Recoverit\CovertRaw.exe
2022-01-24 22:10:27.973   Time stamp of our file: 2021-11-15 23:16:58.000
2022-01-24 22:10:27.973   Installing the file.
2022-01-24 22:10:27.976   Successfully installed the file.
2022-01-24 22:10:27.976   -- File entry --
2022-01-24 22:10:27.976   Dest filename: C:\Program Files\Wondershare\Recoverit\videoplayer.exe
2022-01-24 22:10:27.976   Time stamp of our file: 2021-11-15 23:17:02.000
2022-01-24 22:10:27.976   Installing the file.
2022-01-24 22:10:27.991   Successfully installed the file.
2022-01-24 22:10:27.991   -- File entry --
2022-01-24 22:10:27.991   Dest filename: C:\Program Files\Wondershare\Recoverit\Qt5Core.dll
2022-01-24 22:10:27.991   Time stamp of our file: 2021-11-15 23:16:56.000
2022-01-24 22:10:27.991   Installing the file.
2022-01-24 22:10:28.194   Successfully installed the file.
2022-01-24 22:10:28.194   -- File entry --
2022-01-24 22:10:28.194   Dest filename: C:\Program Files\Wondershare\Recoverit\Qt5Gui.dll
2022-01-24 22:10:28.195   Time stamp of our file: 2021-11-15 23:16:58.000
2022-01-24 22:10:28.195   Installing the file.
2022-01-24 22:10:28.393   Successfully installed the file.
2022-01-24 22:10:28.393   -- File entry --
2022-01-24 22:10:28.393   Dest filename: C:\Program Files\Wondershare\Recoverit\Qt5Widgets.dll
2022-01-24 22:10:28.393   Time stamp of our file: 2021-11-15 23:17:10.000
2022-01-24 22:10:28.393   Installing the file.
2022-01-24 22:10:28.622   Successfully installed the file.
2022-01-24 22:10:28.622   -- File entry --
2022-01-24 22:10:28.622   Dest filename: C:\Program Files\Wondershare\Recoverit\Qt5WinExtras.dll
2022-01-24 22:10:28.623   Time stamp of our file: 2021-11-15 23:16:56.000
2022-01-24 22:10:28.623   Installing the file.
2022-01-24 22:10:28.639   Successfully installed the file.
2022-01-24 22:10:28.639   -- File entry --
2022-01-24 22:10:28.640   Dest filename: C:\Program Files\Wondershare\Recoverit\Qt5Multimedia.dll
2022-01-24 22:10:28.640   Time stamp of our file: 2021-11-15 23:17:12.000
2022-01-24 22:10:28.640   Installing the file.
2022-01-24 22:10:28.663   Successfully installed the file.
2022-01-24 22:10:28.663   -- File entry --
2022-01-24 22:10:28.663   Dest filename: C:\Program Files\Wondershare\Recoverit\Qt5MultimediaWidgets.dll
2022-01-24 22:10:28.663   Time stamp of our file: 2021-11-15 23:16:56.000
2022-01-24 22:10:28.663   Installing the file.
2022-01-24 22:10:28.668   Successfully installed the file.
2022-01-24 22:10:28.668   -- File entry --
2022-01-24 22:10:28.668   Dest filename: C:\Program Files\Wondershare\Recoverit\Qt5Network.dll
2022-01-24 22:10:28.668   Time stamp of our file: 2021-11-15 23:17:10.000
2022-01-24 22:10:28.668   Installing the file.
2022-01-24 22:10:28.716   Successfully installed the file.
2022-01-24 22:10:28.716   -- File entry --
2022-01-24 22:10:28.716   Dest filename: C:\Program Files\Wondershare\Recoverit\Qt5OpenGL.dll
2022-01-24 22:10:28.716   Time stamp of our file: 2021-11-15 23:17:00.000
2022-01-24 22:10:28.716   Installing the file.
2022-01-24 22:10:28.726   Successfully installed the file.
2022-01-24 22:10:28.726   -- File entry --
2022-01-24 22:10:28.726   Dest filename: C:\Program Files\Wondershare\Recoverit\imageformats\qgif.dll
2022-01-24 22:10:28.726   Time stamp of our file: 2021-05-06 18:00:40.000
2022-01-24 22:10:28.726   Installing the file.
2022-01-24 22:10:28.727   Creating directory: C:\Program Files\Wondershare\Recoverit\imageformats
2022-01-24 22:10:28.729   Successfully installed the file.
2022-01-24 22:10:28.729   -- File entry --
2022-01-24 22:10:28.729   Dest filename: C:\Program Files\Wondershare\Recoverit\imageformats\qicns.dll
2022-01-24 22:10:28.729   Time stamp of our file: 2021-05-06 18:00:40.000
2022-01-24 22:10:28.729   Installing the file.
2022-01-24 22:10:28.732   Successfully installed the file.
2022-01-24 22:10:28.732   -- File entry --
2022-01-24 22:10:28.732   Dest filename: C:\Program Files\Wondershare\Recoverit\imageformats\qico.dll
2022-01-24 22:10:28.732   Time stamp of our file: 2021-05-06 18:00:40.000
2022-01-24 22:10:28.732   Installing the file.
2022-01-24 22:10:28.734   Successfully installed the file.
2022-01-24 22:10:28.734   -- File entry --
2022-01-24 22:10:28.734   Dest filename: C:\Program Files\Wondershare\Recoverit\imageformats\qjpeg.dll
2022-01-24 22:10:28.734   Time stamp of our file: 2021-05-06 18:00:40.000
2022-01-24 22:10:28.734   Installing the file.
2022-01-24 22:10:28.745   Successfully installed the file.
2022-01-24 22:10:28.745   -- File entry --
2022-01-24 22:10:28.745   Dest filename: C:\Program Files\Wondershare\Recoverit\imageformats\qsvg.dll
2022-01-24 22:10:28.745   Time stamp of our file: 2021-05-06 18:00:40.000
2022-01-24 22:10:28.745   Installing the file.
2022-01-24 22:10:28.747   Successfully installed the file.
2022-01-24 22:10:28.747   -- File entry --
2022-01-24 22:10:28.747   Dest filename: C:\Program Files\Wondershare\Recoverit\imageformats\qtga.dll
2022-01-24 22:10:28.747   Time stamp of our file: 2021-05-06 18:00:40.000
2022-01-24 22:10:28.747   Installing the file.
2022-01-24 22:10:28.749   Successfully installed the file.
2022-01-24 22:10:28.749   -- File entry --
2022-01-24 22:10:28.749   Dest filename: C:\Program Files\Wondershare\Recoverit\imageformats\qtiff.dll
2022-01-24 22:10:28.749   Time stamp of our file: 2021-05-06 18:00:40.000
2022-01-24 22:10:28.749   Installing the file.
2022-01-24 22:10:28.758   Successfully installed the file.
2022-01-24 22:10:28.758   -- File entry --
2022-01-24 22:10:28.758   Dest filename: C:\Program Files\Wondershare\Recoverit\imageformats\qwbmp.dll
2022-01-24 22:10:28.759   Time stamp of our file: 2021-05-06 18:00:40.000
2022-01-24 22:10:28.759   Installing the file.
2022-01-24 22:10:28.761   Successfully installed the file.
2022-01-24 22:10:28.761   -- File entry --
2022-01-24 22:10:28.761   Dest filename: C:\Program Files\Wondershare\Recoverit\imageformats\qwebp.dll
2022-01-24 22:10:28.761   Time stamp of our file: 2021-05-06 18:00:40.000
2022-01-24 22:10:28.761   Installing the file.
2022-01-24 22:10:28.779   Successfully installed the file.
2022-01-24 22:10:28.779   -- File entry --
2022-01-24 22:10:28.779   Dest filename: C:\Program Files\Wondershare\Recoverit\platforms\qdirect2d.dll
2022-01-24 22:10:28.780   Time stamp of our file: 2021-05-06 18:00:00.000
2022-01-24 22:10:28.780   Installing the file.
2022-01-24 22:10:28.780   Creating directory: C:\Program Files\Wondershare\Recoverit\platforms
2022-01-24 22:10:28.830   Successfully installed the file.
2022-01-24 22:10:28.830   -- File entry --
2022-01-24 22:10:28.830   Dest filename: C:\Program Files\Wondershare\Recoverit\platforms\qminimal.dll
2022-01-24 22:10:28.830   Time stamp of our file: 2021-05-06 18:00:00.000
2022-01-24 22:10:28.830   Installing the file.
2022-01-24 22:10:28.843   Successfully installed the file.
2022-01-24 22:10:28.843   -- File entry --
2022-01-24 22:10:28.843   Dest filename: C:\Program Files\Wondershare\Recoverit\platforms\qoffscreen.dll
2022-01-24 22:10:28.843   Time stamp of our file: 2021-05-06 18:00:00.000
2022-01-24 22:10:28.843   Installing the file.
2022-01-24 22:10:28.856   Successfully installed the file.
2022-01-24 22:10:28.856   -- File entry --
2022-01-24 22:10:28.856   Dest filename: C:\Program Files\Wondershare\Recoverit\platforms\qwindows.dll
2022-01-24 22:10:28.856   Time stamp of our file: 2021-05-06 18:00:00.000
2022-01-24 22:10:28.856   Installing the file.
2022-01-24 22:10:28.881   Successfully installed the file.
2022-01-24 22:10:28.881   -- File entry --
2022-01-24 22:10:28.881   Dest filename: C:\Program Files\Wondershare\Recoverit\audio\qtaudio_wasapi.dll
2022-01-24 22:10:28.881   Time stamp of our file: 2021-05-06 18:00:38.000
2022-01-24 22:10:28.881   Installing the file.
2022-01-24 22:10:28.881   Creating directory: C:\Program Files\Wondershare\Recoverit\audio
2022-01-24 22:10:28.885   Successfully installed the file.
2022-01-24 22:10:28.885   -- File entry --
2022-01-24 22:10:28.885   Dest filename: C:\Program Files\Wondershare\Recoverit\audio\qtaudio_windows.dll
2022-01-24 22:10:28.886   Time stamp of our file: 2021-05-06 18:00:38.000
2022-01-24 22:10:28.886   Installing the file.
2022-01-24 22:10:28.889   Successfully installed the file.
2022-01-24 22:10:28.889   -- File entry --
2022-01-24 22:10:28.889   Dest filename: C:\Program Files\Wondershare\Recoverit\mediaservice\dsengine.dll
2022-01-24 22:10:28.889   Time stamp of our file: 2021-05-06 18:00:40.000
2022-01-24 22:10:28.889   Installing the file.
2022-01-24 22:10:28.889   Creating directory: C:\Program Files\Wondershare\Recoverit\mediaservice
2022-01-24 22:10:28.899   Successfully installed the file.
2022-01-24 22:10:28.899   -- File entry --
2022-01-24 22:10:28.899   Dest filename: C:\Program Files\Wondershare\Recoverit\mediaservice\qtmedia_audioengine.dll
2022-01-24 22:10:28.899   Time stamp of our file: 2021-05-06 18:00:40.000
2022-01-24 22:10:28.899   Installing the file.
2022-01-24 22:10:28.902   Successfully installed the file.
2022-01-24 22:10:28.902   -- File entry --
2022-01-24 22:10:28.902   Dest filename: C:\Program Files\Wondershare\Recoverit\mediaservice\wmfengine.dll
2022-01-24 22:10:28.902   Time stamp of our file: 2021-05-06 18:00:40.000
2022-01-24 22:10:28.902   Installing the file.
2022-01-24 22:10:28.905   Successfully installed the file.
2022-01-24 22:10:28.905   -- File entry --
2022-01-24 22:10:28.905   Dest filename: C:\Program Files\Wondershare\Recoverit\playlistformats\qtmultimedia_m3u.dll
2022-01-24 22:10:28.906   Time stamp of our file: 2021-05-06 18:00:40.000
2022-01-24 22:10:28.906   Installing the file.
2022-01-24 22:10:28.906   Creating directory: C:\Program Files\Wondershare\Recoverit\playlistformats
2022-01-24 22:10:28.908   Successfully installed the file.
2022-01-24 22:10:28.908   -- File entry --
2022-01-24 22:10:28.908   Dest filename: C:\Program Files\Wondershare\Recoverit\Register.dll
2022-01-24 22:10:28.908   Time stamp of our file: 2021-11-15 23:17:00.000
2022-01-24 22:10:28.908   Installing the file.
2022-01-24 22:10:28.971   Successfully installed the file.
2022-01-24 22:10:28.971   -- File entry --
2022-01-24 22:10:28.971   Dest filename: C:\Program Files\Wondershare\Recoverit\filehint.xml
2022-01-24 22:10:28.971   Time stamp of our file: 2021-07-14 22:52:06.000
2022-01-24 22:10:28.971   Installing the file.
2022-01-24 22:10:28.973   Successfully installed the file.
2022-01-24 22:10:28.974   -- File entry --
2022-01-24 22:10:28.974   Dest filename: C:\Program Files\Wondershare\Recoverit\log_config.ini
2022-01-24 22:10:28.974   Time stamp of our file: 2021-05-06 18:01:14.000
2022-01-24 22:10:28.974   Installing the file.
2022-01-24 22:10:28.975   Successfully installed the file.
2022-01-24 22:10:28.976   -- File entry --
2022-01-24 22:10:28.976   Dest filename: C:\Program Files\Wondershare\Recoverit\extlist.xml
2022-01-24 22:10:28.976   Time stamp of our file: 2021-05-06 18:01:12.000
2022-01-24 22:10:28.976   Installing the file.
2022-01-24 22:10:28.984   Successfully installed the file.
2022-01-24 22:10:28.984   -- File entry --
2022-01-24 22:10:28.984   Dest filename: C:\Program Files\Wondershare\Recoverit\ICSharpCode.SharpZipLib.dll
2022-01-24 22:10:28.984   Time stamp of our file: 2021-11-15 23:16:50.000
2022-01-24 22:10:28.984   Installing the file.
2022-01-24 22:10:28.994   Successfully installed the file.
2022-01-24 22:10:28.995   -- File entry --
2022-01-24 22:10:28.995   Dest filename: C:\Program Files\Wondershare\Recoverit\data_api.dll
2022-01-24 22:10:28.995   Time stamp of our file: 2021-11-15 23:17:10.000
2022-01-24 22:10:28.995   Installing the file.
2022-01-24 22:10:29.097   Successfully installed the file.
2022-01-24 22:10:29.097   -- File entry --
2022-01-24 22:10:29.097   Dest filename: C:\Program Files\Wondershare\Recoverit\completehint.wav
2022-01-24 22:10:29.097   Time stamp of our file: 2021-05-06 18:01:12.000
2022-01-24 22:10:29.097   Installing the file.
2022-01-24 22:10:29.100   Successfully installed the file.
2022-01-24 22:10:29.100   -- File entry --
2022-01-24 22:10:29.100   Dest filename: C:\Program Files\Wondershare\Recoverit\playsound.exe
2022-01-24 22:10:29.100   Time stamp of our file: 2021-11-15 23:17:16.000
2022-01-24 22:10:29.100   Installing the file.
2022-01-24 22:10:29.101   Successfully installed the file.
2022-01-24 22:10:29.101   -- File entry --
2022-01-24 22:10:29.102   Dest filename: C:\Program Files\Wondershare\Recoverit\playsound.exe.config
2022-01-24 22:10:29.102   Time stamp of our file: 2021-05-06 18:01:14.000
2022-01-24 22:10:29.102   Installing the file.
2022-01-24 22:10:29.103   Successfully installed the file.
2022-01-24 22:10:29.103   -- File entry --
2022-01-24 22:10:29.103   Dest filename: C:\Program Files\Wondershare\Recoverit\videorepairclean.exe
2022-01-24 22:10:29.103   Time stamp of our file: 2021-11-15 23:16:52.000
2022-01-24 22:10:29.103   Installing the file.
2022-01-24 22:10:29.105   Successfully installed the file.
2022-01-24 22:10:29.105   -- File entry --
2022-01-24 22:10:29.105   Dest filename: C:\Program Files\Wondershare\Recoverit\CBSProductClient.dll
2022-01-24 22:10:29.105   Time stamp of our file: 2021-11-15 23:17:00.000
2022-01-24 22:10:29.105   Installing the file.
2022-01-24 22:10:29.111   Successfully installed the file.
2022-01-24 22:10:29.111   -- File entry --
2022-01-24 22:10:29.111   Dest filename: C:\Program Files\Wondershare\Recoverit\usExp.dll
2022-01-24 22:10:29.111   Time stamp of our file: 2021-11-15 23:17:00.000
2022-01-24 22:10:29.111   Installing the file.
2022-01-24 22:10:29.138   Successfully installed the file.
2022-01-24 22:10:29.138   -- File entry --
2022-01-24 22:10:29.138   Dest filename: C:\Program Files\Wondershare\Recoverit\wscrashcli.dll
2022-01-24 22:10:29.139   Time stamp of our file: 2021-11-15 23:16:56.000
2022-01-24 22:10:29.139   Installing the file.
2022-01-24 22:10:29.145   Successfully installed the file.
2022-01-24 22:10:29.145   -- File entry --
2022-01-24 22:10:29.145   Dest filename: C:\Program Files\Wondershare\Recoverit\drc.exe
2022-01-24 22:10:29.145   Time stamp of our file: 2021-11-15 23:19:04.000
2022-01-24 22:10:29.145   Installing the file.
2022-01-24 22:10:29.254   Successfully installed the file.
2022-01-24 22:10:29.254   -- File entry --
2022-01-24 22:10:29.254   Dest filename: C:\Program Files\Wondershare\Recoverit\dre.exe
2022-01-24 22:10:29.254   Time stamp of our file: 2021-11-15 23:19:04.000
2022-01-24 22:10:29.254   Installing the file.
2022-01-24 22:10:29.406   Successfully installed the file.
2022-01-24 22:10:29.407   -- File entry --
2022-01-24 22:10:29.407   Dest filename: C:\Program Files\Wondershare\Recoverit\drio.exe
2022-01-24 22:10:29.407   Time stamp of our file: 2021-11-15 23:17:02.000
2022-01-24 22:10:29.407   Installing the file.
2022-01-24 22:10:29.425   Successfully installed the file.
2022-01-24 22:10:29.426   -- File entry --
2022-01-24 22:10:29.426   Dest filename: C:\Program Files\Wondershare\Recoverit\drlib.dll
2022-01-24 22:10:29.426   Time stamp of our file: 2021-11-15 23:19:10.000
2022-01-24 22:10:29.426   Installing the file.
2022-01-24 22:10:29.539   Successfully installed the file.
2022-01-24 22:10:29.539   -- File entry --
2022-01-24 22:10:29.539   Dest filename: C:\Program Files\Wondershare\Recoverit\drmemcache.dll
2022-01-24 22:10:29.539   Time stamp of our file: 2021-11-15 23:17:12.000
2022-01-24 22:10:29.539   Installing the file.
2022-01-24 22:10:29.547   Successfully installed the file.
2022-01-24 22:10:29.547   -- File entry --
2022-01-24 22:10:29.547   Dest filename: C:\Program Files\Wondershare\Recoverit\drmq.dll
2022-01-24 22:10:29.547   Time stamp of our file: 2021-11-15 23:17:12.000
2022-01-24 22:10:29.547   Installing the file.
2022-01-24 22:10:29.558   Successfully installed the file.
2022-01-24 22:10:29.558   -- File entry --
2022-01-24 22:10:29.558   Dest filename: C:\Program Files\Wondershare\Recoverit\mqs.exe
2022-01-24 22:10:29.558   Time stamp of our file: 2021-11-15 23:16:58.000
2022-01-24 22:10:29.558   Installing the file.
2022-01-24 22:10:29.569   Successfully installed the file.
2022-01-24 22:10:29.570   -- File entry --
2022-01-24 22:10:29.570   Dest filename: C:\Program Files\Wondershare\Recoverit\drlog.exe
2022-01-24 22:10:29.570   Time stamp of our file: 2021-11-15 23:19:04.000
2022-01-24 22:10:29.570   Installing the file.
2022-01-24 22:10:29.597   Successfully installed the file.
2022-01-24 22:10:29.597   -- File entry --
2022-01-24 22:10:29.597   Dest filename: C:\Program Files\Wondershare\Recoverit\PocoFoundation64.dll
2022-01-24 22:10:29.598   Time stamp of our file: 2021-11-15 23:17:00.000
2022-01-24 22:10:29.598   Installing the file.
2022-01-24 22:10:29.626   Successfully installed the file.
2022-01-24 22:10:29.626   -- File entry --
2022-01-24 22:10:29.626   Dest filename: C:\Program Files\Wondershare\Recoverit\PocoNet64.dll
2022-01-24 22:10:29.627   Time stamp of our file: 2021-11-15 23:16:58.000
2022-01-24 22:10:29.627   Installing the file.
2022-01-24 22:10:29.651   Successfully installed the file.
2022-01-24 22:10:29.651   -- File entry --
2022-01-24 22:10:29.651   Dest filename: C:\Program Files\Wondershare\Recoverit\vcruntime140_1.dll
2022-01-24 22:10:29.651   Time stamp of our file: 2021-11-15 23:17:00.000
2022-01-24 22:10:29.651   Installing the file.
2022-01-24 22:10:29.653   Successfully installed the file.
2022-01-24 22:10:29.653   -- File entry --
2022-01-24 22:10:29.653   Dest filename: C:\Program Files\Wondershare\Recoverit\AccessInboundRule.bat
2022-01-24 22:10:29.653   Time stamp of our file: 2021-08-18 21:48:30.000
2022-01-24 22:10:29.653   Installing the file.
2022-01-24 22:10:29.655   Successfully installed the file.
2022-01-24 22:10:29.655   -- File entry --
2022-01-24 22:10:29.655   Dest filename: C:\Program Files\Wondershare\Recoverit\makethumbnail.exe
2022-01-24 22:10:29.655   Time stamp of our file: 2021-11-15 23:16:58.000
2022-01-24 22:10:29.655   Installing the file.
2022-01-24 22:10:29.659   Successfully installed the file.
2022-01-24 22:10:29.659   -- File entry --
2022-01-24 22:10:29.659   Dest filename: C:\Program Files\Wondershare\Recoverit\HttpRequestData.exe
2022-01-24 22:10:29.659   Time stamp of our file: 2021-11-15 23:19:10.000
2022-01-24 22:10:29.659   Installing the file.
2022-01-24 22:10:29.661   Successfully installed the file.
2022-01-24 22:10:29.661   -- File entry --
2022-01-24 22:10:29.661   Dest filename: C:\Program Files\Wondershare\Recoverit\drrs.conf
2022-01-24 22:10:29.661   Time stamp of our file: 2021-06-21 16:09:02.000
2022-01-24 22:10:29.661   Installing the file.
2022-01-24 22:10:29.663   Successfully installed the file.
2022-01-24 22:10:29.663   -- File entry --
2022-01-24 22:10:29.663   Dest filename: C:\ProgramData\Wondershare\Recoverit\drrs.conf
2022-01-24 22:10:29.664   Time stamp of our file: 2021-06-21 16:09:02.000
2022-01-24 22:10:29.664   Installing the file.
2022-01-24 22:10:29.665   Successfully installed the file.
2022-01-24 22:10:29.665   -- File entry --
2022-01-24 22:10:29.665   Dest filename: C:\Program Files\Wondershare\Recoverit\drrs.exe
2022-01-24 22:10:29.665   Time stamp of our file: 2021-11-15 23:16:58.000
2022-01-24 22:10:29.665   Installing the file.
2022-01-24 22:10:29.721   Successfully installed the file.
2022-01-24 22:10:29.721   -- File entry --
2022-01-24 22:10:29.721   Dest filename: C:\Program Files\Wondershare\Recoverit\redis-cli.exe
2022-01-24 22:10:29.721   Time stamp of our file: 2021-11-15 23:17:14.000
2022-01-24 22:10:29.721   Installing the file.
2022-01-24 22:10:29.736   Successfully installed the file.
2022-01-24 22:10:29.736   -- File entry --
2022-01-24 22:10:29.736   Dest filename: C:\Program Files\Wondershare\Recoverit\libusb-1.0.dll
2022-01-24 22:10:29.736   Time stamp of our file: 2021-11-15 23:17:00.000
2022-01-24 22:10:29.736   Installing the file.
2022-01-24 22:10:29.743   Successfully installed the file.
2022-01-24 22:10:29.743   -- File entry --
2022-01-24 22:10:29.743   Dest filename: C:\Program Files\Wondershare\Recoverit\usb.json
2022-01-24 22:10:29.743   Time stamp of our file: 2021-08-16 18:00:22.000
2022-01-24 22:10:29.743   Installing the file.
2022-01-24 22:10:29.745   Successfully installed the file.
2022-01-24 22:10:29.745   -- File entry --
2022-01-24 22:10:29.745   Dest filename: C:\Users\feder\AppData\Local\Temp\is-26TQK.tmp\K-Lite_Codec_Pack_1605_Basic.exe
2022-01-24 22:10:29.745   Time stamp of our file: 2021-05-06 17:57:16.000
2022-01-24 22:10:29.745   Installing the file.
2022-01-24 22:10:29.867   Successfully installed the file.
2022-01-24 22:10:29.867   -- File entry --
2022-01-24 22:10:29.867   Dest filename: C:\Program Files\Wondershare\Recoverit\WSOverlay.dll
2022-01-24 22:10:29.868   Time stamp of our file: 2021-11-15 23:17:12.000
2022-01-24 22:10:29.868   Installing the file.
2022-01-24 22:10:29.870   Successfully installed the file.
2022-01-24 22:10:29.870   -- File entry --
2022-01-24 22:10:29.870   Dest filename: C:\Program Files\Wondershare\Recoverit\wget.exe
2022-01-24 22:10:29.870   Time stamp of our file: 2021-11-15 23:17:00.000
2022-01-24 22:10:29.870   Installing the file.
2022-01-24 22:10:29.891   Successfully installed the file.
2022-01-24 22:10:29.891   -- File entry --
2022-01-24 22:10:29.891   Dest filename: C:\Program Files\Wondershare\Recoverit\QDRPELib.dll
2022-01-24 22:10:29.891   Time stamp of our file: 2021-11-15 23:16:56.000
2022-01-24 22:10:29.891   Installing the file.
2022-01-24 22:10:29.915   Successfully installed the file.
2022-01-24 22:10:29.915   -- File entry --
2022-01-24 22:10:29.915   Dest filename: C:\Program Files\Wondershare\Recoverit\QLib7z.dll
2022-01-24 22:10:29.916   Time stamp of our file: 2021-11-15 23:17:00.000
2022-01-24 22:10:29.916   Installing the file.
2022-01-24 22:10:29.934   Successfully installed the file.
2022-01-24 22:10:29.934   -- File entry --
2022-01-24 22:10:29.934   Dest filename: C:\Program Files\Wondershare\Recoverit\bootable.ini
2022-01-24 22:10:29.934   Time stamp of our file: 2021-05-06 18:01:12.000
2022-01-24 22:10:29.934   Installing the file.
2022-01-24 22:10:29.936   Successfully installed the file.
2022-01-24 22:10:29.936   -- File entry --
2022-01-24 22:10:29.936   Dest filename: C:\Program Files\Wondershare\Recoverit\log\bootable.ini
2022-01-24 22:10:29.936   Time stamp of our file: 2021-05-06 18:01:12.000
2022-01-24 22:10:29.936   Installing the file.
2022-01-24 22:10:29.936   Creating directory: C:\Program Files\Wondershare\Recoverit\log
2022-01-24 22:10:29.938   Successfully installed the file.
2022-01-24 22:10:29.938   -- File entry --
2022-01-24 22:10:29.938   Dest filename: C:\Program Files\Wondershare\Recoverit\WSUtilities.dll
2022-01-24 22:10:29.938   Time stamp of our file: 2021-11-15 23:16:56.000
2022-01-24 22:10:29.938   Installing the file.
2022-01-24 22:10:29.943   Successfully installed the file.
2022-01-24 22:10:29.943   -- File entry --
2022-01-24 22:10:29.943   Dest filename: C:\Program Files\Wondershare\Recoverit\Customization.xml
2022-01-24 22:10:29.944   Time stamp of our file: 2021-08-20 19:15:26.000
2022-01-24 22:10:29.944   Installing the file.
2022-01-24 22:10:29.945   Successfully installed the file.
2022-01-24 22:10:29.945   -- File entry --
2022-01-24 22:10:29.945   Dest filename: C:\Program Files\Wondershare\Recoverit\BugSplatHD64.exe
2022-01-24 22:10:29.946   Time stamp of our file: 2021-11-15 23:16:58.000
2022-01-24 22:10:29.946   Installing the file.
2022-01-24 22:10:29.953   Successfully installed the file.
2022-01-24 22:10:29.953   -- File entry --
2022-01-24 22:10:29.953   Dest filename: C:\Program Files\Wondershare\Recoverit\BugSplat64.dll
2022-01-24 22:10:29.953   Time stamp of our file: 2021-11-15 23:17:10.000
2022-01-24 22:10:29.953   Installing the file.
2022-01-24 22:10:29.967   Successfully installed the file.
2022-01-24 22:10:29.967   -- File entry --
2022-01-24 22:10:29.967   Dest filename: C:\Program Files\Wondershare\Recoverit\BugSplatRc64.dll
2022-01-24 22:10:29.967   Time stamp of our file: 2021-11-15 23:17:10.000
2022-01-24 22:10:29.967   Installing the file.
2022-01-24 22:10:29.971   Successfully installed the file.
2022-01-24 22:10:29.971   -- File entry --
2022-01-24 22:10:29.971   Dest filename: C:\Program Files\Wondershare\Recoverit\BsSndRpt64.exe
2022-01-24 22:10:29.972   Time stamp of our file: 2021-11-15 23:16:46.000
2022-01-24 22:10:29.972   Installing the file.
2022-01-24 22:10:29.985   Successfully installed the file.
2022-01-24 22:10:29.986   -- File entry --
2022-01-24 22:10:29.986   Dest filename: C:\WINDOWS\Fonts\OpenSans-Regular.ttf
2022-01-24 22:10:29.988   Time stamp of our file: 2021-05-06 17:57:08.000
2022-01-24 22:10:29.988   Installing the file.
2022-01-24 22:10:29.997   Successfully installed the file.
2022-01-24 22:10:29.997   Registering file as a font ("Open Sans (TrueType)")
2022-01-24 22:10:30.005   -- File entry --
2022-01-24 22:10:30.005   Dest filename: C:\WINDOWS\Fonts\OpenSans-Semibold.ttf
2022-01-24 22:10:30.005   Time stamp of our file: 2021-05-06 17:57:08.000
2022-01-24 22:10:30.005   Installing the file.
2022-01-24 22:10:30.016   Successfully installed the file.
2022-01-24 22:10:30.016   Registering file as a font ("Open Sans Semibold (TrueType)")
2022-01-24 22:10:30.031   -- File entry --
2022-01-24 22:10:30.031   Dest filename: C:\WINDOWS\Fonts\tahoma.ttf
2022-01-24 22:10:30.032   Dest file is protected by Windows File Protection.
2022-01-24 22:10:30.034   Time stamp of our file: 2021-05-06 17:57:08.000
2022-01-24 22:10:30.034   Dest file exists.
2022-01-24 22:10:30.034   Skipping due to "onlyifdoesntexist" flag.
2022-01-24 22:10:30.035   -- File entry --
2022-01-24 22:10:30.035   Dest filename: C:\WINDOWS\Fonts\arial.ttf
2022-01-24 22:10:30.037   Dest file is protected by Windows File Protection.
2022-01-24 22:10:30.037   Time stamp of our file: 2021-05-06 17:57:08.000
2022-01-24 22:10:30.037   Dest file exists.
2022-01-24 22:10:30.037   Skipping due to "onlyifdoesntexist" flag.
2022-01-24 22:10:30.038   -- File entry --
2022-01-24 22:10:30.039   Dest filename: C:\Program Files\Wondershare\Recoverit\ganalystic.exe
2022-01-24 22:10:30.039   Time stamp of our file: 2021-11-15 23:17:00.000
2022-01-24 22:10:30.039   Installing the file.
2022-01-24 22:10:30.177   Successfully installed the file.
2022-01-24 22:10:30.178   -- File entry --
2022-01-24 22:10:30.178   Dest filename: C:\Program Files\Wondershare\Recoverit\ssleay32.dll
2022-01-24 22:10:30.178   Time stamp of our file: 2021-11-15 23:17:14.000
2022-01-24 22:10:30.178   Installing the file.
2022-01-24 22:10:30.218   Successfully installed the file.
2022-01-24 22:10:30.218   -- File entry --
2022-01-24 22:10:30.218   Dest filename: C:\Program Files\Wondershare\Recoverit\libeay32.dll
2022-01-24 22:10:30.219   Time stamp of our file: 2021-11-15 23:17:10.000
2022-01-24 22:10:30.219   Installing the file.
2022-01-24 22:10:30.366   Successfully installed the file.
2022-01-24 22:10:30.366   -- File entry --
2022-01-24 22:10:30.366   Dest filename: C:\Program Files\Wondershare\Recoverit\avcodec-58.dll
2022-01-24 22:10:30.367   Time stamp of our file: 2021-11-15 23:17:10.000
2022-01-24 22:10:30.367   Installing the file.
2022-01-24 22:10:31.867   Successfully installed the file.
2022-01-24 22:10:31.867   -- File entry --
2022-01-24 22:10:31.867   Dest filename: C:\Program Files\Wondershare\Recoverit\avdevice-58.dll
2022-01-24 22:10:31.868   Time stamp of our file: 2021-11-15 23:16:54.000
2022-01-24 22:10:31.868   Installing the file.
2022-01-24 22:10:31.925   Successfully installed the file.
2022-01-24 22:10:31.925   -- File entry --
2022-01-24 22:10:31.925   Dest filename: C:\Program Files\Wondershare\Recoverit\avfilter-7.dll
2022-01-24 22:10:31.925   Time stamp of our file: 2021-11-15 23:16:58.000
2022-01-24 22:10:31.925   Installing the file.
2022-01-24 22:10:32.158   Successfully installed the file.
2022-01-24 22:10:32.158   -- File entry --
2022-01-24 22:10:32.158   Dest filename: C:\Program Files\Wondershare\Recoverit\avformat-58.dll
2022-01-24 22:10:32.159   Time stamp of our file: 2021-11-15 23:17:12.000
2022-01-24 22:10:32.159   Installing the file.
2022-01-24 22:10:32.444   Successfully installed the file.
2022-01-24 22:10:32.444   -- File entry --
2022-01-24 22:10:32.444   Dest filename: C:\Program Files\Wondershare\Recoverit\avutil-56.dll
2022-01-24 22:10:32.444   Time stamp of our file: 2021-11-15 23:16:58.000
2022-01-24 22:10:32.444   Installing the file.
2022-01-24 22:10:32.473   Successfully installed the file.
2022-01-24 22:10:32.473   -- File entry --
2022-01-24 22:10:32.473   Dest filename: C:\Program Files\Wondershare\Recoverit\postproc-55.dll
2022-01-24 22:10:32.474   Time stamp of our file: 2021-11-15 23:16:54.000
2022-01-24 22:10:32.474   Installing the file.
2022-01-24 22:10:32.479   Successfully installed the file.
2022-01-24 22:10:32.480   -- File entry --
2022-01-24 22:10:32.480   Dest filename: C:\Program Files\Wondershare\Recoverit\swresample-3.dll
2022-01-24 22:10:32.480   Time stamp of our file: 2021-11-15 23:17:14.000
2022-01-24 22:10:32.480   Installing the file.
2022-01-24 22:10:32.498   Successfully installed the file.
2022-01-24 22:10:32.499   -- File entry --
2022-01-24 22:10:32.499   Dest filename: C:\Program Files\Wondershare\Recoverit\swscale-5.dll
2022-01-24 22:10:32.499   Time stamp of our file: 2021-11-15 23:16:56.000
2022-01-24 22:10:32.499   Installing the file.
2022-01-24 22:10:32.517   Successfully installed the file.
2022-01-24 22:10:32.518   -- File entry --
2022-01-24 22:10:32.518   Dest filename: C:\Program Files\Wondershare\Recoverit\ffmpeg
2022-01-24 22:10:32.518   Time stamp of our file: 2021-05-06 18:01:10.000
2022-01-24 22:10:32.518   Installing the file.
2022-01-24 22:10:32.529   Successfully installed the file.
2022-01-24 22:10:32.529   -- File entry --
2022-01-24 22:10:32.529   Dest filename: C:\Program Files\Wondershare\Recoverit\ffmpeg.exe
2022-01-24 22:10:32.529   Time stamp of our file: 2021-11-15 23:16:58.000
2022-01-24 22:10:32.529   Installing the file.
2022-01-24 22:10:32.543   Successfully installed the file.
2022-01-24 22:10:32.543   -- File entry --
2022-01-24 22:10:32.543   Dest filename: C:\Program Files\Wondershare\Recoverit\ffplay.exe
2022-01-24 22:10:32.543   Time stamp of our file: 2021-11-15 23:17:00.000
2022-01-24 22:10:32.543   Installing the file.
2022-01-24 22:10:32.550   Successfully installed the file.
2022-01-24 22:10:32.550   -- File entry --
2022-01-24 22:10:32.550   Dest filename: C:\Program Files\Wondershare\Recoverit\ffprobe.exe
2022-01-24 22:10:32.550   Time stamp of our file: 2021-11-15 23:16:50.000
2022-01-24 22:10:32.550   Installing the file.
2022-01-24 22:10:32.556   Successfully installed the file.
2022-01-24 22:10:32.556   -- File entry --
2022-01-24 22:10:32.556   Dest filename: C:\Program Files\Wondershare\Recoverit\WsVideoRepair.conf
2022-01-24 22:10:32.556   Time stamp of our file: 2021-05-06 18:01:14.000
2022-01-24 22:10:32.556   Installing the file.
2022-01-24 22:10:32.557   Successfully installed the file.
2022-01-24 22:10:32.557   -- File entry --
2022-01-24 22:10:32.557   Dest filename: C:\Program Files\Wondershare\Recoverit\WsVideoRepairLib.dll
2022-01-24 22:10:32.557   Time stamp of our file: 2021-11-15 23:19:10.000
2022-01-24 22:10:32.558   Installing the file.
2022-01-24 22:10:32.648   Successfully installed the file.
2022-01-24 22:10:32.648   -- File entry --
2022-01-24 22:10:32.649   Dest filename: C:\Program Files\Wondershare\Recoverit\videorepair.dll
2022-01-24 22:10:32.649   Time stamp of our file: 2021-11-15 23:17:12.000
2022-01-24 22:10:32.649   Installing the file.
2022-01-24 22:10:32.685   Successfully installed the file.
2022-01-24 22:10:32.685   -- File entry --
2022-01-24 22:10:32.685   Dest filename: C:\Program Files\Wondershare\Recoverit\libcrypto-1_1-x64.dll
2022-01-24 22:10:32.685   Time stamp of our file: 2021-11-15 23:16:52.000
2022-01-24 22:10:32.685   Installing the file.
2022-01-24 22:10:32.785   Successfully installed the file.
2022-01-24 22:10:32.785   -- File entry --
2022-01-24 22:10:32.785   Dest filename: C:\Program Files\Wondershare\Recoverit\libssl-1_1-x64.dll
2022-01-24 22:10:32.786   Time stamp of our file: 2021-11-15 23:16:56.000
2022-01-24 22:10:32.786   Installing the file.
2022-01-24 22:10:32.808   Successfully installed the file.
2022-01-24 22:10:32.808   -- File entry --
2022-01-24 22:10:32.808   Dest filename: C:\Program Files\Wondershare\Recoverit\repairitres\pic_ar.png
2022-01-24 22:10:32.808   Time stamp of our file: 2021-05-06 18:00:08.000
2022-01-24 22:10:32.808   Installing the file.
2022-01-24 22:10:32.808   Creating directory: C:\Program Files\Wondershare\Recoverit\repairitres
2022-01-24 22:10:32.814   Successfully installed the file.
2022-01-24 22:10:32.814   -- File entry --
2022-01-24 22:10:32.814   Dest filename: C:\Program Files\Wondershare\Recoverit\repairitres\pic_ar_h264.mp4
2022-01-24 22:10:32.815   Time stamp of our file: 2021-05-06 18:00:08.000
2022-01-24 22:10:32.815   Installing the file.
2022-01-24 22:10:32.817   Successfully installed the file.
2022-01-24 22:10:32.817   -- File entry --
2022-01-24 22:10:32.817   Dest filename: C:\Program Files\Wondershare\Recoverit\repairitres\pic_ar_hevc.mp4
2022-01-24 22:10:32.817   Time stamp of our file: 2021-05-06 18:00:08.000
2022-01-24 22:10:32.817   Installing the file.
2022-01-24 22:10:32.823   Successfully installed the file.
2022-01-24 22:10:32.823   -- File entry --
2022-01-24 22:10:32.823   Dest filename: C:\Program Files\Wondershare\Recoverit\repairitres\pic_de.png
2022-01-24 22:10:32.823   Time stamp of our file: 2021-05-06 18:00:08.000
2022-01-24 22:10:32.823   Installing the file.
2022-01-24 22:10:32.838   Successfully installed the file.
2022-01-24 22:10:32.838   -- File entry --
2022-01-24 22:10:32.838   Dest filename: C:\Program Files\Wondershare\Recoverit\repairitres\pic_de_h264.mp4
2022-01-24 22:10:32.838   Time stamp of our file: 2021-05-06 18:00:08.000
2022-01-24 22:10:32.838   Installing the file.
2022-01-24 22:10:32.846   Successfully installed the file.
2022-01-24 22:10:32.846   -- File entry --
2022-01-24 22:10:32.847   Dest filename: C:\Program Files\Wondershare\Recoverit\repairitres\pic_de_hevc.mp4
2022-01-24 22:10:32.847   Time stamp of our file: 2021-05-06 18:00:08.000
2022-01-24 22:10:32.847   Installing the file.
2022-01-24 22:10:32.852   Successfully installed the file.
2022-01-24 22:10:32.852   -- File entry --
2022-01-24 22:10:32.852   Dest filename: C:\Program Files\Wondershare\Recoverit\repairitres\pic_en.png
2022-01-24 22:10:32.852   Time stamp of our file: 2021-05-06 18:00:08.000
2022-01-24 22:10:32.852   Installing the file.
2022-01-24 22:10:32.869   Successfully installed the file.
2022-01-24 22:10:32.869   -- File entry --
2022-01-24 22:10:32.869   Dest filename: C:\Program Files\Wondershare\Recoverit\repairitres\pic_en_h264.mp4
2022-01-24 22:10:32.870   Time stamp of our file: 2021-05-06 18:00:08.000
2022-01-24 22:10:32.870   Installing the file.
2022-01-24 22:10:32.876   Successfully installed the file.
2022-01-24 22:10:32.876   -- File entry --
2022-01-24 22:10:32.876   Dest filename: C:\Program Files\Wondershare\Recoverit\repairitres\pic_en_hevc.mp4
2022-01-24 22:10:32.877   Time stamp of our file: 2021-05-06 18:00:08.000
2022-01-24 22:10:32.877   Installing the file.
2022-01-24 22:10:32.883   Successfully installed the file.
2022-01-24 22:10:32.884   -- File entry --
2022-01-24 22:10:32.884   Dest filename: C:\Program Files\Wondershare\Recoverit\repairitres\pic_es.png
2022-01-24 22:10:32.884   Time stamp of our file: 2021-05-06 18:00:08.000
2022-01-24 22:10:32.884   Installing the file.
2022-01-24 22:10:32.901   Successfully installed the file.
2022-01-24 22:10:32.901   -- File entry --
2022-01-24 22:10:32.901   Dest filename: C:\Program Files\Wondershare\Recoverit\repairitres\pic_es_h264.mp4
2022-01-24 22:10:32.901   Time stamp of our file: 2021-05-06 18:00:08.000
2022-01-24 22:10:32.901   Installing the file.
2022-01-24 22:10:32.907   Successfully installed the file.
2022-01-24 22:10:32.907   -- File entry --
2022-01-24 22:10:32.907   Dest filename: C:\Program Files\Wondershare\Recoverit\repairitres\pic_es_hevc.mp4
2022-01-24 22:10:32.907   Time stamp of our file: 2021-05-06 18:00:08.000
2022-01-24 22:10:32.907   Installing the file.
2022-01-24 22:10:32.913   Successfully installed the file.
2022-01-24 22:10:32.913   -- File entry --
2022-01-24 22:10:32.913   Dest filename: C:\Program Files\Wondershare\Recoverit\repairitres\pic_it.png
2022-01-24 22:10:32.913   Time stamp of our file: 2021-05-06 18:00:08.000
2022-01-24 22:10:32.913   Installing the file.
2022-01-24 22:10:32.928   Successfully installed the file.
2022-01-24 22:10:32.928   -- File entry --
2022-01-24 22:10:32.928   Dest filename: C:\Program Files\Wondershare\Recoverit\repairitres\pic_it_h264.mp4
2022-01-24 22:10:32.928   Time stamp of our file: 2021-05-06 18:00:08.000
2022-01-24 22:10:32.928   Installing the file.
2022-01-24 22:10:32.934   Successfully installed the file.
2022-01-24 22:10:32.934   -- File entry --
2022-01-24 22:10:32.934   Dest filename: C:\Program Files\Wondershare\Recoverit\repairitres\pic_it_hevc.mp4
2022-01-24 22:10:32.934   Time stamp of our file: 2021-05-06 18:00:08.000
2022-01-24 22:10:32.934   Installing the file.
2022-01-24 22:10:32.938   Successfully installed the file.
2022-01-24 22:10:32.938   -- File entry --
2022-01-24 22:10:32.938   Dest filename: C:\Program Files\Wondershare\Recoverit\repairitres\pic_jp.png
2022-01-24 22:10:32.939   Time stamp of our file: 2021-05-06 18:00:08.000
2022-01-24 22:10:32.939   Installing the file.
2022-01-24 22:10:32.950   Successfully installed the file.
2022-01-24 22:10:32.950   -- File entry --
2022-01-24 22:10:32.950   Dest filename: C:\Program Files\Wondershare\Recoverit\repairitres\pic_jp_h264.mp4
2022-01-24 22:10:32.950   Time stamp of our file: 2021-05-06 18:00:08.000
2022-01-24 22:10:32.950   Installing the file.
2022-01-24 22:10:32.956   Successfully installed the file.
2022-01-24 22:10:32.956   -- File entry --
2022-01-24 22:10:32.956   Dest filename: C:\Program Files\Wondershare\Recoverit\repairitres\pic_jp_hevc.mp4
2022-01-24 22:10:32.956   Time stamp of our file: 2021-05-06 18:00:08.000
2022-01-24 22:10:32.956   Installing the file.
2022-01-24 22:10:32.961   Successfully installed the file.
2022-01-24 22:10:32.961   -- File entry --
2022-01-24 22:10:32.961   Dest filename: C:\Program Files\Wondershare\Recoverit\repairitres\pic_ko.png
2022-01-24 22:10:32.961   Time stamp of our file: 2021-05-06 18:00:08.000
2022-01-24 22:10:32.961   Installing the file.
2022-01-24 22:10:32.976   Successfully installed the file.
2022-01-24 22:10:32.976   -- File entry --
2022-01-24 22:10:32.976   Dest filename: C:\Program Files\Wondershare\Recoverit\repairitres\pic_ko_h264.mp4
2022-01-24 22:10:32.976   Time stamp of our file: 2021-05-06 18:00:08.000
2022-01-24 22:10:32.976   Installing the file.
2022-01-24 22:10:32.982   Successfully installed the file.
2022-01-24 22:10:32.982   -- File entry --
2022-01-24 22:10:32.982   Dest filename: C:\Program Files\Wondershare\Recoverit\repairitres\pic_ko_hevc.mp4
2022-01-24 22:10:32.982   Time stamp of our file: 2021-05-06 18:00:08.000
2022-01-24 22:10:32.983   Installing the file.
2022-01-24 22:10:32.988   Successfully installed the file.
2022-01-24 22:10:32.988   -- File entry --
2022-01-24 22:10:32.988   Dest filename: C:\Program Files\Wondershare\Recoverit\repairitres\pic_nl.png
2022-01-24 22:10:32.988   Time stamp of our file: 2021-05-06 18:00:08.000
2022-01-24 22:10:32.988   Installing the file.
2022-01-24 22:10:33.003   Successfully installed the file.
2022-01-24 22:10:33.003   -- File entry --
2022-01-24 22:10:33.003   Dest filename: C:\Program Files\Wondershare\Recoverit\repairitres\pic_nl_h264.mp4
2022-01-24 22:10:33.003   Time stamp of our file: 2021-05-06 18:00:08.000
2022-01-24 22:10:33.003   Installing the file.
2022-01-24 22:10:33.007   Successfully installed the file.
2022-01-24 22:10:33.008   -- File entry --
2022-01-24 22:10:33.008   Dest filename: C:\Program Files\Wondershare\Recoverit\repairitres\pic_nl_hevc.mp4
2022-01-24 22:10:33.008   Time stamp of our file: 2021-05-06 18:00:08.000
2022-01-24 22:10:33.008   Installing the file.
2022-01-24 22:10:33.012   Successfully installed the file.
2022-01-24 22:10:33.012   -- File entry --
2022-01-24 22:10:33.012   Dest filename: C:\Program Files\Wondershare\Recoverit\repairitres\pic_pr.png
2022-01-24 22:10:33.012   Time stamp of our file: 2021-05-06 18:00:08.000
2022-01-24 22:10:33.012   Installing the file.
2022-01-24 22:10:33.027   Successfully installed the file.
2022-01-24 22:10:33.027   -- File entry --
2022-01-24 22:10:33.027   Dest filename: C:\Program Files\Wondershare\Recoverit\repairitres\pic_pr_h264.mp4
2022-01-24 22:10:33.027   Time stamp of our file: 2021-05-06 18:00:08.000
2022-01-24 22:10:33.027   Installing the file.
2022-01-24 22:10:33.032   Successfully installed the file.
2022-01-24 22:10:33.032   -- File entry --
2022-01-24 22:10:33.032   Dest filename: C:\Program Files\Wondershare\Recoverit\repairitres\pic_pr_hevc.mp4
2022-01-24 22:10:33.032   Time stamp of our file: 2021-05-06 18:00:08.000
2022-01-24 22:10:33.032   Installing the file.
2022-01-24 22:10:33.037   Successfully installed the file.
2022-01-24 22:10:33.038   -- File entry --
2022-01-24 22:10:33.038   Dest filename: C:\Program Files\Wondershare\Recoverit\repairitres\pic_pt.png
2022-01-24 22:10:33.038   Time stamp of our file: 2021-05-06 18:00:08.000
2022-01-24 22:10:33.038   Installing the file.
2022-01-24 22:10:33.051   Successfully installed the file.
2022-01-24 22:10:33.051   -- File entry --
2022-01-24 22:10:33.052   Dest filename: C:\Program Files\Wondershare\Recoverit\repairitres\pic_pt_h264.mp4
2022-01-24 22:10:33.052   Time stamp of our file: 2021-05-06 18:00:08.000
2022-01-24 22:10:33.052   Installing the file.
2022-01-24 22:10:33.058   Successfully installed the file.
2022-01-24 22:10:33.058   -- File entry --
2022-01-24 22:10:33.058   Dest filename: C:\Program Files\Wondershare\Recoverit\repairitres\pic_pt_hevc.mp4
2022-01-24 22:10:33.058   Time stamp of our file: 2021-05-06 18:00:08.000
2022-01-24 22:10:33.058   Installing the file.
2022-01-24 22:10:33.064   Successfully installed the file.
2022-01-24 22:10:33.064   -- File entry --
2022-01-24 22:10:33.064   Dest filename: C:\Program Files\Wondershare\Recoverit\repairitres\pic_sch.png
2022-01-24 22:10:33.064   Time stamp of our file: 2021-05-06 18:00:08.000
2022-01-24 22:10:33.064   Installing the file.
2022-01-24 22:10:33.077   Successfully installed the file.
2022-01-24 22:10:33.077   -- File entry --
2022-01-24 22:10:33.077   Dest filename: C:\Program Files\Wondershare\Recoverit\repairitres\pic_sch_h264.mp4
2022-01-24 22:10:33.077   Time stamp of our file: 2021-05-06 18:00:08.000
2022-01-24 22:10:33.077   Installing the file.
2022-01-24 22:10:33.082   Successfully installed the file.
2022-01-24 22:10:33.082   -- File entry --
2022-01-24 22:10:33.083   Dest filename: C:\Program Files\Wondershare\Recoverit\repairitres\pic_sch_hevc.mp4
2022-01-24 22:10:33.083   Time stamp of our file: 2021-05-06 18:00:08.000
2022-01-24 22:10:33.083   Installing the file.
2022-01-24 22:10:33.089   Successfully installed the file.
2022-01-24 22:10:33.089   -- File entry --
2022-01-24 22:10:33.089   Dest filename: C:\Program Files\Wondershare\Recoverit\repairitres\pic_tch.png
2022-01-24 22:10:33.089   Time stamp of our file: 2021-05-06 18:00:08.000
2022-01-24 22:10:33.089   Installing the file.
2022-01-24 22:10:33.106   Successfully installed the file.
2022-01-24 22:10:33.106   -- File entry --
2022-01-24 22:10:33.106   Dest filename: C:\Program Files\Wondershare\Recoverit\repairitres\pic_tch_h264.mp4
2022-01-24 22:10:33.106   Time stamp of our file: 2021-05-06 18:00:08.000
2022-01-24 22:10:33.106   Installing the file.
2022-01-24 22:10:33.110   Successfully installed the file.
2022-01-24 22:10:33.110   -- File entry --
2022-01-24 22:10:33.110   Dest filename: C:\Program Files\Wondershare\Recoverit\repairitres\pic_tch_hevc.mp4
2022-01-24 22:10:33.111   Time stamp of our file: 2021-05-06 18:00:08.000
2022-01-24 22:10:33.111   Installing the file.
2022-01-24 22:10:33.115   Successfully installed the file.
2022-01-24 22:10:33.115   -- File entry --
2022-01-24 22:10:33.115   Dest filename: C:\Program Files\Wondershare\Recoverit\videoplayer_videorepairit.exe
2022-01-24 22:10:33.115   Time stamp of our file: 2021-11-15 23:16:52.000
2022-01-24 22:10:33.115   Installing the file.
2022-01-24 22:10:33.130   Successfully installed the file.
2022-01-24 22:10:33.130   -- File entry --
2022-01-24 22:10:33.130   Dest filename: C:\Program Files\Wondershare\Recoverit\SDL2.dll
2022-01-24 22:10:33.130   Time stamp of our file: 2021-11-15 23:17:14.000
2022-01-24 22:10:33.130   Installing the file.
2022-01-24 22:10:33.174   Successfully installed the file.
2022-01-24 22:10:33.174   -- File entry --
2022-01-24 22:10:33.174   Dest filename: C:\Program Files\Wondershare\Recoverit\libzplay.dll
2022-01-24 22:10:33.174   Time stamp of our file: 2021-11-15 23:16:56.000
2022-01-24 22:10:33.174   Installing the file.
2022-01-24 22:10:33.236   Successfully installed the file.
2022-01-24 22:10:33.236   -- File entry --
2022-01-24 22:10:33.236   Dest filename: C:\Program Files\Wondershare\Recoverit\ID3Reader.exe
2022-01-24 22:10:33.236   Time stamp of our file: 2021-11-15 23:16:58.000
2022-01-24 22:10:33.236   Installing the file.
2022-01-24 22:10:33.239   Successfully installed the file.
2022-01-24 22:10:33.239   -- File entry --
2022-01-24 22:10:33.239   Dest filename: C:\Program Files\Wondershare\Recoverit\ossutil64.exe
2022-01-24 22:10:33.239   Time stamp of our file: 2021-11-15 23:17:12.000
2022-01-24 22:10:33.239   Installing the file.
2022-01-24 22:10:33.525   Successfully installed the file.
2022-01-24 22:10:33.525   -- File entry --
2022-01-24 22:10:33.525   Dest filename: C:\Program Files\Wondershare\Recoverit\PiracyFeedBack.exe
2022-01-24 22:10:33.525   Time stamp of our file: 2021-11-15 23:17:14.000
2022-01-24 22:10:33.526   Installing the file.
2022-01-24 22:10:33.527   Successfully installed the file.
2022-01-24 22:10:33.527   -- File entry --
2022-01-24 22:10:33.527   Dest filename: C:\Program Files\Wondershare\Recoverit\PiracyFeedBack.exe.config
2022-01-24 22:10:33.527   Time stamp of our file: 2021-05-06 18:01:14.000
2022-01-24 22:10:33.527   Installing the file.
2022-01-24 22:10:33.529   Successfully installed the file.
2022-01-24 22:10:33.529   -- File entry --
2022-01-24 22:10:33.529   Dest filename: C:\Program Files\Wondershare\Recoverit\RecoveritDBFeedBack.exe
2022-01-24 22:10:33.529   Time stamp of our file: 2021-11-15 23:17:00.000
2022-01-24 22:10:33.529   Installing the file.
2022-01-24 22:10:33.531   Successfully installed the file.
2022-01-24 22:10:33.531   -- File entry --
2022-01-24 22:10:33.531   Dest filename: C:\Program Files\Wondershare\Recoverit\RecoveritDBFeedBack.exe.config
2022-01-24 22:10:33.531   Time stamp of our file: 2021-05-06 18:01:12.000
2022-01-24 22:10:33.531   Installing the file.
2022-01-24 22:10:33.532   Successfully installed the file.
2022-01-24 22:10:33.532   -- File entry --
2022-01-24 22:10:33.532   Dest filename: C:\Program Files\Wondershare\Recoverit\drstat.dll
2022-01-24 22:10:33.533   Time stamp of our file: 2021-11-15 23:16:58.000
2022-01-24 22:10:33.533   Installing the file.
2022-01-24 22:10:33.574   Successfully installed the file.
2022-01-24 22:10:33.574   -- File entry --
2022-01-24 22:10:33.574   Dest filename: C:\Program Files\Wondershare\Recoverit\drstat.exe
2022-01-24 22:10:33.574   Time stamp of our file: 2021-11-15 23:16:50.000
2022-01-24 22:10:33.574   Installing the file.
2022-01-24 22:10:33.576   Successfully installed the file.
2022-01-24 22:10:33.576   -- File entry --
2022-01-24 22:10:33.576   Dest filename: C:\Program Files\Wondershare\Recoverit\WsAP-Recoverit.dll
2022-01-24 22:10:33.576   Time stamp of our file: 2021-11-15 23:16:52.000
2022-01-24 22:10:33.576   Installing the file.
2022-01-24 22:10:33.667   Successfully installed the file.
2022-01-24 22:10:33.667   -- File entry --
2022-01-24 22:10:33.667   Dest filename: C:\Program Files\Wondershare\Recoverit\closeprocess.exe
2022-01-24 22:10:33.668   Time stamp of our file: 2021-11-15 23:17:00.000
2022-01-24 22:10:33.668   Installing the file.
2022-01-24 22:10:33.670   Successfully installed the file.
2022-01-24 22:10:33.671   -- File entry --
2022-01-24 22:10:33.671   Dest filename: C:\Program Files\Wondershare\Recoverit\closeallprocess.exe
2022-01-24 22:10:33.671   Time stamp of our file: 2021-11-15 23:17:12.000
2022-01-24 22:10:33.671   Installing the file.
2022-01-24 22:10:33.674   Successfully installed the file.
2022-01-24 22:10:33.674   -- File entry --
2022-01-24 22:10:33.674   Dest filename: C:\Program Files\Wondershare\Recoverit\workorder.exe
2022-01-24 22:10:33.675   Time stamp of our file: 2021-11-15 23:17:10.000
2022-01-24 22:10:33.675   Installing the file.
2022-01-24 22:10:33.765   Successfully installed the file.
2022-01-24 22:10:33.765   -- File entry --
2022-01-24 22:10:33.765   Dest filename: C:\Program Files\Wondershare\Recoverit\workorderupload.exe
2022-01-24 22:10:33.765   Time stamp of our file: 2021-11-15 23:17:00.000
2022-01-24 22:10:33.765   Installing the file.
2022-01-24 22:10:33.767   Successfully installed the file.
2022-01-24 22:10:33.767   -- File entry --
2022-01-24 22:10:33.767   Dest filename: C:\Program Files\Wondershare\Recoverit\workorderupload.exe.config
2022-01-24 22:10:33.767   Time stamp of our file: 2021-05-06 18:01:14.000
2022-01-24 22:10:33.767   Installing the file.
2022-01-24 22:10:33.768   Successfully installed the file.
2022-01-24 22:10:33.768   -- File entry --
2022-01-24 22:10:33.768   Dest filename: C:\Program Files\Wondershare\Recoverit\emailviewer.exe
2022-01-24 22:10:33.768   Time stamp of our file: 2021-11-15 23:16:58.000
2022-01-24 22:10:33.768   Installing the file.
2022-01-24 22:10:33.771   Successfully installed the file.
2022-01-24 22:10:33.771   -- File entry --
2022-01-24 22:10:33.771   Dest filename: C:\Program Files\Wondershare\Recoverit\emailviewer.exe.config
2022-01-24 22:10:33.771   Time stamp of our file: 2021-05-06 18:01:14.000
2022-01-24 22:10:33.771   Installing the file.
2022-01-24 22:10:33.773   Successfully installed the file.
2022-01-24 22:10:33.773   -- File entry --
2022-01-24 22:10:33.773   Dest filename: C:\Program Files\Wondershare\Recoverit\cdndown.dll
2022-01-24 22:10:33.773   Time stamp of our file: 2021-11-15 23:16:56.000
2022-01-24 22:10:33.773   Installing the file.
2022-01-24 22:10:33.786   Successfully installed the file.
2022-01-24 22:10:33.786   -- File entry --
2022-01-24 22:10:33.786   Dest filename: C:\Program Files\Wondershare\Recoverit\wsUpgrade.dll
2022-01-24 22:10:33.787   Time stamp of our file: 2021-11-15 23:17:10.000
2022-01-24 22:10:33.787   Installing the file.
2022-01-24 22:10:33.855   Successfully installed the file.
2022-01-24 22:10:33.855   -- File entry --
2022-01-24 22:10:33.855   Dest filename: C:\Program Files\Wondershare\Recoverit\bspatch.exe
2022-01-24 22:10:33.855   Time stamp of our file: 2021-11-15 23:16:52.000
2022-01-24 22:10:33.855   Installing the file.
2022-01-24 22:10:33.858   Successfully installed the file.
2022-01-24 22:10:33.858   -- File entry --
2022-01-24 22:10:33.858   Dest filename: C:\Program Files\Wondershare\Recoverit\Update(x64).exe
2022-01-24 22:10:33.858   Time stamp of our file: 2021-11-15 23:16:56.000
2022-01-24 22:10:33.858   Installing the file.
2022-01-24 22:10:33.932   Successfully installed the file.
2022-01-24 22:10:33.932   -- File entry --
2022-01-24 22:10:33.932   Dest filename: C:\Program Files\Wondershare\Recoverit\UpgradeProgramMonitor.exe
2022-01-24 22:10:33.932   Time stamp of our file: 2021-11-15 23:17:10.000
2022-01-24 22:10:33.932   Installing the file.
2022-01-24 22:10:33.934   Successfully installed the file.
2022-01-24 22:10:33.934   -- Icon entry --
2022-01-24 22:10:33.934   Dest filename: C:\ProgramData\Microsoft\Windows\Start Menu\Programs\Wondershare\Recoverit\Wondershare Recoverit.lnk
2022-01-24 22:10:33.935   Creating directory: C:\ProgramData\Microsoft\Windows\Start Menu\Programs\Wondershare
2022-01-24 22:10:33.948   Creating directory: C:\ProgramData\Microsoft\Windows\Start Menu\Programs\Wondershare\Recoverit
2022-01-24 22:10:33.961   Creating the icon.
2022-01-24 22:10:33.988   Successfully created the icon.
2022-01-24 22:10:34.003   -- Icon entry --
2022-01-24 22:10:34.003   Dest filename: C:\Users\Public\Desktop\Wondershare Recoverit.lnk
2022-01-24 22:10:34.003   Creating the icon.
2022-01-24 22:10:34.005   Successfully created the icon.
2022-01-24 22:10:34.122   -- Icon entry --
2022-01-24 22:10:34.123   Dest filename: C:\Users\feder\AppData\Roaming\Microsoft\Internet Explorer\Quick Launch\Wondershare Recoverit.lnk
2022-01-24 22:10:34.123   Creating the icon.
2022-01-24 22:10:34.128   Successfully created the icon.
2022-01-24 22:10:34.474   -- INI entry --
2022-01-24 22:10:34.474   Dest filename: C:\Program Files\Wondershare\Recoverit\Wondershare Recoverit.url
2022-01-24 22:10:34.474   Section: InternetShortcut
2022-01-24 22:10:34.474   Entry: URL
2022-01-24 22:10:34.474   Value: http://www.wondershare.com/
2022-01-24 22:10:34.474   Updating the .INI file.
2022-01-24 22:10:34.475   Successfully updated the .INI file.
2022-01-24 22:10:34.475   -- INI entry --
2022-01-24 22:10:34.475   Dest filename: C:\Program Files\Wondershare\Recoverit\Wondershare RecoveritOrder.url
2022-01-24 22:10:34.475   Section: InternetShortcut
2022-01-24 22:10:34.475   Entry: URL
2022-01-24 22:10:34.475   Value: http://www.wondershare.com/
2022-01-24 22:10:34.475   Updating the .INI file.
2022-01-24 22:10:34.476   Successfully updated the .INI file.
2022-01-24 22:10:34.476   -- INI entry --
2022-01-24 22:10:34.476   Dest filename: C:\Program Files\Wondershare\Recoverit\Wondershare RecoveritOnlineHelp.url
2022-01-24 22:10:34.476   Section: InternetShortcut
2022-01-24 22:10:34.476   Entry: URL
2022-01-24 22:10:34.476   Value: http://www.wondershare.com/
2022-01-24 22:10:34.476   Updating the .INI file.
2022-01-24 22:10:34.477   Successfully updated the .INI file.
2022-01-24 22:10:34.477   -- INI entry --
2022-01-24 22:10:34.477   Dest filename: C:\Program Files\Wondershare\Recoverit\WSDataRecovery.ini
2022-01-24 22:10:34.477   Section: System
2022-01-24 22:10:34.477   Entry: AutoRegister
2022-01-24 22:10:34.477   Value: 1
2022-01-24 22:10:34.477   Updating the .INI file.
2022-01-24 22:10:34.477   Successfully updated the .INI file.
2022-01-24 22:10:34.478   -- Registry entry --
2022-01-24 22:10:34.478   Key: HKEY_LOCAL_MACHINE\SOFTWARE\Wondershare\Recoverit
2022-01-24 22:10:34.478   Setting permissions on key: HKEY_LOCAL_MACHINE\SOFTWARE\Wondershare\Recoverit
2022-01-24 22:10:34.478   Could not set permissions on the key because it currently does not exist.
2022-01-24 22:10:34.478   Creating or opening the key.
2022-01-24 22:10:34.478   New key created, need to set permissions again.
2022-01-24 22:10:34.478   Setting permissions on key: HKEY_LOCAL_MACHINE\SOFTWARE\Wondershare\Recoverit
2022-01-24 22:10:34.479   Successfully created the key.
2022-01-24 22:10:34.479   -- Registry entry --
2022-01-24 22:10:34.479   Key: HKEY_CLASSES_ROOT\CLSID\{{7A57B664-563C-4c2e-97E8-7F6E667FAB34}\Info
2022-01-24 22:10:34.479   Setting permissions on key: HKEY_CLASSES_ROOT\CLSID\{7A57B664-563C-4c2e-97E8-7F6E667FAB34}\Info
2022-01-24 22:10:34.479   Could not set permissions on the key because it currently does not exist.
2022-01-24 22:10:34.479   Creating or opening the key.
2022-01-24 22:10:34.481   New key created, need to set permissions again.
2022-01-24 22:10:34.481   Setting permissions on key: HKEY_CLASSES_ROOT\CLSID\{7A57B664-563C-4c2e-97E8-7F6E667FAB34}\Info
2022-01-24 22:10:34.482   Successfully created the key.
2022-01-24 22:10:34.482   -- Registry entry --
2022-01-24 22:10:34.482   Key: HKEY_LOCAL_MACHINE\SOFTWARE\Wondershare\Recoverit
2022-01-24 22:10:34.482   Setting permissions on key: HKEY_LOCAL_MACHINE\SOFTWARE\Wondershare\Recoverit
2022-01-24 22:10:34.482   Creating or opening the key.
2022-01-24 22:10:34.482   Successfully created the key.
2022-01-24 22:10:34.482   -- Registry entry --
2022-01-24 22:10:34.482   Key: HKEY_LOCAL_MACHINE\SOFTWARE\Wondershare\Recoverit
2022-01-24 22:10:34.482   Value name: PID
2022-01-24 22:10:34.482   Creating or opening the key.
2022-01-24 22:10:34.482   Creating or setting the value.
2022-01-24 22:10:34.483   Successfully created or set the value.
2022-01-24 22:10:34.483   -- Registry entry --
2022-01-24 22:10:34.483   Key: HKEY_LOCAL_MACHINE\SOFTWARE\Wondershare\Recoverit
2022-01-24 22:10:34.483   Value name: Version
2022-01-24 22:10:34.483   Creating or opening the key.
2022-01-24 22:10:34.483   Creating or setting the value.
2022-01-24 22:10:34.483   Successfully created or set the value.
2022-01-24 22:10:34.483   -- Registry entry --
2022-01-24 22:10:34.483   Key: HKEY_LOCAL_MACHINE\SOFTWARE\Wondershare\Recoverit
2022-01-24 22:10:34.483   Value name: InstallPath
2022-01-24 22:10:34.483   Creating or opening the key.
2022-01-24 22:10:34.484   Creating or setting the value.
2022-01-24 22:10:34.484   Successfully created or set the value.
2022-01-24 22:10:34.484   Saving uninstall information.
2022-01-24 22:10:34.484   Creating new uninstall key: HKEY_LOCAL_MACHINE\Software\Microsoft\Windows\CurrentVersion\Uninstall\{829555DC-31E5-4FEA-B350-8FCF24CECD95}_is1
2022-01-24 22:10:34.485   Writing uninstall key values.
2022-01-24 22:10:34.487   Detected previous non administrative install? No
2022-01-24 22:10:34.487   Detected previous administrative 64-bit install? No
2022-01-24 22:10:34.495   Installation process succeeded.
2022-01-24 22:10:34.503   -- Run entry --
2022-01-24 22:10:34.503   Run as: Current user
2022-01-24 22:10:34.503   Type: Exec
2022-01-24 22:10:34.503   Filename: C:\Users\feder\AppData\Local\Temp\is-26TQK.tmp\K-Lite_Codec_Pack_1605_Basic.exe
2022-01-24 22:10:34.503   Parameters: /VERYSILENT
2022-01-24 22:10:53.802   Process exit code: 0
2022-01-24 22:10:53.802   -- Run entry --
2022-01-24 22:10:53.802   Run as: Current user
2022-01-24 22:10:53.803   Type: Exec
2022-01-24 22:10:53.803   Filename: C:\Program Files\Wondershare\Recoverit\AccessInboundRule.bat
2022-01-24 22:10:53.830   Need to restart Windows? No
2022-01-24 22:10:55.211   Deinitializing Setup.
2022-01-24 22:10:55.241   Log closed.
                                                                                                                                                                                                                                                                                                                                                                                                                                                                                                                                                                                                                                                                                                                                                                                                                                                                                                                                                                                                                                                                                                                                                                                                                                                                                                                                                                                                                                                                                                                                                                                                                                                                                                                                                                                                                                                                                                                                                                                                                                                                                                                                                                                                                                                                                                                                                                                                                                                                                                                                                                                                                                                                                                                                                                                                                                                                                                                                                                                                                                                                                                                                                                                                                                                                                                                                                                                                                                                                                                                                                                                                                                                                                                                                     sHU�nDjR�F����G��9��_Z���|aM��Y;΁R��qu'��}&]��b�$n�M�\_�����!2���L��e�$ɺ����WʗlM�]��.��Ei7���G��$o ��!A�C�t3 ������@\��u��IZ��R(�X�ciu�[]��P뾱�B��A:�z6����8\>�Ĺ�<Y>jK�d4��;#�9�:z�0~�(�{{L��HC�wy�'<>����<7Z[p���v�Mv&ۛ�x���	y0ݙ�����&!6w�-w<��uC�w�v���Cz����������\�_sq~�stwz�~g^/VW����������{�����2+������C~����4Z?�;��Ýy�n�E�^��z�zcޟ������>����~��N�.�2�9Z�_�N��΍�<�U����"S���3w���o+F�8���)�e��g�ٲ���.!�uϗ?�
�$+���j���6!����l��B�e2]�
i5Ҳm���Wd�#�!��
�������(��B�������-��ލ�YP��w��H������)�j�_;o��=���Q������d���oԎ�X�hH>��u���p�u��
��u�j�8�/����C��S^��h�8�*�:X�N��X�֗���UYuSe���욖A ���/+elkG��S�7�-6YT���k��o�⚵YLࠪp-`������2\��@��s���O�"��Z��l/D�p�5b��s�I �^��N���VxM��R(�_�+�k�t�JC�>��b�m[�+lR��h�'�}�V�uR��U�����|d�N��vb��K�I��W<^���_��%�YA˦�6=CO�y1�qsĀFVVX�1�GX(5� 
{���4��E�j ƶ���(�6H5G�*/����\~/5��_���S��G�+�={-�{m�*X���a��Ȧ�%M@,RT���)�d���em�?�q}�N�.{/3c� MjP�}r�������?�����������o�W߯on���~����6Q����<_�򭪛�������'�ӭ�]�Y����- �'Έp2|	F��t*	y���G2�?&-tYhl�	��ܥLfD!$�.����^"�^L�sH�xo�8��Cۦ�+!f}�+����:c��hlyT$>�h4���Ͱ����E��+���ā�ǲ0HB�/v/��c�]Ơ�t�T@S{���6�|3�y���M��޸���o��jU0��&��A�8!�N��μot<#M���3LX������ł䄊4&�	���l�G^a�?Hdn�Q��X���ӏm)�"���!s���ẙfg�n�Ϝ����U�/rL���2z&���*�FC�����3>�<��! �E� oS�m�0�^l��Q7��ƼE��C���)A�>@�FQ��m{���^NPd��"lm�VV�&�I�G�uP���;S��O��E�����4+�&��f�O�d�*X����Ti�Hf`��i�C��M 9�ŕX�br63=g��`��Mal�F�ʅ��ֈ4��D�Ba`���؋����3D�Xt}���ȣf��xUMjP2á	vK�-?g�Q�F#���_��\�0��m�����>�e�R�d+^�P4�˲8N�֣d�Yӓ%2{����(8�@ �㹂7��(�������I�nR�Z�9V��A�d����3�zlH�5W]���O %�-q���г<��� C�#Ռ�66� �5��+h���>M�W?_�.Oz:�bW➪5tvp�C��hĬ�Nj&
vތ���jeX���g��B�tۢ�׮[!�+)��qj�����������Ȉ\S���r�B����oD�� d��wb���&3d���jڧ�\��Uj� E��h{ƬQm,�LV���1A��>K�3�EP�ɚ3��RŪ �J}q��IY/�m�~��V����]�h�[��)���c`)t
�p��<�F��GI�3����:�ds:�n{�-��{�wg�%6���}b��рzj�+UC���{��,m��/��rH�}t��m�d�Z�޹$Gw Lf|?U\������.JN>���Kg>��G�D�0��������_�h�O����}~��3ߧ�;�V~�T����;�'t��"��H��C_d�`�'�nCa�"j�5�9
�Gu6\ܰ��VQ<]���PqY2Yp�Dl���Y�+`)̩4��x�>�Byn`�?"t�/5%z��H2Ɂ? F�_��x�_�c�ҌH�;(��ju�:p���t:�Zb^5�$]��w᫞�!YI��͜�.)�����O%4�9E��m+�����*Xq������c��_oB�EBp��&���b�c�Nۊ��(\��2}����vm�S%h+j�2��@�#lw���]�i¤��&k�NZNI^�!<FY��|^��sj8A�ňL�%�7��4(�Vr�6�-�B��͕$I�f�h�_b�S)�k�+�]9,B3J��e�n:��.�f�RYA�W���?���Yñ����w;1w��u^�����d�%�W����7Z��F���ǻ��r�8D�h4D��3ybi����A��ԭ�J�Q���2������ޭx[?�Қ��0�}�C�^ydK>y��;p��$QC��4�O�r�˪&=�Q%ߨ���LR���������H���Q� �&�͔/��p����Ⲣ�����@6Z�I�g���c�{���R�@�|W��<Z{4�V�{
H��#�����)��&�aOL�jZ���m&��
s������D��ΐ^�5�ns����E,<xX���	�5��`[DR|���"�gi�Ƃ�.�3=R��'�X�&�J���9h�f����뺓�����y�����t���v˰q��l�������7�Z㗨	pԸz��Cn]���P�|T4]w+��a�!,�D�A`{1��l@��PߢN@�0M<�Y%2�u�6e|I%jPrh��ט��X��ݐ9��M���b|��������vI߬u�]�Fp��yI��)���W "��n��Mj��q>ö��a��+���6y��G��B�R�3Ϧ1����p�4�"f������!@��p�ErJf�b=,�|_��&�u�Z��u�&�窮#|�H�R5�<�͚u�29�@-�̀�:�;��n
�$��nȝ�fW�8����Y�g����K�O,F5�5���ٺ���S�1�!H}�.�l��S�������jA�L�X���,���q�5����!��q֧p��}�Z�!�yD�����y�a�v��f��(}ւ0�	�W�z2�{> �rYu�*�N˟?��9�l�^�Lh�Eʶ�+ʹ��Ϳ�� �+�����Y�����,9�!�i�Qd\8Q���!r���ه\��f��$��e(���+���_&�g ���!MU q�X9����ޮ�*�a��}��
����6���\��Wpo�u�Hw�zW�~
@�6PB�	�ϓ�S�8��}�ۣQ�	�clyD-�&�������cq�-�J5�)���F���qd
74�)�����'Ҡ!�Gi��9<����"�I�į]A���6%�?�]��M�f�h��<�^����Z8��_�~vR�+}`��t�Ѝi�2����8��j�|$q�Q�a$ܟ Z�l���[��YD�>4�&[dE2,*�ʜ�9�r�+YY��=�?�&:�U��_������������x��_HY��D�;p�X�`\��y ����>
a��;\���m�xa�Eku���7 K�>�����ia|��~�r�ռf�#d�ف�Y*�/:DuՀ�q�^�\k=�rm�J�6��d
������%s�y�J4�C؅uJ�)�O@ۦ�@�6���ge�� ��Y6bl�/�#%�� ؤ����+ţl���wN�7�l�]'A$2�7֢m?���l����K�����}VL�߿�Ey��a��UQa�0�[b�p��m���Aؕv]�g�A#G�o��~� e���*��u��J�{�Wg������ �?��C����[T�(�7q�
hA�Ac���:_y�`�=9k��T2�QabTcɶ#>zl��HKWsT׋lx���.��A���=]7v7w�r7]\�]g��� 1l��f���½n���Ed�C�����Q�"NiI�g1�2>��W@�'�4����p�i��QU��sAd�m�X�8 -����p�&Q���<���󈑟�������ơ3_t�����#N6<"���υ�e�����5�w�V4�͍�� �%3�r���1�u'l���5(��y \Ø_�5r�xg�׀�#�I.���j���]����"QR��H�AQұ����vG	�AV�&,���<b]w�C�oƬ�b�Q&��{�%ʑ9k��6V����Fu*����ZQ���3vב����=D
���wg��}p�����$�+o\_fE�q�C{��t��ќb#��pށj�B�2�^�gƆW����!�TC8א��J��ݔ�(�	��bm=�%Ӂ�}So�11w/��9c��j�w����Ϡ�CJY��$�X�|��!��i�e
AJS�11�1i��@u
l��I�M9�a�����L��H��sRAN��m���:II�P�6q81!���0.�ܣ��)Z'\C���A���| &�l�߈���H_`�k���fi�I�k�e��cufԶ;��U7e��~m�>��j��-�����t�� .+ �,xX!�E��,���z�q�"ZA*�ΥH_i5)Ȗ;�03�݅�hd� D��B!�â}�X�*(z�m_��h�l#�(��pc�I�=X�k/a����`U��T%m{ �����Up��m�t�1d2)�q\�}�%"e�j]x�D���"D�:��i���q�\N����U���H�t��1�q�"�c��| �Ǡ1�B�=�d����7���6}s��!>a�/�JF#����� ��'�2~�q�u�>�ޥB�C]t�}(�KfL�cc+����2�w._Wo�9�+tz:�_m�Dz��+�|��u�����0������s�S�= 7�1�q��U���l.��F��|[ j,0+F1����{b�V���˒mT\��Q6{����5�Wu>.dU�:�h����_˶��q��}J�Q7���5���|�Z*H���{�6�u��H����o���P�ȶ)Ɨ%��J�eu�:���)G5�C��$]�zi����,��3���%�:=H�:��6ʠ)�L_�*}2R�7���Lͅ�F*�kZJ����qE���}Ғ	���ş���'\�:}�z�k������  ���gC��o��f����������z��{�ߕ��R�Ȧ"W-�i?�O��d��fN��  �s����<kX�	0�����e�X�<���Fg<��%�YR`^3Q\�b�/��^̳S`L�@)׌��T������;|��ƣ-�r����������dks�˺��Py`R
���������������~���2Zg2�i4�ď���2.�3������&�G^��ZAx�x*����4�֘��sEC��3�Z8)�v	g�,�*��ø�l�:���鱈Բ\lIBz�?uݽP���6�Ʈ����L!N7-���ܶS�Esh�zU�S�C���`.���,��6���I2�@�8���XgIM��\��K�-ۢ}�F�n�t�+U9q�R��uk�m��\�ٟ��+�`�܈��ni(�9�a�]X�'-u�ӍU�AX�Ǯ+?;L-��p���!�
{t+W@Ԉ<�ÊL�uYF�&ҍ�,l?&�Vx���D��)����f��,qс|a�J�X@B��\�o3B)z+��	EjO�&�fD����㱧���ȏ;ϒ��h�r��Ql���N2��a��	]�"5������JFpB#�q#��e�ws͊hs�j�inb��@s�n�)�]n+�8Ϲb������ԇ���qjDj�$���Eoc���Q��Ld#���RI�hl�������3r$���zy���R�V�D�~K��
�a,�Dfk8�Fw��b7����'���5�{��d���tP�>ZvF�{Q�t�"P�)����o\(9�2/m;��T$t�TU�{��V)�K��.`%�7M�L���h���s��ù� ��Y��Yb�k���%��<_gP�������B��D�=��Kp�roA9zK��o`-�>˒��t��f۴V:
����锿�����g�xEZ�	�n�z�.[�N�8�IQ(`�3���^<㞰Aa�րJ/��}?��Tt?�6o{�7-W�"��	�Eط���z�u�l�K���s���d�!�����"{��x����WTZ��_�˕B#�K*��k������G �_f��=?N�����׺�J�>ܗ'���&��<�=�^�˓��by��盾���qS�zZ�����m��M=.��&9����׷����w��r�Vɷ������ny{���n5�Ϟ��Ă��$��A�����S����I�LV�=UG�u��%R�QE/�r���#�e<V��l
z��m��U���Pp=x�CX��k�G��6�k��`������#���~	#N8�B�| J.���E%EZ4��\X�%޴ ��J8���79���P�J	�s�p�0��Єe���dG���Ǫ�-(����- bOI	����V�J�A�`p���9��H�l
�(��4(�m�����":j���R%���^6���L�ƕ�v��G����ޢW�2Z�IQ49=�}�zނ}�z�">��� 믓�GC:)�+���-(1�av�<oѿ&����yJ�]���- B<oA	?����~���þX��71+�DL��O�hKuw�]~^��J�Z1+�Y���M�;j���n�_���VG5nwcGĆ�����N�dK��Aas:A<,�a���IU~+��eAW�.��}���	
�Z��k?O1�f��:NΞ�Y{��*ҹ;_ǻ�O��_Q�m�{Vc�y!&$?�WQ�h�h�NS���u:�)�Ԑc�".�NM���RK���-������׉���S�O�f�T���I[N��&��O��ME�$E,	��!�ɬJߔGu�r_��f�;��[v���7U�
���J���C�vd �0�Į���������{a[���=:nr��SapqE�H��q�Y�5�~�����t܃�ʑ�v���A�.��"{�N\�����N�X���s#=c�
t���!r��RYg����,�NS�ؿ<�u��������I*O.^YJ,�� z�G��k\��q�>�!�����>-R�����I��=N�=�r�
��w�����v�VI�x��i(���ؙ�{uY���V����*�8�?�*챋���+���P��HA���yT�Wo�&�s.�8:�t�\Zd�?k�����v$�W�<��Iq^���ј8iv�r�u&\����ҪM[����И&�8a��e��q�+��V�DQ��%"U
�\�!�t�.�`ҧ;X{k���kX³�Nm�B�W�j7���TGR��Ǔ4B����MPI���|�dv�wwhKf��q��zf5�+��3�yH ��q1%딠�O_�y����/�	��������$ i�4�w=���Sq���; 0�q�������F�l�� �_?a�a�}��$�Bxg�$�����H#�E>���{{�I��O��/�U��m��0$�|��<���$
�{}�(B�0xE����Da�@�np��� 0�O@�&ɐ�� �2�,�\1����жV��j�� �Y5��1o�Ї�1�p��hPER �j���o�KV�c9���߸H7���j����LAt��L��_gk�Ѹ�;�og���Y���������d|�m/��8���o���Y��K��u��~6@��� VE_�����yg����`�>�ȍ�;s=�6���*/_w˭�#�3{��h�Yͨ�4��Y&7�Ӿ��2���p6���k���+8���s����E�=�_Z�� �B�S	�U�!N��:��k6�J��)�QL}�U�
��o!A����Ҹ�z�������1/1��n�tcm�$�߹�]�>�iò,{��L0S�e���ns��ޕ w/�r%w��uGl�anWח�YjM7�˶y�qj�$~��Y\aW�۪lƳʑ�5�E��F���Qگ���םc�i	e�n'6�;<��Eݒ�p���`��}���s`�rs����(���V(�Z��A���/�����x�mL3;0�;�g�D�B	�8BN"pN��@���UeY�euӺh�w%�����=�*��l3�u��gm�F�/�	.      a��a��C���          O^partitionKey=%28https%2Cmoviecultists.com%29,:https://securepubads.g.doubleclick.net/gampad/ads?gdfp_req=1&pvsid=1404120367585605&correlator=116673284987475&output=ldjh&impl=fif&vrg=2022011408&ptt=17&gdpr_consent=CPTVOY3PTVOY3EsABBENB_CoAP_AAH_AACiQIYtf_X_dbW9D-_59__t0eYxfd3q3v-QxjhfFt-MFyJ-U9L0G1mEzNB36pKYCCRwkK3bBAQFsHMkEDUmxaolViDHsYE0MpAJIIKCEimsZeUdYCAoPnNEB8YKZB8T_N1Urnziz9dtaz1gEFJXLHPEfboMxQIgBwtACUlZABAIAASAwgAIAQAEAAghExf8bt1tb0N4_Gm8-3RojF9Xcper4DGOEcWnYwCIn5T0rAbUQTMAHbqgpAIJHCQjdgEBAQgASQQFSbFgiVUIEMggBAigAgggoISISxl5QFgACA-MgAFQApkFxG8lRSuFKBLlm1rPWAQQlcEEEQ9KgCFAiAHCwAJSRkAAAAAAIDAAAgBAAQAA.f_gAAAAAAAA&gdpr=1&addtl_consent=1~2052.2056.2064.20.2068.2069.2070.2072.2074.2084.39.2088.2090.43.46.2103.55.57.2107.2109.61.66.2115.70.2124.2130.83.2133.2137.89.2140.93.2145.2147.2150.108.2156.117.2166.122.124.2177.131.135.2183.136.2186.143.144.147.149.2202.2205.159.162.167.2216.171.2219.2220.2222.2224.2225.2234.192.196.202.2253.211.2264.218.228.230.2279.2282.239.241.2292.2299.2305.259.2309.2312.266.2316.272.2325.2328.2331.2334.286.2335.2336.2337.291.2343.2354.2357.2358.2359.311.317.2366.2370.322.323.2373.326.327.2376.2377.338.2387.2392.2394.2400.2403.2405.358.2407.2411.2414.367.2416.2418.370.371.2425.2427.385.389.2440.394.397.2447.2453.407.2459.2461.413.2462.415.2465.2468.2472.424.2477.430.2481.2484.436.2486.2488.440.2492.2493.445.2496.2497.449.2498.2499.2501.453.2506.2510.2511.2517.2526.2527.482.2532.2534.486.2535.491.2542.494.495.2544.501.503.2552.505.2555.2559.2563.2564.2567.2568.2569.522.2571.523.2572.2575.2577.2583.2584.540.2589.2595.2596.2597.550.2601.2604.2605.559.2608.2609.2610.2612.2614.568.2618.2621.574.576.2628.2629.584.2633.2634.587.2636.591.2642.2643.2645.2646.2647.2650.2651.2652.2656.2657.2658.2660.2661.2669.2670.2677.2681.2684.2686.2687.2690.2695.2698.2707.2713.2714.2729.2739.2767.2768.2770.2771.2772.733.2784.737.2787.2791.2792.745.2798.2801.2805.2812.2813.2814.2816.2817.2818.2821.2822.2824.2827.780.2830.2831.2832.2834.787.2836.2838.2839.2840.2844.2846.798.2847.2849.2850.802.2851.803.2852.2854.2856.2860.2862.2863.2865.817.2867.820.2869.821.2872.2873.2874.2875.2876.829.2878.2879.2880.2881.2882.2883.2884.2886.2887.839.2888.2889.2891.2893.2894.2895.2897.2898.2900.2901.2908.2909.2911.2912.864.2913.2914.867.2916.2917.2918.2919.2920.2922.874.2923.2924.2927.2929.2930.2931.2935.2939.2940.2941.2942.2947.899.2949.2950.904.2956.2961.2962.2963.2964.2965.2966.2968.2970.922.2973.2974.2975.2979.931.2980.2981.2983.2985.2986.938.2987.2991.2993.2994.2995.2997.2999.3000.3002.3003.3005.3008.3009.3010.3012.3016.3017.3018.3019.3024.3025.979.981.3030.985.3034.3037.3038.3043.3044.3045.3048.1003.3052.3053.3055.3058.3059.3063.3065.3066.3068.3070.1024.3072.3073.3074.1027.3075.3076.3077.3078.1031.1033.1034.1040.3089.3090.3093.1046.3094.3095.3097.1051.3099.3100.1053.3104.3106.3109.3111.3112.1067.3116.3117.3118.3119.3120.3121.3124.3126.3127.3128.3130.1085.3135.3136.1092.1095.1097.3145.1099.3149.3150.3151.3154.1107.3155.3162.3163.3167.3172.3173.1127.3180.3182.1135.3183.3184.3185.3187.3188.3189.3190.1143.3194.3196.1149.3197.3198.1152.3209.1162.3210.3211.1166.3214.3215.3217.3219.3222.3223.3225.3226.3227.3228.3230.3231.3232.1186.3234.3235.1188.3236.3237.3238.3240.3241.3244.3245.1201.3250.3251.1205.3253.3254.3257.1211.1215.1220.1226.1227.1230.1252.1268.1270.1276.1284.1286.1290.1301.1307.1312.1329.1345.1356.1364.1365.1375.1403.1415.1416.1419.1440.1442.1449.1451.1455.1456.1465.1495.1512.1516.1525.1540.1548.1555.1558.1564.1570.1577.1579.1583.1584.1591.1603.1616.1638.1651.1653.1660.1665.1667.1677.1678.1682.1697.1699.1703.1712.1716.1720.1721.1722.1725.1732.1745.1750.1765.1769.1782.1786.1800.1808.1810.1825.1827.1832.1837.1838.1840.1842.1843.1845.1859.1866.1870.1878.1880.1889.1898.1899.1911.1917.1929.1942.1944.1962.1963.1964.1967.1968.1969.1978.2003.2007.2008.2027.2035.2039.2044.2046.2047&us_privacy=1---&sc=1&sfv=1-0-38&ecs=20220124&iu_parts=23081961%3A91067275%2CMC_Content_Incontent2&enc_prev_ius=%2F0%2F1&prev_iu_szs=300x250%7C336x280&ris=32&rcs=21&prev_scp=m2_canonical%3Dd40f9735ea748ca2e36d14daf47b1c68%26m2_canonical_session%3Dd40f9735ea748ca2e36d14daf47b1c68%26m2_config%3D11110-211202-3e8%25400%26m2_stack%3Denabled%26m2_cohort%3D387%253A2112081807%253A211202-3e8%253A11110%253A1.00%26request_uri%3D%252Fhow-to-enable-lfs-on-github%26utm_term%3D%252Fempty%252F%26utm_source%3D%252Fempty%252F%26utm_campaign%3D%252Fempty%252F%26utm_content%3D%252Fempty%252F%26utm_medium%3D%252Fempty%252F%26m2_tc%3Dtc-init%26m2_refresh%3Dsmart%26m2_pid%3Dgb-adsense%252F%26m2_bidder%3Dgb-adsense%26m2_size%3D300x250%26m2_adid%3D21b27e5a%26m2_pb%3D0.05&eri=1&cookie=ID%3D6a09ae4f404cf680-2288921128cf0006%3AT%3D1643045893%3AS%3DALNI_MaWRkCvICq5Bu6qflZifoWCx-X-Cw&bc=31&abxe=1&dt=1643058663746&lmt=1643058663&dlt=1643045841200&idt=863&frm=20&biw=1903&bih=955&oid=2&adxs=422&adys=1355&adks=3489778834&ucis=5&ifi=49&u_his=1&u_h=1080&u_w=1920&u_ah=1040&u_aw=1920&u_cd=24&u_sd=1&u_tz=60&flash=0&url=https%3A%2F%2Fmoviecultists.com%2Fhow-to-enable-lfs-on-github&ref=https%3A%2F%2Fwww.google.com%2F&vis=2&scr_x=0&scr_y=510&psz=675x0&msz=675x0&psts=AGkb-H8s5M8lAUb2f_iYR6hUtgfQs49dr0NQezjtoDJHRXQZBPzMAP4OHjLoBQVPg_s9HvnnRg3TFAxjLhoE51xkMjhC2PlTxth5TmA0Vg%2CAGkb-H-BVcoAb1n3e5Z1bNT8-0NeOLH1szhb_oRQ1_LTSZ8g5QPsKomZG8-DoSrSgf770mHHPYdaj7ttCWNF8Pko6RG31JaEgy7YtOtwhA&ga_vid=1119360407.1643045896&ga_sid=1643045896&ga_hid=1517094203&ga_fc=true&fws=0&ohw=0&btvi=0&nvt=1 strongly-framed 1 security-info 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 request-method GET response-head HTTP/3 200 OK
p3p: policyref="https://googleads.g.doubleclick.net/pagead/gcn_p3p_.xml", CP="CURa ADMa DEVa TAIo PSAo PSDo OUR IND UNI PUR INT DEM STA PRE COM NAV OTC NOI DSP COR"
timing-allow-origin: *
cross-origin-resource-policy: cross-origin
access-control-allow-credentials: true
access-control-allow-origin: https://moviecultists.com
google-lineitem-id: 5850555013
google-creative-id: 138374029148
google-mediationgroup-id: -2
google-mediationtag-id: -2
date: Mon, 24 Jan 2022 21:11:04 GMT
pragma: no-cache
expires: Fri, 01 Jan 1990 00:00:00 GMT
cache-control: no-cache, must-revalidate
content-type: text/plain; charset=UTF-8
x-content-type-options: nosniff
content-encoding: br
server: cafe
content-length: 8500
x-xss-protection: 0
alt-svc: h3=":443"; ma=2592000,h3-29=":443"; ma=2592000,h3-Q050=":443"; ma=2592000,h3-Q046=":443"; ma=2592000,h3-Q043=":443"; ma=2592000,quic=":443"; ma=2592000; v="46,43"
X-Firefox-Http3: h3
 original-response-headers p3p: policyref="https://googleads.g.doubleclick.net/pagead/gcn_p3p_.xml", CP="CURa ADMa DEVa TAIo PSAo PSDo OUR IND UNI PUR INT DEM STA PRE COM NAV OTC NOI DSP COR"
timing-allow-origin: *
cross-origin-resource-policy: cross-origin
access-control-allow-credentials: true
access-control-allow-origin: https://moviecultists.com
google-lineitem-id: 5850555013
google-creative-id: 138374029148
google-mediationgroup-id: -2
google-mediationtag-id: -2
date: Mon, 24 Jan 2022 21:11:04 GMT
pragma: no-cache
expires: Fri, 01 Jan 1990 00:00:00 GMT
cache-control: no-cache, must-revalidate
content-type: text/plain; charset=UTF-8
x-content-type-options: nosniff
content-encoding: br
server: cafe
content-length: 8500
x-xss-protection: 0
set-cookie: test_cookie=CheckForPermission; expires=Mon, 24-Jan-2022 21:26:03 GMT; path=/; domain=.doubleclick.net; Secure; HttpOnly; SameSite=none
alt-svc: h3=":443"; ma=2592000,h3-29=":443"; ma=2592000,h3-Q050=":443"; ma=2592000,h3-Q046=":443"; ma=2592000,h3-Q043=":443"; ma=2592000,quic=":443"; ma=2592000; v="46,43"
 ctid 1 net-response-time-onstart 400 net-response-time-onstop 400   !4                                                                                                                                                                                                                                                                                                                                                                                                                                                                                                                                                                                                                                                                                                                                                                                                                                                                                                                                                                                                                                                                                                                                                                                                                                                                                                                                                       