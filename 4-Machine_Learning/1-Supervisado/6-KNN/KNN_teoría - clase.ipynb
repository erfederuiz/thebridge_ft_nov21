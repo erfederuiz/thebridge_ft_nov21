{
 "cells": [
  {
   "cell_type": "markdown",
   "metadata": {},
   "source": [
    "## Algoritmo KNN\n",
    "\n",
    "El algoritmo KNN (K Nearest Neighbors) trata de buscar los K puntos más cercanos a un punto concreto para poder inferir su valor."
   ]
  },
  {
   "cell_type": "code",
   "execution_count": 1,
   "metadata": {},
   "outputs": [],
   "source": [
    "import matplotlib.pyplot as plt\n",
    "import pandas as pd\n",
    "import seaborn as sns\n",
    "from sklearn.neighbors import KNeighborsClassifier"
   ]
  },
  {
   "cell_type": "markdown",
   "metadata": {},
   "source": [
    "Tenemos la altura y el peso de cinco personas, junto con su respectivo cómic favorito (marvel o DC)."
   ]
  },
  {
   "cell_type": "code",
   "execution_count": 4,
   "metadata": {},
   "outputs": [],
   "source": [
    "data = {'Masa': [50, 80, 90, 45, 60],\n",
    "'Altura': [1.48, 1.82, 1.55, 1.55, 1.60],\n",
    "'Comics': ['marvel', 'dc', 'dc', 'marvel', 'marvel']}\n",
    "\n",
    "df = pd.DataFrame(data)"
   ]
  },
  {
   "cell_type": "code",
   "execution_count": 7,
   "metadata": {},
   "outputs": [
    {
     "data": {
      "text/plain": [
       "<matplotlib.legend.Legend at 0x1aeb6775f88>"
      ]
     },
     "execution_count": 7,
     "metadata": {},
     "output_type": "execute_result"
    },
    {
     "data": {
      "image/png": "[encoded data removed]",
      "text/plain": [
       "<Figure size 432x288 with 1 Axes>"
      ]
     },
     "metadata": {
      "needs_background": "light"
     },
     "output_type": "display_data"
    }
   ],
   "source": [
    "ax = plt.axes()\n",
    "ax.scatter(df.loc[df['Comics'] == 'marvel', 'Masa'],\n",
    "df.loc[df['Comics'] == 'marvel', 'Altura'],\n",
    "c=\"blue\",\n",
    "label = \"Marvel\")\n",
    "\n",
    "ax.scatter(df.loc[df['Comics'] == 'dc', 'Masa'],\n",
    "df.loc[df['Comics'] == 'dc', 'Altura'],\n",
    "c=\"red\",\n",
    "label = \"DC\")\n",
    "\n",
    "plt.xlabel(\"Masa\")\n",
    "plt.ylabel(\"Altura\")\n",
    "ax.legend()"
   ]
  },
  {
   "cell_type": "markdown",
   "metadata": {},
   "source": [
    "Si nos dieran datos de una sexta persona, pero no nos dieran su cómic favorito, ¿podríamos adivinarlo de alguna forma?"
   ]
  },
  {
   "cell_type": "code",
   "execution_count": 9,
   "metadata": {},
   "outputs": [
    {
     "data": {
      "image/png": "[encoded data removed]",
      "text/plain": [
       "<Figure size 432x288 with 1 Axes>"
      ]
     },
     "metadata": {
      "needs_background": "light"
     },
     "output_type": "display_data"
    }
   ],
   "source": []
  },
  {
   "cell_type": "code",
   "execution_count": 11,
   "metadata": {},
   "outputs": [
    {
     "data": {
      "text/plain": [
       "<matplotlib.legend.Legend at 0x1aeb6863d08>"
      ]
     },
     "execution_count": 11,
     "metadata": {},
     "output_type": "execute_result"
    },
    {
     "data": {
      "image/png": "[encoded data removed]",
      "text/plain": [
       "<Figure size 432x288 with 1 Axes>"
      ]
     },
     "metadata": {
      "needs_background": "light"
     },
     "output_type": "display_data"
    }
   ],
   "source": [
    "punto_nuevo = {'Masa': [70],\n",
    "'Altura': [1.82]}\n",
    "punto_nuevo = pd.DataFrame(punto_nuevo)\n",
    "\n",
    "\n",
    "ax = plt.axes()\n",
    "ax.scatter(df.loc[df['Comics'] == 'marvel', 'Masa'],\n",
    "df.loc[df['Comics'] == 'marvel', 'Altura'],\n",
    "c=\"blue\",\n",
    "label = \"Marvel\")\n",
    "\n",
    "ax.scatter(df.loc[df['Comics'] == 'dc', 'Masa'],\n",
    "df.loc[df['Comics'] == 'dc', 'Altura'],\n",
    "c=\"red\",\n",
    "label = \"DC\")\n",
    "\n",
    "ax.scatter(punto_nuevo['Masa'],\n",
    "punto_nuevo['Altura'],\n",
    "c=\"black\")\n",
    "\n",
    "plt.xlabel(\"Masa\")\n",
    "plt.ylabel(\"Altura\")\n",
    "ax.legend()"
   ]
  },
  {
   "cell_type": "code",
   "execution_count": 12,
   "metadata": {},
   "outputs": [
    {
     "name": "stdout",
     "output_type": "stream",
     "text": [
      "(5,)\n",
      "['dc']\n"
     ]
    }
   ],
   "source": [
    "from sklearn.neighbors import KNeighborsClassifier\n",
    "\n",
    "knn = KNeighborsClassifier(n_neighbors = 3)\n",
    "\n",
    "X = df[['Masa', 'Altura']]\n",
    "y = df['Comics']\n",
    "\n",
    "knn.fit(X, y)\n",
    "\n",
    "print(y.shape)\n",
    "\n",
    "prediccion = knn.predict(punto_nuevo)\n",
    "print(prediccion)"
   ]
  },
  {
   "cell_type": "markdown",
   "metadata": {},
   "source": [
    "Documentacion: https://scikit-learn.org/stable/modules/neighbors.html#nearest-neighbors-classification\n"
   ]
  }
 ],
 "metadata": {
  "kernelspec": {
   "display_name": "Python 3",
   "language": "python",
   "name": "python3"
  },
  "language_info": {
   "codemirror_mode": {
    "name": "ipython",
    "version": 3
   },
   "file_extension": ".py",
   "mimetype": "text/x-python",
   "name": "python",
   "nbconvert_exporter": "python",
   "pygments_lexer": "ipython3",
   "version": "3.7.4"
  }
 },
 "nbformat": 4,
 "nbformat_minor": 4
}
