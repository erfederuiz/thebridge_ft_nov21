{
 "cells": [
  {
   "cell_type": "markdown",
   "metadata": {
    "colab_type": "text",
    "id": "mHn7-mEg__Op"
   },
   "source": [
    "## Ejercicio breast cancer de sklearn\n",
    "\n",
    "1. Carga el dataset [breast_cancer de `sklearn`](https://scikit-learn.org/stable/modules/generated/sklearn.datasets.load_breast_cancer.html)\n",
    "2. Limpia los datos si es necesario\n",
    "3. Dibuja con plotly los gráficos que creas necesarios para entender los datos.\n",
    "4. Utiliza los métodos de clasificación vistos hasta ahora para clasificar el target de los datos, ¿cuál da mejores resultados? \n",
    "5. Intenta superarte en el score cambiando las features de los algoritmos."
   ]
  },
  {
   "cell_type": "code",
   "execution_count": 1,
   "metadata": {
    "colab": {
     "base_uri": "https://localhost:8080/",
     "height": 72
    },
    "colab_type": "code",
    "executionInfo": {
     "elapsed": 2942,
     "status": "ok",
     "timestamp": 1600160561693,
     "user": {
      "displayName": "Clara Piniella",
      "photoUrl": "https://lh3.googleusercontent.com/a-/AOh14GjZPvtfXzLnQ9Q1a_2oR-Aa6UCX0_HyTfsCraMd=s64",
      "userId": "06217688725952462825"
     },
     "user_tz": -120
    },
    "id": "trrbrcXx__Ov",
    "outputId": "b19676c4-6a3a-49ac-d22f-7ea24747b6ba"
   },
   "outputs": [],
   "source": [
    "import pandas as pd\n",
    "import numpy as np\n",
    "import seaborn as sns\n",
    "import pickle\n",
    "\n",
    "import plotly.offline as py\n",
    "import plotly.graph_objs as go\n",
    "\n",
    "from sklearn.model_selection import train_test_split\n",
    "from sklearn import datasets\n",
    "from sklearn.metrics import classification_report\n",
    "from sklearn.svm import SVC\n",
    "from sklearn.linear_model import LogisticRegression\n",
    "from sklearn.neighbors import KNeighborsClassifier\n",
    "\n",
    "from sklearn.model_selection import GridSearchCV\n",
    "from sklearn.preprocessing import StandardScaler\n",
    "from sklearn.pipeline import Pipeline\n",
    "from sklearn.model_selection import RepeatedKFold"
   ]
  },
  {
   "cell_type": "code",
   "execution_count": null,
   "metadata": {},
   "outputs": [],
   "source": []
  },
  {
   "cell_type": "markdown",
   "metadata": {
    "colab_type": "text",
    "id": "_dgt8aWP__PI"
   },
   "source": [
    "**2. Limpia los datos si es necesario**"
   ]
  },
  {
   "cell_type": "code",
   "execution_count": null,
   "metadata": {},
   "outputs": [],
   "source": []
  },
  {
   "cell_type": "markdown",
   "metadata": {
    "colab_type": "text",
    "id": "bi_Sh8EP__PJ"
   },
   "source": [
    "**3. Dibuja con plotly los gráficos que creas necesarios para entender los datos.**"
   ]
  },
  {
   "cell_type": "code",
   "execution_count": 9,
   "metadata": {
    "colab": {},
    "colab_type": "code",
    "executionInfo": {
     "elapsed": 2910,
     "status": "ok",
     "timestamp": 1600160561716,
     "user": {
      "displayName": "Clara Piniella",
      "photoUrl": "https://lh3.googleusercontent.com/a-/AOh14GjZPvtfXzLnQ9Q1a_2oR-Aa6UCX0_HyTfsCraMd=s64",
      "userId": "06217688725952462825"
     },
     "user_tz": -120
    },
    "id": "ypMt5wbF__PK"
   },
   "outputs": [],
   "source": []
  },
  {
   "cell_type": "markdown",
   "metadata": {
    "colab_type": "text",
    "id": "8_I11Ze___Pd"
   },
   "source": [
    "**4. Utiliza los métodos de clasificación vistos hasta ahora para clasificar el target de los datos, ¿cuál da mejores resultados?** \n",
    "\n",
    "**5. Intenta superarte en el score cambiando las features de los algoritmos.**"
   ]
  },
  {
   "cell_type": "code",
   "execution_count": 16,
   "metadata": {
    "colab": {},
    "colab_type": "code",
    "executionInfo": {
     "elapsed": 4503,
     "status": "ok",
     "timestamp": 1600160563354,
     "user": {
      "displayName": "Clara Piniella",
      "photoUrl": "https://lh3.googleusercontent.com/a-/AOh14GjZPvtfXzLnQ9Q1a_2oR-Aa6UCX0_HyTfsCraMd=s64",
      "userId": "06217688725952462825"
     },
     "user_tz": -120
    },
    "id": "S1BwdjD0__Pe"
   },
   "outputs": [],
   "source": []
  },
  {
   "cell_type": "code",
   "execution_count": null,
   "metadata": {},
   "outputs": [],
   "source": [
    "pipe = Pipeline(steps=[('classifier', LogisticRegression())])\n",
    "\n",
    "logistic_params = {\n",
    "    'classifier': [LogisticRegression()],\n",
    "    'classifier__penalty': ['l1', 'l2'],\n",
    "    'classifier__C': np.logspace(0, 4, 10)\n",
    "}\n",
    "kneighbors_params = {\n",
    "    'classifier' : [KNeighborsClassifier()],\n",
    "    'classifier__n_neighbors': [3, 5, 11, 19],\n",
    "    'classifier__weights' : [\"uniform\", \"distance\"],\n",
    "    'classifier__metric': [\"euclidean\", \"manhattan\"]\n",
    "}\n",
    "svm_params = {\n",
    "    'classifier': [SVC()],\n",
    "    'classifier__kernel': ('linear', 'rbf', 'sigmoid'),\n",
    "    'classifier__C': [0.2, 0.3, 0.4, 0.5, 0.6, 0.7, 0.8, 0.9],\n",
    "    'classifier__coef0': [-10, -1, 0, 0.1, 0.5, 1, 10, 100],\n",
    "    'classifier__gamma': ('scale', 'auto')\n",
    "}"
   ]
  },
  {
   "cell_type": "code",
   "execution_count": null,
   "metadata": {},
   "outputs": [],
   "source": [
    "reg_log = Pipeline([\n",
    "    (\"scaler\", StandardScaler()),\n",
    "    (\"reglog\", LogisticRegression())\n",
    "])\n",
    "\n",
    "rand_forest = RandomForestClassifier()\n",
    "\n",
    "svm = Pipeline([\n",
    "    (\"scaler\", StandardScaler()),\n",
    "    (\"svm\", SVC())\n",
    "])\n",
    "\n",
    "gbc = GradientBoostingClassifier()\n",
    "\n",
    "knn = KNeighborsClassifier()\n",
    "\n",
    "knn_scal = Pipeline([\n",
    "    (\"scaler\", StandardScaler()),\n",
    "    (\"knn\", KNeighborsClassifier())\n",
    "])\n",
    "\n",
    "reg_log_param = {\n",
    "    \"reglog__penalty\": ['l1', 'l2'],\n",
    "    \"reglog__C\": np.arange(0.1, 1, 0.1)\n",
    "}\n",
    "\n",
    "rand_forest_param = {\n",
    "    'n_estimators': [10, 100, 300], # numero alto, no tiene por que dar overfitting\n",
    "    'max_features': [2, 4, 6]\n",
    "}\n",
    "\n",
    "svm_param = {\n",
    "    'svm__C': np.arange(0.2, 1, 0.1),\n",
    "    'svm__kernel': ['linear', 'poly', 'rbf']\n",
    "}\n",
    "\n",
    "gbc_param = {\n",
    "    'learning_rate': [0.05, 0.1, 0.5],\n",
    "    'n_estimators': [20, 50, 100],\n",
    "    'max_depth': [1,2,3,4,5]\n",
    "}\n",
    "\n",
    "knn_param = {\n",
    "    'n_neighbors': [1,2,3,4,5,6]\n",
    "}\n",
    "\n",
    "\n",
    "knn_param_scal = {\n",
    "    'knn__n_neighbors': [1,2,3,4,5,6]\n",
    "}"
   ]
  },
  {
   "cell_type": "code",
   "execution_count": null,
   "metadata": {},
   "outputs": [],
   "source": [
    "gs_reg_log = GridSearchCV(reg_log,\n",
    "                         reg_log_param,\n",
    "                         cv=10,\n",
    "                         verbose=1,\n",
    "                         n_jobs=-1)\n",
    "\n",
    "gs_rand_forest = GridSearchCV(rand_forest,\n",
    "                         rand_forest_param,\n",
    "                         cv=10,\n",
    "                         verbose=1,\n",
    "                         n_jobs=-1)\n",
    "\n",
    "gs_svm = GridSearchCV(svm,\n",
    "                         svm_param,\n",
    "                         cv=10,\n",
    "                         verbose=1,\n",
    "                         n_jobs=-1)\n",
    "\n",
    "gs_gbc = GridSearchCV(gbc,\n",
    "                         gbc_param,\n",
    "                         cv=10,\n",
    "                         verbose=1,\n",
    "                         n_jobs=-1)\n",
    "\n",
    "gs_knn = GridSearchCV(knn,\n",
    "                         knn_param,\n",
    "                         cv=10,\n",
    "                         verbose=1,\n",
    "                         n_jobs=-1)\n",
    "\n",
    "gs_knn_scal = GridSearchCV(knn_scal,\n",
    "                         knn_param_scal,\n",
    "                         cv=10,\n",
    "                         verbose=1,\n",
    "                         n_jobs=-1)\n",
    "\n",
    "grids = {\n",
    "    \"gs_reg_log\": gs_reg_log,\n",
    "    \"gs_rand_forest\": gs_rand_forest,\n",
    "    \"gs_svm\": gs_svm,\n",
    "    \"gs_gbc\": gs_gbc,\n",
    "    \"gs_knn\": gs_knn,\n",
    "    \"gs_knn_scal\": gs_knn_scal    \n",
    "}"
   ]
  }
 ],
 "metadata": {
  "accelerator": "TPU",
  "colab": {
   "collapsed_sections": [],
   "name": "3.breast_cancer_sol.ipynb",
   "provenance": []
  },
  "kernelspec": {
   "display_name": "Python 3 (ipykernel)",
   "language": "python",
   "name": "python3"
  },
  "language_info": {
   "codemirror_mode": {
    "name": "ipython",
    "version": 3
   },
   "file_extension": ".py",
   "mimetype": "text/x-python",
   "name": "python",
   "nbconvert_exporter": "python",
   "pygments_lexer": "ipython3",
   "version": "3.7.11"
  }
 },
 "nbformat": 4,
 "nbformat_minor": 4
}
