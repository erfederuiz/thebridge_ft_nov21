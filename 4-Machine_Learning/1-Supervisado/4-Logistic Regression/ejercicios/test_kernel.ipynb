{
 "cells": [
  {
   "cell_type": "code",
   "execution_count": null,
   "metadata": {},
   "outputs": [],
   "source": []
  }
 ],
 "metadata": {
  "interpreter": {
   "hash": "773e18d78715e88dab7853a0887af79008877901706ed604c89099460de4f310"
  },
  "kernelspec": {
   "display_name": "Python 3.7.11 64-bit ('TheBridgeBootcamp': conda)",
   "language": "python",
   "name": "python3"
  },
  "language_info": {
   "name": "python",
   "version": "3.7.11"
  },
  "orig_nbformat": 4
 },
 "nbformat": 4,
 "nbformat_minor": 2
}
