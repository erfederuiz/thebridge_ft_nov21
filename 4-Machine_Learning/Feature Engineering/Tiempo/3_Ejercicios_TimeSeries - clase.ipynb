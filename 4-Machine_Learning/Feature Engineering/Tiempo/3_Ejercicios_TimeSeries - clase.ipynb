{
 "cells": [
  {
   "cell_type": "code",
   "execution_count": null,
   "metadata": {
    "colab": {
     "base_uri": "https://localhost:8080/",
     "height": 408
    },
    "colab_type": "code",
    "id": "XPmYcUnxSlKq",
    "outputId": "0575f324-8815-47a8-fd1f-d9f13491133b"
   },
   "outputs": [],
   "source": [
    "# lee daily-minimum-temperatures.csv"
   ]
  },
  {
   "cell_type": "code",
   "execution_count": null,
   "metadata": {
    "colab": {
     "base_uri": "https://localhost:8080/",
     "height": 269
    },
    "colab_type": "code",
    "id": "zBoQoBTISlKx",
    "outputId": "c247a386-f956-4f9e-b600-65f8d7b37113"
   },
   "outputs": [],
   "source": [
    "\n",
    "# haz un plot"
   ]
  },
  {
   "cell_type": "code",
   "execution_count": null,
   "metadata": {
    "colab": {
     "base_uri": "https://localhost:8080/",
     "height": 546
    },
    "colab_type": "code",
    "id": "IVB1BaR1SlK0",
    "outputId": "c8ba38b8-0eab-450a-c82e-f0b300070b5f"
   },
   "outputs": [],
   "source": [
    "# agrúpalo por años y muestra gráficas para cada año"
   ]
  },
  {
   "cell_type": "code",
   "execution_count": null,
   "metadata": {},
   "outputs": [],
   "source": [
    "# muestra los años en una tabla"
   ]
  },
  {
   "cell_type": "markdown",
   "metadata": {
    "colab_type": "text",
    "id": "lDch-C1zSlK2"
   },
   "source": [
    "# 2. Time Series Histogram and Density Plots\n",
    "\n",
    "Another important visualization is of the distribution of observations themselves.\n",
    "\n",
    "This means a plot of the values without the temporal ordering.\n",
    "\n",
    "Some linear time series forecasting methods assume a well-behaved distribution of observations (i.e. a bell curve or normal distribution). This can be explicitly checked using tools like statistical hypothesis tests. But plots can provide a useful first check of the distribution of observations both on raw observations and after any type of data transform has been performed.\n",
    "\n",
    "The example below creates a histogram plot of the observations in the Minimum Daily Temperatures dataset. A histogram groups values into bins, and the frequency or count of observations in each bin can provide insight into the underlying distribution of the observations."
   ]
  },
  {
   "cell_type": "code",
   "execution_count": null,
   "metadata": {
    "colab": {
     "base_uri": "https://localhost:8080/",
     "height": 265
    },
    "colab_type": "code",
    "id": "8W4acTk_SlK2",
    "outputId": "c0b6b200-efdd-4ea4-cc72-ccd1bbaeb4a2"
   },
   "outputs": [],
   "source": [
    "# muestra el histograma\n"
   ]
  },
  {
   "cell_type": "markdown",
   "metadata": {
    "colab_type": "text",
    "id": "DZR37gnmSlK4"
   },
   "source": [
    "We can get a better idea of the shape of the distribution of observations by using a density plot.\n",
    "\n",
    "This is like the histogram, except a function is used to fit the distribution of observations and a nice, smooth line is used to summarize this distribution.\n",
    "\n",
    "Below is an example of a density plot of the Minimum Daily Temperatures dataset."
   ]
  },
  {
   "cell_type": "code",
   "execution_count": null,
   "metadata": {
    "colab": {
     "base_uri": "https://localhost:8080/",
     "height": 265
    },
    "colab_type": "code",
    "id": "kKeMrKleSlK5",
    "outputId": "a6097969-876a-4899-8efe-05887ea3a111"
   },
   "outputs": [],
   "source": [
    "# muestra la densidad de probabilidad\n"
   ]
  },
  {
   "cell_type": "markdown",
   "metadata": {
    "colab_type": "text",
    "id": "_Gdt1m2tSlK7"
   },
   "source": [
    "Running the example creates a plot that provides a clearer summary of the distribution of observations. We can see that perhaps the distribution is a little asymmetrical and perhaps a little pointy to be Gaussian."
   ]
  },
  {
   "cell_type": "markdown",
   "metadata": {
    "colab_type": "text",
    "id": "3RgnijKxSlK7"
   },
   "source": [
    "# 3. Time Series Box and Whisker Plots by Interval\n",
    "\n",
    "Histograms and density plots provide insight into the distribution of all observations, but we may be interested in the distribution of values by time interval.\n",
    "\n",
    "Another type of plot that is useful to summarize the distribution of observations is the box and whisker plot. This plot draws a box around the 25th and 75th percentiles of the data that captures the middle 50% of observations. A line is drawn at the 50th percentile (the median) and whiskers are drawn above and below the box to summarize the general extents of the observations. Dots are drawn for outliers outside the whiskers or extents of the data.\n",
    "\n",
    "Box and whisker plots can be created and compared for each interval in a time series, such as years, months, or days.\n",
    "\n",
    "Below is an example of grouping the Minimum Daily Temperatures dataset by years, as was done above in the plot example. A box and whisker plot is then created for each year and lined up side-by-side for direct comparison."
   ]
  },
  {
   "cell_type": "code",
   "execution_count": 1,
   "metadata": {
    "colab": {
     "base_uri": "https://localhost:8080/",
     "height": 265
    },
    "colab_type": "code",
    "id": "m4aM94nuSlK8",
    "outputId": "eb1a265d-e612-4145-e744-3ad0105ee062"
   },
   "outputs": [
    {
     "data": {
      "text/plain": [
       "\"\\nfrom pandas import read_csv\\nfrom pandas import DataFrame\\nfrom pandas import Grouper\\nfrom matplotlib import pyplot\\nnp.warnings.filterwarnings('ignore', category=np.VisibleDeprecationWarning)\\n\\nseries = read_csv('daily-minimum-temperatures.csv', header=0, index_col=0, parse_dates=True, squeeze=True)\\n\\ngroups = series.groupby(Grouper(freq='A'))\\n\\nyears = DataFrame()\\nfor name, group in groups:\\n    years[name.year] = group.values\\n\\nyears.boxplot()\\n\""
      ]
     },
     "execution_count": 1,
     "metadata": {},
     "output_type": "execute_result"
    }
   ],
   "source": [
    "'''\n",
    "from pandas import read_csv\n",
    "from pandas import DataFrame\n",
    "from pandas import Grouper\n",
    "from matplotlib import pyplot\n",
    "np.warnings.filterwarnings('ignore', category=np.VisibleDeprecationWarning)\n",
    "\n",
    "series = read_csv('daily-minimum-temperatures.csv', header=0, index_col=0, parse_dates=True, squeeze=True)\n",
    "\n",
    "groups = series.groupby(Grouper(freq='A'))\n",
    "\n",
    "years = DataFrame()\n",
    "for name, group in groups:\n",
    "    years[name.year] = group.values\n",
    "\n",
    "years.boxplot()\n",
    "'''\n",
    "\n"
   ]
  },
  {
   "cell_type": "markdown",
   "metadata": {
    "colab_type": "text",
    "id": "dkwXnIVjSlK-"
   },
   "source": [
    "We may also be interested in the distribution of values across months within a year.\n",
    "\n",
    "The example below creates 12 box and whisker plots, one for each month of 1990, the last year in the dataset.\n",
    "\n",
    "In the example, first, only observations from 1990 are extracted.\n",
    "\n",
    "Then, the observations are grouped by month, and each month is added to a new DataFrame as a column.\n",
    "\n",
    "Finally, a box and whisker plot is created for each month-column in the newly constructed DataFrame."
   ]
  },
  {
   "cell_type": "code",
   "execution_count": null,
   "metadata": {},
   "outputs": [],
   "source": [
    "# create a boxplot of yearlyy data"
   ]
  },
  {
   "cell_type": "code",
   "execution_count": 2,
   "metadata": {
    "colab": {
     "base_uri": "https://localhost:8080/",
     "height": 265
    },
    "colab_type": "code",
    "id": "pvQRNvc-SlK-",
    "outputId": "e9d61be7-2ff0-432f-ed5f-0523cc017ab6"
   },
   "outputs": [],
   "source": [
    "# create a boxplot of monthly data\n",
    "\n"
   ]
  },
  {
   "cell_type": "markdown",
   "metadata": {
    "colab_type": "text",
    "id": "_gfYPfsJSlLA"
   },
   "source": [
    "# 4. Time Series Heat Maps\n",
    "\n",
    "A matrix of numbers can be plotted as a surface, where the values in each cell of the matrix are assigned a unique color.\n",
    "\n",
    "This is called a heatmap, as larger values can be drawn with warmer colors (yellows and reds) and smaller values can be drawn with cooler colors (blues and greens).\n",
    "\n",
    "Like the box and whisker plots, we can compare observations between intervals using a heat map.\n",
    "\n",
    "In the case of the Minimum Daily Temperatures, the observations can be arranged into a matrix of year-columns and day-rows, with minimum temperature in the cell for each day. A heat map of this matrix can then be plotted.\n",
    "\n",
    "Below is an example of creating a heatmap of the Minimum Daily Temperatures data. The matshow() function from the matplotlib library is used as no heatmap support is provided directly in Pandas.\n",
    "\n",
    "For convenience, the matrix is rotation (transposed) so that each row represents one year and each column one day. This provides a more intuitive, left-to-right layout of the data."
   ]
  },
  {
   "cell_type": "code",
   "execution_count": null,
   "metadata": {
    "colab": {
     "base_uri": "https://localhost:8080/",
     "height": 166
    },
    "colab_type": "code",
    "id": "3S14WNbjSlLA",
    "outputId": "6b3a9985-0d3a-47b0-9c50-7e5094d7429f"
   },
   "outputs": [],
   "source": [
    "# muestra un mapa de calor con\n",
    "# por columnas los días\n",
    "# por filas los años"
   ]
  },
  {
   "cell_type": "markdown",
   "metadata": {
    "colab_type": "text",
    "id": "4_smrJFWSlLC"
   },
   "source": [
    "\n",
    "Below is an example of a heat map comparing the months of the year in 1990. Each column represents one month, with rows representing the days of the month from 1 to 31."
   ]
  },
  {
   "cell_type": "code",
   "execution_count": null,
   "metadata": {
    "colab": {
     "base_uri": "https://localhost:8080/",
     "height": 628
    },
    "colab_type": "code",
    "id": "cgxqmPPmSlLC",
    "outputId": "b8ecf16a-e378-4fa0-bc6c-2de5fce988ae"
   },
   "outputs": [],
   "source": [
    "# muestra un mapa de calor con\n",
    "# columnas son meses\n",
    "# filas son días del mes"
   ]
  },
  {
   "cell_type": "markdown",
   "metadata": {
    "colab_type": "text",
    "id": "NzOPpoxqSlLF"
   },
   "source": [
    "Running the example shows the same macro trend seen for each year on the zoomed level of month-to-month.\n",
    "\n",
    "We can also see some white patches at the bottom of the plot. This is missing data for those months that have fewer than 31 days, with February being quite an outlier with 28 days in 1990."
   ]
  },
  {
   "cell_type": "markdown",
   "metadata": {
    "colab_type": "text",
    "id": "fXj1oTNNSlLF"
   },
   "source": [
    "# 5. Time Series Lag Scatter Plots\n",
    "\n",
    "Time series modeling assumes a relationship between an observation and the previous observation.\n",
    "\n",
    "Previous observations in a time series are called lags, with the observation at the previous time step called lag1, the observation at two time steps ago lag2, and so on.\n",
    "\n",
    "A useful type of plot to explore the relationship between each observation and a lag of that observation is called the scatter plot.\n",
    "\n",
    "Pandas has a built-in function for exactly this called the lag plot. It plots the observation at time t on the x-axis and the lag1 observation (t-1) on the y-axis.\n",
    "\n",
    "    If the points cluster along a diagonal line from the bottom-left to the top-right of the plot, it suggests a positive correlation relationship.\n",
    "    If the points cluster along a diagonal line from the top-left to the bottom-right, it suggests a negative correlation relationship.\n",
    "    Either relationship is good as they can be modeled.\n",
    "\n",
    "More points tighter in to the diagonal line suggests a stronger relationship and more spread from the line suggests a weaker relationship.\n",
    "\n",
    "A ball in the middle or a spread across the plot suggests a weak or no relationship.\n",
    "\n",
    "Below is an example of a lag plot for the Minimum Daily Temperatures dataset."
   ]
  },
  {
   "cell_type": "code",
   "execution_count": null,
   "metadata": {
    "colab": {
     "base_uri": "https://localhost:8080/",
     "height": 279
    },
    "colab_type": "code",
    "id": "5kWuddaQSlLG",
    "outputId": "ab64a719-0e57-40ae-e821-682caa283c11"
   },
   "outputs": [],
   "source": [
    "# haz un scatterplot de y(t) vs y(t+1)"
   ]
  },
  {
   "cell_type": "markdown",
   "metadata": {
    "colab_type": "text",
    "id": "MWyhbfXlSlLH"
   },
   "source": [
    "We can repeat this process for an observation and any lag values. Perhaps with the observation at the same time last week, last month, or last year, or any other domain-specific knowledge we may wish to explore.\n",
    "\n",
    "For example, we can create a scatter plot for the observation with each value in the previous seven days. Below is an example of this for the Minimum Daily Temperatures dataset.\n",
    "\n",
    "First, a new DataFrame is created with the lag values as new columns. The columns are named appropriately. Then a new subplot is created that plots each observation with a different lag value."
   ]
  },
  {
   "cell_type": "code",
   "execution_count": 3,
   "metadata": {
    "colab": {
     "base_uri": "https://localhost:8080/",
     "height": 281
    },
    "colab_type": "code",
    "id": "WelC_801SlLI",
    "outputId": "f5eb2299-ca85-4d6b-b2c0-2ba067e57666"
   },
   "outputs": [
    {
     "data": {
      "text/plain": [
       "'\\nfrom pandas import read_csv\\nfrom pandas import DataFrame\\nfrom pandas import concat\\nfrom matplotlib import pyplot\\nfrom pandas.plotting import scatter_matrix\\n\\n'"
      ]
     },
     "execution_count": 3,
     "metadata": {},
     "output_type": "execute_result"
    }
   ],
   "source": [
    "# vamos a ver la importancia del print para depurar\n",
    "# este apartado lo resolvemos en clase todos juntos\n",
    "'''\n",
    "from pandas import read_csv\n",
    "from pandas import DataFrame\n",
    "from pandas import concat\n",
    "from matplotlib import pyplot\n",
    "from pandas.plotting import scatter_matrix\n",
    "\n",
    "'''\n"
   ]
  },
  {
   "cell_type": "markdown",
   "metadata": {
    "colab_type": "text",
    "id": "LxXTI7N1SlLJ"
   },
   "source": [
    "# 6. Time Series Autocorrelation Plots\n",
    "\n",
    "We can quantify the strength and type of relationship between observations and their lags.\n",
    "\n",
    "In statistics, this is called correlation, and when calculated against lag values in time series, it is called autocorrelation (self-correlation).\n",
    "\n",
    "A correlation value calculated between two groups of numbers, such as observations and their lag1 values, results in a number between -1 and 1. The sign of this number indicates a negative or positive correlation respectively. A value close to zero suggests a weak correlation, whereas a value closer to -1 or 1 indicates a strong correlation.\n",
    "\n",
    "Correlation values, called correlation coefficients, can be calculated for each observation and different lag values. Once calculated, a plot can be created to help better understand how this relationship changes over the lag.\n",
    "\n",
    "This type of plot is called an autocorrelation plot and Pandas provides this capability built in, called the autocorrelation_plot() function.\n",
    "\n",
    "The example below creates an autocorrelation plot for the Minimum Daily Temperatures "
   ]
  },
  {
   "cell_type": "code",
   "execution_count": null,
   "metadata": {
    "colab": {
     "base_uri": "https://localhost:8080/",
     "height": 283
    },
    "colab_type": "code",
    "id": "i1EOtEUlSlLK",
    "outputId": "e77bd33b-0950-4e20-fb44-40df1c107c2e"
   },
   "outputs": [],
   "source": [
    "\n",
    "# create an autocorrelation plot"
   ]
  },
  {
   "cell_type": "markdown",
   "metadata": {
    "colab_type": "text",
    "id": "iQdjTqlGSlLL"
   },
   "source": [
    "The resulting plot shows lag along the x-axis and the correlation on the y-axis. Dotted lines are provided that indicate any correlation values above those lines are statistically significant (meaningful).\n",
    "\n",
    "We can see that for the Minimum Daily Temperatures dataset we see cycles of strong negative and positive correlation. This captures the relationship of an observation with past observations in the same and opposite seasons or times of year. Sine waves like those seen in this example are a strong sign of seasonality in the dataset."
   ]
  },
  {
   "cell_type": "code",
   "execution_count": null,
   "metadata": {
    "colab": {},
    "colab_type": "code",
    "id": "HGJS4IpPdk_-"
   },
   "outputs": [],
   "source": []
  }
 ],
 "metadata": {
  "colab": {
   "name": "3-Ejercicios-TimeSeries.ipynb",
   "provenance": []
  },
  "kernelspec": {
   "display_name": "Python 3",
   "language": "python",
   "name": "python3"
  },
  "language_info": {
   "codemirror_mode": {
    "name": "ipython",
    "version": 3
   },
   "file_extension": ".py",
   "mimetype": "text/x-python",
   "name": "python",
   "nbconvert_exporter": "python",
   "pygments_lexer": "ipython3",
   "version": "3.7.4"
  }
 },
 "nbformat": 4,
 "nbformat_minor": 4
}
