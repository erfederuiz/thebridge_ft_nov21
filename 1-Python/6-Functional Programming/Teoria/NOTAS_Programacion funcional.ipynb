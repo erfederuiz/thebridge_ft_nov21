{
 "cells": [
  {
   "cell_type": "markdown",
   "metadata": {},
   "source": [
    "![imagen](./img/python.jpg)\n",
    "\n",
    "# Programación funcional\n",
    "\n",
    "En programación hay varios tipos de lenguajes. Como vimos en Notebooks anteriores, **Python es un lenguaje de programación orientado a objetos**. No obstante, es bastante versatil y **admite** otras funcionalidades propias de otros lenguajes, como es la **programación funcional**. En este Notebook verás qué utilidad tiene este tipo de programación, y cómo usarla en Python.\n",
    "\n",
    "1. [Programacion funcional](#1.-Programacion-funcional)\n",
    "2. [Funcion lambda](#2.-Funcion-lambda)\n",
    "3. [Map](#3.-Map)\n",
    "4. [Reduce](#4.-Reduce)\n",
    "5. [Filter](#5.-Filter)\n",
    "6. [Timeit](#6.-Timeit)\n",
    "7. [Programacion funcional en Pandas](#7.-Programacion-funcional-en-Pandas)\n",
    "8. [Resumen](#8.-Resumen)\n"
   ]
  },
  {
   "cell_type": "markdown",
   "metadata": {},
   "source": [
    "## 1. Programacion funcional\n",
    "Dependiendo del problema que queramos resolver, utilizaremos un tipo de lenguaje de programación u otro. Veamos la diferencia entre un lenguaje de programación orientado a objetos y uno funcional:\n",
    "* **Programación Orientada a Objetos (OOP)**: sería el caso de Python. En este caso se encapsulan todos los elementos del programa en objetos, que son de cierto tipo, **tienen un estado**, atributos y funcionalidades. Lenguajes orientados a objetos son Java, Python, JavaScript, Ruby... entre otros.\n",
    "\n",
    "* **Programación Funcional**: El programa se divide en un conjunto de funciones. Por tanto, es un entrada/salida continuo, ya que las funciones tienen un *input*, realizan operaciones, y después un *output*. Son lenguajes que ofrecen un buen rendimiento pero difíciles de desarrollar ya que hay que acudir mucho a la recursividad. Algunos de los lenguajes más usados son [Clojure](https://clojure.org) o [Scala](https://www.scala-lang.org).\n",
    "\n",
    "Por tanto, ¿Python que es? ¿Es orientado a objetos...? ¿Es funcinal? **Python es orientado a objetos, pero además cuenta con ciertas funciones *built-in* propias de la programación funcional**, como `map` o `filter`, lo que nos va a aportar nuevas maneras de solventar problemas en nuestro programa, además de mejoras en rendimiento.\n",
    "\n",
    "Como ves, Python nos va a permitir usar todas sus funcionalidades propias como lenguaje orientado a objetos que es, y además la posibilidad de combinarlas con otro tipo de programación, como es la funcional.\n",
    "\n",
    "\n",
    "¿Cómo podemos iterar sobre una lista y calcular la suma de sus elementos?"
   ]
  },
  {
   "cell_type": "code",
   "execution_count": null,
   "metadata": {},
   "outputs": [],
   "source": [
    "lista = [1,2,3,4,5]\n",
    "\n",
    "suma = 0\n",
    "for i in lista:\n",
    "    suma += i\n",
    "suma\n",
    "\n",
    "#a = a + b   a += b\n",
    "#a = a - b   a -= b\n",
    "#a = a * b   a *= b\n",
    "#a = a / b   a /= b\n",
    "#a = a % b   a %= b\n"
   ]
  },
  {
   "cell_type": "markdown",
   "metadata": {},
   "source": [
    "Aparte de la función *built-in* de Python `sum()`, tenemos también la opción de la recursividad, con la que no usamos bucles, y únicamente realizamos operaciones mediante funciones."
   ]
  },
  {
   "cell_type": "code",
   "execution_count": null,
   "metadata": {},
   "outputs": [],
   "source": [
    "lista = [1,2,3]\n",
    "def suma_fun(lista):\n",
    "    \n",
    "    if len(lista) == 0:\n",
    "        return 0\n",
    "    \n",
    "    return lista[0] + suma_fun(lista[1:])\n",
    "\n",
    "suma_fun(lista)\n",
    "\n",
    "#La ventaja de esta aproximación es que no se usan variables para almacenar los resultados intermedios"
   ]
  },
  {
   "cell_type": "markdown",
   "metadata": {},
   "source": [
    "1 + [2, 3]<br>\n",
    "2 + [3]<br>\n",
    "3 + [ ]<br>\n",
    "\n",
    "6"
   ]
  },
  {
   "cell_type": "markdown",
   "metadata": {},
   "source": [
    "La principal diferecia radica en **el estado**. En el caso del `for` tenemos un programa que va cambiando su estado, debido a las diferentes variables que toman `suma` e `i`. Sin embargo, en el segundo ejemplo no hay estados. Son funciones que llaman a otras, tienen un *input* y un *output*. Lo veremos más en detalle en el Notebook."
   ]
  },
  {
   "cell_type": "markdown",
   "metadata": {},
   "source": [
    "## 2. Funcion lambda\n",
    "Recuerda cómo era la sintaxis para crear funciones:\n",
    "```Python\n",
    "def nombre_funcion(argumentos):\n",
    "    cosas de la funcion\n",
    "    return output\n",
    "```\n",
    "Una función tiene un nombre, unos parámetros de entrada, operaciones dentro y un output. En este apartado se presenta una nueva manera más ágil de crear funciones, gracias a la sentencia `lambda`. Con `lambda` podrás crear funciones sencillas y de una única expresión.\n",
    "\n",
    "Las funciones `lambda` **son anónimas**, no tienen un nombre que las identifique, simplemente se ejecuta el código de la función que declaremos. \n",
    "\n",
    "La sintaxis de una función `lambda` es:\n",
    "```Python\n",
    "lambda argumentos: expresion\n",
    "```\n",
    "\n",
    "Veamos un ejemplo"
   ]
  },
  {
   "cell_type": "code",
   "execution_count": 5,
   "metadata": {},
   "outputs": [
    {
     "name": "stdout",
     "output_type": "stream",
     "text": [
      "<class 'function'>\n"
     ]
    },
    {
     "data": {
      "text/plain": [
       "3"
      ]
     },
     "execution_count": 5,
     "metadata": {},
     "output_type": "execute_result"
    }
   ],
   "source": [
    "# Declaramos funcion\n",
    "def suma(x, y):\n",
    "    return x + y\n",
    "# Guardamos en variable\n",
    "# En Pythontutor se ve como se crea una referencia desde suma_var al objeto suma(x, y) en memoria\n",
    "suma_var = suma\n",
    "\n",
    "#Si llamramos a la función con paréntesis se ejecutaría y almacenaría el resultado en una variable\n",
    "#suma_var = suma(1, 2)\n",
    "\n",
    "# Vemos el tipo\n",
    "print(type(suma_var))\n",
    "\n",
    "# Usamos la funcion\n",
    "suma_var(1, 2)"
   ]
  },
  {
   "cell_type": "markdown",
   "metadata": {},
   "source": [
    "Como ves, las funciones son un objeto más, que podemos asignar a una variable. Veamos ahora cómo traducimos esto a una función `lambda`"
   ]
  },
  {
   "cell_type": "code",
   "execution_count": 6,
   "metadata": {},
   "outputs": [
    {
     "data": {
      "text/plain": [
       "<function __main__.<lambda>(x, y)>"
      ]
     },
     "execution_count": 6,
     "metadata": {},
     "output_type": "execute_result"
    }
   ],
   "source": [
    "lambda x, y : x + y"
   ]
  },
  {
   "cell_type": "code",
   "execution_count": 7,
   "metadata": {},
   "outputs": [
    {
     "data": {
      "text/plain": [
       "12"
      ]
     },
     "execution_count": 7,
     "metadata": {},
     "output_type": "execute_result"
    }
   ],
   "source": [
    "# Si la asignamos a una variable\n",
    "suma_lambda = lambda x, y : x + y\n",
    "suma_lambda(5, 7)"
   ]
  },
  {
   "cell_type": "markdown",
   "metadata": {},
   "source": [
    "Las funciones `lambda` no se usan solas, sino que son argumentos de funciones de más alto nivel, es decir, funciones cuyos parámetros de entrada son otras funciones, como `map`, `reduce` o `filter`.\n",
    "\n",
    "Las `lambdas` también pueden ser una buena manera de escribir código más entendible. Veamos un ejemplo en el que trabajamos con coordenadas."
   ]
  },
  {
   "cell_type": "code",
   "execution_count": 8,
   "metadata": {},
   "outputs": [
    {
     "name": "stdout",
     "output_type": "stream",
     "text": [
      "(40.4440297, -3.6956047)\n",
      "(40.4585318, -3.684715)\n"
     ]
    }
   ],
   "source": [
    "estaciones = ((40.4440297, -3.6956047), (40.4585318, -3.684715))\n",
    "\n",
    "inicio = lambda x: x[0]\n",
    "fin = lambda x: x[1]\n",
    "\n",
    "print(inicio(estaciones))\n",
    "print(fin(estaciones))"
   ]
  },
  {
   "cell_type": "code",
   "execution_count": 11,
   "metadata": {},
   "outputs": [
    {
     "name": "stdout",
     "output_type": "stream",
     "text": [
      "40.4440297\n",
      "-3.6956047\n",
      "40.4440297\n",
      "-3.6956047\n"
     ]
    }
   ],
   "source": [
    "lat = lambda x: x[0]\n",
    "lon = lambda x: x[1]\n",
    "\n",
    "print(lat(inicio(estaciones)))\n",
    "print(lon(inicio(estaciones)))\n",
    "\n",
    "#Se podrían usar las funciones inicio, fin originales \n",
    "print(inicio(inicio(estaciones)))\n",
    "print(fin(inicio(estaciones)))"
   ]
  },
  {
   "cell_type": "markdown",
   "metadata": {},
   "source": [
    "<table align=\"left\">\n",
    " <tr><td width=\"80\"><img src=\"./img/ejercicio.png\" style=\"width:auto;height:auto\"></td>\n",
    "     <td style=\"text-align:left\">\n",
    "         <h3>Trabajando con lambda</h3>\n",
    "         \n",
    "<ol>\n",
    "    <li>Crea una función lambda con tres argumentos, y que multiplique los tres </li>\n",
    "    <li>Crea otra función lambda con un único argumento y que calcule la raíz cuadrada del mismo.</li>\n",
    "</ol>\n",
    "         \n",
    " </td></tr>\n",
    "</table>"
   ]
  },
  {
   "cell_type": "code",
   "execution_count": 13,
   "metadata": {},
   "outputs": [
    {
     "name": "stdout",
     "output_type": "stream",
     "text": [
      "6\n",
      "4\n"
     ]
    }
   ],
   "source": [
    "multi3 = lambda x,y,z : x * y * z\n",
    "cuadrado = lambda x : x ** x\n",
    "\n",
    "print(multi3(1,2,3))\n",
    "print(cuadrado(2))"
   ]
  },
  {
   "cell_type": "code",
   "execution_count": 14,
   "metadata": {},
   "outputs": [],
   "source": [
    "# 3 ** 2 --> al cuadrado\n",
    "# 3 ** (1/2) --> raiz cuadrada de 3\n",
    "# 3 ** 0.5 --> raiz cuadrada de 3\n",
    "# 4 ** (1/3) --> raiz cúbica de 4\n",
    "# 4 ** -2 -->  1 / (4 ** 2)\n",
    "# 4 ** -3 -->  1 / (4 ** 3)\n",
    "# 4 ** (2/3) --> 4 ** (2 * 1/3) --> raiz cúbica de (4 ** 2)"
   ]
  },
  {
   "cell_type": "code",
   "execution_count": 15,
   "metadata": {},
   "outputs": [
    {
     "data": {
      "text/plain": [
       "5.0"
      ]
     },
     "execution_count": 15,
     "metadata": {},
     "output_type": "execute_result"
    }
   ],
   "source": [
    "import math\n",
    "raiz = lambda x : math.sqrt(x)\n",
    "\n",
    "raiz(25)"
   ]
  },
  {
   "cell_type": "markdown",
   "metadata": {},
   "source": [
    "## 3. Map\n",
    "Se trata de una función *built-in* que tiene dos argumentos. Unos es una función, y el otro un iterable, que puede ser una lista, tupla, string... **Lo que hace es aplicarle la función a cada uno de los argumentos del iterable**. Mapea cada valor del iterable, le aplica una operación, y crea un nuevo iterable al que le ha aplicado dicha operación.\n",
    "\n",
    "Su sintaxis es:\n",
    "```Python\n",
    "map(funcion, iterable)\n",
    "```\n",
    "\n",
    "Se trata de una manera de sustituir la funcionalidad de los bucles. Muy útil cuando queramos aplicar operaciones a una lista entera."
   ]
  },
  {
   "cell_type": "code",
   "execution_count": 21,
   "metadata": {},
   "outputs": [
    {
     "name": "stdout",
     "output_type": "stream",
     "text": [
      "<map object at 0x000002036A41E6C8>\n",
      "<class 'map'>\n",
      "[3, 7, 6, 8, 13]\n"
     ]
    }
   ],
   "source": [
    "my_list = [1,5,4,6,11]\n",
    "\n",
    "#my_list + 2 NO\n",
    "\n",
    "new_list = map(lambda x : x + 2, my_list)\n",
    "print(new_list)\n",
    "print(type(new_list))\n",
    "print(list(new_list))"
   ]
  },
  {
   "cell_type": "markdown",
   "metadata": {},
   "source": [
    "Fíjate que la función `map` devuelve un *map object*, que no es más que un iterable, convertible fácilmente a una lista. Como ves, de momento aplicaremos una función `lambda` con una única expresión, pero más adelante verás cómo puedes aplicarle tus propias funciones más complejas.\n",
    "\n",
    "Veamos otro ejemplo con operaciones diferentes"
   ]
  },
  {
   "cell_type": "code",
   "execution_count": 22,
   "metadata": {},
   "outputs": [
    {
     "name": "stdout",
     "output_type": "stream",
     "text": [
      "[False, True, False, False]\n"
     ]
    }
   ],
   "source": [
    "my_list = (True, False, True, True)\n",
    "\n",
    "new_list = map(lambda x: not x, my_list)\n",
    "\n",
    "print(list(new_list))"
   ]
  },
  {
   "cell_type": "markdown",
   "metadata": {},
   "source": [
    "`map` trabaja con iterables, por lo que también será posible aplicarle un `map` a un string."
   ]
  },
  {
   "cell_type": "code",
   "execution_count": 31,
   "metadata": {},
   "outputs": [
    {
     "name": "stdout",
     "output_type": "stream",
     "text": [
      "('W-AAA', 'W-BBB', 'W-CCC')\n",
      "('AW-AW-A', 'BW-BW-B', 'CW-CW-C')\n",
      "('WAAA-', 'WBBB-', 'WCCC-')\n"
     ]
    }
   ],
   "source": [
    "my_list = (\"AAA\", \"BBB\", \"CCC\")\n",
    "\n",
    "modif_tupla1 = map(lambda x : 'W-' + x, my_list)\n",
    "print(tuple(modif_tupla1))\n",
    "\n",
    "modif_tupla2 = map(lambda x : 'W-'.join(x), my_list)\n",
    "print(tuple(modif_tupla2))\n",
    "\n",
    "modif_tupla3 = map(lambda x : x.join('W-'), my_list)\n",
    "print(tuple(modif_tupla3))"
   ]
  },
  {
   "cell_type": "markdown",
   "metadata": {},
   "source": [
    "Puedes incluso separar la función `lambda`, para posteriormente usarla en otros lugares."
   ]
  },
  {
   "cell_type": "code",
   "execution_count": null,
   "metadata": {},
   "outputs": [],
   "source": [
    "my_list = (\"AAA\", \"BBB\", \"CCC\")\n",
    "\n"
   ]
  },
  {
   "cell_type": "markdown",
   "metadata": {},
   "source": [
    "**Incluso podrás aplicar tus propias funciones**. Imagina la versatilidad que te da esto. Dentro de cada función podrás realizar el cálculo que quieras, y ese calculo se le aplicará a cada elemento de tu iterable."
   ]
  },
  {
   "cell_type": "code",
   "execution_count": 32,
   "metadata": {},
   "outputs": [
    {
     "name": "stdout",
     "output_type": "stream",
     "text": [
      "('W-AAA', 'W-BBB', 'W-CCC')\n"
     ]
    }
   ],
   "source": [
    "my_list = (\"AAA\", \"BBB\", \"CCC\")\n",
    "def aniade_w(x):\n",
    "    return \"W-\" + x\n",
    "\n",
    "new_list = map(aniade_w, my_list)\n",
    "print(tuple(new_list))\n"
   ]
  },
  {
   "cell_type": "markdown",
   "metadata": {},
   "source": [
    "`map` también trabaja con funciones con varios argumentos, lo único que hay que hacer es añadirle un argumento más al `map`. Y esto es aplicable a *n* argumentos. Podría darse el caso en el que alguno de los iterables tenga menores dimensiones que el resto. Si ocurre eso, se aplicará el `map` hasta el iterable con la mínima longitud."
   ]
  },
  {
   "cell_type": "code",
   "execution_count": 41,
   "metadata": {},
   "outputs": [
    {
     "name": "stdout",
     "output_type": "stream",
     "text": [
      "range no devuleve una lista sino un rango !!!\n",
      "<class 'range'>\n",
      "[1, 2, 3, 4, 5, 6]\n",
      "[3.6, 5.58, 4.009, 56.2424, 9.01344, 32.00013]\n"
     ]
    }
   ],
   "source": [
    "circle_areas = [3.56773, 5.57668, 4.00914, 56.24241, 9.01344, 32.00013]\n",
    "\n",
    "decimales = range(1,7)\n",
    "print(\"range no devuleve una lista sino un rango !!!\")\n",
    "print(type(decimales))\n",
    "print(list(decimales))\n",
    "\n",
    "# round(numero decimal, cantidad de decimales)\n",
    "result = map(round, circle_areas, decimales)\n",
    "\n",
    "print(list(result))"
   ]
  },
  {
   "cell_type": "markdown",
   "metadata": {},
   "source": [
    "<table align=\"left\">\n",
    " <tr><td width=\"80\"><img src=\"./img/ejercicio.png\" style=\"width:auto;height:auto\"></td>\n",
    "     <td style=\"text-align:left\">\n",
    "         <h3>Trabajando con map</h3>\n",
    "         \n",
    "\n",
    "         \n",
    "<ol>\n",
    "    <li>Añádele \"W-\"a todas las claves del diccionario</li>\n",
    "    <li>Convierte todos los elementos de la tupla en enteros</li>\n",
    "</ol>\n",
    "         \n",
    " </td></tr>\n",
    "</table>"
   ]
  },
  {
   "cell_type": "code",
   "execution_count": 59,
   "metadata": {},
   "outputs": [],
   "source": [
    "my_dict = {\"a\": 1, \"b\": 2, \"c\": 3}\n",
    "my_list = ('1', '5', '4', '6', '8', '11', '3', '12')"
   ]
  },
  {
   "cell_type": "code",
   "execution_count": 155,
   "metadata": {},
   "outputs": [
    {
     "name": "stdout",
     "output_type": "stream",
     "text": [
      "1)\n",
      "{'W-a': 1, 'W-b': 2, 'W-c': 3}\n",
      "\n",
      "Al iterar sobre un diccionario se itera sobre las claves\n",
      "Hay que combinar keys y values para crear una tupla de tuplas\n",
      "{'W-a': 1, 'W-b': 2, 'W-c': 3}\n",
      "\n",
      "2)\n",
      "(1, 5, 4, 6, 8, 11, 3, 12)\n"
     ]
    }
   ],
   "source": [
    "print(f'1)')\n",
    "new_dict_for = {}\n",
    "for k,v in my_dict.items():\n",
    "    new_dict_for['W-' + k] = v\n",
    "print(new_dict_for)\n",
    "\n",
    "print(\"\\nAl iterar sobre un diccionario se itera sobre las claves\\nHay que combinar keys y values para crear una tupla de tuplas\")\n",
    "new_dict_map = map(lambda x, y : ('W-' + x, y), my_dict.keys(), my_dict.values())\n",
    "print(dict(new_dict_map))\n",
    "\n",
    "\n",
    "\n",
    "print(f'\\n2)')\n",
    "convert_tupla = map(lambda x : int(float(x)) ,my_list)\n",
    "print(tuple(convert_tupla))"
   ]
  },
  {
   "cell_type": "markdown",
   "metadata": {},
   "source": [
    "## 4. Reduce\n",
    "La función `reduce` no es *built-in* como tal, sino que está incorporada en el paquete de `functools`. Su nombre ya nos da alguna pista sobre lo que hace, **es una manera de agregar los datos**. Tiene esta sintaxis:\n",
    "\n",
    "```Python\n",
    "reduce(funcion, iterable[, initial]))\n",
    "```\n",
    "`reduce`, al igual que `map`, tiene dos argumentos. Uno de ellos es el iterable que vayamos a usar, y el otro es la lógica que le queramos aplicar al `reduce`. La función que se le aplica al reduce tiene dos argumentos, que son los dos primeros elementos del iterable. Tiene un tercer argumento que es opcional, y nos permite iniciar la operación con un valor. Lo veremos luego en un ejemplo.\n",
    "\n",
    "Si te fijas, `map` aplica la operación definida en la función a todos los elementos, devolviendo la misma lista, pero con los elementos transformados, mientras que **`reduce`, agrega todos los datos de la lista**.\n"
   ]
  },
  {
   "cell_type": "code",
   "execution_count": 83,
   "metadata": {},
   "outputs": [
    {
     "name": "stdout",
     "output_type": "stream",
     "text": [
      "17\n"
     ]
    }
   ],
   "source": [
    "from functools import reduce\n",
    "\n",
    "lista = [1,3,5,6,2]\n",
    "\n",
    "resultado = reduce(lambda x, y : x+y, lista)\n",
    "print(resultado)\n"
   ]
  },
  {
   "cell_type": "code",
   "execution_count": null,
   "metadata": {},
   "outputs": [],
   "source": []
  },
  {
   "cell_type": "markdown",
   "metadata": {},
   "source": [
    "`reduce` hay que entendero como si fuese una función recursiva. La función de dentro tiene dos argumentos que son los dos primeros elementos del iterable, y después al resultado de la suma de ambos, se le aplica la misma operación sobre el tercer elemento, y así hasta que acaba el iterable."
   ]
  },
  {
   "cell_type": "code",
   "execution_count": 92,
   "metadata": {},
   "outputs": [],
   "source": [
    "lista = [1,3,5,6,2]\n",
    "\n",
    "\n"
   ]
  },
  {
   "cell_type": "markdown",
   "metadata": {},
   "source": [
    "Realmente el `reduce` lleva un tercer argumento llamado `initializer`. Por defecto es `None`, pero si lo cambiamos, cuando llamemos a la función, su primer argumento será ese `initializer`. Por ejemplo, si estamos sumando toda una colección sería como si el primer elemento de la colección fuese el `initializer`."
   ]
  },
  {
   "cell_type": "code",
   "execution_count": 100,
   "metadata": {},
   "outputs": [
    {
     "name": "stdout",
     "output_type": "stream",
     "text": [
      "Cadena resultado: Hola me llamo Ralph\n"
     ]
    }
   ],
   "source": [
    "lista_strings = [\"Hola \", \" me\", \" llamo\", \" Ralph\"]\n",
    "\n",
    "resultado = reduce(lambda x, y : x.strip(' ') + ' ' + y.strip(' '), lista_strings, 'Cadena resultado:')\n",
    "print(resultado)"
   ]
  },
  {
   "cell_type": "markdown",
   "metadata": {},
   "source": [
    "<table align=\"left\">\n",
    " <tr><td width=\"80\"><img src=\"./img/ejercicio.png\" style=\"width:auto;height:auto\"></td>\n",
    "     <td style=\"text-align:left\">\n",
    "         <h3>Trabajando con reduce</h3>\n",
    "         \n",
    "Utiliza reduce para calcular el producto de todos los elementos de la siguiente tupla\n",
    "         \n",
    " </td></tr>\n",
    "</table>"
   ]
  },
  {
   "cell_type": "code",
   "execution_count": 90,
   "metadata": {},
   "outputs": [
    {
     "name": "stdout",
     "output_type": "stream",
     "text": [
      "40\n"
     ]
    }
   ],
   "source": [
    "lista = (2,5,4)\n",
    "\n",
    "resultado = reduce(lambda x, y : x*y, lista)\n",
    "print(resultado)"
   ]
  },
  {
   "cell_type": "markdown",
   "metadata": {},
   "source": [
    "## 5. Filter\n",
    "Con esta función *built-in* podremos **filtrar elementos de un iterable**. `filter` tiene la siguiente sintaxis:\n",
    "\n",
    "```Python\n",
    "filter(funcion, iterable)\n",
    "```\n",
    "\n",
    "Como ves, funciona muy parecido a map. La diferencia es que ahora la función que se le aplica tiene una salida estilo `True`/`False` **(lo que se conoce como máscara)**. Y con ese `True`/`False` se filtra el iterable, respetando sus posiciones. Por ejemplo\n",
    "\n",
    "```Python\n",
    "lista1 = [-1, 10, 23, -5, -10]\n",
    "```\n",
    "\n",
    "Si filtras los números positivos, te queda un array del tipo:\n",
    "\n",
    "```Python\n",
    "lista_bools = [False, True, True, False, False]\n",
    "```\n",
    "\n",
    "Y eso es lo que se le aplica a la lista, conservando únicamente los `True`:\n",
    "\n",
    "```Python\n",
    "lista_resultado = [10, 23]\n",
    "```\n",
    "\n",
    "A diferencia de `map`, **en `filter` sólo se usa un iterable**. Además, recuerda que en el argumento de la función, no sólo podrás usar `lambda`s, sino que podrás aplicar tus propias funciones. Ahora bien, ten en cuenta que **el output de esas funciones tiene que ser un `True`/`False`**.\n",
    "\n",
    "Veamos un ejemplo"
   ]
  },
  {
   "cell_type": "code",
   "execution_count": 102,
   "metadata": {},
   "outputs": [
    {
     "name": "stdout",
     "output_type": "stream",
     "text": [
      "<class 'filter'>\n",
      "[5, 6]\n"
     ]
    }
   ],
   "source": [
    "lista = [ 1 , 3, 5, 6, 2]\n",
    "\n",
    "filtrado = filter(lambda x : x >= 5 ,lista)\n",
    "\n",
    "print(type(filtrado))\n",
    "print(list(filtrado))\n"
   ]
  },
  {
   "cell_type": "markdown",
   "metadata": {},
   "source": [
    "O implementando nuestra propia función"
   ]
  },
  {
   "cell_type": "code",
   "execution_count": 103,
   "metadata": {},
   "outputs": [
    {
     "name": "stdout",
     "output_type": "stream",
     "text": [
      "<class 'filter'>\n",
      "[5, 6]\n"
     ]
    }
   ],
   "source": [
    "lista = [ 1 , 3, 5, 6, 2]\n",
    "\n",
    "def mas_cinco(x):\n",
    "    if x >= 5:\n",
    "        return True\n",
    "    \n",
    "    return False\n",
    "\n",
    "filtrado = filter(mas_cinco ,lista)\n",
    "\n",
    "print(type(filtrado))\n",
    "print(list(filtrado))"
   ]
  },
  {
   "cell_type": "markdown",
   "metadata": {},
   "source": [
    "Como ves, estas son otras formas más rápidas y elegantes de aplicar operaciones sobre colecciones."
   ]
  },
  {
   "cell_type": "markdown",
   "metadata": {},
   "source": [
    "<table align=\"left\">\n",
    " <tr><td width=\"80\"><img src=\"./img/ejercicio.png\" style=\"width:auto;height:auto\"></td>\n",
    "     <td style=\"text-align:left\">\n",
    "         <h3>Trabajando con filter</h3>\n",
    "         \n",
    "Utiliza filter para conseguir quedarte únicamente con los floats de la siguiente tupla.\n",
    "         \n",
    " </td></tr>\n",
    "</table>"
   ]
  },
  {
   "cell_type": "code",
   "execution_count": 122,
   "metadata": {},
   "outputs": [],
   "source": [
    "mis_nums = (1, 4., 10., 25, 67)"
   ]
  },
  {
   "cell_type": "code",
   "execution_count": 129,
   "metadata": {},
   "outputs": [
    {
     "name": "stdout",
     "output_type": "stream",
     "text": [
      "[4.0, 10.0]\n",
      "[4.0, 10.0]\n"
     ]
    }
   ],
   "source": [
    "filtrado1 = filter(lambda x : type(x) == float ,mis_nums)\n",
    "print(list(filtrado1))\n",
    "\n",
    "filtrado2 = filter(lambda x : isinstance(x, float) ,mis_nums)\n",
    "print(list(filtrado2))"
   ]
  },
  {
   "cell_type": "markdown",
   "metadata": {},
   "source": [
    "## 6. Timeit\n",
    "Para el bootcamp, y en general si vas a realizar una analítica descriptiva de datos, no suele ser crítico el rendimiento en tu programa. Imagina que has desarrollado un clasificador de movimientos bancarios tipo *Fintonic*. Estos algoritmos suelen ser muy pesados ya que hay que buscar en muchos strings y hacer varias comprobaciones. Aun así, has conseguido que te clasifique cada movimiento en 0,5 segundos. Que está muy bien. El problema es cuando un cliente tiene 1000 movimientos en una cuenta y tienes que clasificarlos todos aplicando tu clasificador mediante un bucle. El programa se te dispara a 250 segundos -> 4 minutos aprox, que estará el cliente esperando a que tu clasificador acabe... muchísimo. Con programación funcional mejora mucho la cosa ya que no hay que iterar.\n",
    "\n",
    "Por tanto, **cuando trabajes con muchos datos, ten en mente este tipo de funciones (`map`, `reduce`, `filter`) ya que la mejora en rendimiento es más que considerable.**"
   ]
  },
  {
   "cell_type": "code",
   "execution_count": 130,
   "metadata": {},
   "outputs": [],
   "source": [
    "num_elementos = 100000\n",
    "\n",
    "lista = list(range(num_elementos))"
   ]
  },
  {
   "cell_type": "code",
   "execution_count": 131,
   "metadata": {},
   "outputs": [
    {
     "name": "stdout",
     "output_type": "stream",
     "text": [
      "8.74 ms ± 465 µs per loop (mean ± std. dev. of 7 runs, 100 loops each)\n"
     ]
    }
   ],
   "source": [
    "%%timeit\n",
    "\n",
    "lista_output = []\n",
    "for i in lista:\n",
    "    lista_output.append(i + 5)"
   ]
  },
  {
   "cell_type": "code",
   "execution_count": 132,
   "metadata": {},
   "outputs": [
    {
     "name": "stdout",
     "output_type": "stream",
     "text": [
      "242 ns ± 53.5 ns per loop (mean ± std. dev. of 7 runs, 1000000 loops each)\n"
     ]
    }
   ],
   "source": [
    "%%timeit\n",
    "\n",
    "lista_output = map(lambda x: x + 5, lista)"
   ]
  },
  {
   "cell_type": "markdown",
   "metadata": {},
   "source": [
    "Como ves, pasamos de milisegundos a nanosegundos."
   ]
  },
  {
   "cell_type": "markdown",
   "metadata": {},
   "source": [
    "## 7. Programacion funcional en Pandas\n",
    "La programación funcional resulta muy útil cuando queremos aplicar operaciones a cada elemento de una columna. Para ello utilizamos la función de pandas `apply`.\n",
    "\n",
    "Imaginemos que tenemos un DataFrame de temperaturas"
   ]
  },
  {
   "cell_type": "code",
   "execution_count": 127,
   "metadata": {},
   "outputs": [],
   "source": [
    "import pandas as pd\n",
    "\n",
    "weather = pd.DataFrame({\"temperatura\": [20, 15, 34, 4, 1, 25, 21, 29, 40]})"
   ]
  },
  {
   "cell_type": "code",
   "execution_count": 133,
   "metadata": {},
   "outputs": [
    {
     "data": {
      "text/html": [
       "<div>\n",
       "<style scoped>\n",
       "    .dataframe tbody tr th:only-of-type {\n",
       "        vertical-align: middle;\n",
       "    }\n",
       "\n",
       "    .dataframe tbody tr th {\n",
       "        vertical-align: top;\n",
       "    }\n",
       "\n",
       "    .dataframe thead th {\n",
       "        text-align: right;\n",
       "    }\n",
       "</style>\n",
       "<table border=\"1\" class=\"dataframe\">\n",
       "  <thead>\n",
       "    <tr style=\"text-align: right;\">\n",
       "      <th></th>\n",
       "      <th>temperatura</th>\n",
       "    </tr>\n",
       "  </thead>\n",
       "  <tbody>\n",
       "    <tr>\n",
       "      <th>0</th>\n",
       "      <td>20</td>\n",
       "    </tr>\n",
       "    <tr>\n",
       "      <th>1</th>\n",
       "      <td>15</td>\n",
       "    </tr>\n",
       "    <tr>\n",
       "      <th>2</th>\n",
       "      <td>34</td>\n",
       "    </tr>\n",
       "    <tr>\n",
       "      <th>3</th>\n",
       "      <td>4</td>\n",
       "    </tr>\n",
       "    <tr>\n",
       "      <th>4</th>\n",
       "      <td>1</td>\n",
       "    </tr>\n",
       "    <tr>\n",
       "      <th>5</th>\n",
       "      <td>25</td>\n",
       "    </tr>\n",
       "    <tr>\n",
       "      <th>6</th>\n",
       "      <td>21</td>\n",
       "    </tr>\n",
       "    <tr>\n",
       "      <th>7</th>\n",
       "      <td>29</td>\n",
       "    </tr>\n",
       "    <tr>\n",
       "      <th>8</th>\n",
       "      <td>40</td>\n",
       "    </tr>\n",
       "  </tbody>\n",
       "</table>\n",
       "</div>"
      ],
      "text/plain": [
       "   temperatura\n",
       "0           20\n",
       "1           15\n",
       "2           34\n",
       "3            4\n",
       "4            1\n",
       "5           25\n",
       "6           21\n",
       "7           29\n",
       "8           40"
      ]
     },
     "execution_count": 133,
     "metadata": {},
     "output_type": "execute_result"
    }
   ],
   "source": [
    "weather"
   ]
  },
  {
   "cell_type": "markdown",
   "metadata": {},
   "source": [
    "Si quiero calcular una nueva variable que me indique si estoy en verano o invierno, aplicamos una función personalizada mediante `apply`. Para ello primero me defino la función"
   ]
  },
  {
   "cell_type": "code",
   "execution_count": 136,
   "metadata": {},
   "outputs": [
    {
     "data": {
      "text/html": [
       "<div>\n",
       "<style scoped>\n",
       "    .dataframe tbody tr th:only-of-type {\n",
       "        vertical-align: middle;\n",
       "    }\n",
       "\n",
       "    .dataframe tbody tr th {\n",
       "        vertical-align: top;\n",
       "    }\n",
       "\n",
       "    .dataframe thead th {\n",
       "        text-align: right;\n",
       "    }\n",
       "</style>\n",
       "<table border=\"1\" class=\"dataframe\">\n",
       "  <thead>\n",
       "    <tr style=\"text-align: right;\">\n",
       "      <th></th>\n",
       "      <th>temperatura</th>\n",
       "      <th>season</th>\n",
       "    </tr>\n",
       "  </thead>\n",
       "  <tbody>\n",
       "    <tr>\n",
       "      <th>0</th>\n",
       "      <td>20</td>\n",
       "      <td>Otra</td>\n",
       "    </tr>\n",
       "    <tr>\n",
       "      <th>1</th>\n",
       "      <td>15</td>\n",
       "      <td>Otra</td>\n",
       "    </tr>\n",
       "    <tr>\n",
       "      <th>2</th>\n",
       "      <td>34</td>\n",
       "      <td>Verano</td>\n",
       "    </tr>\n",
       "    <tr>\n",
       "      <th>3</th>\n",
       "      <td>4</td>\n",
       "      <td>Invierno</td>\n",
       "    </tr>\n",
       "    <tr>\n",
       "      <th>4</th>\n",
       "      <td>1</td>\n",
       "      <td>Invierno</td>\n",
       "    </tr>\n",
       "    <tr>\n",
       "      <th>5</th>\n",
       "      <td>25</td>\n",
       "      <td>Otra</td>\n",
       "    </tr>\n",
       "    <tr>\n",
       "      <th>6</th>\n",
       "      <td>21</td>\n",
       "      <td>Otra</td>\n",
       "    </tr>\n",
       "    <tr>\n",
       "      <th>7</th>\n",
       "      <td>29</td>\n",
       "      <td>Otra</td>\n",
       "    </tr>\n",
       "    <tr>\n",
       "      <th>8</th>\n",
       "      <td>40</td>\n",
       "      <td>Verano</td>\n",
       "    </tr>\n",
       "  </tbody>\n",
       "</table>\n",
       "</div>"
      ],
      "text/plain": [
       "   temperatura    season\n",
       "0           20      Otra\n",
       "1           15      Otra\n",
       "2           34    Verano\n",
       "3            4  Invierno\n",
       "4            1  Invierno\n",
       "5           25      Otra\n",
       "6           21      Otra\n",
       "7           29      Otra\n",
       "8           40    Verano"
      ]
     },
     "execution_count": 136,
     "metadata": {},
     "output_type": "execute_result"
    }
   ],
   "source": [
    "def season(temp):\n",
    "    if temp < 5:\n",
    "        return \"Invierno\"\n",
    "    elif temp > 30:\n",
    "        return \"Verano\"\n",
    "    else:\n",
    "        return \"Otra\"\n",
    "\n",
    "#Añadimos una columna al DataFrame weather\n",
    "weather[\"season\"] = weather[\"temperatura\"].apply(season)\n",
    "weather"
   ]
  },
  {
   "cell_type": "markdown",
   "metadata": {},
   "source": [
    "Es posible también aplicar una función lambda"
   ]
  },
  {
   "cell_type": "code",
   "execution_count": 137,
   "metadata": {},
   "outputs": [
    {
     "data": {
      "text/html": [
       "<div>\n",
       "<style scoped>\n",
       "    .dataframe tbody tr th:only-of-type {\n",
       "        vertical-align: middle;\n",
       "    }\n",
       "\n",
       "    .dataframe tbody tr th {\n",
       "        vertical-align: top;\n",
       "    }\n",
       "\n",
       "    .dataframe thead th {\n",
       "        text-align: right;\n",
       "    }\n",
       "</style>\n",
       "<table border=\"1\" class=\"dataframe\">\n",
       "  <thead>\n",
       "    <tr style=\"text-align: right;\">\n",
       "      <th></th>\n",
       "      <th>temperatura</th>\n",
       "      <th>season</th>\n",
       "      <th>mas temperatura</th>\n",
       "    </tr>\n",
       "  </thead>\n",
       "  <tbody>\n",
       "    <tr>\n",
       "      <th>0</th>\n",
       "      <td>20</td>\n",
       "      <td>Otra</td>\n",
       "      <td>25</td>\n",
       "    </tr>\n",
       "    <tr>\n",
       "      <th>1</th>\n",
       "      <td>15</td>\n",
       "      <td>Otra</td>\n",
       "      <td>20</td>\n",
       "    </tr>\n",
       "    <tr>\n",
       "      <th>2</th>\n",
       "      <td>34</td>\n",
       "      <td>Verano</td>\n",
       "      <td>39</td>\n",
       "    </tr>\n",
       "    <tr>\n",
       "      <th>3</th>\n",
       "      <td>4</td>\n",
       "      <td>Invierno</td>\n",
       "      <td>9</td>\n",
       "    </tr>\n",
       "    <tr>\n",
       "      <th>4</th>\n",
       "      <td>1</td>\n",
       "      <td>Invierno</td>\n",
       "      <td>6</td>\n",
       "    </tr>\n",
       "    <tr>\n",
       "      <th>5</th>\n",
       "      <td>25</td>\n",
       "      <td>Otra</td>\n",
       "      <td>30</td>\n",
       "    </tr>\n",
       "    <tr>\n",
       "      <th>6</th>\n",
       "      <td>21</td>\n",
       "      <td>Otra</td>\n",
       "      <td>26</td>\n",
       "    </tr>\n",
       "    <tr>\n",
       "      <th>7</th>\n",
       "      <td>29</td>\n",
       "      <td>Otra</td>\n",
       "      <td>34</td>\n",
       "    </tr>\n",
       "    <tr>\n",
       "      <th>8</th>\n",
       "      <td>40</td>\n",
       "      <td>Verano</td>\n",
       "      <td>45</td>\n",
       "    </tr>\n",
       "  </tbody>\n",
       "</table>\n",
       "</div>"
      ],
      "text/plain": [
       "   temperatura    season  mas temperatura\n",
       "0           20      Otra               25\n",
       "1           15      Otra               20\n",
       "2           34    Verano               39\n",
       "3            4  Invierno                9\n",
       "4            1  Invierno                6\n",
       "5           25      Otra               30\n",
       "6           21      Otra               26\n",
       "7           29      Otra               34\n",
       "8           40    Verano               45"
      ]
     },
     "execution_count": 137,
     "metadata": {},
     "output_type": "execute_result"
    }
   ],
   "source": [
    "weather[\"mas temperatura\"] = weather[\"temperatura\"].apply(lambda x : x + 5)\n",
    "weather"
   ]
  },
  {
   "cell_type": "code",
   "execution_count": 141,
   "metadata": {},
   "outputs": [
    {
     "data": {
      "text/html": [
       "<div>\n",
       "<style scoped>\n",
       "    .dataframe tbody tr th:only-of-type {\n",
       "        vertical-align: middle;\n",
       "    }\n",
       "\n",
       "    .dataframe tbody tr th {\n",
       "        vertical-align: top;\n",
       "    }\n",
       "\n",
       "    .dataframe thead th {\n",
       "        text-align: right;\n",
       "    }\n",
       "</style>\n",
       "<table border=\"1\" class=\"dataframe\">\n",
       "  <thead>\n",
       "    <tr style=\"text-align: right;\">\n",
       "      <th></th>\n",
       "      <th>temperatura</th>\n",
       "      <th>season</th>\n",
       "      <th>mas temperatura</th>\n",
       "      <th>mas season</th>\n",
       "    </tr>\n",
       "  </thead>\n",
       "  <tbody>\n",
       "    <tr>\n",
       "      <th>0</th>\n",
       "      <td>20</td>\n",
       "      <td>Otra</td>\n",
       "      <td>25</td>\n",
       "      <td>Otra</td>\n",
       "    </tr>\n",
       "    <tr>\n",
       "      <th>1</th>\n",
       "      <td>15</td>\n",
       "      <td>Otra</td>\n",
       "      <td>20</td>\n",
       "      <td>Otra</td>\n",
       "    </tr>\n",
       "    <tr>\n",
       "      <th>2</th>\n",
       "      <td>34</td>\n",
       "      <td>Verano</td>\n",
       "      <td>39</td>\n",
       "      <td>Verano</td>\n",
       "    </tr>\n",
       "    <tr>\n",
       "      <th>3</th>\n",
       "      <td>4</td>\n",
       "      <td>Invierno</td>\n",
       "      <td>9</td>\n",
       "      <td>Invierno</td>\n",
       "    </tr>\n",
       "    <tr>\n",
       "      <th>4</th>\n",
       "      <td>1</td>\n",
       "      <td>Invierno</td>\n",
       "      <td>6</td>\n",
       "      <td>Invierno</td>\n",
       "    </tr>\n",
       "    <tr>\n",
       "      <th>5</th>\n",
       "      <td>25</td>\n",
       "      <td>Otra</td>\n",
       "      <td>30</td>\n",
       "      <td>Otra</td>\n",
       "    </tr>\n",
       "    <tr>\n",
       "      <th>6</th>\n",
       "      <td>21</td>\n",
       "      <td>Otra</td>\n",
       "      <td>26</td>\n",
       "      <td>Otra</td>\n",
       "    </tr>\n",
       "    <tr>\n",
       "      <th>7</th>\n",
       "      <td>29</td>\n",
       "      <td>Otra</td>\n",
       "      <td>34</td>\n",
       "      <td>Otra</td>\n",
       "    </tr>\n",
       "    <tr>\n",
       "      <th>8</th>\n",
       "      <td>40</td>\n",
       "      <td>Verano</td>\n",
       "      <td>45</td>\n",
       "      <td>Verano</td>\n",
       "    </tr>\n",
       "  </tbody>\n",
       "</table>\n",
       "</div>"
      ],
      "text/plain": [
       "   temperatura    season  mas temperatura mas season\n",
       "0           20      Otra               25       Otra\n",
       "1           15      Otra               20       Otra\n",
       "2           34    Verano               39     Verano\n",
       "3            4  Invierno                9   Invierno\n",
       "4            1  Invierno                6   Invierno\n",
       "5           25      Otra               30       Otra\n",
       "6           21      Otra               26       Otra\n",
       "7           29      Otra               34       Otra\n",
       "8           40    Verano               45     Verano"
      ]
     },
     "execution_count": 141,
     "metadata": {},
     "output_type": "execute_result"
    }
   ],
   "source": [
    "#Añadimos una columna al DataFrame weather\n",
    "weather[\"mas season\"] = weather[\"temperatura\"].apply(lambda x : \"Invierno\" if x < 5 else (\"Verano\" if x > 30  else \"Otra\"))\n",
    "\n",
    "\n",
    "weather"
   ]
  },
  {
   "cell_type": "markdown",
   "metadata": {},
   "source": [
    "## 8. Resumen\n",
    "Como habrás podido comprobar en este Notebook, y en lo vimos en recursividad, esta manera de programar es bastante diferente. Ya no entendemos el programa como un conjunto de variables o estados, sino como una serie de `input`/`output`. Lo bueno que tiene **Python es que combina la programación orientada a objetos con la programación funcional**, lo que le otorga una gran potencia."
   ]
  },
  {
   "cell_type": "code",
   "execution_count": null,
   "metadata": {},
   "outputs": [],
   "source": [
    "# Funciones lambda\n",
    "suma_lambda = lambda x, y: x + y\n",
    "print(suma_lambda(5, 7))\n",
    "\n",
    "\n",
    "# Funcion map\n",
    "my_list = [1, 5, 4, 6, 8, 11, 3, 12]\n",
    "new_list = map(lambda x: x + 2 , my_list)\n",
    "print(list(new_list))\n",
    "\n",
    "\n",
    "# Funcion reduce\n",
    "from functools import reduce\n",
    "lista = [ 1 , 3, 5, 6, 2]\n",
    "print(reduce(lambda a,b : a+b, lista)) \n",
    "\n",
    "\n",
    "# Filter\n",
    "lista = [ 1 , 3, 5, 6, 2]\n",
    "filtrado = filter(lambda x: x >= 5, lista)\n",
    "print(list(filtrado))"
   ]
  }
 ],
 "metadata": {
  "kernelspec": {
   "display_name": "Python 3 (ipykernel)",
   "language": "python",
   "name": "python3"
  },
  "language_info": {
   "codemirror_mode": {
    "name": "ipython",
    "version": 3
   },
   "file_extension": ".py",
   "mimetype": "text/x-python",
   "name": "python",
   "nbconvert_exporter": "python",
   "pygments_lexer": "ipython3",
   "version": "3.7.11"
  }
 },
 "nbformat": 4,
 "nbformat_minor": 4
}
