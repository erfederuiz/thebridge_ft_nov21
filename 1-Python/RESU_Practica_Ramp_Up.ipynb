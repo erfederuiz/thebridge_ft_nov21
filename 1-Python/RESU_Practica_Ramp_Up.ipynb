{
 "cells": [
  {
   "cell_type": "markdown",
   "metadata": {},
   "source": [
    "# Entrega Ramp Up\n"
   ]
  },
  {
   "cell_type": "markdown",
   "metadata": {},
   "source": [
    "## Ejercicio 1\n",
    "#### Crear un programa que calcule la cuota de una hipoteca\n",
    "\n",
    "Las cuotas hipotecarias se calculan utilizando la fórmula del interés frances. El objetivo del ejercicio es crear un programa que solicite al usuario los datos de su hipoteca (cantidad, intereses, y plazo en años) y le devuelva la cuota mensual a pagar\n",
    "\n",
    "La formula del interés frances es la siguiente:\n",
    "\\begin{align*}\n",
    "C=V \\frac{(1+i)^n i}{(1+i)^n -1}\n",
    "\\end{align*}\n",
    "\n",
    "\n",
    "    C = Cuota a pagar\n",
    "    V = Cantidad del préstamo hipotecario\n",
    "    i = tipo de interés del período\n",
    "    n = número de cuotas\n",
    "\n"
   ]
  },
  {
   "cell_type": "code",
   "execution_count": 1,
   "metadata": {},
   "outputs": [
    {
     "name": "stdin",
     "output_type": "stream",
     "text": [
      "introduce el total de la hipoteca \n",
      " 50000\n"
     ]
    },
    {
     "name": "stdout",
     "output_type": "stream",
     "text": [
      "<class 'str'>\n"
     ]
    },
    {
     "name": "stdin",
     "output_type": "stream",
     "text": [
      "How many years will you have the loan? \n",
      " 5\n",
      "Enter Interest Rate \n",
      " 7\n"
     ]
    },
    {
     "name": "stdout",
     "output_type": "stream",
     "text": [
      "The monthly mortgage payment is\n",
      " (990.06) \n"
     ]
    }
   ],
   "source": [
    "# Declares and asks for user to input loan amount. Then converts to float\n",
    "\n",
    "total_hipoteca = input (\"introduce el total de la hipoteca \\n\")\n",
    "print(type(total_hipoteca))\n",
    "total_hipoteca = float (total_hipoteca)\n",
    "\n",
    "# Declares and asks user to input number of payments in years. Then converts to float. Years * 12 to get\n",
    "#  total number of months\n",
    "meses = float(input('How many years will you have the loan? \\n')) *12\n",
    "\n",
    "# Declares and asks user to input interest rate. Then converts to float and input interest rate is /100/12\n",
    "interestRate = input('Enter Interest Rate \\n')\n",
    "interestRate = float(interestRate) / 100 / 12\n",
    "\n",
    "# Formula to calculate monthly payments\n",
    "cuota = total_hipoteca* (interestRate * (1 + interestRate) ** meses) / ((1 + interestRate) ** meses - 1)\n",
    "\n",
    "\n",
    "# Prints monthly payment on next line and reformat the string to a float using 2 decimal places\n",
    "\n",
    "print(\"The monthly mortgage payment is\\n (%.2f) \" % cuota)"
   ]
  },
  {
   "cell_type": "code",
   "execution_count": 1,
   "metadata": {},
   "outputs": [
    {
     "name": "stdout",
     "output_type": "stream",
     "text": [
      "introduce el total de la hipoteca \n",
      "300000\n",
      "<class 'str'>\n",
      "How many years will you have the loan? \n",
      "20\n",
      "Enter Interest Rate \n",
      "2\n",
      "The monthly mortgage payment is\n",
      " (1517.65) \n"
     ]
    }
   ],
   "source": [
    "# Declares and asks for user to input loan amount. Then converts to float\n",
    "\n",
    "total_hipoteca = input (\"introduce el total de la hipoteca \\n\")\n",
    "print(type(total_hipoteca))\n",
    "total_hipoteca = float (total_hipoteca)\n",
    "\n",
    "# Declares and asks user to input number of payments in years. Then converts to float. Years * 12 to get\n",
    "#  total number of months\n",
    "meses = float(input('How many years will you have the loan? \\n')) *12\n",
    "\n",
    "# Declares and asks user to input interest rate. Then converts to float and input interest rate is /100/12\n",
    "interestRate = input('Enter Interest Rate \\n')\n",
    "interestRate = float(interestRate) / 100 / 12\n",
    "\n",
    "# Formula to calculate monthly payments\n",
    "cuota = total_hipoteca* (interestRate * (1 + interestRate) ** meses) / ((1 + interestRate) ** meses - 1)\n",
    "\n",
    "\n",
    "# Prints monthly payment on next line and reformat the string to a float using 2 decimal places\n",
    "\n",
    "print(\"The monthly mortgage payment is\\n (%.2f) \" % cuota)"
   ]
  },
  {
   "cell_type": "markdown",
   "metadata": {},
   "source": [
    "## Ejercicio 2\n",
    "#### Crear un programa que calcule el plan de amortización\n",
    "\n",
    "El objetivo del ejercicio es crear un programa que solicite al usuario los datos de su hipoteca (cantidad, intereses, y plazo en años) y le devuelva el plan de amortización.\n",
    "\n",
    "En cada cuota se pagan intereses por el capital restante, y se devuelve capital hasta la cuota mensual. El capital restante ha de ser actualizado restandole el capital devuelto.\n",
    "\n",
    "Salida ejemplo:\n",
    "\n",
    "mes  cuota  intereses  principal  pendiente   \n",
    "\n",
    "0  758.89   450.00   308.89   179691.11 "
   ]
  },
  {
   "cell_type": "code",
   "execution_count": 2,
   "metadata": {},
   "outputs": [
    {
     "name": "stdout",
     "output_type": "stream",
     "text": [
      "mes  cuota  intereses  principal  pendiente\n",
      "0  990.06   291.67   698.39   49301.61 \n",
      "1  990.06   287.59   702.47   48599.14 \n",
      "2  990.06   283.49   706.56   47892.57 \n",
      "3  990.06   279.37   710.69   47181.89 \n",
      "4  990.06   275.23   714.83   46467.06 \n",
      "5  990.06   271.06   719.00   45748.05 \n",
      "6  990.06   266.86   723.20   45024.86 \n",
      "7  990.06   262.65   727.41   44297.44 \n",
      "8  990.06   258.40   731.66   43565.78 \n",
      "9  990.06   254.13   735.93   42829.86 \n",
      "10  990.06   249.84   740.22   42089.64 \n",
      "11  990.06   245.52   744.54   41345.10 \n",
      "12  990.06   241.18   748.88   40596.22 \n",
      "13  990.06   236.81   753.25   39842.97 \n",
      "14  990.06   232.42   757.64   39085.33 \n",
      "15  990.06   228.00   762.06   38323.27 \n",
      "16  990.06   223.55   766.51   37556.76 \n",
      "17  990.06   219.08   770.98   36785.78 \n",
      "18  990.06   214.58   775.48   36010.31 \n",
      "19  990.06   210.06   780.00   35230.31 \n",
      "20  990.06   205.51   784.55   34445.76 \n",
      "21  990.06   200.93   789.13   33656.63 \n",
      "22  990.06   196.33   793.73   32862.90 \n",
      "23  990.06   191.70   798.36   32064.54 \n",
      "24  990.06   187.04   803.02   31261.52 \n",
      "25  990.06   182.36   807.70   30453.82 \n",
      "26  990.06   177.65   812.41   29641.41 \n",
      "27  990.06   172.91   817.15   28824.26 \n",
      "28  990.06   168.14   821.92   28002.34 \n",
      "29  990.06   163.35   826.71   27175.63 \n",
      "30  990.06   158.52   831.54   26344.09 \n",
      "31  990.06   153.67   836.39   25507.71 \n",
      "32  990.06   148.79   841.26   24666.44 \n",
      "33  990.06   143.89   846.17   23820.27 \n",
      "34  990.06   138.95   851.11   22969.16 \n",
      "35  990.06   133.99   856.07   22113.09 \n",
      "36  990.06   128.99   861.07   21252.02 \n",
      "37  990.06   123.97   866.09   20385.93 \n",
      "38  990.06   118.92   871.14   19514.79 \n",
      "39  990.06   113.84   876.22   18638.56 \n",
      "40  990.06   108.72   881.33   17757.23 \n",
      "41  990.06   103.58   886.48   16870.75 \n",
      "42  990.06   98.41   891.65   15979.11 \n",
      "43  990.06   93.21   896.85   15082.26 \n",
      "44  990.06   87.98   902.08   14180.18 \n",
      "45  990.06   82.72   907.34   13272.84 \n",
      "46  990.06   77.42   912.64   12360.20 \n",
      "47  990.06   72.10   917.96   11442.24 \n",
      "48  990.06   66.75   923.31   10518.93 \n",
      "49  990.06   61.36   928.70   9590.23 \n",
      "50  990.06   55.94   934.12   8656.11 \n",
      "51  990.06   50.49   939.57   7716.55 \n",
      "52  990.06   45.01   945.05   6771.50 \n",
      "53  990.06   39.50   950.56   5820.94 \n",
      "54  990.06   33.96   956.10   4864.83 \n",
      "55  990.06   28.38   961.68   3903.15 \n",
      "56  990.06   22.77   967.29   2935.86 \n",
      "57  990.06   17.13   972.93   1962.93 \n",
      "58  990.06   11.45   978.61   984.32 \n",
      "59  990.06   5.74   984.32   0.00 \n"
     ]
    }
   ],
   "source": [
    "# tu codigo va aquí\n",
    "\n",
    "balance = total_hipoteca\n",
    "\n",
    "print (\"mes  cuota  intereses  principal  pendiente\")\n",
    "\n",
    "\n",
    "for i in range(int(meses)):\n",
    "    interest = balance * interestRate\n",
    "    principal = cuota - interest\n",
    "    balance = balance - principal \n",
    "    print (i,\" %.2f \"  % cuota, \" %.2f \"  %  interest, \" %.2f \"  % principal, \" %.2f \"  % balance)"
   ]
  },
  {
   "cell_type": "markdown",
   "metadata": {},
   "source": [
    "## Ejercicio 3\n",
    "#### Crear un programa que resuelva una ecuacción de segundo grado\n",
    "\n",
    "El objetivo del programa es resolver la ecuacción de sgundo grado \n",
    "\n",
    "\\begin{align*}\n",
    "ax^2+bx+c = 0\n",
    "\\end{align*}\n",
    "\n",
    "Pasando como parámetros los coeficientes de la ecuacción. La resolución de la ecuacción es la siguiente:\n",
    "\n",
    "\\begin{align*}\n",
    "x=\\frac{-b \\pm \\sqrt{b^2-4ac}}{2a}\n",
    "\\end{align*}\n",
    "\n",
    "Para realizar este programa tienes que utilizar el metodo sqrt() para calcular la raiz cuadrada. Para ello tienes que importar el módulo math. Así que tu programa debería empezar con ```ìmport math```\n"
   ]
  },
  {
   "cell_type": "code",
   "execution_count": null,
   "metadata": {},
   "outputs": [],
   "source": []
  },
  {
   "cell_type": "code",
   "execution_count": 3,
   "metadata": {},
   "outputs": [
    {
     "name": "stdout",
     "output_type": "stream",
     "text": [
      "This program finds the real solutions to a quadratic\n",
      "\n"
     ]
    },
    {
     "name": "stdin",
     "output_type": "stream",
     "text": [
      "Enter coefficient a:  5\n",
      "Enter coefficient b:  12\n",
      "Enter coefficient c:  3\n"
     ]
    },
    {
     "name": "stdout",
     "output_type": "stream",
     "text": [
      "\n",
      "The solutions are: -0.283484861008832 -2.1165151389911676\n"
     ]
    }
   ],
   "source": [
    "# tu codigo aqui. Tenemos que usar la funcion sqrt del módulo math\n",
    "\n",
    "\n",
    "import math  # Makes the math library available.\n",
    "\n",
    "print(\"This program finds the real solutions to a quadratic\")\n",
    "print()\n",
    "\n",
    "a = float(input(\"Enter coefficient a: \"))\n",
    "b = float(input(\"Enter coefficient b: \"))\n",
    "c = float(input(\"Enter coefficient c: \"))\n",
    "try:\n",
    "    discRoot = math.sqrt(b * b - 4 * a * c)\n",
    "    root1 = (-b + discRoot) / (2 * a)\n",
    "    root2 = (-b - discRoot) / (2 * a)\n",
    "except:\n",
    "    print(\"Raiz negativa\")\n",
    "\n",
    "print()\n",
    "print(\"The solutions are:\", root1, root2 )\n",
    "\n"
   ]
  },
  {
   "cell_type": "markdown",
   "metadata": {},
   "source": [
    "## Ejercicio 4\n",
    "#### Crear un programa que calcule el average\n",
    "\n",
    "El programa pedirá al usuario que introduzca numeros. En primer lugar le pedirá que indique cuantos números se quieren introducir, y enseñara un prompt para incluirlos, y calculará el average.\n",
    "\n"
   ]
  },
  {
   "cell_type": "code",
   "execution_count": 4,
   "metadata": {},
   "outputs": [
    {
     "name": "stdin",
     "output_type": "stream",
     "text": [
      "How many numbers do you have?  5\n",
      "Enter a number >>  3\n",
      "Enter a number >>  2\n",
      "Enter a number >>  4\n",
      "Enter a number >>  3\n",
      "Enter a number >>  2\n"
     ]
    },
    {
     "name": "stdout",
     "output_type": "stream",
     "text": [
      "\n",
      "The average of the numbers is 2.8\n"
     ]
    }
   ],
   "source": [
    "n = int(input(\"How many numbers do you have? \"))\n",
    "\n",
    "total = 0.0\n",
    "for i in range(n):\n",
    "    x = float(input(\"Enter a number >> \"))\n",
    "    total = total + x\n",
    "\n",
    "print(\"\\nThe average of the numbers is\", total / n)"
   ]
  },
  {
   "cell_type": "markdown",
   "metadata": {},
   "source": [
    "## Ejercicio 5\n",
    "#### Crear un programa que calcule el average II\n",
    "\n",
    "El programa pedirá que se diga cuantos números se quieren introducir, y enseñara un prompt para incluirl número a número en una lista, y calcule después el average.\n"
   ]
  },
  {
   "cell_type": "code",
   "execution_count": 5,
   "metadata": {},
   "outputs": [
    {
     "name": "stdin",
     "output_type": "stream",
     "text": [
      "How many numbers do you have?  3\n",
      "Enter a number >>  2\n",
      "Enter a number >>  3\n",
      "Enter a number >>  3\n"
     ]
    },
    {
     "name": "stdout",
     "output_type": "stream",
     "text": [
      "\n",
      "The average of the numbers is 2.6666666666666665\n"
     ]
    }
   ],
   "source": [
    "# tu codigo aqui\n",
    "\n",
    "n = int(input(\"How many numbers do you have? \"))\n",
    "x = [] \n",
    "for i in range(n):\n",
    "    x.append((float(input(\"Enter a number >> \"))))\n",
    "\n",
    "print(\"\\nThe average of the numbers is\", sum(x)/len(x))"
   ]
  },
  {
   "cell_type": "markdown",
   "metadata": {},
   "source": [
    "## Ejercicio 6\n",
    "#### Write a Python program to convert a list of characters into a string.\n",
    "\n",
    "Sample list : ['a','b','c','d']\n",
    "\n",
    "Expected output : abcd"
   ]
  },
  {
   "cell_type": "code",
   "execution_count": 6,
   "metadata": {},
   "outputs": [
    {
     "name": "stdout",
     "output_type": "stream",
     "text": [
      "abcd\n"
     ]
    }
   ],
   "source": [
    "# tu codigo aqui\n",
    "\n",
    "s = ['a', 'b', 'c', 'd']\n",
    "str1 = ''.join(s)\n",
    "print(str1)\n"
   ]
  },
  {
   "cell_type": "markdown",
   "metadata": {},
   "source": [
    "## Ejercicio 7\n",
    "#### First and last 5\n",
    "Write a Python program to generate and print a list of first and last 5 elements where the values are square of numbers between 1 and 30 (both included). "
   ]
  },
  {
   "cell_type": "code",
   "execution_count": 7,
   "metadata": {},
   "outputs": [
    {
     "name": "stdout",
     "output_type": "stream",
     "text": [
      "[1, 4, 9, 16, 25]\n",
      "[676, 729, 784, 841, 900]\n"
     ]
    }
   ],
   "source": [
    "# tu codigo aqui\n",
    "\n",
    "l = list()\n",
    "for i in range(1,31):\n",
    "    l.append(i**2)\n",
    "print(l[:5])\n",
    "print(l[-5:])\n"
   ]
  },
  {
   "cell_type": "code",
   "execution_count": 8,
   "metadata": {},
   "outputs": [
    {
     "name": "stdout",
     "output_type": "stream",
     "text": [
      "900\n"
     ]
    }
   ],
   "source": [
    "print(l[-1])"
   ]
  },
  {
   "cell_type": "markdown",
   "metadata": {},
   "source": [
    "## Ejercicio 8\n",
    "#### Interactuando con listas\n",
    "\n",
    "From given list gadgets = [“Mobile”, “Laptop”, 100, “Camera”, 310.28, “Speakers”, 27.00,\n",
    "“Television”, 1000, “Laptop Case”, “Camera Lens”]\n",
    "\n",
    "a)create separate lists of strings and numbers.  \n",
    "\n",
    "b)Sort the strings list in ascending order  \n",
    "\n",
    "c)Sort the strings list in descending order  \n",
    "\n",
    "d)Sort the number list from lowest to highest  \n",
    "\n",
    "e)Sort the number list from highest to lowest"
   ]
  },
  {
   "cell_type": "code",
   "execution_count": 9,
   "metadata": {},
   "outputs": [
    {
     "name": "stdout",
     "output_type": "stream",
     "text": [
      "['Mobile', 'Laptop', 'Camera', 'Speakers', 'Television', 'Laptop Case', 'Camera Lens']\n",
      "[100, 310.28, 27.0, 1000]\n",
      "b)sorting strings list in ascending order, a-z\n",
      "['Camera', 'Camera Lens', 'Laptop', 'Laptop Case', 'Mobile', 'Speakers', 'Television']\n",
      "sorting strings list in descending order z-a\n",
      "['Television', 'Speakers', 'Mobile', 'Laptop Case', 'Laptop', 'Camera Lens', 'Camera']\n",
      "[27.0, 100, 310.28, 1000]\n",
      "[1000, 310.28, 100, 27.0]\n"
     ]
    }
   ],
   "source": [
    "gadgets = [\"Mobile\", \"Laptop\", 100, \"Camera\", 310.28, \"Speakers\", 27.00, \n",
    "           \"Television\", 1000, \"Laptop Case\", \"Camera Lens\"]\n",
    " \n",
    "str_items = []\n",
    " \n",
    "num_items = []\n",
    " \n",
    "#a)creating separate lists\n",
    "\n",
    "for item in gadgets: \n",
    "     \n",
    "    if type(item) is str:\n",
    "    #if type(item) == str:\n",
    "         \n",
    "        str_items.append(item)\n",
    "         \n",
    "    elif type(item) is int or type(item) is float:\n",
    "         \n",
    "        num_items.append(item)\n",
    " \n",
    "  \n",
    "print(str_items)\n",
    " \n",
    "print(num_items)\n",
    " \n",
    "print ('b)sorting strings list in ascending order, a-z')\n",
    " \n",
    "str_items.sort()\n",
    " \n",
    "print(str_items)\n",
    " \n",
    "print('sorting strings list in descending order z-a')\n",
    " \n",
    "# str_items.sort(key=str.lower, reverse=True)\n",
    "\n",
    "str_items.sort(reverse=True)\n",
    "\n",
    "print(str_items)\n",
    " \n",
    "#d)sorting number list from lowest to highest\n",
    " \n",
    "num_items.sort()\n",
    " \n",
    "print(num_items)\n",
    " \n",
    "#e)sorting number list from highest to lowest\n",
    " \n",
    "num_items.sort(reverse=True)\n",
    " \n",
    "print(num_items)\n",
    "    "
   ]
  },
  {
   "cell_type": "code",
   "execution_count": 10,
   "metadata": {},
   "outputs": [
    {
     "data": {
      "text/plain": [
       "True"
      ]
     },
     "execution_count": 10,
     "metadata": {},
     "output_type": "execute_result"
    }
   ],
   "source": [
    "\"string\" == \"string\""
   ]
  },
  {
   "cell_type": "markdown",
   "metadata": {},
   "source": [
    "## Ejercicio 9\n",
    "#### Get first, second best scores from the list.\n",
    "\n",
    "List may contain duplicates.\n",
    "\n",
    "Ex: [86,86,85,85,85,83,23,45,84,1,2,0] => should get 86, 85"
   ]
  },
  {
   "cell_type": "code",
   "execution_count": 17,
   "metadata": {},
   "outputs": [
    {
     "name": "stdout",
     "output_type": "stream",
     "text": [
      "[86, 86, 85, 85, 85, 84, 84, 84, 83, 45, 23, 2, 1, 0]\n",
      "86 85\n"
     ]
    }
   ],
   "source": [
    " \n",
    "#sort the list and get the elements\n",
    " \n",
    "a_list = [84,84,86,86,85,85,85,83,23,45,84,1,2,0]\n",
    "\n",
    "a_list.sort(reverse=True) \n",
    "print(a_list)\n",
    " \n",
    "first = a_list[0]\n",
    " \n",
    "second = None\n",
    "\n",
    "# comprobación para ver si el primero está duplicado. iteramos en la list hasta que encontramos un valor diferente y salimos del bucle\n",
    "\n",
    "for element in a_list:\n",
    "    if element != first:\n",
    "        second = element\n",
    "        break;\n",
    "\n",
    "print(first,second)\n",
    "\n",
    "  "
   ]
  },
  {
   "cell_type": "code",
   "execution_count": 12,
   "metadata": {},
   "outputs": [
    {
     "data": {
      "text/plain": [
       "85"
      ]
     },
     "execution_count": 12,
     "metadata": {},
     "output_type": "execute_result"
    }
   ],
   "source": [
    "a_list.count(86)\n",
    "a_list[2]"
   ]
  },
  {
   "cell_type": "markdown",
   "metadata": {},
   "source": [
    "## Ejercicio 10\n",
    "#### Write a program that detects if a string is a palindrome\n",
    "Ask the user for a string and print out whether this string is a palindrome or not. (A palindrome is a string that reads the same forwards and backwards.)"
   ]
  },
  {
   "cell_type": "code",
   "execution_count": 13,
   "metadata": {},
   "outputs": [
    {
     "name": "stdin",
     "output_type": "stream",
     "text": [
      "introduce una palabra para ver si es un palíndromo:  lalaaa\n"
     ]
    },
    {
     "name": "stdout",
     "output_type": "stream",
     "text": [
      "The string is not a palindrome.\n"
     ]
    }
   ],
   "source": [
    "# Program to check if a string is palindrome or not\n",
    "\n",
    "my_str = input(\"introduce una palabra para ver si es un palíndromo: \")\n",
    "\n",
    "my_str = my_str.lower()\n",
    "\n",
    "# reverse the string\n",
    "rev_str = reversed(my_str)\n",
    "\n",
    "# check if the string is equal to its reverse\n",
    "if list(my_str) == list(rev_str):\n",
    "   print(\"The string is a palindrome.\")\n",
    "else:\n",
    "   print(\"The string is not a palindrome.\")"
   ]
  },
  {
   "cell_type": "code",
   "execution_count": 14,
   "metadata": {},
   "outputs": [
    {
     "name": "stdin",
     "output_type": "stream",
     "text": [
      "introduce una palabra para ver si es un palíndromo:  lalaaa\n"
     ]
    },
    {
     "name": "stdout",
     "output_type": "stream",
     "text": [
      "aaalal\n"
     ]
    }
   ],
   "source": [
    "my_str = input(\"introduce una palabra para ver si es un palíndromo: \")\n",
    "\n",
    "my_str = my_str.lower()\n",
    "\n",
    "new_str = \"\"\n",
    "for i in range(len(my_str)-1, -1, -1):\n",
    "    new_str = new_str + my_str[i]\n",
    "print(new_str)"
   ]
  },
  {
   "cell_type": "code",
   "execution_count": 15,
   "metadata": {},
   "outputs": [
    {
     "name": "stdin",
     "output_type": "stream",
     "text": [
      "introduce una palabra para ver si es un palíndromo:  lalaaa\n"
     ]
    },
    {
     "name": "stdout",
     "output_type": "stream",
     "text": [
      "aaalal\n"
     ]
    }
   ],
   "source": [
    "my_str = input(\"introduce una palabra para ver si es un palíndromo: \")\n",
    "\n",
    "my_str = my_str.lower()\n",
    "print(my_str[::-1])"
   ]
  },
  {
   "cell_type": "markdown",
   "metadata": {},
   "source": [
    "## (Bonus) Ejercicio 11\n",
    "#### Desarrolla el juego del ahorcado\n",
    "El juego del ahorcado consiste en adivinar una palabra, probando letra a letra. El jugaor tiene permitidos 6 fallos, al 7mo fallo pierde. \n",
    "\n",
    "* Habrá que imprimir por pantalla una cantidad de guiones igual al numero de letras e ir sustituyéndolos con los aciertos.\n",
    "* Necesitarás usar un bucle while con un input para modelar las jugadas del ahoracado. En cada ejecución del while comprueba las vidas del jugador, y los aciertos."
   ]
  },
  {
   "cell_type": "code",
   "execution_count": 18,
   "metadata": {},
   "outputs": [
    {
     "name": "stdout",
     "output_type": "stream",
     "text": [
      "_ _ _ _ _ _ _ _ _ _ \n"
     ]
    },
    {
     "name": "stdin",
     "output_type": "stream",
     "text": [
      "Letra insertada: m\n"
     ]
    },
    {
     "name": "stdout",
     "output_type": "stream",
     "text": [
      "M _ _ _ _ _ _ _ _ _ \n"
     ]
    },
    {
     "name": "stdin",
     "output_type": "stream",
     "text": [
      "Letra insertada: u\n"
     ]
    },
    {
     "name": "stdout",
     "output_type": "stream",
     "text": [
      "M U _ _ _ _ _ _ _ _ \n"
     ]
    },
    {
     "name": "stdin",
     "output_type": "stream",
     "text": [
      "Letra insertada: r\n"
     ]
    },
    {
     "name": "stdout",
     "output_type": "stream",
     "text": [
      "M U R _ _ _ _ _ _ _ \n"
     ]
    },
    {
     "name": "stdin",
     "output_type": "stream",
     "text": [
      "Letra insertada: c\n"
     ]
    },
    {
     "name": "stdout",
     "output_type": "stream",
     "text": [
      "M U R C _ _ _ _ _ _ \n"
     ]
    },
    {
     "name": "stdin",
     "output_type": "stream",
     "text": [
      "Letra insertada: i\n"
     ]
    },
    {
     "name": "stdout",
     "output_type": "stream",
     "text": [
      "M U R C I _ _ _ _ _ \n"
     ]
    },
    {
     "name": "stdin",
     "output_type": "stream",
     "text": [
      "Letra insertada: o\n"
     ]
    },
    {
     "name": "stdout",
     "output_type": "stream",
     "text": [
      "M U R C I _ _ _ _ O \n"
     ]
    },
    {
     "name": "stdin",
     "output_type": "stream",
     "text": [
      "Letra insertada: g\n"
     ]
    },
    {
     "name": "stdout",
     "output_type": "stream",
     "text": [
      "M U R C I _ _ _ G O \n"
     ]
    },
    {
     "name": "stdin",
     "output_type": "stream",
     "text": [
      "Letra insertada: e\n"
     ]
    },
    {
     "name": "stdout",
     "output_type": "stream",
     "text": [
      "M U R C I E _ _ G O \n"
     ]
    },
    {
     "name": "stdin",
     "output_type": "stream",
     "text": [
      "Letra insertada: l\n"
     ]
    },
    {
     "name": "stdout",
     "output_type": "stream",
     "text": [
      "M U R C I E L _ G O \n"
     ]
    },
    {
     "name": "stdin",
     "output_type": "stream",
     "text": [
      "Letra insertada: k\n"
     ]
    },
    {
     "name": "stdout",
     "output_type": "stream",
     "text": [
      "Llevas: 1\n",
      "Letra no está en la palabra\n",
      "M U R C I E L _ G O \n"
     ]
    },
    {
     "name": "stdin",
     "output_type": "stream",
     "text": [
      "Letra insertada: k\n"
     ]
    },
    {
     "name": "stdout",
     "output_type": "stream",
     "text": [
      "Llevas: 2\n",
      "Letra no está en la palabra\n",
      "M U R C I E L _ G O \n"
     ]
    },
    {
     "name": "stdin",
     "output_type": "stream",
     "text": [
      "Letra insertada: a\n"
     ]
    },
    {
     "name": "stdout",
     "output_type": "stream",
     "text": [
      "M U R C I E L A G O \n",
      "Has ganado!\n"
     ]
    }
   ],
   "source": [
    "def tablero_a_mostrar(tablero):\n",
    "    tablero_show = \"\"\n",
    "    for l in tablero:\n",
    "        tablero_show += l + \" \"\n",
    "    return tablero_show\n",
    "\n",
    "\n",
    "lista_aciertos = []\n",
    "\n",
    "palabra_a_adivinar = \"murcielago\".upper()\n",
    "tamano_palabra = len(palabra_a_adivinar)\n",
    "num_errores = 0\n",
    "\n",
    "tablero = list(\"_\" * tamano_palabra)\n",
    "\n",
    "print(tablero_a_mostrar(tablero=tablero))\n",
    "\n",
    "while \"_\" in tablero:\n",
    "    letra_insertada = input(\"Letra insertada:\").upper()\n",
    "    if letra_insertada == \"STOP\":\n",
    "        break\n",
    "    if letra_insertada in palabra_a_adivinar:  # La letra está dentro de la palabra\n",
    "        if letra_insertada in lista_aciertos:  # Ha insertado una letra previamente acertada\n",
    "            print(\"Ya habías acertado esta letra\")\n",
    "        else:  # Acertada pero no previamente\n",
    "            lista_aciertos.append(letra_insertada)\n",
    "            # Sustituir en el tablero\n",
    "            for pos, letra in enumerate(palabra_a_adivinar):\n",
    "                if letra == letra_insertada:\n",
    "                    tablero[pos] = letra_insertada\n",
    "    else:  # La letra no está dentro de la palabra\n",
    "        num_errores += 1\n",
    "        print(\"Llevas:\", num_errores)\n",
    "        print(\"Letra no está en la palabra\") \n",
    "        if num_errores > 6:\n",
    "            print(\"Lo siento, has perdido\")\n",
    "            break\n",
    "    \n",
    "    print(tablero_a_mostrar(tablero=tablero))\n",
    "\n",
    "    if \"_\" not in tablero:  # Que ya se han acertado todas\n",
    "        print(\"Has ganado!\")"
   ]
  }
 ],
 "metadata": {
  "kernelspec": {
   "display_name": "Python 3",
   "language": "python",
   "name": "python3"
  },
  "language_info": {
   "codemirror_mode": {
    "name": "ipython",
    "version": 3
   },
   "file_extension": ".py",
   "mimetype": "text/x-python",
   "name": "python",
   "nbconvert_exporter": "python",
   "pygments_lexer": "ipython3",
   "version": "3.8.8"
  }
 },
 "nbformat": 4,
 "nbformat_minor": 4
}
