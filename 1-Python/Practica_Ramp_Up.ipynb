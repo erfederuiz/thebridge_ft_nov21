{
 "cells": [
  {
   "cell_type": "markdown",
   "metadata": {},
   "source": [
    "# Entrega Ramp Up\n"
   ]
  },
  {
   "cell_type": "markdown",
   "metadata": {
    "tags": []
   },
   "source": [
    "## Ejercicio 1\n",
    "#### Crear un programa que calcule la cuota de una hipoteca\n",
    "\n",
    "Las cuotas hipotecarias se calculan utilizando la fórmula del interés frances. El objetivo del ejercicio es crear un programa que solicite al usuario los datos de su hipoteca (cantidad, intereses, y plazo en años) y le devuelva la cuota mensual a pagar\n",
    "\n",
    "La formula del interés frances es la siguiente:\n",
    "\\begin{align*}\n",
    "C=V \\frac{(1+i)^n i}{(1+i)^n -1}\n",
    "\\end{align*}\n",
    "\n",
    "\n",
    "    C = Cuota a pagar\n",
    "    V = Cantidad del préstamo hipotecario\n",
    "    i = tipo de interés del período (tipo de interes de la hipoteca por mes)\n",
    "    n = número de cuotas (en meses)\n",
    "\n",
    "V = 300.000\n",
    "\n",
    "i = 2 %\n",
    "\n",
    "n = 20*12\n",
    "\n",
    "output: 1517"
   ]
  },
  {
   "cell_type": "code",
   "execution_count": 110,
   "metadata": {},
   "outputs": [
    {
     "name": "stdin",
     "output_type": "stream",
     "text": [
      "Importe del préstamo: 300000\n",
      "Años para devolverlo: 20\n",
      "Interés anual aplicado: 2\n"
     ]
    },
    {
     "name": "stdout",
     "output_type": "stream",
     "text": [
      "\n",
      "Para un préstamo de 300000.0€ la cuota mensual, durante 240 meses, será 1517.65€ . \n",
      "Interés aplicado 2.0% anual\n"
     ]
    }
   ],
   "source": [
    "C = 0\n",
    "V = 0\n",
    "n = 0\n",
    "y = 0\n",
    "i = 0.0\n",
    "\n",
    "V = float(input(\"Importe del préstamo:\"))\n",
    "y = int(input(\"Años para devolverlo:\"))\n",
    "n = y * 12\n",
    "iAnual = float(input(\"Interés anual aplicado:\"))\n",
    "i = iAnual / 12\n",
    "i /= 100\n",
    "\n",
    "p1 = ((1 + i) ** n) * i\n",
    "p2 = (1 + i)**n - 1\n",
    "\n",
    "\n",
    "C = V * ( p1 / p2 )\n",
    "\n",
    "print(f'\\nPara un préstamo de {round(V, 2)}€ la cuota mensual, durante {n} meses, será {round(C, 2)}€ . \\nInterés aplicado {iAnual}% anual' )\n",
    "\n"
   ]
  },
  {
   "cell_type": "markdown",
   "metadata": {
    "tags": []
   },
   "source": [
    "## Ejercicio 2\n",
    "#### Crear un programa que calcule el plan de amortización\n",
    "\n",
    "El objetivo del ejercicio es crear un programa que solicite al usuario los datos de su hipoteca (cantidad, intereses, y plazo en años) y le devuelva el plan de amortización.\n",
    "\n",
    "En cada cuota se pagan intereses por el capital restante, y se devuelve capital hasta la cuota mensual. El capital restante ha de ser actualizado restandole el capital devuelto.\n",
    "\n",
    "Salida ejemplo:\n",
    "\n",
    "mes  cuota  intereses  principal  pendiente   \n",
    "\n",
    "0  758.89   450.00   308.89   179691.11 \n",
    "\n",
    "**NOTA**: Tienes que partir de tipo de interes por periodo calculado en el apartado anterior, y del total de la hipoteca. Para cada mes calcular:\n",
    "\n",
    "1. cuota (apartado anterior)\n",
    "2. intereses a pagar del mes (lo que quede por pagar * interes por periodo del apartado anterior)\n",
    "3. principal (cuota - interes)\n",
    "4. pendiente (lo que quede por pagar - principal)"
   ]
  },
  {
   "cell_type": "code",
   "execution_count": 114,
   "metadata": {},
   "outputs": [
    {
     "name": "stdout",
     "output_type": "stream",
     "text": [
      "Total prestamo 364236.0\n",
      "Mes\tCuota\t\tIntereses\tPrincipal\tPendiente\n",
      "0\t1517.65\t\t607.06\t\t910.59\t\t362718.35\n",
      "1\t1517.65\t\t604.53\t\t913.12\t\t361200.7\n",
      "2\t1517.65\t\t602.0\t\t915.65\t\t359683.05\n",
      "3\t1517.65\t\t599.47\t\t918.18\t\t358165.4\n",
      "4\t1517.65\t\t596.94\t\t920.71\t\t356647.75\n",
      "5\t1517.65\t\t594.41\t\t923.24\t\t355130.1\n",
      "6\t1517.65\t\t591.88\t\t925.77\t\t353612.45\n",
      "7\t1517.65\t\t589.35\t\t928.3\t\t352094.8\n",
      "8\t1517.65\t\t586.82\t\t930.83\t\t350577.15\n",
      "9\t1517.65\t\t584.3\t\t933.35\t\t349059.5\n",
      "10\t1517.65\t\t581.77\t\t935.88\t\t347541.85\n",
      "11\t1517.65\t\t579.24\t\t938.41\t\t346024.2\n",
      "12\t1517.65\t\t576.71\t\t940.94\t\t344506.55\n",
      "13\t1517.65\t\t574.18\t\t943.47\t\t342988.9\n",
      "14\t1517.65\t\t571.65\t\t946.0\t\t341471.25\n",
      "15\t1517.65\t\t569.12\t\t948.53\t\t339953.6\n",
      "16\t1517.65\t\t566.59\t\t951.06\t\t338435.95\n",
      "17\t1517.65\t\t564.06\t\t953.59\t\t336918.3\n",
      "18\t1517.65\t\t561.53\t\t956.12\t\t335400.65\n",
      "19\t1517.65\t\t559.0\t\t958.65\t\t333883.0\n",
      "20\t1517.65\t\t556.47\t\t961.18\t\t332365.35\n",
      "21\t1517.65\t\t553.94\t\t963.71\t\t330847.7\n",
      "22\t1517.65\t\t551.41\t\t966.24\t\t329330.05\n",
      "23\t1517.65\t\t548.88\t\t968.77\t\t327812.4\n",
      "24\t1517.65\t\t546.35\t\t971.3\t\t326294.75\n",
      "25\t1517.65\t\t543.82\t\t973.83\t\t324777.1\n",
      "26\t1517.65\t\t541.3\t\t976.35\t\t323259.45\n",
      "27\t1517.65\t\t538.77\t\t978.88\t\t321741.8\n",
      "28\t1517.65\t\t536.24\t\t981.41\t\t320224.15\n",
      "29\t1517.65\t\t533.71\t\t983.94\t\t318706.5\n",
      "30\t1517.65\t\t531.18\t\t986.47\t\t317188.85\n",
      "31\t1517.65\t\t528.65\t\t989.0\t\t315671.2\n",
      "32\t1517.65\t\t526.12\t\t991.53\t\t314153.55\n",
      "33\t1517.65\t\t523.59\t\t994.06\t\t312635.9\n",
      "34\t1517.65\t\t521.06\t\t996.59\t\t311118.25\n",
      "35\t1517.65\t\t518.53\t\t999.12\t\t309600.6\n",
      "36\t1517.65\t\t516.0\t\t1001.65\t\t308082.95\n",
      "37\t1517.65\t\t513.47\t\t1004.18\t\t306565.3\n",
      "38\t1517.65\t\t510.94\t\t1006.71\t\t305047.65\n",
      "39\t1517.65\t\t508.41\t\t1009.24\t\t303530.0\n",
      "40\t1517.65\t\t505.88\t\t1011.77\t\t302012.35\n",
      "41\t1517.65\t\t503.35\t\t1014.3\t\t300494.7\n",
      "42\t1517.65\t\t500.82\t\t1016.83\t\t298977.05\n",
      "43\t1517.65\t\t498.3\t\t1019.35\t\t297459.4\n",
      "44\t1517.65\t\t495.77\t\t1021.88\t\t295941.75\n",
      "45\t1517.65\t\t493.24\t\t1024.41\t\t294424.1\n",
      "46\t1517.65\t\t490.71\t\t1026.94\t\t292906.45\n",
      "47\t1517.65\t\t488.18\t\t1029.47\t\t291388.8\n",
      "48\t1517.65\t\t485.65\t\t1032.0\t\t289871.15\n",
      "49\t1517.65\t\t483.12\t\t1034.53\t\t288353.5\n",
      "50\t1517.65\t\t480.59\t\t1037.06\t\t286835.85\n",
      "51\t1517.65\t\t478.06\t\t1039.59\t\t285318.2\n",
      "52\t1517.65\t\t475.53\t\t1042.12\t\t283800.55\n",
      "53\t1517.65\t\t473.0\t\t1044.65\t\t282282.9\n",
      "54\t1517.65\t\t470.47\t\t1047.18\t\t280765.25\n",
      "55\t1517.65\t\t467.94\t\t1049.71\t\t279247.6\n",
      "56\t1517.65\t\t465.41\t\t1052.24\t\t277729.95\n",
      "57\t1517.65\t\t462.88\t\t1054.77\t\t276212.3\n",
      "58\t1517.65\t\t460.35\t\t1057.3\t\t274694.65\n",
      "59\t1517.65\t\t457.82\t\t1059.83\t\t273177.0\n",
      "60\t1517.65\t\t455.3\t\t1062.36\t\t271659.35\n",
      "61\t1517.65\t\t452.77\t\t1064.88\t\t270141.7\n",
      "62\t1517.65\t\t450.24\t\t1067.41\t\t268624.05\n",
      "63\t1517.65\t\t447.71\t\t1069.94\t\t267106.4\n",
      "64\t1517.65\t\t445.18\t\t1072.47\t\t265588.75\n",
      "65\t1517.65\t\t442.65\t\t1075.0\t\t264071.1\n",
      "66\t1517.65\t\t440.12\t\t1077.53\t\t262553.45\n",
      "67\t1517.65\t\t437.59\t\t1080.06\t\t261035.8\n",
      "68\t1517.65\t\t435.06\t\t1082.59\t\t259518.15\n",
      "69\t1517.65\t\t432.53\t\t1085.12\t\t258000.5\n",
      "70\t1517.65\t\t430.0\t\t1087.65\t\t256482.85\n",
      "71\t1517.65\t\t427.47\t\t1090.18\t\t254965.2\n",
      "72\t1517.65\t\t424.94\t\t1092.71\t\t253447.55\n",
      "73\t1517.65\t\t422.41\t\t1095.24\t\t251929.9\n",
      "74\t1517.65\t\t419.88\t\t1097.77\t\t250412.25\n",
      "75\t1517.65\t\t417.35\t\t1100.3\t\t248894.6\n",
      "76\t1517.65\t\t414.82\t\t1102.83\t\t247376.95\n",
      "77\t1517.65\t\t412.29\t\t1105.36\t\t245859.3\n",
      "78\t1517.65\t\t409.77\t\t1107.88\t\t244341.65\n",
      "79\t1517.65\t\t407.24\t\t1110.41\t\t242824.0\n",
      "80\t1517.65\t\t404.71\t\t1112.94\t\t241306.35\n",
      "81\t1517.65\t\t402.18\t\t1115.47\t\t239788.7\n",
      "82\t1517.65\t\t399.65\t\t1118.0\t\t238271.05\n",
      "83\t1517.65\t\t397.12\t\t1120.53\t\t236753.4\n",
      "84\t1517.65\t\t394.59\t\t1123.06\t\t235235.75\n",
      "85\t1517.65\t\t392.06\t\t1125.59\t\t233718.1\n",
      "86\t1517.65\t\t389.53\t\t1128.12\t\t232200.45\n",
      "87\t1517.65\t\t387.0\t\t1130.65\t\t230682.8\n",
      "88\t1517.65\t\t384.47\t\t1133.18\t\t229165.15\n",
      "89\t1517.65\t\t381.94\t\t1135.71\t\t227647.5\n",
      "90\t1517.65\t\t379.41\t\t1138.24\t\t226129.85\n",
      "91\t1517.65\t\t376.88\t\t1140.77\t\t224612.2\n",
      "92\t1517.65\t\t374.35\t\t1143.3\t\t223094.55\n",
      "93\t1517.65\t\t371.82\t\t1145.83\t\t221576.9\n",
      "94\t1517.65\t\t369.29\t\t1148.36\t\t220059.25\n",
      "95\t1517.65\t\t366.77\t\t1150.88\t\t218541.6\n",
      "96\t1517.65\t\t364.24\t\t1153.41\t\t217023.95\n",
      "97\t1517.65\t\t361.71\t\t1155.94\t\t215506.3\n",
      "98\t1517.65\t\t359.18\t\t1158.47\t\t213988.65\n",
      "99\t1517.65\t\t356.65\t\t1161.0\t\t212471.0\n",
      "100\t1517.65\t\t354.12\t\t1163.53\t\t210953.35\n",
      "101\t1517.65\t\t351.59\t\t1166.06\t\t209435.7\n",
      "102\t1517.65\t\t349.06\t\t1168.59\t\t207918.05\n",
      "103\t1517.65\t\t346.53\t\t1171.12\t\t206400.4\n",
      "104\t1517.65\t\t344.0\t\t1173.65\t\t204882.75\n",
      "105\t1517.65\t\t341.47\t\t1176.18\t\t203365.1\n",
      "106\t1517.65\t\t338.94\t\t1178.71\t\t201847.45\n",
      "107\t1517.65\t\t336.41\t\t1181.24\t\t200329.8\n",
      "108\t1517.65\t\t333.88\t\t1183.77\t\t198812.15\n",
      "109\t1517.65\t\t331.35\t\t1186.3\t\t197294.5\n",
      "110\t1517.65\t\t328.82\t\t1188.83\t\t195776.85\n",
      "111\t1517.65\t\t326.29\t\t1191.36\t\t194259.2\n",
      "112\t1517.65\t\t323.77\t\t1193.88\t\t192741.55\n",
      "113\t1517.65\t\t321.24\t\t1196.41\t\t191223.9\n",
      "114\t1517.65\t\t318.71\t\t1198.94\t\t189706.25\n",
      "115\t1517.65\t\t316.18\t\t1201.47\t\t188188.6\n",
      "116\t1517.65\t\t313.65\t\t1204.0\t\t186670.95\n",
      "117\t1517.65\t\t311.12\t\t1206.53\t\t185153.3\n",
      "118\t1517.65\t\t308.59\t\t1209.06\t\t183635.65\n",
      "119\t1517.65\t\t306.06\t\t1211.59\t\t182118.0\n",
      "120\t1517.65\t\t303.53\t\t1214.12\t\t180600.35\n",
      "121\t1517.65\t\t301.0\t\t1216.65\t\t179082.7\n",
      "122\t1517.65\t\t298.47\t\t1219.18\t\t177565.05\n",
      "123\t1517.65\t\t295.94\t\t1221.71\t\t176047.4\n",
      "124\t1517.65\t\t293.41\t\t1224.24\t\t174529.75\n",
      "125\t1517.65\t\t290.88\t\t1226.77\t\t173012.1\n",
      "126\t1517.65\t\t288.35\t\t1229.3\t\t171494.45\n",
      "127\t1517.65\t\t285.82\t\t1231.83\t\t169976.8\n",
      "128\t1517.65\t\t283.29\t\t1234.36\t\t168459.15\n",
      "129\t1517.65\t\t280.77\t\t1236.88\t\t166941.5\n",
      "130\t1517.65\t\t278.24\t\t1239.41\t\t165423.85\n",
      "131\t1517.65\t\t275.71\t\t1241.94\t\t163906.2\n",
      "132\t1517.65\t\t273.18\t\t1244.47\t\t162388.55\n",
      "133\t1517.65\t\t270.65\t\t1247.0\t\t160870.9\n",
      "134\t1517.65\t\t268.12\t\t1249.53\t\t159353.25\n",
      "135\t1517.65\t\t265.59\t\t1252.06\t\t157835.6\n",
      "136\t1517.65\t\t263.06\t\t1254.59\t\t156317.95\n",
      "137\t1517.65\t\t260.53\t\t1257.12\t\t154800.3\n",
      "138\t1517.65\t\t258.0\t\t1259.65\t\t153282.65\n",
      "139\t1517.65\t\t255.47\t\t1262.18\t\t151765.0\n",
      "140\t1517.65\t\t252.94\t\t1264.71\t\t150247.35\n",
      "141\t1517.65\t\t250.41\t\t1267.24\t\t148729.7\n",
      "142\t1517.65\t\t247.88\t\t1269.77\t\t147212.05\n",
      "143\t1517.65\t\t245.35\t\t1272.3\t\t145694.4\n",
      "144\t1517.65\t\t242.82\t\t1274.83\t\t144176.75\n",
      "145\t1517.65\t\t240.29\t\t1277.36\t\t142659.1\n",
      "146\t1517.65\t\t237.77\t\t1279.88\t\t141141.45\n",
      "147\t1517.65\t\t235.24\t\t1282.41\t\t139623.8\n",
      "148\t1517.65\t\t232.71\t\t1284.94\t\t138106.15\n",
      "149\t1517.65\t\t230.18\t\t1287.47\t\t136588.5\n",
      "150\t1517.65\t\t227.65\t\t1290.0\t\t135070.85\n",
      "151\t1517.65\t\t225.12\t\t1292.53\t\t133553.2\n",
      "152\t1517.65\t\t222.59\t\t1295.06\t\t132035.55\n",
      "153\t1517.65\t\t220.06\t\t1297.59\t\t130517.9\n",
      "154\t1517.65\t\t217.53\t\t1300.12\t\t129000.25\n",
      "155\t1517.65\t\t215.0\t\t1302.65\t\t127482.6\n",
      "156\t1517.65\t\t212.47\t\t1305.18\t\t125964.95\n",
      "157\t1517.65\t\t209.94\t\t1307.71\t\t124447.3\n",
      "158\t1517.65\t\t207.41\t\t1310.24\t\t122929.65\n",
      "159\t1517.65\t\t204.88\t\t1312.77\t\t121412.0\n",
      "160\t1517.65\t\t202.35\t\t1315.3\t\t119894.35\n",
      "161\t1517.65\t\t199.82\t\t1317.83\t\t118376.7\n",
      "162\t1517.65\t\t197.29\t\t1320.36\t\t116859.05\n",
      "163\t1517.65\t\t194.77\t\t1322.88\t\t115341.4\n",
      "164\t1517.65\t\t192.24\t\t1325.41\t\t113823.75\n",
      "165\t1517.65\t\t189.71\t\t1327.94\t\t112306.1\n",
      "166\t1517.65\t\t187.18\t\t1330.47\t\t110788.45\n",
      "167\t1517.65\t\t184.65\t\t1333.0\t\t109270.8\n",
      "168\t1517.65\t\t182.12\t\t1335.53\t\t107753.15\n",
      "169\t1517.65\t\t179.59\t\t1338.06\t\t106235.5\n",
      "170\t1517.65\t\t177.06\t\t1340.59\t\t104717.85\n",
      "171\t1517.65\t\t174.53\t\t1343.12\t\t103200.2\n",
      "172\t1517.65\t\t172.0\t\t1345.65\t\t101682.55\n",
      "173\t1517.65\t\t169.47\t\t1348.18\t\t100164.9\n",
      "174\t1517.65\t\t166.94\t\t1350.71\t\t98647.25\n",
      "175\t1517.65\t\t164.41\t\t1353.24\t\t97129.6\n",
      "176\t1517.65\t\t161.88\t\t1355.77\t\t95611.95\n",
      "177\t1517.65\t\t159.35\t\t1358.3\t\t94094.3\n",
      "178\t1517.65\t\t156.82\t\t1360.83\t\t92576.65\n",
      "179\t1517.65\t\t154.29\t\t1363.36\t\t91059.0\n",
      "180\t1517.65\t\t151.77\t\t1365.89\t\t89541.35\n",
      "181\t1517.65\t\t149.24\t\t1368.41\t\t88023.7\n",
      "182\t1517.65\t\t146.71\t\t1370.94\t\t86506.05\n",
      "183\t1517.65\t\t144.18\t\t1373.47\t\t84988.4\n",
      "184\t1517.65\t\t141.65\t\t1376.0\t\t83470.75\n",
      "185\t1517.65\t\t139.12\t\t1378.53\t\t81953.1\n",
      "186\t1517.65\t\t136.59\t\t1381.06\t\t80435.45\n",
      "187\t1517.65\t\t134.06\t\t1383.59\t\t78917.8\n",
      "188\t1517.65\t\t131.53\t\t1386.12\t\t77400.15\n",
      "189\t1517.65\t\t129.0\t\t1388.65\t\t75882.5\n",
      "190\t1517.65\t\t126.47\t\t1391.18\t\t74364.85\n",
      "191\t1517.65\t\t123.94\t\t1393.71\t\t72847.2\n",
      "192\t1517.65\t\t121.41\t\t1396.24\t\t71329.55\n",
      "193\t1517.65\t\t118.88\t\t1398.77\t\t69811.9\n",
      "194\t1517.65\t\t116.35\t\t1401.3\t\t68294.25\n",
      "195\t1517.65\t\t113.82\t\t1403.83\t\t66776.6\n",
      "196\t1517.65\t\t111.29\t\t1406.36\t\t65258.95\n",
      "197\t1517.65\t\t108.76\t\t1408.89\t\t63741.3\n",
      "198\t1517.65\t\t106.24\t\t1411.41\t\t62223.65\n",
      "199\t1517.65\t\t103.71\t\t1413.94\t\t60706.0\n",
      "200\t1517.65\t\t101.18\t\t1416.47\t\t59188.35\n",
      "201\t1517.65\t\t98.65\t\t1419.0\t\t57670.7\n",
      "202\t1517.65\t\t96.12\t\t1421.53\t\t56153.05\n",
      "203\t1517.65\t\t93.59\t\t1424.06\t\t54635.4\n",
      "204\t1517.65\t\t91.06\t\t1426.59\t\t53117.75\n",
      "205\t1517.65\t\t88.53\t\t1429.12\t\t51600.1\n",
      "206\t1517.65\t\t86.0\t\t1431.65\t\t50082.45\n",
      "207\t1517.65\t\t83.47\t\t1434.18\t\t48564.8\n",
      "208\t1517.65\t\t80.94\t\t1436.71\t\t47047.15\n",
      "209\t1517.65\t\t78.41\t\t1439.24\t\t45529.5\n",
      "210\t1517.65\t\t75.88\t\t1441.77\t\t44011.85\n",
      "211\t1517.65\t\t73.35\t\t1444.3\t\t42494.2\n",
      "212\t1517.65\t\t70.82\t\t1446.83\t\t40976.55\n",
      "213\t1517.65\t\t68.29\t\t1449.36\t\t39458.9\n",
      "214\t1517.65\t\t65.76\t\t1451.89\t\t37941.25\n",
      "215\t1517.65\t\t63.24\t\t1454.41\t\t36423.6\n",
      "216\t1517.65\t\t60.71\t\t1456.94\t\t34905.95\n",
      "217\t1517.65\t\t58.18\t\t1459.47\t\t33388.3\n",
      "218\t1517.65\t\t55.65\t\t1462.0\t\t31870.65\n",
      "219\t1517.65\t\t53.12\t\t1464.53\t\t30353.0\n",
      "220\t1517.65\t\t50.59\t\t1467.06\t\t28835.35\n",
      "221\t1517.65\t\t48.06\t\t1469.59\t\t27317.7\n",
      "222\t1517.65\t\t45.53\t\t1472.12\t\t25800.05\n",
      "223\t1517.65\t\t43.0\t\t1474.65\t\t24282.4\n",
      "224\t1517.65\t\t40.47\t\t1477.18\t\t22764.75\n",
      "225\t1517.65\t\t37.94\t\t1479.71\t\t21247.1\n",
      "226\t1517.65\t\t35.41\t\t1482.24\t\t19729.45\n",
      "227\t1517.65\t\t32.88\t\t1484.77\t\t18211.8\n",
      "228\t1517.65\t\t30.35\t\t1487.3\t\t16694.15\n",
      "229\t1517.65\t\t27.82\t\t1489.83\t\t15176.5\n",
      "230\t1517.65\t\t25.29\t\t1492.36\t\t13658.85\n",
      "231\t1517.65\t\t22.76\t\t1494.89\t\t12141.2\n",
      "232\t1517.65\t\t20.24\t\t1497.41\t\t10623.55\n",
      "233\t1517.65\t\t17.71\t\t1499.94\t\t9105.9\n",
      "234\t1517.65\t\t15.18\t\t1502.47\t\t7588.25\n",
      "235\t1517.65\t\t12.65\t\t1505.0\t\t6070.6\n",
      "236\t1517.65\t\t10.12\t\t1507.53\t\t4552.95\n",
      "237\t1517.65\t\t7.59\t\t1510.06\t\t3035.3\n",
      "238\t1517.65\t\t5.06\t\t1512.59\t\t1517.65\n",
      "239\t1517.65\t\t2.53\t\t1515.12\t\t-0.0\n"
     ]
    }
   ],
   "source": [
    "total_prestamo = C * n\n",
    "print(f'Total prestamo {float(round(total_prestamo, 2))}')\n",
    "print(f'Mes\\tCuota\\t\\tIntereses\\tPrincipal\\tPendiente')\n",
    "pendiente = total_prestamo\n",
    "for mes in range(n):    \n",
    "    intereses = pendiente * i\n",
    "    principal = C - intereses\n",
    "    pendiente -= C\n",
    "    print(f'{mes}\\t{float(round(C, 2))}\\t\\t{float(round(intereses, 2))}\\t\\t{float(round(principal, 2))}\\t\\t{float(round(pendiente, 2))}')\n",
    "    "
   ]
  },
  {
   "cell_type": "markdown",
   "metadata": {},
   "source": [
    "## Ejercicio 3\n",
    "#### Crear un programa que resuelva una ecuacción de segundo grado\n",
    "\n",
    "El objetivo del programa es resolver la ecuacción de sgundo grado \n",
    "\n",
    "\\begin{align*}\n",
    "ax^2+bx+c = 0\n",
    "\\end{align*}\n",
    "\n",
    "Pasando como parámetros los coeficientes de la ecuacción. La resolución de la ecuacción es la siguiente:\n",
    "\n",
    "\\begin{align*}\n",
    "x=\\frac{-b \\pm \\sqrt{b^2-4ac}}{2a}\n",
    "\\end{align*}\n",
    "\n",
    "Para realizar este programa tienes que utilizar el metodo sqrt() para calcular la raiz cuadrada. Para ello tienes que importar el módulo math. Así que tu programa debería empezar con ```ìmport math```\n"
   ]
  },
  {
   "cell_type": "code",
   "execution_count": 37,
   "metadata": {},
   "outputs": [
    {
     "name": "stdout",
     "output_type": "stream",
     "text": [
      "La ecuación tiene una solución x=4.0\n"
     ]
    }
   ],
   "source": [
    "import math\n",
    "\n",
    "a = 1\n",
    "b = -2\n",
    "c = 1\n",
    "\n",
    "pRaiz = math.sqrt(b ** 2 - 4 * a * c)\n",
    "\n",
    "if pRaiz < 0:\n",
    "    print(\"La ecuación no tiene solución en los números reales\")\n",
    "elif pRaiz == 0:\n",
    "    x = (b * -1) / a * 2\n",
    "    print(f'La ecuación tiene una solución x={x}')\n",
    "else:\n",
    "    x1 = ((b * -1) + pRaiz)/ (a * 2)\n",
    "    x2 = ((b * -1) - pRaiz)/ (a * 2)\n",
    "    print(f'La ecuación tiene dos soluciones x={x1} y x={x2} ')\n"
   ]
  },
  {
   "cell_type": "markdown",
   "metadata": {},
   "source": [
    "## Ejercicio 4\n",
    "#### Crear un programa que calcule el average\n",
    "\n",
    "El programa pedirá al usuario que introduzca numeros. En primer lugar le pedirá que indique cuantos números se quieren introducir, y enseñara un prompt para incluirlos, y calculará el average.\n",
    "\n"
   ]
  },
  {
   "cell_type": "code",
   "execution_count": 106,
   "metadata": {
    "tags": []
   },
   "outputs": [
    {
     "name": "stdin",
     "output_type": "stream",
     "text": [
      "¿Cuantos números vamos a sumar? 7\n"
     ]
    },
    {
     "name": "stdout",
     "output_type": "stream",
     "text": [
      "Introduce los números \n",
      "\n"
     ]
    },
    {
     "name": "stdin",
     "output_type": "stream",
     "text": [
      " 3\n",
      " 4\n",
      " 3\n",
      " 10\n",
      " 10\n",
      " 10\n",
      " 30\n"
     ]
    },
    {
     "name": "stdout",
     "output_type": "stream",
     "text": [
      "\n",
      "La media de los números introducidos es 10\n"
     ]
    }
   ],
   "source": [
    "sum_nums = 0.0\n",
    "cantidad = int(input(\"¿Cuantos números vamos a sumar?\"))\n",
    "print(f'Introduce los números \\n')\n",
    "for i in range(cantidad):\n",
    "    sum_nums += float(input())\n",
    "\n",
    "print(f'\\nLa media de los números introducidos es {round(sum_nums/cantidad)}')"
   ]
  },
  {
   "cell_type": "markdown",
   "metadata": {},
   "source": [
    "## Ejercicio 5\n",
    "#### Crear un programa que calcule el average II\n",
    "\n",
    "El programa pedirá que se diga cuantos números se quieren introducir, y enseñara un prompt para incluirl número a número en una lista, y calcule después el average.\n"
   ]
  },
  {
   "cell_type": "code",
   "execution_count": 34,
   "metadata": {},
   "outputs": [
    {
     "name": "stdin",
     "output_type": "stream",
     "text": [
      "¿Cuantos números vamos a sumar? 3\n",
      "Introduce un número >>> 10\n",
      "Introduce un número >>> 5\n",
      "Introduce un número >>> 6\n"
     ]
    },
    {
     "name": "stdout",
     "output_type": "stream",
     "text": [
      "La media de los números introducidos es 7.0\n"
     ]
    }
   ],
   "source": [
    "lista_nums = []\n",
    "cantidad = int(input(\"¿Cuantos números vamos a sumar?\"))\n",
    "for i in range(cantidad):\n",
    "    num = float(input(f'Introduce un número >>>'))\n",
    "    lista_nums.append(num)\n",
    "\n",
    "print(f'La media de los números introducidos es {sum(lista_nums)/len(lista_nums)}')"
   ]
  },
  {
   "cell_type": "markdown",
   "metadata": {},
   "source": [
    "## Ejercicio 6\n",
    "#### Write a Python program to convert a list of characters into a string.\n",
    "\n",
    "Sample list : ['a','b','c','d']\n",
    "\n",
    "Expected output : abcd"
   ]
  },
  {
   "cell_type": "code",
   "execution_count": 39,
   "metadata": {},
   "outputs": [
    {
     "name": "stdout",
     "output_type": "stream",
     "text": [
      "abcd\n"
     ]
    }
   ],
   "source": [
    "list_6 = ['a','b','c','d']\n",
    "print(''.join(list_6))"
   ]
  },
  {
   "cell_type": "markdown",
   "metadata": {},
   "source": [
    "## Ejercicio 7\n",
    "#### First and last 5\n",
    "Write a Python program to generate and print a list of first and last 5 elements where the values are square of numbers between 1 and 30 (both included). "
   ]
  },
  {
   "cell_type": "code",
   "execution_count": 45,
   "metadata": {},
   "outputs": [
    {
     "name": "stdout",
     "output_type": "stream",
     "text": [
      "5 primeros elementos\n",
      "[1, 4, 9, 16, 25]\n",
      "\n",
      "5 últimos elementos\n",
      "[676, 729, 784, 841, 900]\n"
     ]
    }
   ],
   "source": [
    "lista_7 = []\n",
    "for i in range(1,31):\n",
    "    lista_7.append( i ** 2)\n",
    "print(\"5 primeros elementos\")\n",
    "print(lista_7[:5])\n",
    "print(\"\\n5 últimos elementos\")\n",
    "print(lista_7[-5:])"
   ]
  },
  {
   "cell_type": "markdown",
   "metadata": {},
   "source": [
    "## Ejercicio 8\n",
    "#### Interactuando con listas\n",
    "\n",
    "From given list gadgets = [“Mobile”, “Laptop”, 100, “Camera”, 310.28, “Speakers”, 27.00,\n",
    "“Television”, 1000, “Laptop Case”, “Camera Lens”]\n",
    "\n",
    "a)create separate lists of strings and numbers.  \n",
    "\n",
    "b)Sort the strings list in ascending order  \n",
    "\n",
    "c)Sort the strings list in descending order  \n",
    "\n",
    "d)Sort the number list from lowest to highest  \n",
    "\n",
    "e)Sort the number list from highest to lowest"
   ]
  },
  {
   "cell_type": "code",
   "execution_count": 101,
   "metadata": {},
   "outputs": [
    {
     "name": "stdout",
     "output_type": "stream",
     "text": [
      "a) \n",
      "[100, 1000]\n",
      "['Mobile', 'Laptop', 'Camera', 'Speakers', 'Television', 'Laptop Case', 'Camera Lens']\n",
      "\n",
      "b) \n",
      "['Camera', 'Camera Lens', 'Laptop', 'Laptop Case', 'Mobile', 'Speakers', 'Television']\n",
      "\n",
      "c) \n",
      "['Television', 'Speakers', 'Mobile', 'Laptop Case', 'Laptop', 'Camera Lens', 'Camera']\n",
      "\n",
      "d) \n",
      "[100, 1000]\n",
      "\n",
      "e) \n",
      "[1000, 100]\n"
     ]
    }
   ],
   "source": [
    "gadgets = ['Mobile', 'Laptop', 100, 'Camera', 310.28, 'Speakers', 27.00, 'Television', 1000, 'Laptop Case', 'Camera Lens']\n",
    "print(f'a) ')\n",
    "print(list(filter(lambda x: type(x) == int , gadgets)))\n",
    "print(list(filter(lambda x: type(x) == str , gadgets)))\n",
    "\n",
    "print(f'\\nb) ')\n",
    "print(list(sorted(filter(lambda x: type(x) == str , gadgets))))\n",
    "\n",
    "print(f'\\nc) ')\n",
    "print(list(reversed(sorted(filter(lambda x: type(x) == str , gadgets)))))\n",
    "\n",
    "print(f'\\nd) ')\n",
    "print(list(sorted(filter(lambda x: type(x) == int , gadgets))))\n",
    "\n",
    "print(f'\\ne) ')\n",
    "print(list(reversed(sorted(filter(lambda x: type(x) == int , gadgets)))))"
   ]
  },
  {
   "cell_type": "markdown",
   "metadata": {},
   "source": [
    "## Ejercicio 9\n",
    "#### Get first, second best scores from the list.\n",
    "\n",
    "List may contain duplicates.\n",
    "\n",
    "Ex: [86,86,85,85,85,83,23,45,84,1,2,0] => should get 86, 85"
   ]
  },
  {
   "cell_type": "code",
   "execution_count": 2,
   "metadata": {},
   "outputs": [
    {
     "name": "stdout",
     "output_type": "stream",
     "text": [
      "86, 85\n"
     ]
    }
   ],
   "source": [
    "list_9 = [86,86,85,85,85,83,23,45,84,1,2,0]\n",
    "list_9 = set(list_9) \n",
    "result = []\n",
    "for i in range(2):\n",
    "    result.append(str(max(list_9)))\n",
    "    list_9.remove(max(list_9))\n",
    "    \n",
    "print(', '.join(result))    "
   ]
  },
  {
   "cell_type": "markdown",
   "metadata": {},
   "source": [
    "## Ejercicio 10\n",
    "#### Write a program that detects if a string is a palindrome\n",
    "Ask the user for a string and print out whether this string is a palindrome or not. (A palindrome is a string that reads the same forwards and backwards.)"
   ]
  },
  {
   "cell_type": "code",
   "execution_count": 107,
   "metadata": {},
   "outputs": [
    {
     "name": "stdin",
     "output_type": "stream",
     "text": [
      "Introduzca un texto\n",
      " abba\n"
     ]
    },
    {
     "name": "stdout",
     "output_type": "stream",
     "text": [
      "Pedazo de palíndromo!!\n"
     ]
    }
   ],
   "source": [
    "string_10 = input(\"Introduzca un texto\\n\")\n",
    "if string_10 == string_10[::-1]:\n",
    "    print(\"Pedazo de palíndromo!!\")\n",
    "else:\n",
    "    print(\"Esto no es palíndromo :(\")"
   ]
  },
  {
   "cell_type": "markdown",
   "metadata": {},
   "source": [
    "## (Bonus) Ejercicio 11\n",
    "#### Desarrolla el juego del ahorcado\n",
    "El juego del ahorcado consiste en adivinar una palabra, probando letra a letra. El jugaor tiene permitidos 6 fallos, al 7mo fallo pierde. \n",
    "\n",
    "* Habrá que imprimir por pantalla una cantidad de guiones igual al numero de letras e ir sustituyéndolos con los aciertos.\n",
    "* Necesitarás usar un bucle while con un input para modelar las jugadas del ahoracado. En cada ejecución del while comprueba las vidas del jugador, y los aciertos."
   ]
  },
  {
   "cell_type": "code",
   "execution_count": 5,
   "metadata": {},
   "outputs": [
    {
     "name": "stdin",
     "output_type": "stream",
     "text": [
      "\n",
      "Introduce una letra: C\n"
     ]
    },
    {
     "name": "stdout",
     "output_type": "stream",
     "text": [
      "\n",
      "Aciertos:\n",
      "C___c__\n",
      "Quedan 6 intentos\n"
     ]
    },
    {
     "name": "stdin",
     "output_type": "stream",
     "text": [
      "\n",
      "Introduce una letra: o\n"
     ]
    },
    {
     "name": "stdout",
     "output_type": "stream",
     "text": [
      "\n",
      "Aciertos:\n",
      "Co_oco_\n",
      "Quedan 5 intentos\n"
     ]
    },
    {
     "name": "stdin",
     "output_type": "stream",
     "text": [
      "\n",
      "Introduce una letra: l\n"
     ]
    },
    {
     "name": "stdout",
     "output_type": "stream",
     "text": [
      "\n",
      "Aciertos:\n",
      "Coloco_\n",
      "Quedan 4 intentos\n"
     ]
    },
    {
     "name": "stdin",
     "output_type": "stream",
     "text": [
      "\n",
      "Introduce una letra: n\n"
     ]
    },
    {
     "name": "stdout",
     "output_type": "stream",
     "text": [
      "\n",
      "Palabra acertada!\n",
      "Colocon\n"
     ]
    }
   ],
   "source": [
    "fallos = 6\n",
    "palabra = 'Colocon'\n",
    "letras = []\n",
    "contador = 0\n",
    "\n",
    "def muestraAciertos(letras, palabra):\n",
    "    print(f'\\nAciertos:')\n",
    "    aciertos = []\n",
    "    for c in palabra:\n",
    "        if c in letras:\n",
    "            aciertos.append(c)\n",
    "        else:\n",
    "            aciertos.append('_')    \n",
    "    return ''.join(aciertos)\n",
    "\n",
    "while True:    \n",
    "    if contador == fallos:\n",
    "        print(\"\\n\\nHas fallado!\")\n",
    "        print(muestraAciertos(letras, palabra))\n",
    "        break\n",
    "    else:\n",
    "        letra = input(\"\\nIntroduce una letra:\")\n",
    "        if letra.upper() not in palabra or letra.lower() not in palabra:\n",
    "            contador += 1\n",
    "            \n",
    "        letras.append(letra.upper())\n",
    "        letras.append(letra.lower())\n",
    "        \n",
    "        quedan = filter(lambda x : x not in letras, palabra) \n",
    "        \n",
    "        if len(list(quedan)) == 0:\n",
    "            print('\\nPalabra acertada!')\n",
    "            print(palabra)\n",
    "            break\n",
    "            \n",
    "        print(muestraAciertos(letras, palabra))        \n",
    "        print(f'Quedan {fallos - contador} intentos')\n",
    "        \n",
    "        \n",
    "     "
   ]
  },
  {
   "cell_type": "code",
   "execution_count": null,
   "metadata": {},
   "outputs": [],
   "source": []
  }
 ],
 "metadata": {
  "kernelspec": {
   "display_name": "Python 3 (ipykernel)",
   "language": "python",
   "name": "python3"
  },
  "language_info": {
   "codemirror_mode": {
    "name": "ipython",
    "version": 3
   },
   "file_extension": ".py",
   "mimetype": "text/x-python",
   "name": "python",
   "nbconvert_exporter": "python",
   "pygments_lexer": "ipython3",
   "version": "3.7.11"
  }
 },
 "nbformat": 4,
 "nbformat_minor": 4
}
