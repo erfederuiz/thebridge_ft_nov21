{
 "cells": [
  {
   "cell_type": "markdown",
   "metadata": {},
   "source": [
    "![imagen](./img/ejercicios.png)"
   ]
  },
  {
   "cell_type": "markdown",
   "metadata": {},
   "source": [
    "# Ejercicios Python Basics I"
   ]
  },
  {
   "cell_type": "markdown",
   "metadata": {},
   "source": [
    "## Ejercicio 1\n",
    "Imprime por pantalla esta cita con el siguiente formato\n",
    "\n",
    "![imagen](./img/frase_Einstein.PNG)"
   ]
  },
  {
   "cell_type": "code",
   "execution_count": 1,
   "metadata": {},
   "outputs": [
    {
     "name": "stdout",
     "output_type": "stream",
     "text": [
      "¿Por qué esta magnifica tecnología científica,\n",
      "\tque ahorra trabajo y nos hace la vida mas fácil,\n",
      "\t\tnos aporta tan poca felicidad?\n",
      "\t\t\tLa respuesta es esta, simplemente: porque aún no hemos aprendido a utilizarla con tino.\n",
      "\"Albert Einstein\"\n"
     ]
    }
   ],
   "source": [
    "print(\"¿Por qué esta magnifica tecnología científica,\\n\\tque ahorra trabajo y nos hace la vida mas fácil,\\n\\t\\tnos aporta tan poca felicidad?\\n\\t\\t\\tLa respuesta es esta, simplemente: porque aún no hemos aprendido a utilizarla con tino.\\n\\\"Albert Einstein\\\"\")"
   ]
  },
  {
   "cell_type": "markdown",
   "metadata": {},
   "source": [
    "## Ejercicio 2\n",
    "1. Escribe el nombre de la calle de tu domicilio\n",
    "2. Escribe el numero de la calle en otra\n",
    "3. Población en una tercera\n",
    "4. Codigo postal en la cuarta variable\n",
    "5. Crea una quinta variable que concatene todas ellas\n",
    "6. Imprimela por pantalla"
   ]
  },
  {
   "cell_type": "code",
   "execution_count": 4,
   "metadata": {},
   "outputs": [
    {
     "name": "stdout",
     "output_type": "stream",
     "text": [
      "Calle Conde de Vistahermosa, 7\n",
      "28019\n",
      "Madrid\n"
     ]
    }
   ],
   "source": [
    "calle = \"Conde de Vistahermosa\"\n",
    "numero = \"7\"\n",
    "poblacion = \"Madrid\"\n",
    "cp = \"28019\"\n",
    "direccion = \"Calle {}, {}\\n{}\\n{}\"\n",
    "print(direccion.format(calle, numero, cp, poblacion))"
   ]
  },
  {
   "cell_type": "markdown",
   "metadata": {},
   "source": [
    "## Ejercicio 3\n",
    "Replica el output del ejercicio dos, pero está vez sin usar una variable intermedia que concatene todas las demas. Realiza este ejercicio en una línea, con un  único `print`"
   ]
  },
  {
   "cell_type": "code",
   "execution_count": 5,
   "metadata": {},
   "outputs": [
    {
     "name": "stdout",
     "output_type": "stream",
     "text": [
      "Calle Conde de Vistahermosa, 7\n",
      "28019\n",
      "Madrid\n"
     ]
    }
   ],
   "source": [
    "print(\"Calle {}, {}\\n{}\\n{}\".format(calle, numero, cp, poblacion))"
   ]
  },
  {
   "cell_type": "markdown",
   "metadata": {},
   "source": [
    "## Ejercicio 4\n",
    "¿Qué variables están mal escritas y por qué? Realiza primero tu hipótesis y luego ejecuta las variables para comprobarlo. En ese orden :)\n",
    "\n",
    "\n",
    "1. mi_variable = \"Economía\"\n",
    "2. otra_var = \"Ejercicio\n",
    "3. True = \"Ejercicio\"\n",
    "4. mi variab1e = \"Alpha\"\n",
    "5. exec = True\n",
    "6. import = 40\n",
    "7. 81mi_variable = \"Agua\"\n",
    "8. mi_variable10 = 6\n"
   ]
  },
  {
   "cell_type": "markdown",
   "metadata": {},
   "source": [
    "1. Correcta\n",
    "2. Correcta\n",
    "3. Incorrecta\n",
    "4. Incorrecta\n",
    "5. Correcta\n",
    "6. Incorrecta\n",
    "7. Incorrecta\n",
    "8. Correcta"
   ]
  },
  {
   "cell_type": "code",
   "execution_count": 27,
   "metadata": {},
   "outputs": [
    {
     "name": "stdout",
     "output_type": "stream",
     "text": [
      "Economía\n",
      "Ejercicio\n",
      "6\n",
      "True\n"
     ]
    }
   ],
   "source": [
    "mi_variable = \"Economía\"\n",
    "print(mi_variable)\n",
    "\n",
    "otra_var = \"Ejercicio\"\n",
    "print(otra_var)\n",
    "\n",
    "mi_variable10 = 6\n",
    "print(mi_variable10)\n",
    "\n",
    "exec = True\n",
    "print(exec)\n",
    "\n",
    "\n",
    "\n",
    "\n",
    "\n"
   ]
  },
  {
   "cell_type": "markdown",
   "metadata": {},
   "source": [
    "## Ejercicio 5\n",
    "Realiza un conversor de grados Celsius a Fahrenheit. El conversor tiene que recibir el input del usuario y devolver la conversión.\n",
    "\n",
    "La conversión de grados sigue la siguiente fórmula: F = (C × 9 / 5) + 32 "
   ]
  },
  {
   "cell_type": "code",
   "execution_count": 15,
   "metadata": {},
   "outputs": [
    {
     "name": "stdout",
     "output_type": "stream",
     "text": [
      "Introducir temperatura en grados centígrados.\n",
      "23\n",
      "23.0 grados centígrados son 73.4 grados fahrenheit.\n"
     ]
    }
   ],
   "source": [
    "C = input(\"Introducir temperatura en grados centígrados.\\n\")\n",
    "if C.find(\",\") > 0:\n",
    "    C = C.replace(\",\", \".\")\n",
    "C = float(C)\n",
    "F = (C * 9 / 5) + 32\n",
    "print(\"%s grados centígrados son %s grados fahrenheit.\" % (C, F))"
   ]
  },
  {
   "cell_type": "code",
   "execution_count": 14,
   "metadata": {},
   "outputs": [
    {
     "data": {
      "text/plain": [
       "'23.3'"
      ]
     },
     "execution_count": 14,
     "metadata": {},
     "output_type": "execute_result"
    }
   ],
   "source": [
    "C = \"23,3\"\n",
    "C.index(\",\")\n",
    "C = C.replace(\",\", \".\")\n",
    "C"
   ]
  },
  {
   "cell_type": "markdown",
   "metadata": {},
   "source": [
    "## Ejercicio 6\n",
    "Comenta en la medida de lo posible el Ejercicio 5. Será suficiente con poner al menos un comentario de línea, y otro multilínea"
   ]
  },
  {
   "cell_type": "code",
   "execution_count": 16,
   "metadata": {},
   "outputs": [
    {
     "name": "stdout",
     "output_type": "stream",
     "text": [
      "Introducir temperatura en grados centígrados.\n",
      "30\n",
      "30.0 grados centígrados son 86.0 grados fahrenheit.\n"
     ]
    }
   ],
   "source": [
    "'''\n",
    "Solicitud de datos en grados centígrados\n",
    "Se realiza una comprobación básica para sustituir el carácter , por .\n",
    "'''\n",
    "C = input(\"Introducir temperatura en grados centígrados.\\n\")\n",
    "if C.find(\",\") > 0:\n",
    "    C = C.replace(\",\", \".\")\n",
    "   \n",
    "C = float(C)\n",
    "# Cálculo de grados Fareheit\n",
    "F = (C * 9 / 5) + 32\n",
    "print(\"%s grados centígrados son %s grados fahrenheit.\" % (C, F))\n",
    "\n",
    "\n"
   ]
  },
  {
   "cell_type": "code",
   "execution_count": null,
   "metadata": {},
   "outputs": [],
   "source": []
  }
 ],
 "metadata": {
  "kernelspec": {
   "display_name": "Python 3 (ipykernel)",
   "language": "python",
   "name": "python3"
  },
  "language_info": {
   "codemirror_mode": {
    "name": "ipython",
    "version": 3
   },
   "file_extension": ".py",
   "mimetype": "text/x-python",
   "name": "python",
   "nbconvert_exporter": "python",
   "pygments_lexer": "ipython3",
   "version": "3.7.11"
  }
 },
 "nbformat": 4,
 "nbformat_minor": 4
}
