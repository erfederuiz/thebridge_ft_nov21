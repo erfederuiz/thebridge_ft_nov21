{
 "cells": [
  {
   "cell_type": "markdown",
   "id": "1f1401c1-4dc9-4902-95bf-160715a42a25",
   "metadata": {},
   "source": [
    "# Prueba de Ramp-up"
   ]
  },
  {
   "cell_type": "markdown",
   "id": "1b34c670-a6dd-482d-9b04-5babee7be17a",
   "metadata": {},
   "source": [
    "Antes de comenzar, cambia el nombre del archivo notebook poniéndole delante tu nombre y primer apellido:\n",
    "\n",
    "* nombre_apellido_test_pract_nov_2021.ipynb"
   ]
  },
  {
   "cell_type": "code",
   "execution_count": 10,
   "id": "c8d9a657-272c-425a-9ac4-ea59f479673c",
   "metadata": {},
   "outputs": [],
   "source": [
    "# Escribe tu nombre en la variable:\n",
    "nombre_y_apellidos = \"Federico Ruiz Ruiz\" "
   ]
  },
  {
   "cell_type": "code",
   "execution_count": 5,
   "id": "2e9f9af5-076c-44ec-9a80-95c0e99cdc58",
   "metadata": {},
   "outputs": [],
   "source": [
    "# Ejemplo de como queremos ver el código para más de un intento:\n",
    "\n",
    "# intento 1\n",
    "#your code\n",
    "\n",
    "# intento 2\n",
    "#your code"
   ]
  },
  {
   "cell_type": "code",
   "execution_count": 6,
   "id": "bb16d0e3-3bb9-4f2b-944e-8fc35e628701",
   "metadata": {},
   "outputs": [],
   "source": [
    "# crea todas las celdas que necesites"
   ]
  },
  {
   "cell_type": "markdown",
   "id": "9e02b8f5-6f66-4e73-acfa-7f8c3977de2a",
   "metadata": {},
   "source": [
    "#### Notas y pruebas de apoyo para contestar las preguntas\n",
    "\n",
    "\n",
    "Cualquier código aunque no esté correcto nos dirá más de ti que no escribir nada. "
   ]
  },
  {
   "cell_type": "markdown",
   "id": "57d6b062-27f8-4377-b583-d662777b0bd7",
   "metadata": {},
   "source": [
    "__Debes subir tus respuestas antes de las 13:30 al enlace que habilitaremos__"
   ]
  },
  {
   "cell_type": "markdown",
   "id": "976ae3e1-7799-4cdf-9549-8480de46c3dc",
   "metadata": {},
   "source": [
    "#### Ejercicio 1.\n",
    "En este ejercicio se va a crear una lista con los siguientes elementos. Primero, crearemos las variables que luego añadiremos a la lista. Las variables son las siguientes:\n",
    "\n",
    "1. Crea una variable llamada `codigo_postal` de tipo Integer que represente tu código postal. \n",
    "2. Crea una variable llamada `color` de tipo String y que represente tu color favorito.\n",
    "3. Crea una variable llamada `polo` de tipo Boolean True que indique si has estado en el Polo Norte.\n",
    "4. Crea una variable llamada `nada` de tipo None cuyo valor sea None.\n",
    "5. Crea una variable llamada `lista_poética` de tipo List que contenga las cinco palabras que más te gustan del español. Cada elemento ha de ser de tipo String y el tamaño de la lista ha de ser 5.\n",
    "6. Crea una variable llamada `tupla_contrasena` de tipo Tuple con dos contraseñas ficticias.\n",
    "7. Crea una variable llamada `dict_viajes` con dos keys y dos values. Una key es 'destino', teniendo como value a dónde os gustaría viajar. Otra key es 'tren', teniendo como value un booleano que indique si sí os gusta viajar en tren.\n",
    "8. Crea una variable llamada `telefono` que contenga tu número de teléfono, separando el prefijo del resto del número con un guion y sin espacios en blanco. Ejemplo: si el número es el 678123123, el valor de la variable deberá ser 0034-678123123.\n",
    "\n",
    "Añade todos estos elementos en una lista llamada `lista_examen` en el orden de aparición."
   ]
  },
  {
   "cell_type": "code",
   "execution_count": 24,
   "id": "1c6b5cbe-b5fa-49f4-87da-cfd4912741cc",
   "metadata": {},
   "outputs": [],
   "source": [
    "codigo_postal = 28018\n",
    "color = \"Verde\"\n",
    "polo = False\n",
    "nada = None\n",
    "lista_poetica = [\"axarquía\", \"mancuerna\", \"parraque\", \"enebrar\", \"vahído\"]\n",
    "tupla_contrasena = (\"Almu3rz0_at_tw0\", \"D1nn3r_at_0ch0\")\n",
    "dict_viajes = {'destino':'Moscú',\n",
    "               'tren':False}\n",
    "telefono = '0034-657527942'\n",
    "\n",
    "lista_examen = []\n",
    "lista_examen.append(codigo_postal)\n",
    "lista_examen.append(color)\n",
    "lista_examen.append(polo)\n",
    "lista_examen.append(nada)\n",
    "lista_examen.append(lista_poetica)\n",
    "lista_examen.append(tupla_contrasena)\n",
    "lista_examen.append(dict_viajes)\n",
    "lista_examen.append(telefono)"
   ]
  },
  {
   "cell_type": "markdown",
   "id": "ff4becae-86c4-46ab-9e09-3aeec5296700",
   "metadata": {},
   "source": [
    "#### Ejercicio 2. \n",
    "\n",
    "Para resolver este ejercicio necesitarás la lista del ejercicio anterior (`lista_examen`). Se recomienda leer cada punto hasta el final antes de resolver el ejercicio.\n",
    "\n",
    "Se repite para que quede aún más claro: **SOLO USAR LA VARIABLE** `lista_examen`. Usar las demás variables se calificará como error.  \n",
    "\n",
    "1. Mostrar por pantalla, sin uso de funciones (puedes usar print) ni bucles: \n",
    "    - El penúltimo elemento de `lista_poetica` desde `lista_examen` contando por atrás.\n",
    "    - La primera palabra poética.\n",
    "    - Vuestro color favorito.\n",
    "    - El prefijo telefónico sin guion concatenado con la primera contraseña, es decir, en un único string, y sin espacios en blanco.\n",
    "    - Si no os gusta ir en tren y vuestro código postal es par, mostrad el destino. Si no, mostrad \"¿casualidad?, no lo creo\"\n",
    "    \n",
    "    \n",
    "2. Mostrar por pantalla, con uso de un bucle `for`:\n",
    "    - Todos los elementos de `lista_examen`.\n",
    "    - Todos los elementos de `lista_poetica` desde `lista_examen` mostrados en orden inverso __sin usar reverse__.\n",
    "3. Todos los elementos que ocupen una posición entre 2 y 5, ambos inclusive, empezando a contar las posiciones desde cero a través de  `lista_examen` (usando slicing)\n",
    "\n",
    "4. Mostrar por pantalla, con uso de un bucle while: \n",
    "    - Todos los elementos de `tupla_contrasena` seguido de la cadena `\"-->\"` y la `posición` (int) que ocupa en la tupla accediendo desde `lista_examen`. \n",
    "    - Cada key de `dict_viajes` seguido de la cadena \":\" seguido de su value desde `lista_examen`. Usa items(), keys() y values()\n",
    "\n",
    "    "
   ]
  },
  {
   "cell_type": "code",
   "execution_count": 25,
   "id": "5156db13-0693-450d-a0f6-d5a14b9d8a68",
   "metadata": {},
   "outputs": [
    {
     "name": "stdout",
     "output_type": "stream",
     "text": [
      "1)\n",
      "mancuerna\n",
      "axarquía\n",
      "Verde\n",
      "0034Almu3rz0_at_tw0\n",
      "Moscú\n"
     ]
    }
   ],
   "source": [
    "print(f'1)')\n",
    "print(lista_examen[4][1])\n",
    "print(lista_examen[4][0])\n",
    "print(lista_examen[1])\n",
    "print(lista_examen[7][:4] + lista_examen[5][0])\n",
    "print(lista_examen[6]['destino'] if (lista_examen[6]['tren'] == False and lista_examen[0] % 2 == 0) else \"¿casualidad?, no lo creo\" )"
   ]
  },
  {
   "cell_type": "code",
   "execution_count": null,
   "id": "ab864239-b4ea-493d-9d48-94be3c5f348f",
   "metadata": {},
   "outputs": [],
   "source": []
  },
  {
   "cell_type": "code",
   "execution_count": 34,
   "id": "3524820b-caf7-46fe-997d-823c8a786231",
   "metadata": {},
   "outputs": [
    {
     "name": "stdout",
     "output_type": "stream",
     "text": [
      "2)\n",
      "28018\n",
      "Verde\n",
      "False\n",
      "None\n",
      "['axarquía', 'mancuerna', 'parraque', 'enebrar', 'vahído']\n",
      "('Almu3rz0_at_tw0', 'D1nn3r_at_0ch0')\n",
      "{'destino': 'Moscú', 'tren': False}\n",
      "0034-657527942\n",
      "\n",
      "\n",
      "\n",
      "vahído\n",
      "enebrar\n",
      "parraque\n",
      "mancuerna\n",
      "axarquía\n"
     ]
    }
   ],
   "source": [
    "print(f'2)')\n",
    "for e in lista_examen:\n",
    "    print(e)\n",
    "print(\"\\n\\n\")\n",
    "for b in range(5, 0 , -1):\n",
    "    print(lista_examen[4][b-1])\n"
   ]
  },
  {
   "cell_type": "code",
   "execution_count": null,
   "id": "0ad650ba-8117-44dd-978d-a8e3171950e1",
   "metadata": {
    "tags": []
   },
   "outputs": [],
   "source": []
  },
  {
   "cell_type": "code",
   "execution_count": 55,
   "id": "4cf958b9-3aeb-4509-82bf-9d3afd923612",
   "metadata": {},
   "outputs": [
    {
     "name": "stdout",
     "output_type": "stream",
     "text": [
      "3)\n",
      "[28018, 'Verde', False, None, ['axarquía', 'mancuerna', 'parraque', 'enebrar', 'vahído'], ('Almu3rz0_at_tw0', 'D1nn3r_at_0ch0')]\n"
     ]
    }
   ],
   "source": [
    "print(f'3)')\n",
    "print(lista_examen[:6])"
   ]
  },
  {
   "cell_type": "code",
   "execution_count": null,
   "id": "feecf301-860f-46fc-a345-a069a0ab90f4",
   "metadata": {},
   "outputs": [],
   "source": []
  },
  {
   "cell_type": "code",
   "execution_count": 54,
   "id": "aa485f21-4ea8-43cd-bfe2-02f3ec6d328b",
   "metadata": {},
   "outputs": [
    {
     "name": "stdout",
     "output_type": "stream",
     "text": [
      "4)\n",
      "Almu3rz0_at_tw0-->0\n",
      "D1nn3r_at_0ch0-->1\n",
      "destino:Moscú\n",
      "tren:False\n"
     ]
    }
   ],
   "source": [
    "print(f'4)')\n",
    "index_tupla = 0\n",
    "while index_tupla < len(lista_examen[5]):\n",
    "    print(f'{lista_examen[5][index_tupla]}-->{index_tupla}')\n",
    "    index_tupla += 1\n",
    "    \n",
    "index_dict = 0\n",
    "while index_dict < len(lista_examen[6].items()):\n",
    "    claves = list(lista_examen[6].keys())\n",
    "    valores = list(lista_examen[6].values())    \n",
    "    print(f'{claves[index_dict]}:{valores[index_dict]}')\n",
    "    index_dict += 1"
   ]
  },
  {
   "cell_type": "code",
   "execution_count": null,
   "id": "64ca8020-b28d-42ad-ab42-7702718f1b67",
   "metadata": {},
   "outputs": [],
   "source": []
  },
  {
   "cell_type": "code",
   "execution_count": null,
   "id": "a63bb186-1905-4084-a14b-967aae1c0c65",
   "metadata": {},
   "outputs": [],
   "source": []
  },
  {
   "cell_type": "code",
   "execution_count": null,
   "id": "f9537ba1-fabb-4c38-8857-e6a348bdb511",
   "metadata": {},
   "outputs": [],
   "source": []
  },
  {
   "cell_type": "code",
   "execution_count": null,
   "id": "e2798ca7-aca6-4f6c-bba3-123a3aa4b27c",
   "metadata": {},
   "outputs": [],
   "source": []
  },
  {
   "cell_type": "code",
   "execution_count": null,
   "id": "2764072d-8ef3-46cd-b13c-28a487c6a6ac",
   "metadata": {},
   "outputs": [],
   "source": []
  },
  {
   "cell_type": "markdown",
   "id": "4da89624-0da3-4f91-aa5c-a084c5ee1b17",
   "metadata": {},
   "source": [
    "#### Ejercicio 3. \n",
    "\n",
    "Escribe un programa que te diga si una letra es una consonante o una vocal\n"
   ]
  },
  {
   "cell_type": "code",
   "execution_count": 71,
   "id": "c58bf610-92de-4a5a-a00d-652279ea33dd",
   "metadata": {},
   "outputs": [
    {
     "name": "stdin",
     "output_type": "stream",
     "text": [
      "Introduce una letra ü\n"
     ]
    },
    {
     "name": "stdout",
     "output_type": "stream",
     "text": [
      "ü es una vocal\n"
     ]
    }
   ],
   "source": [
    "import re\n",
    "\n",
    "vocales = ['a','e','i','o','u','á','é','í','ó','ú','ä','ë','ï','ö','ü']\n",
    "letra = input(\"Introduce una letra\")\n",
    "if letra.lower() in vocales or letra.upper() in vocales:\n",
    "    print(f'{letra} es una vocal')\n",
    "elif re.match(r'[a-zA-Z]$', letra):\n",
    "    print(f'{letra} es una consonante')"
   ]
  },
  {
   "cell_type": "markdown",
   "id": "52065a6c-3d4c-44c0-a10b-958506c481b3",
   "metadata": {},
   "source": [
    "#### Ejercicio 4. \n",
    "\n",
    "Escribe un programa que calcule la edad humana de un perro.\n",
    "Tienes que pedirle al usuario la edad del perro en años.\n",
    "Si el usuario introduce un número negativo, imprime que la cifra facilitada no tiene sentido. Si el perro tiene un año, son 14 años humanos. Si tiene 2 años, son 22 años humanos.\n",
    "A partir de los 2 años, el cálculo es el siguiente: a la edad del perro se le restan 2 años, el resultado se multiplica por 5 y, finalmente, se le suma 22.\n",
    "Usa una función sin argumentos de entrada ni de salida (muestra toda la información con print())"
   ]
  },
  {
   "cell_type": "code",
   "execution_count": 69,
   "id": "9c59c801-1fe1-4a6d-a000-f85ca738ed00",
   "metadata": {},
   "outputs": [
    {
     "name": "stdin",
     "output_type": "stream",
     "text": [
      "¿Edad del perro? 1.5\n"
     ]
    },
    {
     "name": "stdout",
     "output_type": "stream",
     "text": [
      "Edad humana 14\n"
     ]
    }
   ],
   "source": [
    "\n",
    "\n",
    "def calcula_edad():\n",
    "    edad = float(input(\"¿Edad del perro?\"))\n",
    "    \n",
    "    if edad < 0:\n",
    "        print(f'Una edad de {edad} no tiene sentido!')\n",
    "    elif edad < 1:\n",
    "        edad_humana = edad\n",
    "    elif edad < 2:\n",
    "        edad_humana = 14\n",
    "    elif edad < 3:\n",
    "        edad_humana = 22\n",
    "    else:\n",
    "        edad_humana = ((edad - 2) * 5) + 22\n",
    "        \n",
    "    print(f'Edad humana {edad_humana}')\n",
    "    \n",
    "calcula_edad()"
   ]
  },
  {
   "cell_type": "markdown",
   "id": "80566bfc-0e7c-4ece-ba93-18696dc8f5d8",
   "metadata": {},
   "source": [
    "#### Ejercicio 5. \n",
    "Escribe un programa que calcule la suma de todos los elementos de cada tupla guardada dentro de una lista de tuplas.\n",
    "\n",
    "Entrada:\n",
    "\n",
    "[(1, 2), (2, 3), (3, 4)]\n",
    "\n",
    "Resultado:\n",
    "\n",
    "[3, 5, 7]\n",
    "\n",
    "Entrada:\n",
    "[(1, 2, 6), (2, 3, -6), (3, 4), (2, 2, 2, 2)]\n",
    "\n",
    "\n",
    "Resultado:\n",
    "[9, -1, 7, 8]"
   ]
  },
  {
   "cell_type": "code",
   "execution_count": 55,
   "id": "90b7fc85-d781-46b7-a68e-28d783520daa",
   "metadata": {},
   "outputs": [
    {
     "name": "stdout",
     "output_type": "stream",
     "text": [
      "Entrada:\n",
      "[(1, 2), (2, 3), (3, 4)]\n",
      "\n",
      "Resultado:\n",
      "[3, 5, 7]\n",
      "\n",
      "Entrada:\n",
      "[(1, 2, 6), (2, 3, -6), (3, 4), (2, 2, 2, 2)]\n",
      "\n",
      "Resultado:\n",
      "[9, -1, 7, 8]\n"
     ]
    }
   ],
   "source": []
  },
  {
   "cell_type": "code",
   "execution_count": 76,
   "id": "b3597c0e-6bb2-4ca1-a280-b2a171df8658",
   "metadata": {},
   "outputs": [
    {
     "name": "stdout",
     "output_type": "stream",
     "text": [
      "Entrada:\n",
      "[(1, 2, 6), (2, 3, -6), (3, 4), (2, 2, 2, 2)]\n",
      "\n",
      "Resultado:\n",
      "[9, -1, 7, 8]\n"
     ]
    }
   ],
   "source": [
    "entrada = [(1, 2, 6), (2, 3, -6), (3, 4), (2, 2, 2, 2)]\n",
    "resultado = [sum(t) for t in entrada]\n",
    "print(f'Entrada:\\n{entrada}\\n\\nResultado:\\n{resultado}')"
   ]
  },
  {
   "cell_type": "markdown",
   "id": "2991309f-4208-431a-900c-d9bc734bb936",
   "metadata": {},
   "source": [
    "#### Ejercicio 6. \n",
    "\n",
    "Escribe un programa que te diga si una frase es un pangrama. Un pangrama es una frase que contiene todas las letras del alfabeto.\n",
    "Puedes tener espacios en blanco, pero NO  tendrás signos de puntuación, a excepción de las tildes.\n",
    "\n",
    "Ejemplo de pangrama:\n",
    "\n",
    "Extraño pan de col y kiwi se quemó bajo fugaz vaho "
   ]
  },
  {
   "cell_type": "code",
   "execution_count": 4,
   "id": "9a349c1e-15ab-4253-97f8-2a07a263791d",
   "metadata": {},
   "outputs": [
    {
     "name": "stdout",
     "output_type": "stream",
     "text": [
      "\n",
      "Extraño pan de col y kiwi se quemó bajo fugaz vaho\n",
      "\n",
      "Es un pangrama\n"
     ]
    }
   ],
   "source": [
    "pangrama = 'Extraño pan de col y kiwi se quemó bajo fugaz vaho'\n",
    "check_alfabeto = {'a':0, 'b':0, 'c':0, 'd':0, 'e':0, 'f':0, 'g':0, 'h':0, 'i':0, 'j':0, 'k':0, 'l':0, 'm':0, 'n':0, 'ñ':0, 'o':0, 'p':0, 'q':0, 'r':0, 's':0, 't':0, 'u':0, 'v':0, 'w':0, 'x':0, 'y':0, 'z':0}\n",
    "check_especiales =  {'á':0, 'é':0, 'í':0, 'ó':0, 'ú':0, 'ä':0, 'ë':0, 'ï':0, 'ö':0, 'ü':0}\n",
    "correspondencias = {'á':'a', 'é':'e', 'í':'i', 'ó':'o', 'ú':'u', 'ä':'a', 'ë':'e', 'ï':'i', 'ö':'o', 'ü':'u'}\n",
    "\n",
    "for l in pangrama:\n",
    "    l = l.replace(' ','')\n",
    "    if len(l) > 0:\n",
    "        if l.lower() in check_alfabeto.keys():\n",
    "            check_alfabeto[l.lower()] += 1\n",
    "        elif l.lower() in check_especiales.keys():\n",
    "            check_especiales[l.lower()] += 1\n",
    "\n",
    "for correspondencia in  correspondencias.items():\n",
    "    if check_especiales[correspondencia[0]] > 0:\n",
    "        check_alfabeto[correspondencia[1]] += 1\n",
    "\n",
    "values_alfabeto = set(check_alfabeto.values())\n",
    "\n",
    "if 0 in values_alfabeto:\n",
    "    print(f'{pangrama}\\n\\nNo es un pangrama')\n",
    "else:\n",
    "    print(f'\\n{pangrama}\\n\\nEs un pangrama')\n",
    "    \n"
   ]
  },
  {
   "cell_type": "markdown",
   "id": "3dbb76e0-79b2-45e8-9034-58ee9cbd82bb",
   "metadata": {},
   "source": [
    "#### Ejercicio 7. \n",
    "\n",
    "Escribe un programa que use diccionarios para traducir palabras entre varios idiomas.\n",
    "Deberás pedirle al usuario una palabra por teclado, ver si está en tu diccionario. En caso de que esté, deberás mostrar la traducción de esa palabra.\n",
    "\n",
    "Ejemplo de diccionario:\n",
    "\n",
    "```python\n",
    "{\"file\": \"Fichier\", \"new\": \"Nouveau\", \"open\": \"Ouvrir\", \"save\": \"Enregistrer\", \"save as\": \"Enregistrer sous\", \"print preview\": \"Apercu avant impressioner\", \"print\": \"Imprimer\", \"close\": \"Fermer\", \"exit\": \"Quitter\"}\n"
   ]
  },
  {
   "cell_type": "code",
   "execution_count": 1,
   "id": "88236123-e8ac-45da-87d0-134a88a690c1",
   "metadata": {},
   "outputs": [
    {
     "name": "stdin",
     "output_type": "stream",
     "text": [
      "¿qué idioma?:  fr\n",
      "¿qué palabra?:  file\n"
     ]
    },
    {
     "name": "stdout",
     "output_type": "stream",
     "text": [
      "file  --> Fichier\n"
     ]
    },
    {
     "data": {
      "text/plain": [
       "'Fichier'"
      ]
     },
     "execution_count": 1,
     "metadata": {},
     "output_type": "execute_result"
    }
   ],
   "source": []
  },
  {
   "cell_type": "code",
   "execution_count": 24,
   "id": "713a5e48-8403-4806-b1af-f6966ed83d5e",
   "metadata": {},
   "outputs": [
    {
     "name": "stdin",
     "output_type": "stream",
     "text": [
      "¿Que idioma? [fr/es]:   fr\n",
      "¿Que palabra? patata\n"
     ]
    },
    {
     "name": "stdout",
     "output_type": "stream",
     "text": [
      "No existe la palabra patata en el diccionario fr\n"
     ]
    }
   ],
   "source": [
    "diccionarios = {'fr':{\"file\": \"Fichier\", \"new\": \"Nouveau\", \"open\": \"Ouvrir\", \"save\": \"Enregistrer\", \"save as\": \"Enregistrer sous\", \"print preview\": \"Apercu avant impressioner\", \"print\": \"Imprimer\", \"close\": \"Fermer\", \"exit\": \"Quitter\"},\n",
    "'es':{\"file\": \"Archivo\", \"new\": \"Nuevo\", \"open\": \"Abierto\", \"save\": \"Guardar\", \"save as\": \"Guardar como\", \"print preview\": \"Imprimir vista previa\", \"print\": \"Imprimir\", \"close\": \"Cerrar\", \"exit\": \"Salir\"}}\n",
    "\n",
    "diccionario = input(f'¿Que idioma? [fr/es]:  ')\n",
    "if diccionario in diccionarios.keys():\n",
    "    palabra = input(f'¿Que palabra?')\n",
    "    if palabra in diccionarios[diccionario]:\n",
    "        print(f'{palabra} --> {diccionarios[diccionario][palabra]}')\n",
    "    else:\n",
    "        print(f'No existe la palabra {palabra} en el diccionario {diccionario}')\n",
    "else:\n",
    "    print(f'No existe el diccionario {diccionario}.')\n",
    "    "
   ]
  },
  {
   "cell_type": "markdown",
   "id": "61967ca4-7e06-44b3-ad7b-adbc0e71671a",
   "metadata": {},
   "source": [
    "#### Ejercicio 8.\n",
    "\n",
    "Usando objetos modela un theremin (es un instrumento musical que se toca modificando el campo electromagnético, por si tenías curiosidad).\n",
    "Tendrá de atributos la marca, el modelo, el peso, la potencia y la batería.\n",
    "\n",
    "Todos los instrumentos se crean con un peso predeterminado de 500, una potencia de 50 y una batería de 200.\n",
    "\n",
    "Cuando se recarga la batería vale 200.\n",
    "\n",
    "Cuando se toca, se muestra por pantalla que está sonando y la batería disminuye 10 (no siendo nunca negativo).\n",
    "Si no hay batería, no puede sonar. Crea un instrumento, tócalo mientras quede batería, cárgalo y no lo vuelvas a tocar.\n"
   ]
  },
  {
   "cell_type": "code",
   "execution_count": 36,
   "id": "8082c8cd-03a9-478e-aa72-4ec1306e1bb2",
   "metadata": {},
   "outputs": [
    {
     "name": "stdout",
     "output_type": "stream",
     "text": [
      "El theremin Seldon Cooper está tocando.\n",
      "El theremin Seldon Cooper está tocando.\n",
      "El theremin Seldon Cooper está tocando.\n",
      "El theremin Seldon Cooper está tocando.\n",
      "El theremin Seldon Cooper está tocando.\n",
      "El theremin Seldon Cooper está tocando.\n",
      "El theremin Seldon Cooper está tocando.\n",
      "El theremin Seldon Cooper está tocando.\n",
      "El theremin Seldon Cooper está tocando.\n",
      "El theremin Seldon Cooper está tocando.\n",
      "El theremin Seldon Cooper está tocando.\n",
      "El theremin Seldon Cooper está tocando.\n",
      "El theremin Seldon Cooper está tocando.\n",
      "El theremin Seldon Cooper está tocando.\n",
      "El theremin Seldon Cooper está tocando.\n",
      "El theremin Seldon Cooper está tocando.\n",
      "El theremin Seldon Cooper está tocando.\n",
      "El theremin Seldon Cooper está tocando.\n",
      "El theremin Seldon Cooper está tocando.\n",
      "El theremin Seldon Cooper está tocando.\n",
      "El theremin Seldon Cooper no tiene batería.\n",
      "El theremin Seldon Cooper no tiene batería.\n",
      "El theremin Seldon Cooper no tiene batería.\n",
      "El theremin Seldon Cooper no tiene batería.\n",
      "El theremin Seldon Cooper no tiene batería.\n",
      "El theremin Seldon Cooper no tiene batería.\n",
      "El theremin Seldon Cooper no tiene batería.\n",
      "El theremin Seldon Cooper no tiene batería.\n",
      "El theremin Seldon Cooper no tiene batería.\n",
      "El theremin Seldon Cooper no tiene batería.\n",
      "El theremin Seldon Cooper está cargado.\n"
     ]
    }
   ],
   "source": [
    "class Theremin:\n",
    "    potencia = 50\n",
    "    peso = 500\n",
    "    bateria = 200\n",
    "    \n",
    "    def __init__(self,marca, modelo):\n",
    "        self.marca = marca\n",
    "        self.modelo = modelo\n",
    "        \n",
    "    def recargar(self):\n",
    "        self.bateria = 200\n",
    "        print(f'El theremin {self.marca} {self.modelo} está cargado.')\n",
    "        \n",
    "    def tocar(self):        \n",
    "        if self.bateria >= 10:\n",
    "            print(f'El theremin {self.marca} {self.modelo} está tocando.')\n",
    "            self.bateria -= 10\n",
    "        else:\n",
    "            print(f'El theremin {self.marca} {self.modelo} no tiene batería.')\n",
    "            \n",
    "mi_theremin = Theremin(\"Seldon\", \"Cooper\")\n",
    "for i in range(30):\n",
    "    mi_theremin.tocar()\n",
    "mi_theremin.recargar()"
   ]
  },
  {
   "cell_type": "code",
   "execution_count": 2,
   "id": "6a539f50-d3fd-48d3-b121-e78d932ae7df",
   "metadata": {},
   "outputs": [
    {
     "name": "stdout",
     "output_type": "stream",
     "text": [
      "El theremin modelo_molon está tocando.\n",
      "El theremin modelo_molon está tocando.\n",
      "El theremin modelo_molon está tocando.\n",
      "El theremin modelo_molon está tocando.\n",
      "El theremin modelo_molon está tocando.\n",
      "El theremin modelo_molon está tocando.\n",
      "El theremin modelo_molon está tocando.\n",
      "El theremin modelo_molon está tocando.\n",
      "El theremin modelo_molon está tocando.\n",
      "El theremin modelo_molon está tocando.\n",
      "El theremin modelo_molon está tocando.\n",
      "El theremin modelo_molon está tocando.\n",
      "El theremin modelo_molon está tocando.\n",
      "El theremin modelo_molon está tocando.\n",
      "El theremin modelo_molon está tocando.\n",
      "El theremin modelo_molon está tocando.\n",
      "El theremin modelo_molon está tocando.\n",
      "El theremin modelo_molon está tocando.\n",
      "El theremin modelo_molon está tocando.\n",
      "El theremin modelo_molon está tocando.\n",
      "El theremin modelo_molon no tiene batería.\n",
      "Bateria llena.\n"
     ]
    }
   ],
   "source": []
  },
  {
   "cell_type": "markdown",
   "id": "30f773b5-a6da-4446-b36b-722b2ee57730",
   "metadata": {},
   "source": [
    "#### Ejercicio 9\n",
    "Una empresa usa dos listas  para guardar la información de sus empleados. Una lista guarda el nombre del empleado y la otra guarda su salario. Escribe un programa que cree esas dos listas originalmente vacías y que a través de un menú pueda hacer lo siguiente:\n",
    "    \n",
    "Inserta 1 para añadir un nuevo empleado y su salario\n",
    "\n",
    "Inserta 2 para imprimir los nombres y salarios de todos los empleados\n",
    "\n",
    "Inserta 3 para mostrar el número de empleados\n",
    "\n",
    "Inserta 4 para imprimir los nombres de los empleados con sueldos superiores a 400000\n",
    "\n",
    "Inserta 5 para subir un 5% los sueldos por debajo de 10000\n",
    "\n",
    "Inserta 6 para mostrar el total de todos los salarios\n",
    "\n",
    "Inserta 7 para salir del programa"
   ]
  },
  {
   "cell_type": "code",
   "execution_count": 70,
   "id": "18fe6daf-4eab-49bd-870d-09bd8bf6b410",
   "metadata": {},
   "outputs": [
    {
     "name": "stdout",
     "output_type": "stream",
     "text": [
      "\n",
      "\n",
      "¡Bienvenido!\n",
      "\n",
      "Inserta 1 para añadir un nuevo empleado y su salario\n",
      "Inserta 2 para imprimir los nombres y salarios de todos los empleados\n",
      "Inserta 3 para mostrar el número de empleados\n",
      "Inserta 4 para imprimir los nombres de los empleados con sueldos superiores a 400000\n",
      "Inserta 5 para subir un 5% los sueldos por debajo de 10000\n",
      "Inserta 6 para mostrar el total de todos los salarios\n",
      "Inserta 7 para salir del programa\n",
      "\n",
      "    \n"
     ]
    },
    {
     "name": "stdin",
     "output_type": "stream",
     "text": [
      "Inserta option:  1\n",
      "Nombre de empleado:  Juan\n",
      "Salario:  9000\n"
     ]
    },
    {
     "name": "stdout",
     "output_type": "stream",
     "text": [
      "\n"
     ]
    },
    {
     "name": "stdin",
     "output_type": "stream",
     "text": [
      "Inserta opcion:  1\n",
      "Nombre de empleado:  Luisa\n",
      "Salario:  41000\n"
     ]
    },
    {
     "name": "stdout",
     "output_type": "stream",
     "text": [
      "\n"
     ]
    },
    {
     "name": "stdin",
     "output_type": "stream",
     "text": [
      "Inserta opcion:  3\n"
     ]
    },
    {
     "name": "stdout",
     "output_type": "stream",
     "text": [
      "Cantidad de empleados:  2\n",
      "\n"
     ]
    },
    {
     "name": "stdin",
     "output_type": "stream",
     "text": [
      "Inserta opcion:  4\n"
     ]
    },
    {
     "name": "stdout",
     "output_type": "stream",
     "text": [
      "Sueldos mayores de 40000:\n",
      "Luisa\n",
      "\n"
     ]
    },
    {
     "name": "stdin",
     "output_type": "stream",
     "text": [
      "Inserta opcion:  5\n"
     ]
    },
    {
     "name": "stdout",
     "output_type": "stream",
     "text": [
      "¡Los sueldos bajos se han subido!\n",
      "\n"
     ]
    },
    {
     "name": "stdin",
     "output_type": "stream",
     "text": [
      "Inserta opcion:  6\n"
     ]
    },
    {
     "name": "stdout",
     "output_type": "stream",
     "text": [
      "Suma de todos los sueldos:  50900.0\n",
      "\n"
     ]
    },
    {
     "name": "stdin",
     "output_type": "stream",
     "text": [
      "Inserta opcion:  7\n"
     ]
    },
    {
     "name": "stdout",
     "output_type": "stream",
     "text": [
      "¡Gracias por usar el programa!\n"
     ]
    }
   ],
   "source": []
  },
  {
   "cell_type": "code",
   "execution_count": 32,
   "id": "67858e27-b7f5-4e05-bc50-3fca698ad22a",
   "metadata": {},
   "outputs": [
    {
     "name": "stdout",
     "output_type": "stream",
     "text": [
      "¡Bienvenido!\n",
      "\n",
      "\n",
      "Inserta 1 para añadir un nuevo empleado y su salario\n",
      "Inserta 2 para imprimir los nombres y salarios de todos los empleados\n",
      "Inserta 3 para mostrar el número de empleados\n",
      "Inserta 4 para imprimir los nombres de los empleados que superen un sueldo\n",
      "Inserta 5 para subir un 5% los sueldos por debajo de 10000\n",
      "Inserta 6 para mostrar el total de todos los salarios\n",
      "Inserta 7 para salir del programa\n",
      "\n",
      "\n",
      "\n"
     ]
    },
    {
     "name": "stdin",
     "output_type": "stream",
     "text": [
      "\n",
      "Inserta option: 1\n",
      "\n",
      "\n",
      "Nombre del empleado: primero\n",
      "Sueldo 10000\n"
     ]
    },
    {
     "name": "stdout",
     "output_type": "stream",
     "text": [
      "\n",
      "\n",
      "Inserta 1 para añadir un nuevo empleado y su salario\n",
      "Inserta 2 para imprimir los nombres y salarios de todos los empleados\n",
      "Inserta 3 para mostrar el número de empleados\n",
      "Inserta 4 para imprimir los nombres de los empleados que superen un sueldo\n",
      "Inserta 5 para subir un 5% los sueldos por debajo de 10000\n",
      "Inserta 6 para mostrar el total de todos los salarios\n",
      "Inserta 7 para salir del programa\n",
      "\n",
      "\n",
      "\n"
     ]
    },
    {
     "name": "stdin",
     "output_type": "stream",
     "text": [
      "\n",
      "Inserta option: 1\n",
      "\n",
      "\n",
      "Nombre del empleado: Segundo\n",
      "Sueldo 20000\n"
     ]
    },
    {
     "name": "stdout",
     "output_type": "stream",
     "text": [
      "\n",
      "\n",
      "Inserta 1 para añadir un nuevo empleado y su salario\n",
      "Inserta 2 para imprimir los nombres y salarios de todos los empleados\n",
      "Inserta 3 para mostrar el número de empleados\n",
      "Inserta 4 para imprimir los nombres de los empleados que superen un sueldo\n",
      "Inserta 5 para subir un 5% los sueldos por debajo de 10000\n",
      "Inserta 6 para mostrar el total de todos los salarios\n",
      "Inserta 7 para salir del programa\n",
      "\n",
      "\n",
      "\n"
     ]
    },
    {
     "name": "stdin",
     "output_type": "stream",
     "text": [
      "\n",
      "Inserta option: 1\n",
      "\n",
      "\n",
      "Nombre del empleado: Tercero\n",
      "Sueldo 30000\n"
     ]
    },
    {
     "name": "stdout",
     "output_type": "stream",
     "text": [
      "\n",
      "\n",
      "Inserta 1 para añadir un nuevo empleado y su salario\n",
      "Inserta 2 para imprimir los nombres y salarios de todos los empleados\n",
      "Inserta 3 para mostrar el número de empleados\n",
      "Inserta 4 para imprimir los nombres de los empleados que superen un sueldo\n",
      "Inserta 5 para subir un 5% los sueldos por debajo de 10000\n",
      "Inserta 6 para mostrar el total de todos los salarios\n",
      "Inserta 7 para salir del programa\n",
      "\n",
      "\n",
      "\n"
     ]
    },
    {
     "name": "stdin",
     "output_type": "stream",
     "text": [
      "\n",
      "Inserta option: 2\n"
     ]
    },
    {
     "name": "stdout",
     "output_type": "stream",
     "text": [
      "\n",
      "\n",
      "Empleado\tSueldo\n",
      "--------\t------\n",
      "primero\t\t10000\n",
      "Segundo\t\t20000\n",
      "Tercero\t\t30000\n",
      "\n",
      "\n",
      "Inserta 1 para añadir un nuevo empleado y su salario\n",
      "Inserta 2 para imprimir los nombres y salarios de todos los empleados\n",
      "Inserta 3 para mostrar el número de empleados\n",
      "Inserta 4 para imprimir los nombres de los empleados que superen un sueldo\n",
      "Inserta 5 para subir un 5% los sueldos por debajo de 10000\n",
      "Inserta 6 para mostrar el total de todos los salarios\n",
      "Inserta 7 para salir del programa\n",
      "\n",
      "\n",
      "\n"
     ]
    },
    {
     "name": "stdin",
     "output_type": "stream",
     "text": [
      "\n",
      "Inserta option: 4\n",
      "Introducir salario filtro:  15000\n"
     ]
    },
    {
     "name": "stdout",
     "output_type": "stream",
     "text": [
      "Empleados con sueldos mayores de 15000\n",
      "Segundo\n",
      "Tercero\n",
      "\n",
      "\n",
      "Inserta 1 para añadir un nuevo empleado y su salario\n",
      "Inserta 2 para imprimir los nombres y salarios de todos los empleados\n",
      "Inserta 3 para mostrar el número de empleados\n",
      "Inserta 4 para imprimir los nombres de los empleados que superen un sueldo\n",
      "Inserta 5 para subir un 5% los sueldos por debajo de 10000\n",
      "Inserta 6 para mostrar el total de todos los salarios\n",
      "Inserta 7 para salir del programa\n",
      "\n",
      "\n",
      "\n"
     ]
    },
    {
     "name": "stdin",
     "output_type": "stream",
     "text": [
      "\n",
      "Inserta option: 5\n"
     ]
    },
    {
     "name": "stdout",
     "output_type": "stream",
     "text": [
      "Se han subido los sueldos bajos\n",
      "\n",
      "\n",
      "Inserta 1 para añadir un nuevo empleado y su salario\n",
      "Inserta 2 para imprimir los nombres y salarios de todos los empleados\n",
      "Inserta 3 para mostrar el número de empleados\n",
      "Inserta 4 para imprimir los nombres de los empleados que superen un sueldo\n",
      "Inserta 5 para subir un 5% los sueldos por debajo de 10000\n",
      "Inserta 6 para mostrar el total de todos los salarios\n",
      "Inserta 7 para salir del programa\n",
      "\n",
      "\n",
      "\n"
     ]
    },
    {
     "name": "stdin",
     "output_type": "stream",
     "text": [
      "\n",
      "Inserta option: 1\n",
      "\n",
      "\n",
      "Nombre del empleado: cuarto\n",
      "Sueldo 9000\n"
     ]
    },
    {
     "name": "stdout",
     "output_type": "stream",
     "text": [
      "\n",
      "\n",
      "Inserta 1 para añadir un nuevo empleado y su salario\n",
      "Inserta 2 para imprimir los nombres y salarios de todos los empleados\n",
      "Inserta 3 para mostrar el número de empleados\n",
      "Inserta 4 para imprimir los nombres de los empleados que superen un sueldo\n",
      "Inserta 5 para subir un 5% los sueldos por debajo de 10000\n",
      "Inserta 6 para mostrar el total de todos los salarios\n",
      "Inserta 7 para salir del programa\n",
      "\n",
      "\n",
      "\n"
     ]
    },
    {
     "name": "stdin",
     "output_type": "stream",
     "text": [
      "\n",
      "Inserta option: 2\n"
     ]
    },
    {
     "name": "stdout",
     "output_type": "stream",
     "text": [
      "\n",
      "\n",
      "Empleado\tSueldo\n",
      "--------\t------\n",
      "primero\t\t10000\n",
      "Segundo\t\t20000\n",
      "Tercero\t\t30000\n",
      "cuarto\t\t9000\n",
      "\n",
      "\n",
      "Inserta 1 para añadir un nuevo empleado y su salario\n",
      "Inserta 2 para imprimir los nombres y salarios de todos los empleados\n",
      "Inserta 3 para mostrar el número de empleados\n",
      "Inserta 4 para imprimir los nombres de los empleados que superen un sueldo\n",
      "Inserta 5 para subir un 5% los sueldos por debajo de 10000\n",
      "Inserta 6 para mostrar el total de todos los salarios\n",
      "Inserta 7 para salir del programa\n",
      "\n",
      "\n",
      "\n"
     ]
    },
    {
     "name": "stdin",
     "output_type": "stream",
     "text": [
      "\n",
      "Inserta option: 5\n"
     ]
    },
    {
     "name": "stdout",
     "output_type": "stream",
     "text": [
      "Se han subido los sueldos bajos\n",
      "\n",
      "\n",
      "Inserta 1 para añadir un nuevo empleado y su salario\n",
      "Inserta 2 para imprimir los nombres y salarios de todos los empleados\n",
      "Inserta 3 para mostrar el número de empleados\n",
      "Inserta 4 para imprimir los nombres de los empleados que superen un sueldo\n",
      "Inserta 5 para subir un 5% los sueldos por debajo de 10000\n",
      "Inserta 6 para mostrar el total de todos los salarios\n",
      "Inserta 7 para salir del programa\n",
      "\n",
      "\n",
      "\n"
     ]
    },
    {
     "name": "stdin",
     "output_type": "stream",
     "text": [
      "\n",
      "Inserta option: 2\n"
     ]
    },
    {
     "name": "stdout",
     "output_type": "stream",
     "text": [
      "\n",
      "\n",
      "Empleado\tSueldo\n",
      "--------\t------\n",
      "primero\t\t10000\n",
      "Segundo\t\t20000\n",
      "Tercero\t\t30000\n",
      "cuarto\t\t9450.0\n",
      "\n",
      "\n",
      "Inserta 1 para añadir un nuevo empleado y su salario\n",
      "Inserta 2 para imprimir los nombres y salarios de todos los empleados\n",
      "Inserta 3 para mostrar el número de empleados\n",
      "Inserta 4 para imprimir los nombres de los empleados que superen un sueldo\n",
      "Inserta 5 para subir un 5% los sueldos por debajo de 10000\n",
      "Inserta 6 para mostrar el total de todos los salarios\n",
      "Inserta 7 para salir del programa\n",
      "\n",
      "\n",
      "\n"
     ]
    },
    {
     "name": "stdin",
     "output_type": "stream",
     "text": [
      "\n",
      "Inserta option: 5\n"
     ]
    },
    {
     "name": "stdout",
     "output_type": "stream",
     "text": [
      "Se han subido los sueldos bajos\n",
      "\n",
      "\n",
      "Inserta 1 para añadir un nuevo empleado y su salario\n",
      "Inserta 2 para imprimir los nombres y salarios de todos los empleados\n",
      "Inserta 3 para mostrar el número de empleados\n",
      "Inserta 4 para imprimir los nombres de los empleados que superen un sueldo\n",
      "Inserta 5 para subir un 5% los sueldos por debajo de 10000\n",
      "Inserta 6 para mostrar el total de todos los salarios\n",
      "Inserta 7 para salir del programa\n",
      "\n",
      "\n",
      "\n"
     ]
    },
    {
     "name": "stdin",
     "output_type": "stream",
     "text": [
      "\n",
      "Inserta option: 2\n"
     ]
    },
    {
     "name": "stdout",
     "output_type": "stream",
     "text": [
      "\n",
      "\n",
      "Empleado\tSueldo\n",
      "--------\t------\n",
      "primero\t\t10000\n",
      "Segundo\t\t20000\n",
      "Tercero\t\t30000\n",
      "cuarto\t\t9922.5\n",
      "\n",
      "\n",
      "Inserta 1 para añadir un nuevo empleado y su salario\n",
      "Inserta 2 para imprimir los nombres y salarios de todos los empleados\n",
      "Inserta 3 para mostrar el número de empleados\n",
      "Inserta 4 para imprimir los nombres de los empleados que superen un sueldo\n",
      "Inserta 5 para subir un 5% los sueldos por debajo de 10000\n",
      "Inserta 6 para mostrar el total de todos los salarios\n",
      "Inserta 7 para salir del programa\n",
      "\n",
      "\n",
      "\n"
     ]
    },
    {
     "name": "stdin",
     "output_type": "stream",
     "text": [
      "\n",
      "Inserta option: 5\n"
     ]
    },
    {
     "name": "stdout",
     "output_type": "stream",
     "text": [
      "Se han subido los sueldos bajos\n",
      "\n",
      "\n",
      "Inserta 1 para añadir un nuevo empleado y su salario\n",
      "Inserta 2 para imprimir los nombres y salarios de todos los empleados\n",
      "Inserta 3 para mostrar el número de empleados\n",
      "Inserta 4 para imprimir los nombres de los empleados que superen un sueldo\n",
      "Inserta 5 para subir un 5% los sueldos por debajo de 10000\n",
      "Inserta 6 para mostrar el total de todos los salarios\n",
      "Inserta 7 para salir del programa\n",
      "\n",
      "\n",
      "\n"
     ]
    },
    {
     "name": "stdin",
     "output_type": "stream",
     "text": [
      "\n",
      "Inserta option: 2\n"
     ]
    },
    {
     "name": "stdout",
     "output_type": "stream",
     "text": [
      "\n",
      "\n",
      "Empleado\tSueldo\n",
      "--------\t------\n",
      "primero\t\t10000\n",
      "Segundo\t\t20000\n",
      "Tercero\t\t30000\n",
      "cuarto\t\t10418.625\n",
      "\n",
      "\n",
      "Inserta 1 para añadir un nuevo empleado y su salario\n",
      "Inserta 2 para imprimir los nombres y salarios de todos los empleados\n",
      "Inserta 3 para mostrar el número de empleados\n",
      "Inserta 4 para imprimir los nombres de los empleados que superen un sueldo\n",
      "Inserta 5 para subir un 5% los sueldos por debajo de 10000\n",
      "Inserta 6 para mostrar el total de todos los salarios\n",
      "Inserta 7 para salir del programa\n",
      "\n",
      "\n",
      "\n"
     ]
    },
    {
     "name": "stdin",
     "output_type": "stream",
     "text": [
      "\n",
      "Inserta option: 5\n"
     ]
    },
    {
     "name": "stdout",
     "output_type": "stream",
     "text": [
      "Se han subido los sueldos bajos\n",
      "\n",
      "\n",
      "Inserta 1 para añadir un nuevo empleado y su salario\n",
      "Inserta 2 para imprimir los nombres y salarios de todos los empleados\n",
      "Inserta 3 para mostrar el número de empleados\n",
      "Inserta 4 para imprimir los nombres de los empleados que superen un sueldo\n",
      "Inserta 5 para subir un 5% los sueldos por debajo de 10000\n",
      "Inserta 6 para mostrar el total de todos los salarios\n",
      "Inserta 7 para salir del programa\n",
      "\n",
      "\n",
      "\n"
     ]
    },
    {
     "name": "stdin",
     "output_type": "stream",
     "text": [
      "\n",
      "Inserta option: 2\n"
     ]
    },
    {
     "name": "stdout",
     "output_type": "stream",
     "text": [
      "\n",
      "\n",
      "Empleado\tSueldo\n",
      "--------\t------\n",
      "primero\t\t10000\n",
      "Segundo\t\t20000\n",
      "Tercero\t\t30000\n",
      "cuarto\t\t10418.625\n",
      "\n",
      "\n",
      "Inserta 1 para añadir un nuevo empleado y su salario\n",
      "Inserta 2 para imprimir los nombres y salarios de todos los empleados\n",
      "Inserta 3 para mostrar el número de empleados\n",
      "Inserta 4 para imprimir los nombres de los empleados que superen un sueldo\n",
      "Inserta 5 para subir un 5% los sueldos por debajo de 10000\n",
      "Inserta 6 para mostrar el total de todos los salarios\n",
      "Inserta 7 para salir del programa\n",
      "\n",
      "\n",
      "\n"
     ]
    },
    {
     "name": "stdin",
     "output_type": "stream",
     "text": [
      "\n",
      "Inserta option: 6\n"
     ]
    },
    {
     "name": "stdout",
     "output_type": "stream",
     "text": [
      "El gasto total en sueldos es 70418.625€\n",
      "\n",
      "\n",
      "Inserta 1 para añadir un nuevo empleado y su salario\n",
      "Inserta 2 para imprimir los nombres y salarios de todos los empleados\n",
      "Inserta 3 para mostrar el número de empleados\n",
      "Inserta 4 para imprimir los nombres de los empleados que superen un sueldo\n",
      "Inserta 5 para subir un 5% los sueldos por debajo de 10000\n",
      "Inserta 6 para mostrar el total de todos los salarios\n",
      "Inserta 7 para salir del programa\n",
      "\n",
      "\n",
      "\n"
     ]
    },
    {
     "name": "stdin",
     "output_type": "stream",
     "text": [
      "\n",
      "Inserta option: 7\n"
     ]
    }
   ],
   "source": [
    "op1msg = 'Inserta 1 para añadir un nuevo empleado y su salario'\n",
    "op2msg = 'Inserta 2 para imprimir los nombres y salarios de todos los empleados'\n",
    "op3msg = 'Inserta 3 para mostrar el número de empleados'\n",
    "op4msg = 'Inserta 4 para imprimir los nombres de los empleados que superen un sueldo'\n",
    "op5msg = 'Inserta 5 para subir un 5% los sueldos por debajo de 10000'\n",
    "op6msg = 'Inserta 6 para mostrar el total de todos los salarios'\n",
    "op7msg = 'Inserta 7 para salir del programa'\n",
    "\n",
    "mensaje_menu = f'\\n\\n{op1msg}\\n{op2msg}\\n{op3msg}\\n{op4msg}\\n{op5msg}\\n{op6msg}\\n{op7msg}\\n\\n\\n'\n",
    "empleados = []\n",
    "sueldos = []\n",
    "\n",
    "print('¡Bienvenido!')\n",
    "\n",
    "def addEmpleados_1():\n",
    "    empleado = input(\"\\n\\nNombre del empleado:\")\n",
    "    sueldo = int(input(\"Sueldo\"))\n",
    "\n",
    "    empleados.append(empleado)\n",
    "    sueldos.append(sueldo)\n",
    "    \n",
    "def printEmpleados_2():\n",
    "    print(f'\\n\\nEmpleado\\tSueldo')\n",
    "    print(f'--------\\t------')\n",
    "    for i, empleado in enumerate(empleados):\n",
    "        print(f'{empleado}\\t\\t{sueldos[i]}')\n",
    "\n",
    "def countEmpleados_3():\n",
    "    print(f'Número de empleados: {len(empleados)}')\n",
    "\n",
    "def filterSalaries_4():\n",
    "    filtro = int(input(\"Introducir salario filtro: \"))\n",
    "    print(f'Empleados con sueldos mayores de {filtro}')\n",
    "    for i, sueldo in enumerate(sueldos):\n",
    "        if sueldo > filtro:\n",
    "            print(f'{empleados[i]}')\n",
    "\n",
    "def increaseSalaries_5():\n",
    "    for i, sueldo in enumerate(sueldos):\n",
    "        if sueldo < 10000:\n",
    "            sueldos[i] *= 1.05\n",
    "    print(f'Se han subido los sueldos bajos')\n",
    "\n",
    "def printTotalSalaries_6():\n",
    "    print(f'El gasto total en sueldos es {sum(sueldos)}€')\n",
    "\n",
    "while True:\n",
    "    print(mensaje_menu)\n",
    "    option = int(input(\"\\nInserta option:\"))\n",
    "    if option == 1:\n",
    "        addEmpleados_1()\n",
    "        \n",
    "    if option == 2:    \n",
    "        printEmpleados_2()\n",
    "    \n",
    "    if option == 3:\n",
    "        countEmpleados_3()\n",
    "        \n",
    "    if option == 4:\n",
    "        filterSalaries_4()\n",
    "        \n",
    "    if option == 5:\n",
    "        increaseSalaries_5()\n",
    "        \n",
    "    if option == 6:\n",
    "        printTotalSalaries_6()\n",
    "        \n",
    "    if option == 7:\n",
    "        break"
   ]
  },
  {
   "cell_type": "code",
   "execution_count": null,
   "id": "451af5d3-3dc9-4d6c-9f82-8c6b41220edb",
   "metadata": {},
   "outputs": [
    {
     "name": "stdout",
     "output_type": "stream",
     "text": [
      "\n",
      "\n",
      "¡Bienvenido!\n",
      "\n",
      "Inserta 1 para añadir un nuevo empleado y su salario\n",
      "Inserta 2 para imprimir los nombres y salarios de todos los empleados\n",
      "Inserta 3 para mostrar el número de empleados\n",
      "Inserta 4 para imprimir los nombres de los empleados con sueldos superiores a 400000\n",
      "Inserta 5 para subir un 5% los sueldos por debajo de 10000\n",
      "Inserta 6 para mostrar el total de todos los salarios\n",
      "Inserta 7 para salir del programa\n",
      "\n",
      "    \n"
     ]
    },
    {
     "name": "stdin",
     "output_type": "stream",
     "text": [
      "Inserta option:  1\n",
      "Nombre de empleado:  Juan\n",
      "Salario:  9000\n"
     ]
    },
    {
     "name": "stdout",
     "output_type": "stream",
     "text": [
      "\n"
     ]
    },
    {
     "name": "stdin",
     "output_type": "stream",
     "text": [
      "Inserta opcion:  1\n",
      "Nombre de empleado:  Luisa\n",
      "Salario:  41000\n"
     ]
    },
    {
     "name": "stdout",
     "output_type": "stream",
     "text": [
      "\n"
     ]
    },
    {
     "name": "stdin",
     "output_type": "stream",
     "text": [
      "Inserta opcion:  3\n"
     ]
    },
    {
     "name": "stdout",
     "output_type": "stream",
     "text": [
      "Cantidad de empleados:  2\n",
      "\n"
     ]
    },
    {
     "name": "stdin",
     "output_type": "stream",
     "text": [
      "Inserta opcion:  4\n"
     ]
    },
    {
     "name": "stdout",
     "output_type": "stream",
     "text": [
      "Sueldos mayores de 40000:\n",
      "Luisa\n",
      "\n"
     ]
    },
    {
     "name": "stdin",
     "output_type": "stream",
     "text": [
      "Inserta opcion:  5\n"
     ]
    },
    {
     "name": "stdout",
     "output_type": "stream",
     "text": [
      "¡Los sueldos bajos se han subido!\n",
      "\n"
     ]
    },
    {
     "name": "stdin",
     "output_type": "stream",
     "text": [
      "Inserta opcion:  6\n"
     ]
    },
    {
     "name": "stdout",
     "output_type": "stream",
     "text": [
      "Suma de todos los sueldos:  50900.0\n",
      "\n"
     ]
    },
    {
     "name": "stdin",
     "output_type": "stream",
     "text": [
      "Inserta opcion:  7\n"
     ]
    },
    {
     "name": "stdout",
     "output_type": "stream",
     "text": [
      "¡Gracias por usar el programa!\n"
     ]
    }
   ],
   "source": []
  },
  {
   "cell_type": "markdown",
   "id": "e33a0e21-476e-4103-b889-a6b3e76b99f3",
   "metadata": {},
   "source": [
    "\n",
    "#### (EXTRA) Ejercicio 10.\n",
    "\n",
    "Escribe un programa que __USE RECURSIVIDAD__ para decidir cuál es la película de Pixar favorita de un usuario.\n",
    "El programa preguntará al usuario cuál de 2 películas es su favorita, y con esa favorita se le volverá a preguntar entre esa y otra película cuál es su favorita...y así hasta que el usuario haya decidido de entre todas cuál es su favorita.\n",
    "\n",
    "Pista: si no quieres cambiar una lista, usa copy() y tendrás una copia que es otro objeto\n",
    "\n"
   ]
  },
  {
   "cell_type": "code",
   "execution_count": 4,
   "id": "c9936fd4-6d29-4535-9f34-a6f289d18d8b",
   "metadata": {},
   "outputs": [
    {
     "name": "stdin",
     "output_type": "stream",
     "text": [
      "Si prefieres Toy Story marca 1, si prefieres Soul marca 2:  2\n",
      "Si prefieres Soul marca 1, si prefieres Up marca 2:  1\n",
      "Si prefieres Soul marca 1, si prefieres Coco marca 2:  2\n",
      "Si prefieres Coco marca 1, si prefieres Luca marca 2:  2\n",
      "Si prefieres Luca marca 1, si prefieres Monsters marca 2:  1\n",
      "Si prefieres Luca marca 1, si prefieres Inside Out marca 2:  2\n",
      "Si prefieres Inside Out marca 1, si prefieres WallE marca 2:  2\n",
      "Si prefieres WallE marca 1, si prefieres Buscando a Nemo marca 2:  2\n",
      "Si prefieres Buscando a Nemo marca 1, si prefieres Los increíbles marca 2:  1\n"
     ]
    },
    {
     "name": "stdout",
     "output_type": "stream",
     "text": [
      "Prefieres Buscando a Nemo\n"
     ]
    }
   ],
   "source": [
    "lista_pelis_original = [\"Toy Story\", \"Soul\", \"Up\", \"Coco\", \"Luca\", \"Monsters\", \"Inside Out\", \"WallE\", \"Buscando a Nemo\", \"Los increíbles\"]\n",
    "\n",
    "            "
   ]
  },
  {
   "cell_type": "code",
   "execution_count": 40,
   "id": "e0264a74-638f-4a82-95a0-cddee11253b7",
   "metadata": {},
   "outputs": [
    {
     "name": "stdin",
     "output_type": "stream",
     "text": [
      "Si prefieres Toy Story marca 1, si prefieres Soul marca 2:  2\n",
      "Si prefieres Soul marca 1, si prefieres Up marca 2:  2\n",
      "Si prefieres Up marca 1, si prefieres Coco marca 2:  2\n",
      "Si prefieres Coco marca 1, si prefieres Luca marca 2:  1\n",
      "Si prefieres Coco marca 1, si prefieres Monsters marca 2:  1\n",
      "Si prefieres Coco marca 1, si prefieres Inside Out marca 2:  1\n",
      "Si prefieres Coco marca 1, si prefieres WallE marca 2:  1\n",
      "Si prefieres Coco marca 1, si prefieres Buscando a Nemo marca 2:  1\n",
      "Si prefieres Coco marca 1, si prefieres Los increíbles marca 2:  1\n"
     ]
    },
    {
     "name": "stdout",
     "output_type": "stream",
     "text": [
      "Tu peli favorita es Coco\n"
     ]
    }
   ],
   "source": [
    "lista_pelis_original = [\"Toy Story\", \"Soul\", \"Up\", \"Coco\", \"Luca\", \"Monsters\", \"Inside Out\", \"WallE\", \"Buscando a Nemo\", \"Los increíbles\"]\n",
    "\n",
    "def selecciona_peli(lista_pelis):\n",
    "    if len(lista_pelis) == 1:\n",
    "        print(f'Tu peli favorita es {lista_pelis[0]}')\n",
    "    else:\n",
    "        choices = {1:1,2:0}\n",
    "        while True:\n",
    "            choice = int(input(f'Si prefieres {lista_pelis[0]} marca 1, si prefieres {lista_pelis[1]} marca 2: '))\n",
    "            if choice == 1 or choice == 2:\n",
    "                lista_pelis.pop(choices[choice])\n",
    "                break\n",
    "        \n",
    "        selecciona_peli(lista_pelis)\n",
    "        \n",
    "    \n",
    "selecciona_peli(lista_pelis_original)\n",
    "            "
   ]
  },
  {
   "cell_type": "code",
   "execution_count": null,
   "id": "bfdeb2ba-4578-4c3c-b61a-8bb23103a5bf",
   "metadata": {},
   "outputs": [],
   "source": []
  }
 ],
 "metadata": {
  "kernelspec": {
   "display_name": "Python 3 (ipykernel)",
   "language": "python",
   "name": "python3"
  },
  "language_info": {
   "codemirror_mode": {
    "name": "ipython",
    "version": 3
   },
   "file_extension": ".py",
   "mimetype": "text/x-python",
   "name": "python",
   "nbconvert_exporter": "python",
   "pygments_lexer": "ipython3",
   "version": "3.7.11"
  }
 },
 "nbformat": 4,
 "nbformat_minor": 5
}
