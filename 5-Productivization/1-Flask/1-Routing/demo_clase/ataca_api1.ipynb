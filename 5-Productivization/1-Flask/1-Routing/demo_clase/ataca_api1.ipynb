{
 "cells": [
  {
   "cell_type": "code",
   "execution_count": 1,
   "metadata": {},
   "outputs": [
    {
     "name": "stdout",
     "output_type": "stream",
     "text": [
      "<Response [200]>\n",
      "{\n",
      "  \"author\": \"Vernor Vinge\", \n",
      "  \"first_sentence\": \"The coldsleep itself was dreamless.\", \n",
      "  \"id\": 0, \n",
      "  \"title\": \"A Fire Upon the Deep\", \n",
      "  \"year_published\": \"1992\"\n",
      "}\n",
      "\n"
     ]
    }
   ],
   "source": [
    "import requests\n",
    "root_path = \"http://127.0.0.1:5000\"\n",
    "\n",
    "path = \"/api/v2/resources/book\"\n",
    "\n",
    "content = {'id': 0}\n",
    "\n",
    "response = requests.get(url = root_path + path, json = content)\n",
    "print(response)\n",
    "print(response.text)"
   ]
  },
  {
   "cell_type": "code",
   "execution_count": 2,
   "metadata": {},
   "outputs": [
    {
     "name": "stdout",
     "output_type": "stream",
     "text": [
      "<Response [200]>\n",
      "{\n",
      "  \"author\": \"Author\", \n",
      "  \"first_sentence\": \"Once upon a time...\", \n",
      "  \"id\": 4, \n",
      "  \"title\": \"Red Little Riding Hood\", \n",
      "  \"year_published\": \"1810\"\n",
      "}\n",
      "\n"
     ]
    }
   ],
   "source": [
    "path = '/api/v1/resources/book'\n",
    "\n",
    "new_book = {\n",
    "    \"author\": \"Author\",\n",
    "    \"first_sentence\": \"Once upon a time...\",\n",
    "    \"id\":4,\n",
    "    \"title\": \"Red Little Riding Hood\",\n",
    "    \"year_published\": \"1810\"\n",
    "}\n",
    "\n",
    "response = requests.post(url= root_path + path, json = new_book)\n",
    "print(response)\n",
    "print(response.text)"
   ]
  },
  {
   "cell_type": "code",
   "execution_count": 3,
   "metadata": {},
   "outputs": [
    {
     "name": "stdout",
     "output_type": "stream",
     "text": [
      "{'books': [(None, 2014, 'Ann Leckie ', 'Ancillary Justice', 'The body lay naked and facedown, a deathly gray, spatters of blood staining the snow around it.'), (None, 2013, 'John Scalzi', 'Redshirts', 'From the top of the large boulder he sat on, Ensign Tom Davis looked across the expanse of the cave, toward Captain Lucius Abernathy, Science Officer Q’eeng and Chief Engineer Paul West perched on a second, larger boulder, and thought, Well, this sucks.'), (None, 2012, 'Jo Walton', 'Among Others', 'The Phurnacite factory in Abercwmboi killed all the trees for two miles around.'), (None, 2011, 'Connie Willis', 'Blackout, All Clear (Vol. 2 - Blackout)', 'By noon Michael and Merope still hadn’t returned from Stepney, and Polly was beginning to get really worried.'), (None, 2010, 'Paolo Bacigalupi', 'The Windup Girl', '“No! I don’t want the mangosteen.”'), (None, 2010, 'China Mieville', 'The City & The City', 'I could not see the street or much of the estate.'), (None, 2009, 'Neil Gaiman', 'The Graveyard Book', 'Nobody Owens, known to his friends as Bod, is a normal boy.'), (None, 2008, 'Michael Chabon', \"The Yiddish Policemen's Union\", 'Nine months Landsman’s been flopping at the Hotel Zamenhof without any of his fellow residents managing to get themselves murdered.'), (None, 2007, 'Vernor Vinge', 'Rainbows End', 'The first bit of dumb luck came disguised as a public embarrassment for the European Center for Defense Against Disease.'), (None, 2006, 'Robert Charles Wilson', 'Spin', 'One night in October when he was ten years old, Tyler Dupree stood in his back yard and watched the stars go out.'), (None, 2005, 'Susanna Clarke', 'Jonathan Strange and Mr. Norrell', 'Some years ago there was in the city of York a society of magicians.'), (None, 2004, 'Lois McMaster Bujold', 'Paladin of Souls', 'Sta leaned forward between the crenellations atop the gate tower, the stone gritty beneath her pale hands, and watched in numb exhaustion as the final mourning party cleared the castle gate below.'), (None, 2003, 'Robert J. Sawyer', 'Hominids', 'The blackness was absolute.'), (None, 2002, 'Neil Gaiman', 'American Gods', 'Shadow had done three years in prison.'), (None, 2001, 'J. K. Rowling', 'Harry Potter and the Goblet of Fire', 'The villagers of Little Hangleton still called it “the Riddle House,” even though it had been many years since the Riddle family had lived there.'), (None, 2000, 'Vernor Vinge', 'A Deepness in the Sky', 'The manhunt extended across more than one hundred light-years and eight centuries.'), (None, 1999, 'Connie Willis', 'To Say Nothing of the Dog', 'There were five of us—Carruthers and the new recruit and myself, and Mr. Spivens and the verger.'), (None, 1998, 'Joe Haldeman', 'Forever Peace', 'It was not quite completely dark, thin blue moonlight threading down through the canopy of leaves.'), (None, 1997, 'Kim Stanley Robinson', 'Blue Mars', 'Mars is free now. We’re on our own. No one tells us what to do.'), (None, 1996, 'Neal Stephenson', 'The Diamond Age', \"The bells of St. Mark's were ringing changes up on the mountain when Bud skated over to the mod parlor to upgrade his skull gun.\"), (None, 1995, 'Lois McMaster Bujold', 'Mirror Dance', \"The row of comconsole booths lining the passenger concourse of Escobar's largest commercial orbital transfer station had mirrored doors, divided into diagonal sections by rainbow-colored lines of lights.\"), (None, 1994, 'Kim Stanley Robinson', 'Green Mars', 'The point is not to make another Earth. Not another Alaska or Tibet, not a Vermont nor a Venice, not even an Antarctica. The point is to make something new and strange, something Martian.'), (None, 1993, 'Vernor Vinge', 'A Fire Upon the Deep', 'The coldsleep itself was dreamless.'), (None, 1993, 'Connie Willis', 'Doomsday Book', 'Mr. Dunworthy opened the door to the laboratory and his spectacles promptly steamed up.'), (None, 1992, 'Lois McMaster Bujold', 'Barrayar', 'I am afraid.'), (None, 1991, 'Lois McMaster Bujold', 'The Vor Game', '\"Ship duty!\" chortled the ensign four ahead of Miles in line.'), (None, 1990, 'Dan Simmons', 'Hyperion', 'The Consul awoke with the peculiar headache, dry throat, and sense of having forgotten a thousand dreams which only periods in cryogenic fugue could bring.'), (None, 1989, 'C. J. Cherryh', 'Cyteen', 'It was from the air that the rawness of the land showed most: vast tracts where humanity had as yet made no difference, deserts unclaimed, stark as moons, scrag and woolwood thickets unexplored except by orbiting radar.'), (None, 1988, 'David Brin', 'The Uplift War', 'There had never been such traffic at Port Helenia’s sleepy landing field—not in all the years Fiben Bolger had lived here.'), (None, 1987, 'Orson Scott Card', 'Speaker for the Dead', 'Rooter was at once the most difficult and the most helpful of the pequeninos.'), (None, 1986, 'Orson Scott Card', \"Ender's Game\", 'The monitor lady smiled very nicely and tousled his hair and said, “Andrew, I suppose by now you’re just absolutely sick of having that horrid monitor.'), (None, 1985, 'William Gibson', 'Neuromancer', 'The sky above the port was the color of television, tuned to a dead channel.'), (None, 1984, 'David Brin', 'Startide Rising', 'Fins had been making wisecracks about human beings for thousands of years.'), (None, 1983, 'Isaac Asimov', \"Foundation's Edge\", '“I don’t believe it, of course,” said Golan Trevize, standing on the wide steps of Seldon Hall and looking out over the city as it sparkled in the sunlight.'), (None, 1982, 'C. J. Cherryh', 'Downbelow Station', 'The stars, like all man’s other ventures, were an obvious impracticality, as rash and improbable an ambition as the first venture of man onto Earth’s own great oceans, or into the air, or into space.'), (None, 1981, 'Joan D. Vinge', 'The Snow Queen', 'Here on Tiamat, where there is more water than land, the sharp edge between ocean and sky is blurred; the two merge into one.'), (None, 1980, 'Arthur C. Clarke', 'The Fountains of Paradise', 'The crown grew heavier with each passing year.'), (None, 1979, 'Vonda N. McIntyre', 'Dreamsnake', 'The little boy was frightened.'), (None, 1978, 'Frederik Pohl', 'Gateway', 'My name is Robinette Broadhead, in spite of which I am male.'), (None, 1977, 'Kate Wilhelm', 'Where Late the Sweet Birds Sang', 'What David always hated most about the Sumner family dinners was the way everyone talked about him as if he were not there.'), (None, 1976, 'Joe Haldeman', 'The Forever War', '“Tonight we’re going to show you eight silent ways to kill a man.”'), (None, 1975, 'Ursula K. Le Guin', 'The Dispossessed', 'There was a wall.'), (None, 1974, 'Arthur C. Clarke', 'Rendezvous with Rama', 'Sooner or later, it was bound to happen.'), (None, 1973, 'Isaac Asimov', 'The Gods Themselves', '“Let me give you a lesson in practical politics.”'), (None, 1972, 'Philip Jose Farmer', 'To Your Scattered Bodies Go', 'All those who ever lived on Earth have found themselves resurrected--healthy, young, and naked as newborns--on the grassy banks of a mighty river, in a world unknown.'), (None, 1971, 'Larry Niven', 'Ringworld', 'In the nighttime heart of Beirut, in one of a row of general-address transfer booths, Louis Wu flicked into reality.'), (None, 1970, 'Ursula K. Le Guin', 'The Left Hand of Darkness', \"I'll make my report as if I told a story, for I was taught as a child on my homeworld that Truth is a matter of the imagination.\"), (None, 1969, 'John Brunner', 'Stand on Zanzibar', 'SCANALYZE MY NAME'), (None, 1968, 'Roger Zelazny', 'Lord of Light', 'It is said that fifty-three years after his liberation he returned from the Golden Cloud, to take up once again the gauntlet of Heaven, to oppose the Order of Life and the gods who ordained it so.'), (None, 1967, 'Robert A. Heinlein', 'The Moon Is a Harsh Mistress', 'I see in Lunaya Pravda that Luna City Council has passed on first reading a bill to examine, license, inspect—and tax—public food vendors operating inside municipal pressure.'), (None, 1966, 'Roger Zelazny', 'And Call Me Conrad (aka. This Immortal)', '“You are a Kallikanzaros,” she announced suddenly.'), (None, 1966, 'Frank Herbert', 'Dune', 'In the week before their departure to Arrakis, when all the final scurrying about had reached a nearly unbearable frenzy, an old crone came to visit the mother of the boy, Paul.'), (None, 1965, 'Fritz Leiber', 'The Wanderer', 'Some stories of terror and the supernormal start with a moonlit face at a diamond-paned window, or an old document in spidery handwriting, or the baying of a hound across lonely moors.'), (None, 1964, 'Clifford D. Simak', 'Here Gather the Stars', 'The noise was ended now.'), (None, 1963, 'Philip K. Dick', 'The Man in the High Castle', 'For a week Mr. R. Childan had been anxiously watching the mail.'), (None, 1962, 'Robert A. Heinlein', 'Stranger in a Strange Land', 'Once upon a time when the world was young there was a Martian named Smith.'), (None, 1961, 'Walter M. Miller Jr.', 'A Canticle for Leibowitz', 'Brother Francis Gerard of Utah might never have discovered the blessed documents, had it not been for the pilgrim with girded loins who appeared during that young novice’s Lenten fast in the desert.'), (None, 1960, 'Robert A. Heinlein', 'Starship Troopers', 'I always get the shakes before a drop.'), (None, 1959, 'James Blish', 'A Case Of Conscience', 'The stone door slammed.'), (None, 1958, 'Fritz Leiber', 'The Big Time', 'My name is Greta Forzane.'), (None, 1956, 'Robert A. Heinlein', 'Double Star', 'If a man walks in dressed like a hick and acting as if he owned the place, he’s a spaceman.'), (None, 1955, 'Mark Clifton and Frank Riley', \"They'd Rather Be Right\", \"Just ahead, on Third Street, the massive facade of San Francisco's Southern Pacific depot loomed, half hidden in the swirling fog and January twilight.\"), (None, 1954, 'Ray Bradbury', 'Fahrenheit 451', 'It was a pleasure to burn.'), (None, 1953, 'Alfred Bester', 'The Demolished Man', 'Explosion!'), (None, 1951, 'Robert A. Heinlein', 'Farmer in the Sky', 'Our troop had been up in the High Sierras that day and we were late getting back.'), (None, 1946, 'Isaac Asimov', 'The Mule', 'Bel Riose traveled without escort, which is not what court etiquette prescribes for the head of a fleet stationed in a yet-sullen stellar system on the Marches of the Galactic Empire.'), (None, 1939, 'T. H. White', 'The Sword in the Stone (Part 1 of The Once and Future King)', 'ender')]}\n"
     ]
    }
   ],
   "source": [
    "import sqlite3\n",
    "\n",
    "connection = sqlite3.connect('./books.db')\n",
    "cursor = connection.cursor()\n",
    "\n",
    "select_books = \"SELECT * FROM books\"\n",
    "\n",
    "result = cursor.execute(select_books).fetchall()\n",
    "\n",
    "connection.close()\n",
    "\n",
    "print( {'books': result})"
   ]
  }
 ],
 "metadata": {
  "interpreter": {
   "hash": "4aa887d8acd01500357f29726bea7e7ec068879d4bc58806854d7c2fd90cca9e"
  },
  "kernelspec": {
   "display_name": "Python 3.7.11 ('TheBridgeBootcamp')",
   "language": "python",
   "name": "python3"
  },
  "language_info": {
   "codemirror_mode": {
    "name": "ipython",
    "version": 3
   },
   "file_extension": ".py",
   "mimetype": "text/x-python",
   "name": "python",
   "nbconvert_exporter": "python",
   "pygments_lexer": "ipython3",
   "version": "3.7.11"
  },
  "orig_nbformat": 4
 },
 "nbformat": 4,
 "nbformat_minor": 2
}
