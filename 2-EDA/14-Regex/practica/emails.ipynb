{
 "cells": [
  {
   "cell_type": "code",
   "execution_count": 7,
   "metadata": {},
   "outputs": [],
   "source": [
    "import re\n",
    "\n",
    "emails = '''\n",
    "miguelnievas@thebridgeschool.tech\n",
    "miguel.nievas@uc3m.es\n",
    "miguel-12-1993@mi-correo.net\n",
    "'''"
   ]
  },
  {
   "cell_type": "code",
   "execution_count": 17,
   "metadata": {},
   "outputs": [
    {
     "name": "stdout",
     "output_type": "stream",
     "text": [
      "<re.Match object; span=(14, 34), match='thebridgeschool.tech'>\n",
      "<re.Match object; span=(49, 56), match='uc3m.es'>\n",
      "<re.Match object; span=(72, 85), match='mi-correo.net'>\n"
     ]
    }
   ],
   "source": []
  },
  {
   "cell_type": "code",
   "execution_count": 23,
   "metadata": {},
   "outputs": [
    {
     "name": "stdout",
     "output_type": "stream",
     "text": [
      "<re.Match object; span=(14, 35), match='thebridgeschool.tech\\n'>\n",
      "<re.Match object; span=(49, 57), match='uc3m.es\\n'>\n",
      "<re.Match object; span=(72, 86), match='mi-correo.net\\n'>\n"
     ]
    }
   ],
   "source": [
    "#pattern = re.compile(r'^([^@]+)@[^@]$')\n",
    "#pattern = re.compile(r'[a-zA-Z0-9_.+-]+@([a-zA-Z0-9-]+\\.[a-zA-Z0-9-.]+)')\n",
    "pattern = re.compile(r'([a-zA-Z0-9-]+\\.[a-zA-Z0-9-.]+)\\n')\n",
    "matches = pattern.finditer(emails)\n",
    "\n",
    "for match in matches:\n",
    "    print(match)"
   ]
  }
 ],
 "metadata": {
  "interpreter": {
   "hash": "1baa965d5efe3ac65b79dfc60c0d706280b1da80fedb7760faf2759126c4f253"
  },
  "kernelspec": {
   "display_name": "Python 3.8.8 64-bit",
   "name": "python3"
  },
  "language_info": {
   "codemirror_mode": {
    "name": "ipython",
    "version": 3
   },
   "file_extension": ".py",
   "mimetype": "text/x-python",
   "name": "python",
   "nbconvert_exporter": "python",
   "pygments_lexer": "ipython3",
   "version": "3.7.11"
  },
  "orig_nbformat": 4
 },
 "nbformat": 4,
 "nbformat_minor": 2
}
