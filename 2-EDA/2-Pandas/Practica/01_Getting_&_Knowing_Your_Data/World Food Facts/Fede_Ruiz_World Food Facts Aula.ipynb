{
 "cells": [
  {
   "cell_type": "markdown",
   "metadata": {},
   "source": [
    "# Ex1 - Getting and knowing your Data"
   ]
  },
  {
   "cell_type": "markdown",
   "metadata": {},
   "source": [
    "### Step 1. Go to https://www.kaggle.com/openfoodfacts/world-food-facts/data"
   ]
  },
  {
   "cell_type": "markdown",
   "metadata": {},
   "source": [
    "###  Step 2. Download the dataset to your computer and unzip it."
   ]
  },
  {
   "cell_type": "code",
   "execution_count": 2,
   "metadata": {},
   "outputs": [],
   "source": [
    "import seaborn as sns\n",
    "import pandas as pd\n",
    "import numpy as np"
   ]
  },
  {
   "cell_type": "markdown",
   "metadata": {},
   "source": [
    "### Step 3. Use the tsv file and assign it to a dataframe called food"
   ]
  },
  {
   "cell_type": "code",
   "execution_count": 10,
   "metadata": {},
   "outputs": [],
   "source": [
    "food = pd.read_csv('C:/Datos/TB-DataBootcamp/2-EDA/2-Pandas/Practica/01_Getting_and_Knowing_Your_Data/World-Food-Facts/en.openfoodfacts.org.products.tsv' , sep='\\t', low_memory=False)"
   ]
  },
  {
   "cell_type": "code",
   "execution_count": null,
   "metadata": {
    "tags": []
   },
   "outputs": [],
   "source": []
  },
  {
   "cell_type": "markdown",
   "metadata": {},
   "source": [
    "### Step 4. See the first 5 entries"
   ]
  },
  {
   "cell_type": "code",
   "execution_count": 4,
   "metadata": {},
   "outputs": [
    {
     "data": {
      "text/html": [
       "<div>\n",
       "<style scoped>\n",
       "    .dataframe tbody tr th:only-of-type {\n",
       "        vertical-align: middle;\n",
       "    }\n",
       "\n",
       "    .dataframe tbody tr th {\n",
       "        vertical-align: top;\n",
       "    }\n",
       "\n",
       "    .dataframe thead th {\n",
       "        text-align: right;\n",
       "    }\n",
       "</style>\n",
       "<table border=\"1\" class=\"dataframe\">\n",
       "  <thead>\n",
       "    <tr style=\"text-align: right;\">\n",
       "      <th></th>\n",
       "      <th>code</th>\n",
       "      <th>url</th>\n",
       "      <th>creator</th>\n",
       "      <th>created_t</th>\n",
       "      <th>created_datetime</th>\n",
       "      <th>last_modified_t</th>\n",
       "      <th>last_modified_datetime</th>\n",
       "      <th>product_name</th>\n",
       "      <th>generic_name</th>\n",
       "      <th>quantity</th>\n",
       "      <th>...</th>\n",
       "      <th>fruits-vegetables-nuts_100g</th>\n",
       "      <th>fruits-vegetables-nuts-estimate_100g</th>\n",
       "      <th>collagen-meat-protein-ratio_100g</th>\n",
       "      <th>cocoa_100g</th>\n",
       "      <th>chlorophyl_100g</th>\n",
       "      <th>carbon-footprint_100g</th>\n",
       "      <th>nutrition-score-fr_100g</th>\n",
       "      <th>nutrition-score-uk_100g</th>\n",
       "      <th>glycemic-index_100g</th>\n",
       "      <th>water-hardness_100g</th>\n",
       "    </tr>\n",
       "  </thead>\n",
       "  <tbody>\n",
       "    <tr>\n",
       "      <th>0</th>\n",
       "      <td>3087</td>\n",
       "      <td>http://world-en.openfoodfacts.org/product/0000...</td>\n",
       "      <td>openfoodfacts-contributors</td>\n",
       "      <td>1474103866</td>\n",
       "      <td>2016-09-17T09:17:46Z</td>\n",
       "      <td>1474103893</td>\n",
       "      <td>2016-09-17T09:18:13Z</td>\n",
       "      <td>Farine de blé noir</td>\n",
       "      <td>NaN</td>\n",
       "      <td>1kg</td>\n",
       "      <td>...</td>\n",
       "      <td>NaN</td>\n",
       "      <td>NaN</td>\n",
       "      <td>NaN</td>\n",
       "      <td>NaN</td>\n",
       "      <td>NaN</td>\n",
       "      <td>NaN</td>\n",
       "      <td>NaN</td>\n",
       "      <td>NaN</td>\n",
       "      <td>NaN</td>\n",
       "      <td>NaN</td>\n",
       "    </tr>\n",
       "    <tr>\n",
       "      <th>1</th>\n",
       "      <td>4530</td>\n",
       "      <td>http://world-en.openfoodfacts.org/product/0000...</td>\n",
       "      <td>usda-ndb-import</td>\n",
       "      <td>1489069957</td>\n",
       "      <td>2017-03-09T14:32:37Z</td>\n",
       "      <td>1489069957</td>\n",
       "      <td>2017-03-09T14:32:37Z</td>\n",
       "      <td>Banana Chips Sweetened (Whole)</td>\n",
       "      <td>NaN</td>\n",
       "      <td>NaN</td>\n",
       "      <td>...</td>\n",
       "      <td>NaN</td>\n",
       "      <td>NaN</td>\n",
       "      <td>NaN</td>\n",
       "      <td>NaN</td>\n",
       "      <td>NaN</td>\n",
       "      <td>NaN</td>\n",
       "      <td>14.0</td>\n",
       "      <td>14.0</td>\n",
       "      <td>NaN</td>\n",
       "      <td>NaN</td>\n",
       "    </tr>\n",
       "    <tr>\n",
       "      <th>2</th>\n",
       "      <td>4559</td>\n",
       "      <td>http://world-en.openfoodfacts.org/product/0000...</td>\n",
       "      <td>usda-ndb-import</td>\n",
       "      <td>1489069957</td>\n",
       "      <td>2017-03-09T14:32:37Z</td>\n",
       "      <td>1489069957</td>\n",
       "      <td>2017-03-09T14:32:37Z</td>\n",
       "      <td>Peanuts</td>\n",
       "      <td>NaN</td>\n",
       "      <td>NaN</td>\n",
       "      <td>...</td>\n",
       "      <td>NaN</td>\n",
       "      <td>NaN</td>\n",
       "      <td>NaN</td>\n",
       "      <td>NaN</td>\n",
       "      <td>NaN</td>\n",
       "      <td>NaN</td>\n",
       "      <td>0.0</td>\n",
       "      <td>0.0</td>\n",
       "      <td>NaN</td>\n",
       "      <td>NaN</td>\n",
       "    </tr>\n",
       "    <tr>\n",
       "      <th>3</th>\n",
       "      <td>16087</td>\n",
       "      <td>http://world-en.openfoodfacts.org/product/0000...</td>\n",
       "      <td>usda-ndb-import</td>\n",
       "      <td>1489055731</td>\n",
       "      <td>2017-03-09T10:35:31Z</td>\n",
       "      <td>1489055731</td>\n",
       "      <td>2017-03-09T10:35:31Z</td>\n",
       "      <td>Organic Salted Nut Mix</td>\n",
       "      <td>NaN</td>\n",
       "      <td>NaN</td>\n",
       "      <td>...</td>\n",
       "      <td>NaN</td>\n",
       "      <td>NaN</td>\n",
       "      <td>NaN</td>\n",
       "      <td>NaN</td>\n",
       "      <td>NaN</td>\n",
       "      <td>NaN</td>\n",
       "      <td>12.0</td>\n",
       "      <td>12.0</td>\n",
       "      <td>NaN</td>\n",
       "      <td>NaN</td>\n",
       "    </tr>\n",
       "    <tr>\n",
       "      <th>4</th>\n",
       "      <td>16094</td>\n",
       "      <td>http://world-en.openfoodfacts.org/product/0000...</td>\n",
       "      <td>usda-ndb-import</td>\n",
       "      <td>1489055653</td>\n",
       "      <td>2017-03-09T10:34:13Z</td>\n",
       "      <td>1489055653</td>\n",
       "      <td>2017-03-09T10:34:13Z</td>\n",
       "      <td>Organic Polenta</td>\n",
       "      <td>NaN</td>\n",
       "      <td>NaN</td>\n",
       "      <td>...</td>\n",
       "      <td>NaN</td>\n",
       "      <td>NaN</td>\n",
       "      <td>NaN</td>\n",
       "      <td>NaN</td>\n",
       "      <td>NaN</td>\n",
       "      <td>NaN</td>\n",
       "      <td>NaN</td>\n",
       "      <td>NaN</td>\n",
       "      <td>NaN</td>\n",
       "      <td>NaN</td>\n",
       "    </tr>\n",
       "  </tbody>\n",
       "</table>\n",
       "<p>5 rows × 163 columns</p>\n",
       "</div>"
      ],
      "text/plain": [
       "    code                                                url  \\\n",
       "0   3087  http://world-en.openfoodfacts.org/product/0000...   \n",
       "1   4530  http://world-en.openfoodfacts.org/product/0000...   \n",
       "2   4559  http://world-en.openfoodfacts.org/product/0000...   \n",
       "3  16087  http://world-en.openfoodfacts.org/product/0000...   \n",
       "4  16094  http://world-en.openfoodfacts.org/product/0000...   \n",
       "\n",
       "                      creator   created_t      created_datetime  \\\n",
       "0  openfoodfacts-contributors  1474103866  2016-09-17T09:17:46Z   \n",
       "1             usda-ndb-import  1489069957  2017-03-09T14:32:37Z   \n",
       "2             usda-ndb-import  1489069957  2017-03-09T14:32:37Z   \n",
       "3             usda-ndb-import  1489055731  2017-03-09T10:35:31Z   \n",
       "4             usda-ndb-import  1489055653  2017-03-09T10:34:13Z   \n",
       "\n",
       "  last_modified_t last_modified_datetime                    product_name  \\\n",
       "0      1474103893   2016-09-17T09:18:13Z              Farine de blé noir   \n",
       "1      1489069957   2017-03-09T14:32:37Z  Banana Chips Sweetened (Whole)   \n",
       "2      1489069957   2017-03-09T14:32:37Z                         Peanuts   \n",
       "3      1489055731   2017-03-09T10:35:31Z          Organic Salted Nut Mix   \n",
       "4      1489055653   2017-03-09T10:34:13Z                 Organic Polenta   \n",
       "\n",
       "  generic_name quantity  ... fruits-vegetables-nuts_100g  \\\n",
       "0          NaN      1kg  ...                         NaN   \n",
       "1          NaN      NaN  ...                         NaN   \n",
       "2          NaN      NaN  ...                         NaN   \n",
       "3          NaN      NaN  ...                         NaN   \n",
       "4          NaN      NaN  ...                         NaN   \n",
       "\n",
       "  fruits-vegetables-nuts-estimate_100g collagen-meat-protein-ratio_100g  \\\n",
       "0                                  NaN                              NaN   \n",
       "1                                  NaN                              NaN   \n",
       "2                                  NaN                              NaN   \n",
       "3                                  NaN                              NaN   \n",
       "4                                  NaN                              NaN   \n",
       "\n",
       "  cocoa_100g chlorophyl_100g carbon-footprint_100g nutrition-score-fr_100g  \\\n",
       "0        NaN             NaN                   NaN                     NaN   \n",
       "1        NaN             NaN                   NaN                    14.0   \n",
       "2        NaN             NaN                   NaN                     0.0   \n",
       "3        NaN             NaN                   NaN                    12.0   \n",
       "4        NaN             NaN                   NaN                     NaN   \n",
       "\n",
       "  nutrition-score-uk_100g glycemic-index_100g water-hardness_100g  \n",
       "0                     NaN                 NaN                 NaN  \n",
       "1                    14.0                 NaN                 NaN  \n",
       "2                     0.0                 NaN                 NaN  \n",
       "3                    12.0                 NaN                 NaN  \n",
       "4                     NaN                 NaN                 NaN  \n",
       "\n",
       "[5 rows x 163 columns]"
      ]
     },
     "execution_count": 4,
     "metadata": {},
     "output_type": "execute_result"
    }
   ],
   "source": [
    "food[:5]"
   ]
  },
  {
   "cell_type": "markdown",
   "metadata": {},
   "source": [
    "### Step 5. What is the number of observations in the dataset?"
   ]
  },
  {
   "cell_type": "code",
   "execution_count": 5,
   "metadata": {},
   "outputs": [
    {
     "name": "stdout",
     "output_type": "stream",
     "text": [
      "Rows: 356027\n",
      "Columns: 163\n"
     ]
    }
   ],
   "source": [
    "print(\"Rows:\", food.shape[0])\n",
    "print(\"Columns:\", food.shape[1])"
   ]
  },
  {
   "cell_type": "code",
   "execution_count": null,
   "metadata": {},
   "outputs": [],
   "source": []
  },
  {
   "cell_type": "markdown",
   "metadata": {},
   "source": [
    "### Step 6. What is the number of columns in the dataset?"
   ]
  },
  {
   "cell_type": "code",
   "execution_count": 6,
   "metadata": {},
   "outputs": [
    {
     "name": "stdout",
     "output_type": "stream",
     "text": [
      "Columns: 163\n"
     ]
    }
   ],
   "source": [
    "print(\"Columns:\", food.shape[1])"
   ]
  },
  {
   "cell_type": "code",
   "execution_count": null,
   "metadata": {},
   "outputs": [],
   "source": []
  },
  {
   "cell_type": "markdown",
   "metadata": {},
   "source": [
    "### Step 7. Print the name of all the columns."
   ]
  },
  {
   "cell_type": "code",
   "execution_count": 19,
   "metadata": {
    "tags": []
   },
   "outputs": [
    {
     "name": "stdout",
     "output_type": "stream",
     "text": [
      "0 code\n",
      "1 url\n",
      "2 creator\n",
      "3 created_t\n",
      "4 created_datetime\n",
      "5 last_modified_t\n",
      "6 last_modified_datetime\n",
      "7 product_name\n",
      "8 generic_name\n",
      "9 quantity\n",
      "10 packaging\n",
      "11 packaging_tags\n",
      "12 brands\n",
      "13 brands_tags\n",
      "14 categories\n",
      "15 categories_tags\n",
      "16 categories_en\n",
      "17 origins\n",
      "18 origins_tags\n",
      "19 manufacturing_places\n",
      "20 manufacturing_places_tags\n",
      "21 labels\n",
      "22 labels_tags\n",
      "23 labels_en\n",
      "24 emb_codes\n",
      "25 emb_codes_tags\n",
      "26 first_packaging_code_geo\n",
      "27 cities\n",
      "28 cities_tags\n",
      "29 purchase_places\n",
      "30 stores\n",
      "31 countries\n",
      "32 countries_tags\n",
      "33 countries_en\n",
      "34 ingredients_text\n",
      "35 allergens\n",
      "36 allergens_en\n",
      "37 traces\n",
      "38 traces_tags\n",
      "39 traces_en\n",
      "40 serving_size\n",
      "41 no_nutriments\n",
      "42 additives_n\n",
      "43 additives\n",
      "44 additives_tags\n",
      "45 additives_en\n",
      "46 ingredients_from_palm_oil_n\n",
      "47 ingredients_from_palm_oil\n",
      "48 ingredients_from_palm_oil_tags\n",
      "49 ingredients_that_may_be_from_palm_oil_n\n",
      "50 ingredients_that_may_be_from_palm_oil\n",
      "51 ingredients_that_may_be_from_palm_oil_tags\n",
      "52 nutrition_grade_uk\n",
      "53 nutrition_grade_fr\n",
      "54 pnns_groups_1\n",
      "55 pnns_groups_2\n",
      "56 states\n",
      "57 states_tags\n",
      "58 states_en\n",
      "59 main_category\n",
      "60 main_category_en\n",
      "61 image_url\n",
      "62 image_small_url\n",
      "63 energy_100g\n",
      "64 energy-from-fat_100g\n",
      "65 fat_100g\n",
      "66 saturated-fat_100g\n",
      "67 -butyric-acid_100g\n",
      "68 -caproic-acid_100g\n",
      "69 -caprylic-acid_100g\n",
      "70 -capric-acid_100g\n",
      "71 -lauric-acid_100g\n",
      "72 -myristic-acid_100g\n",
      "73 -palmitic-acid_100g\n",
      "74 -stearic-acid_100g\n",
      "75 -arachidic-acid_100g\n",
      "76 -behenic-acid_100g\n",
      "77 -lignoceric-acid_100g\n",
      "78 -cerotic-acid_100g\n",
      "79 -montanic-acid_100g\n",
      "80 -melissic-acid_100g\n",
      "81 monounsaturated-fat_100g\n",
      "82 polyunsaturated-fat_100g\n",
      "83 omega-3-fat_100g\n",
      "84 -alpha-linolenic-acid_100g\n",
      "85 -eicosapentaenoic-acid_100g\n",
      "86 -docosahexaenoic-acid_100g\n",
      "87 omega-6-fat_100g\n",
      "88 -linoleic-acid_100g\n",
      "89 -arachidonic-acid_100g\n",
      "90 -gamma-linolenic-acid_100g\n",
      "91 -dihomo-gamma-linolenic-acid_100g\n",
      "92 omega-9-fat_100g\n",
      "93 -oleic-acid_100g\n",
      "94 -elaidic-acid_100g\n",
      "95 -gondoic-acid_100g\n",
      "96 -mead-acid_100g\n",
      "97 -erucic-acid_100g\n",
      "98 -nervonic-acid_100g\n",
      "99 trans-fat_100g\n",
      "100 cholesterol_100g\n",
      "101 carbohydrates_100g\n",
      "102 sugars_100g\n",
      "103 -sucrose_100g\n",
      "104 -glucose_100g\n",
      "105 -fructose_100g\n",
      "106 -lactose_100g\n",
      "107 -maltose_100g\n",
      "108 -maltodextrins_100g\n",
      "109 starch_100g\n",
      "110 polyols_100g\n",
      "111 fiber_100g\n",
      "112 proteins_100g\n",
      "113 casein_100g\n",
      "114 serum-proteins_100g\n",
      "115 nucleotides_100g\n",
      "116 salt_100g\n",
      "117 sodium_100g\n",
      "118 alcohol_100g\n",
      "119 vitamin-a_100g\n",
      "120 beta-carotene_100g\n",
      "121 vitamin-d_100g\n",
      "122 vitamin-e_100g\n",
      "123 vitamin-k_100g\n",
      "124 vitamin-c_100g\n",
      "125 vitamin-b1_100g\n",
      "126 vitamin-b2_100g\n",
      "127 vitamin-pp_100g\n",
      "128 vitamin-b6_100g\n",
      "129 vitamin-b9_100g\n",
      "130 folates_100g\n",
      "131 vitamin-b12_100g\n",
      "132 biotin_100g\n",
      "133 pantothenic-acid_100g\n",
      "134 silica_100g\n",
      "135 bicarbonate_100g\n",
      "136 potassium_100g\n",
      "137 chloride_100g\n",
      "138 calcium_100g\n",
      "139 phosphorus_100g\n",
      "140 iron_100g\n",
      "141 magnesium_100g\n",
      "142 zinc_100g\n",
      "143 copper_100g\n",
      "144 manganese_100g\n",
      "145 fluoride_100g\n",
      "146 selenium_100g\n",
      "147 chromium_100g\n",
      "148 molybdenum_100g\n",
      "149 iodine_100g\n",
      "150 caffeine_100g\n",
      "151 taurine_100g\n",
      "152 ph_100g\n",
      "153 fruits-vegetables-nuts_100g\n",
      "154 fruits-vegetables-nuts-estimate_100g\n",
      "155 collagen-meat-protein-ratio_100g\n",
      "156 cocoa_100g\n",
      "157 chlorophyl_100g\n",
      "158 carbon-footprint_100g\n",
      "159 nutrition-score-fr_100g\n",
      "160 nutrition-score-uk_100g\n",
      "161 glycemic-index_100g\n",
      "162 water-hardness_100g\n"
     ]
    }
   ],
   "source": [
    "columnas = list(food.columns)\n",
    "for i, c in enumerate(list(food.columns)):\n",
    "    print(f'{i} {c}')"
   ]
  },
  {
   "cell_type": "markdown",
   "metadata": {},
   "source": [
    "### Step 8. What is the name of 105th column? Position, not index"
   ]
  },
  {
   "cell_type": "code",
   "execution_count": 20,
   "metadata": {},
   "outputs": [
    {
     "data": {
      "text/plain": [
       "'-glucose_100g'"
      ]
     },
     "execution_count": 20,
     "metadata": {},
     "output_type": "execute_result"
    }
   ],
   "source": [
    "list(food.columns)[104]"
   ]
  },
  {
   "cell_type": "markdown",
   "metadata": {},
   "source": [
    "### Step 9. What is the type of the observations of the 105th column?"
   ]
  },
  {
   "cell_type": "code",
   "execution_count": 45,
   "metadata": {},
   "outputs": [
    {
     "name": "stdout",
     "output_type": "stream",
     "text": [
      "-glucose_100g float64\n"
     ]
    }
   ],
   "source": [
    "print(f'{list(food.columns)[104]} {food.dtypes[104]}')"
   ]
  },
  {
   "cell_type": "code",
   "execution_count": null,
   "metadata": {},
   "outputs": [],
   "source": []
  },
  {
   "cell_type": "markdown",
   "metadata": {},
   "source": [
    "### Step 10. How is the dataset indexed?"
   ]
  },
  {
   "cell_type": "code",
   "execution_count": 27,
   "metadata": {},
   "outputs": [
    {
     "data": {
      "text/plain": [
       "RangeIndex(start=0, stop=356027, step=1)"
      ]
     },
     "execution_count": 27,
     "metadata": {},
     "output_type": "execute_result"
    }
   ],
   "source": [
    "food.index"
   ]
  },
  {
   "cell_type": "markdown",
   "metadata": {},
   "source": [
    "### Step 11. What is the product name of the 19th observation?"
   ]
  },
  {
   "cell_type": "code",
   "execution_count": 16,
   "metadata": {},
   "outputs": [
    {
     "name": "stdout",
     "output_type": "stream",
     "text": [
      "Organic Oat Groats\n",
      "Organic Oat Groats\n"
     ]
    }
   ],
   "source": [
    "print(food.loc[19]['product_name'])\n",
    "print(food.loc[19, 'product_name'])"
   ]
  },
  {
   "cell_type": "code",
   "execution_count": 28,
   "metadata": {},
   "outputs": [
    {
     "data": {
      "text/plain": [
       "0         NaN\n",
       "1         NaN\n",
       "2         NaN\n",
       "3         NaN\n",
       "4         NaN\n",
       "         ... \n",
       "356022    NaN\n",
       "356023    NaN\n",
       "356024    NaN\n",
       "356025    NaN\n",
       "356026    NaN\n",
       "Name: origins_tags, Length: 356027, dtype: object"
      ]
     },
     "execution_count": 28,
     "metadata": {},
     "output_type": "execute_result"
    }
   ],
   "source": [
    "food[list(food.columns)[18]]"
   ]
  },
  {
   "cell_type": "code",
   "execution_count": null,
   "metadata": {},
   "outputs": [],
   "source": []
  }
 ],
 "metadata": {
  "anaconda-cloud": {},
  "kernelspec": {
   "display_name": "Python 3 (ipykernel)",
   "language": "python",
   "name": "python3"
  },
  "language_info": {
   "codemirror_mode": {
    "name": "ipython",
    "version": 3
   },
   "file_extension": ".py",
   "mimetype": "text/x-python",
   "name": "python",
   "nbconvert_exporter": "python",
   "pygments_lexer": "ipython3",
   "version": "3.7.11"
  }
 },
 "nbformat": 4,
 "nbformat_minor": 4
}
