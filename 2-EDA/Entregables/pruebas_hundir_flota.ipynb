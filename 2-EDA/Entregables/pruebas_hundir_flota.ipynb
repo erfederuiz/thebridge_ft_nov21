{
 "cells": [
  {
   "cell_type": "markdown",
   "id": "a3184623-ba22-4deb-9817-dac257a5b897",
   "metadata": {},
   "source": [
    "***Pruebas lista tuplas***"
   ]
  },
  {
   "cell_type": "code",
   "execution_count": 1,
   "id": "058c9377-3fa8-45b9-99f7-43ea848ed340",
   "metadata": {},
   "outputs": [
    {
     "name": "stdin",
     "output_type": "stream",
     "text": [
      "Fila: 1\n",
      "Columna: 2\n"
     ]
    },
    {
     "name": "stdout",
     "output_type": "stream",
     "text": [
      "[(1, 2)]\n"
     ]
    }
   ],
   "source": [
    "lista1=[(1,1),(1,2),(1,3),(1,4)]\n",
    "fila = int(input(\"Fila:\"))\n",
    "columna = int(input(\"Columna:\"))\n",
    "celda = ()\n",
    "celda = [tupla for tupla in lista1 if tupla[0]==fila and tupla[1]==columna  ]\n",
    "print(celda)"
   ]
  },
  {
   "cell_type": "markdown",
   "id": "71d73b3f-647c-47a8-b3fb-9f069abff78c",
   "metadata": {},
   "source": [
    "***Comprobar celda en barco***"
   ]
  },
  {
   "cell_type": "code",
   "execution_count": 2,
   "id": "73b7796b-0ea1-4ba5-849e-27e0f7736129",
   "metadata": {},
   "outputs": [
    {
     "name": "stdin",
     "output_type": "stream",
     "text": [
      "Fila: 1\n",
      "Columna: 2\n"
     ]
    },
    {
     "name": "stdout",
     "output_type": "stream",
     "text": [
      "Tocado\n"
     ]
    }
   ],
   "source": [
    "celdas_barco={(1,1):0,(1,2):0,(1,3):0,(1,4):0}\n",
    "fila = int(input(\"Fila:\"))\n",
    "columna = int(input(\"Columna:\"))\n",
    "print(\"Tocado\" if (fila,columna) in celdas_barco.keys() else \"Agua\")"
   ]
  },
  {
   "cell_type": "markdown",
   "id": "98421844-905b-44a6-b506-7e2a8c8fb430",
   "metadata": {},
   "source": [
    "***Constantes y funciones***"
   ]
  },
  {
   "cell_type": "code",
   "execution_count": 3,
   "id": "6e714609-9bd4-420f-9401-92d6626aa09a",
   "metadata": {},
   "outputs": [],
   "source": [
    "limit_columnas = 9\n",
    "limit_filas = 9\n",
    "\n",
    "def check_coordenadas(tupla):\n",
    "    if (tupla[0]>=0 and tupla[0]<=limit_filas) and (tupla[1]>=0 and tupla[1]<=limit_columnas):\n",
    "        return True\n",
    "    else:\n",
    "        return False"
   ]
  },
  {
   "cell_type": "markdown",
   "id": "24032894-6d59-4954-b932-435382d3fed1",
   "metadata": {},
   "source": [
    "***Posicionar barco***"
   ]
  },
  {
   "cell_type": "code",
   "execution_count": 4,
   "id": "fbd3170c-f8c7-4235-bb69-1516b8b7311d",
   "metadata": {},
   "outputs": [
    {
     "name": "stdout",
     "output_type": "stream",
     "text": [
      "(-1, -1)\n"
     ]
    }
   ],
   "source": [
    "\n",
    "inicio=(6,9)\n",
    "eslora=4\n",
    "orientacion='h'\n",
    "celdas = []\n",
    "celdas.append(inicio)\n",
    "for i in range(1, eslora):\n",
    "    last_celda = celdas[-1]\n",
    "    if orientacion=='h':\n",
    "        columna=last_celda[1]\n",
    "        celdas.append((last_celda[0],last_celda[1]+1) if check_coordenadas(last_celda) else (-1,-1))\n",
    "    else:\n",
    "        celdas.append((last_celda[0]+1,last_celda[1]) if check_coordenadas(last_celda) else (-1,-1))\n",
    "    \n",
    "    if celdas[-1]==(-1, -1):\n",
    "        celdas=(-1, -1)\n",
    "        break\n",
    "    \n",
    "print(celdas)"
   ]
  },
  {
   "cell_type": "code",
   "execution_count": 5,
   "id": "2d14ba1b-f6d1-4c99-8d3a-ec20c9c87937",
   "metadata": {},
   "outputs": [],
   "source": [
    "class Posiciones_barco:\n",
    "    def __init__(self, eslora, orientacion, coordenadas):\n",
    "        self.eslora = eslora\n",
    "        self.orientacion = orientacion\n",
    "        self.inicio = coordenadas\n",
    "        self.celdas = []\n",
    "        self.celdas.append(inicio)\n",
    "    \n",
    "    def calcular_posiciones(self):\n",
    "        for i in range(1, eslora):\n",
    "            last_celda = self.celdas[-1]\n",
    "            if self.orientacion=='h':\n",
    "                columna=last_celda[1]\n",
    "                self.celdas.append((last_celda[0],last_celda[1]+1) if check_coordenadas(last_celda) else (-1,-1))\n",
    "            else:\n",
    "                self.celdas.append((last_celda[0]+1,last_celda[1]) if check_coordenadas(last_celda) else (-1,-1))\n",
    "\n",
    "            if self.celdas[-1]==(-1, -1):\n",
    "                self.celdas=(-1, -1)\n",
    "                break        \n",
    "        return self.celdas"
   ]
  },
  {
   "cell_type": "code",
   "execution_count": 6,
   "id": "bc3ed164-93e0-4178-ad1c-53df4c067bec",
   "metadata": {},
   "outputs": [
    {
     "name": "stdout",
     "output_type": "stream",
     "text": [
      "(-1, -1)\n"
     ]
    }
   ],
   "source": [
    "posiciones = Posiciones_barco(4, 'h', (6,9))\n",
    "print(posiciones.calcular_posiciones())"
   ]
  },
  {
   "cell_type": "markdown",
   "id": "109d6337-1bf4-4c29-b4e1-df4e89e2652a",
   "metadata": {},
   "source": [
    "***Fronteras barco***"
   ]
  },
  {
   "cell_type": "code",
   "execution_count": 7,
   "id": "7767199f-bb73-41e7-a96e-ed33d60dbe63",
   "metadata": {},
   "outputs": [],
   "source": [
    "\n",
    "class Fronteras_barco:\n",
    "    def __init__(self, eslora, orientacion, coordenadas):\n",
    "        self.eslora = eslora\n",
    "        self.orientacion = orientacion\n",
    "        self.inicio = coordenadas\n",
    "        self.celdas = []\n",
    "\n",
    "    def celdas_contar(self, direccion):\n",
    "        if direccion == 'derecha':\n",
    "            return self.eslora + 1 if self.orientacion == 'h' else 2\n",
    "        elif direccion == 'abajo':\n",
    "            return 3 if self.orientacion == 'h' else self.eslora + 2\n",
    "        elif direccion == 'izquierda':\n",
    "            return self.eslora + 2 if self.orientacion == 'h' else 3\n",
    "        elif direccion == \"arriba\":\n",
    "            return 3 if self.orientacion == 'h' else self.eslora + 2\n",
    "        else:\n",
    "            return 0\n",
    "\n",
    "    def frontera_superior(self):\n",
    "        celda_inicial = self.celdas[-1]\n",
    "        for i in range(1, self.celdas_contar(\"derecha\")):\n",
    "            next_celda = (celda_inicial[0], celda_inicial[1] + i)\n",
    "            self.celdas.append(next_celda)\n",
    "\n",
    "    def frontera_derecha(self):\n",
    "        celda_inicial = self.celdas[-1]\n",
    "        for i in range(1, self.celdas_contar(\"abajo\")):\n",
    "            next_celda = (celda_inicial[0] + i, celda_inicial[1])\n",
    "            self.celdas.append(next_celda)\n",
    "\n",
    "    def frontera_inferior(self):\n",
    "        celda_inicial = self.celdas[-1]\n",
    "        for i in range(1, self.celdas_contar(\"izquierda\")):\n",
    "            next_celda = (celda_inicial[0], celda_inicial[1] - i)\n",
    "            self.celdas.append(next_celda)\n",
    "\n",
    "    def frontera_izquierda(self):\n",
    "        celda_inicial = self.celdas[-1]\n",
    "        for i in range(1, self.celdas_contar(\"arriba\")):\n",
    "            next_celda = (celda_inicial[0] - i, celda_inicial[1])\n",
    "            self.celdas.append(next_celda)\n",
    "\n",
    "    def calcular(self):\n",
    "        next_celda = (self.inicio[0] - 1, self.inicio[1])\n",
    "        self.celdas.append(next_celda)\n",
    "        self.frontera_superior()\n",
    "        self.frontera_derecha()\n",
    "        self.frontera_inferior()\n",
    "        self.frontera_izquierda()\n",
    "\n",
    "        return list(filter(check_coordenadas, self.celdas))\n",
    "    \n",
    "    "
   ]
  },
  {
   "cell_type": "code",
   "execution_count": 8,
   "id": "abfd373d-0b3c-403e-939a-859718712206",
   "metadata": {},
   "outputs": [
    {
     "data": {
      "text/plain": [
       "[(5, 9), (7, 9), (7, 8), (6, 8), (5, 8)]"
      ]
     },
     "execution_count": 8,
     "metadata": {},
     "output_type": "execute_result"
    }
   ],
   "source": [
    "fronteras = Fronteras_barco(4, 'h', (6,9))\n",
    "fronteras.calcular()"
   ]
  },
  {
   "cell_type": "code",
   "execution_count": 9,
   "id": "8cfd5691-4ef2-4c0c-81d7-cdf2da8720ef",
   "metadata": {},
   "outputs": [
    {
     "name": "stdout",
     "output_type": "stream",
     "text": [
      "[(6, 9), (9, 8), (8, 8), (7, 8), (6, 8)]\n"
     ]
    }
   ],
   "source": [
    "\n",
    "inicio_barco=(7,9)\n",
    "eslora=4\n",
    "orientacion='v'\n",
    "celdas = []\n",
    "next_celda=()\n",
    "\n",
    "\n",
    "\n",
    "next_celda = (inicio_barco[0]-1, inicio_barco[1])\n",
    "if check_coordenadas(next_celda):\n",
    "    celdas.append(next_celda)\n",
    "\n",
    "\n",
    "derecha=0\n",
    "abajo=0\n",
    "izquierda=0\n",
    "arriba=0\n",
    "\n",
    "derecha=eslora+1 if orientacion=='h' else 2\n",
    "abajo=3 if orientacion=='h' else eslora+2\n",
    "izquierda=eslora+2 if orientacion=='h' else 3\n",
    "arriba=3 if orientacion=='h' else eslora+2\n",
    "\n",
    "celda_inicial = next_celda\n",
    "for i in range(1, derecha):\n",
    "    next_celda=(celda_inicial[0], celda_inicial[1]+i)\n",
    "    if check_coordenadas(next_celda):\n",
    "        celdas.append(next_celda)\n",
    "\n",
    "celda_inicial = next_celda\n",
    "for i in range(1, abajo):\n",
    "    next_celda=(celda_inicial[0]+i, celda_inicial[1])\n",
    "    if check_coordenadas(next_celda):\n",
    "        celdas.append(next_celda)\n",
    "\n",
    "celda_inicial = next_celda\n",
    "for i in range(1, izquierda):\n",
    "    next_celda=(celda_inicial[0], celda_inicial[1]-i)\n",
    "    if check_coordenadas(next_celda):\n",
    "        celdas.append(next_celda)\n",
    "\n",
    "celda_inicial = next_celda\n",
    "for i in range(1, arriba):\n",
    "    next_celda=(next_celda[0]-1, next_celda[1])\n",
    "    if check_coordenadas(next_celda):\n",
    "        celdas.append(next_celda)\n",
    "\n",
    "print(celdas)"
   ]
  },
  {
   "cell_type": "markdown",
   "id": "178390f6-27ca-4ba0-b2a9-7047a08523c6",
   "metadata": {},
   "source": [
    "***Traducir coordenadas***"
   ]
  },
  {
   "cell_type": "code",
   "execution_count": 10,
   "id": "4535f665-516e-4240-b14c-1fca4dd46d3c",
   "metadata": {},
   "outputs": [
    {
     "name": "stdin",
     "output_type": "stream",
     "text": [
      "Introduzca coordenadas a1\n"
     ]
    },
    {
     "name": "stdout",
     "output_type": "stream",
     "text": [
      "(0, 0)\n"
     ]
    }
   ],
   "source": [
    "import re\n",
    "\n",
    "col_values = {'A':0, 'B':1, 'C':2, 'D':3, 'E':4, 'F':5, 'G':6, 'H':7, 'I':8, 'J':9}\n",
    "row_values = {'1':0, '2':1, '3':2, '4':3, '5':4, '6':5, '7':6, '8':7, '9':8, '10':9}\n",
    "pattern = r'([A-Ja-j])([0-9]+)'\n",
    "\n",
    "celda=input(\"Introduzca coordenadas\")\n",
    "result = re.search(pattern, celda)\n",
    "if result and int(result.group(2)) <= 10:\n",
    "    coordenadas = (row_values[result.group(2)], col_values[str(result.group(1)).upper()])\n",
    "    print( coordenadas)"
   ]
  },
  {
   "cell_type": "markdown",
   "id": "9e37ac5a-a119-4a30-abbb-bd932d96a888",
   "metadata": {},
   "source": [
    "***Filter disparos recibidos***"
   ]
  },
  {
   "cell_type": "code",
   "execution_count": 11,
   "id": "cf8986a3-ac17-45b8-8cfd-9eb01c763a57",
   "metadata": {},
   "outputs": [],
   "source": [
    "celdas = {(1,1):'T', (1,2):'T', (1,3):'T', (1,4):'x' }\n",
    "\n",
    "valoresAciertos = list(filter(lambda x : x == 'T' or x == 'H' , celdas.values() ))"
   ]
  },
  {
   "cell_type": "code",
   "execution_count": 12,
   "id": "35f861c9-04a8-4007-87de-d01e4130b35e",
   "metadata": {},
   "outputs": [
    {
     "data": {
      "text/plain": [
       "['T', 'T', 'T']"
      ]
     },
     "execution_count": 12,
     "metadata": {},
     "output_type": "execute_result"
    }
   ],
   "source": [
    "valoresAciertos\n"
   ]
  },
  {
   "cell_type": "code",
   "execution_count": 13,
   "id": "2f09343c-0287-4f91-b32d-73870e8ac9e3",
   "metadata": {},
   "outputs": [
    {
     "data": {
      "text/plain": [
       "3"
      ]
     },
     "execution_count": 13,
     "metadata": {},
     "output_type": "execute_result"
    }
   ],
   "source": [
    "len(list(valoresAciertos))"
   ]
  },
  {
   "cell_type": "markdown",
   "id": "bd5a6d7d-335a-4683-9457-f57459860d16",
   "metadata": {},
   "source": [
    "***Generar randoms***"
   ]
  },
  {
   "cell_type": "code",
   "execution_count": 14,
   "id": "67ce5eb6-5d00-4f2b-95ff-b515cd7ab5ee",
   "metadata": {},
   "outputs": [
    {
     "name": "stdout",
     "output_type": "stream",
     "text": [
      "100\n",
      "[2, 6, 7, 9, 1, 6, 3, 5, 2, 6, 4, 9, 2, 6, 3, 0, 0, 7, 7, 2, 9, 9, 7, 9, 4, 0, 2, 3, 0, 0, 9, 3, 0, 3, 3, 2, 0, 1, 5, 1, 1, 6, 0, 8, 0, 5, 5, 5, 8, 0, 1, 2, 6, 4, 0, 5, 1, 4, 7, 0, 6, 5, 7, 8, 7, 7, 7, 6, 6, 1, 9, 9, 6, 7, 8, 0, 8, 4, 8, 1, 5, 4, 9, 2, 2, 9, 1, 1, 4, 2, 9, 6, 7, 3, 4, 7, 5, 9, 6, 8]\n"
     ]
    }
   ],
   "source": [
    "import random\n",
    "#Generate 100 random numbers between 0 and 9\n",
    "randomlist = [random.randint(0, 9) for _ in range(100)]\n",
    "print(len(randomlist))\n",
    "print(randomlist)"
   ]
  },
  {
   "cell_type": "code",
   "execution_count": 15,
   "id": "11ad9873-a80a-46c8-bca0-cd0fcc095f6f",
   "metadata": {},
   "outputs": [
    {
     "name": "stdout",
     "output_type": "stream",
     "text": [
      "100\n",
      "[1, 9, 3, 5, 3, 1, 1, 4, 5, 0, 3, 6, 4, 0, 1, 6, 4, 2, 7, 5, 5, 2, 7, 1, 3, 1, 9, 5, 0, 7, 8, 5, 2, 1, 1, 3, 8, 0, 7, 7, 3, 4, 3, 9, 9, 2, 1, 1, 1, 5, 9, 8, 2, 3, 6, 0, 5, 2, 5, 1, 9, 1, 2, 9, 8, 1, 4, 4, 2, 0, 1, 9, 5, 5, 9, 8, 2, 7, 0, 3, 1, 9, 2, 9, 4, 1, 8, 6, 8, 5, 2, 4, 7, 9, 9, 7, 1, 6, 7, 0]\n"
     ]
    }
   ],
   "source": [
    "import random\n",
    "#Generate 100 random numbers between 0 and 9\n",
    "randomlist = [random.randint(0, 9) for _ in range(100)]\n",
    "print(len(randomlist))\n",
    "print(randomlist)"
   ]
  },
  {
   "cell_type": "code",
   "execution_count": 16,
   "id": "edb89d2c-ba1d-4306-a8bc-2cb69d50a6a1",
   "metadata": {},
   "outputs": [
    {
     "name": "stdout",
     "output_type": "stream",
     "text": [
      "100\n",
      "[1, 0, 1, 0, 1, 1, 0, 1, 0, 1, 1, 1, 1, 0, 0, 1, 0, 0, 0, 1, 0, 0, 0, 1, 0, 1, 0, 0, 0, 1, 1, 0, 1, 1, 1, 1, 0, 1, 1, 0, 1, 0, 0, 0, 1, 0, 1, 0, 1, 1, 0, 1, 1, 1, 1, 0, 1, 1, 0, 0, 0, 1, 1, 1, 1, 0, 0, 0, 0, 0, 0, 1, 1, 1, 0, 0, 0, 0, 0, 1, 1, 0, 0, 0, 0, 1, 1, 0, 0, 0, 0, 0, 0, 0, 0, 1, 1, 0, 1, 1]\n"
     ]
    }
   ],
   "source": [
    "import random\n",
    "#Generate 100 random numbers between 0 and 9\n",
    "randomlist = [random.randint(0, 1) for _ in range(100)]\n",
    "print(len(randomlist))\n",
    "print(randomlist)"
   ]
  },
  {
   "cell_type": "code",
   "execution_count": null,
   "id": "bfaa5440-b498-4a14-b1fe-9575516937f5",
   "metadata": {},
   "outputs": [],
   "source": []
  },
  {
   "cell_type": "markdown",
   "id": "f023e0b0-1dee-4782-b36a-296a70291bff",
   "metadata": {},
   "source": [
    "***Filtrar lista***"
   ]
  },
  {
   "cell_type": "code",
   "execution_count": 17,
   "id": "d4b113c1-b5d1-40da-8bda-ec2475ea7bbd",
   "metadata": {},
   "outputs": [],
   "source": [
    "celdas_barco = [(5, 9), (7, 9), (7, 8), (6, 8), (5, 8)]\n",
    "celdas_ocupadas = [(7,9)]"
   ]
  },
  {
   "cell_type": "code",
   "execution_count": 18,
   "id": "d792ec9b-e905-4ffc-9bf1-76201feca35a",
   "metadata": {},
   "outputs": [
    {
     "data": {
      "text/plain": [
       "[(7, 9)]"
      ]
     },
     "execution_count": 18,
     "metadata": {},
     "output_type": "execute_result"
    }
   ],
   "source": [
    "celdas_conflicto = filter(lambda x: x in celdas_ocupadas, celdas_barco)\n",
    "list(celdas_conflicto)"
   ]
  },
  {
   "cell_type": "markdown",
   "id": "8c9665a9-953f-4dcf-9fa4-8a0e6a3e58b3",
   "metadata": {},
   "source": [
    "***Join sets***"
   ]
  },
  {
   "cell_type": "code",
   "execution_count": 19,
   "id": "8ae3f667-031a-492d-a52f-cbac39b87818",
   "metadata": {},
   "outputs": [
    {
     "data": {
      "text/plain": [
       "[(1, 2),\n",
       " (1, 3),\n",
       " (1, 1),\n",
       " (1, 7),\n",
       " (1, 1),\n",
       " (1, 2),\n",
       " (1, 3),\n",
       " (1, 4),\n",
       " (1, 5),\n",
       " (1, 6)]"
      ]
     },
     "execution_count": 19,
     "metadata": {},
     "output_type": "execute_result"
    }
   ],
   "source": [
    "set1_celdas = {(1,1),(1,2),(1,3),(1,7)}\n",
    "list_celdas = [(1,1),(1,2),(1,3),(1,4),(1,5),(1,6)]\n",
    "set2 = set()\n",
    "list_intermedia = list(set1_celdas) + list_celdas\n",
    "list_intermedia"
   ]
  },
  {
   "cell_type": "code",
   "execution_count": 20,
   "id": "e1681dcf-457e-4ed3-a108-f5065a9d4e37",
   "metadata": {},
   "outputs": [],
   "source": [
    "set2 = set(list_intermedia)"
   ]
  },
  {
   "cell_type": "code",
   "execution_count": 21,
   "id": "a789533e-a727-45f8-984b-c9140c12f7e1",
   "metadata": {},
   "outputs": [
    {
     "data": {
      "text/plain": [
       "{(1, 1), (1, 2), (1, 3), (1, 4), (1, 5), (1, 6), (1, 7)}"
      ]
     },
     "execution_count": 21,
     "metadata": {},
     "output_type": "execute_result"
    }
   ],
   "source": [
    "set2"
   ]
  },
  {
   "cell_type": "code",
   "execution_count": 22,
   "id": "11885433-9e5d-4c24-b527-023dbb0d57b7",
   "metadata": {},
   "outputs": [],
   "source": [
    "dictKO = {}"
   ]
  },
  {
   "cell_type": "code",
   "execution_count": 23,
   "id": "acbc1130-48ec-4085-afa3-59f222916f1c",
   "metadata": {},
   "outputs": [
    {
     "data": {
      "text/plain": [
       "{}"
      ]
     },
     "execution_count": 23,
     "metadata": {},
     "output_type": "execute_result"
    }
   ],
   "source": [
    "dictKO\n"
   ]
  },
  {
   "cell_type": "code",
   "execution_count": 24,
   "id": "d9bc6de2-7216-4b15-9b93-52fb6dfc7c8c",
   "metadata": {},
   "outputs": [
    {
     "data": {
      "text/plain": [
       "0"
      ]
     },
     "execution_count": 24,
     "metadata": {},
     "output_type": "execute_result"
    }
   ],
   "source": [
    "len(dictKO.keys())"
   ]
  },
  {
   "cell_type": "markdown",
   "id": "fc2bce06-84e3-44d1-afa2-6da0ee7cb3b7",
   "metadata": {},
   "source": [
    "***Generar estadisticas***"
   ]
  },
  {
   "cell_type": "code",
   "execution_count": 37,
   "id": "ec841931-857a-411a-878a-e4aaecd5b9c7",
   "metadata": {},
   "outputs": [],
   "source": [
    "disparosA = {(6,'E'):'T', (7,'E'):'T', (8,'E'):'T', (9,'E'):'H'}\n",
    "disparosB = {(6,'A'):'X', (7,'A'):'X'}"
   ]
  },
  {
   "cell_type": "code",
   "execution_count": 57,
   "id": "3829c7d8-ceee-47b9-bef2-f5ff99da2766",
   "metadata": {},
   "outputs": [],
   "source": [
    "maximo_jugadas = len(disparosA.items()) if len(disparosA.items()) >= len(disparosB.items()) else len(disparosB.items())"
   ]
  },
  {
   "cell_type": "code",
   "execution_count": 58,
   "id": "1ebbf63c-f890-46d2-b4c8-27f1899cce19",
   "metadata": {},
   "outputs": [
    {
     "data": {
      "text/plain": [
       "dict_items([((6, 'E'), 'T'), ((7, 'E'), 'T'), ((8, 'E'), 'T'), ((9, 'E'), 'H')])"
      ]
     },
     "execution_count": 58,
     "metadata": {},
     "output_type": "execute_result"
    }
   ],
   "source": [
    "infoA = []\n",
    "infoB = []\n",
    "disparosA.keys()\n",
    "disparosA.values()\n",
    "disparosA.items()\n"
   ]
  },
  {
   "cell_type": "code",
   "execution_count": 59,
   "id": "00a0bdaa-781d-4068-92ff-40e0347c7571",
   "metadata": {},
   "outputs": [],
   "source": [
    "infoA =  [f'{keys[1]}{keys[0]}={value}' for keys, value in disparosA.items()]\n",
    "infoB =  [f'{keys[1]}{keys[0]}={value}' for keys, value in disparosB.items()]\n",
    "\n",
    "\n"
   ]
  },
  {
   "cell_type": "code",
   "execution_count": 78,
   "id": "3b5aaf21-e95d-46c7-b5d9-79eb49ccc2f4",
   "metadata": {},
   "outputs": [
    {
     "name": "stdout",
     "output_type": "stream",
     "text": [
      "Jugadas\t\t\t\tJugadas\n",
      "                      \n",
      "E6=T\t\t\t\tA6=X\n",
      "E7=T\t\t\t\tA7=X\n",
      "E8=T\t\t\t\t    \n",
      "E9=H\t\t\t\t    \n",
      "\n"
     ]
    }
   ],
   "source": [
    "linea_datos = ''\n",
    "\n",
    "linea_datos += f'Jugadas\\t\\t\\t\\tJugadas\\n'\n",
    "linea_datos += f'                      \\n'\n",
    "for i in range(maximo_jugadas):\n",
    "    datosA = \"    \"\n",
    "    datosB = \"    \"\n",
    "    if i < len(disparosA.items()):\n",
    "        datosA = f'{infoA[i]}' \n",
    "    if i < len(disparosB.items()): \n",
    "        datosB = f'{infoB[i]}' \n",
    "\n",
    "        \n",
    "    linea_datos += f'{datosA}\\t\\t\\t\\t{datosB}\\n'\n",
    "\n",
    "print(linea_datos)    "
   ]
  },
  {
   "cell_type": "code",
   "execution_count": 97,
   "id": "fe81844b-7d64-4962-8103-201eac2d6448",
   "metadata": {},
   "outputs": [],
   "source": [
    "import pandas as pd\n",
    "import numpy as np"
   ]
  },
  {
   "cell_type": "code",
   "execution_count": 98,
   "id": "1c4eea3f-f982-4c61-9774-d7b8a19e5ab7",
   "metadata": {},
   "outputs": [],
   "source": [
    "disparos_a = {(1, 'A'): 'X', (2, 'A'): 'X', (3, 'B'): 'T', (4, 'B'): 'T', (5, 'B'): 'T', (6, 'B'): 'H', (1, 'C'): 'H', (1, 'E'): 'X', (6, 'D'): 'T', (6, 'E'): 'T', (6, 'F'): 'H', (9, 'B'): 'T', (9, 'C'): 'T', (9, 'D'): 'H', (10, 'I'): 'T', (10, 'J'): 'H', (4, 'I'): 'T', (5, 'I'): 'H', (2, 'E'): 'T', (3, 'E'): 'H', (8, 'I'): 'H', (1, 'H'): 'H', (2, 'J'): 'H'}"
   ]
  },
  {
   "cell_type": "code",
   "execution_count": 99,
   "id": "38063d5e-2ad7-4ef7-ac09-7f968990ee76",
   "metadata": {},
   "outputs": [],
   "source": [
    "\n",
    "disparos_b = {(9, 'F'): 'X', (3, 'E'): 'X', (4, 'I'): 'T', (8, 'B'): 'H', (4, 'G'): 'X'}"
   ]
  },
  {
   "cell_type": "code",
   "execution_count": 100,
   "id": "2c677a66-7c06-47c1-8dd4-0ae7fc7da40d",
   "metadata": {},
   "outputs": [],
   "source": [
    "jugador_a_name = 'Fede'\n",
    "jugador_b_name = 'Skynet'"
   ]
  },
  {
   "cell_type": "code",
   "execution_count": 101,
   "id": "eff6f977-6e2f-400f-a751-ac7e22e01841",
   "metadata": {},
   "outputs": [
    {
     "data": {
      "text/plain": [
       "{(1, 'A'): 'X',\n",
       " (2, 'A'): 'X',\n",
       " (3, 'B'): 'T',\n",
       " (4, 'B'): 'T',\n",
       " (5, 'B'): 'T',\n",
       " (6, 'B'): 'H',\n",
       " (1, 'C'): 'H',\n",
       " (1, 'E'): 'X',\n",
       " (6, 'D'): 'T',\n",
       " (6, 'E'): 'T',\n",
       " (6, 'F'): 'H',\n",
       " (9, 'B'): 'T',\n",
       " (9, 'C'): 'T',\n",
       " (9, 'D'): 'H',\n",
       " (10, 'I'): 'T',\n",
       " (10, 'J'): 'H',\n",
       " (4, 'I'): 'T',\n",
       " (5, 'I'): 'H',\n",
       " (2, 'E'): 'T',\n",
       " (3, 'E'): 'H',\n",
       " (8, 'I'): 'H',\n",
       " (1, 'H'): 'H',\n",
       " (2, 'J'): 'H'}"
      ]
     },
     "execution_count": 101,
     "metadata": {},
     "output_type": "execute_result"
    }
   ],
   "source": [
    "disparos_a"
   ]
  },
  {
   "cell_type": "code",
   "execution_count": 102,
   "id": "c49b3db8-73be-4f96-934a-57d74af74d61",
   "metadata": {},
   "outputs": [
    {
     "data": {
      "text/plain": [
       "{(9, 'F'): 'X', (3, 'E'): 'X', (4, 'I'): 'T', (8, 'B'): 'H', (4, 'G'): 'X'}"
      ]
     },
     "execution_count": 102,
     "metadata": {},
     "output_type": "execute_result"
    }
   ],
   "source": [
    "disparos_b"
   ]
  },
  {
   "cell_type": "code",
   "execution_count": 103,
   "id": "930cb40c-cd8f-4400-88f7-db53e2a8d483",
   "metadata": {},
   "outputs": [],
   "source": [
    "dict_final = {jugador_a_name : disparos_a, jugador_b_name : disparos_b}"
   ]
  },
  {
   "cell_type": "code",
   "execution_count": 119,
   "id": "29c72a16-d96f-454e-82f5-b8ef473d1dfe",
   "metadata": {},
   "outputs": [],
   "source": [
    "jugadas_A = list(disparos_a.values())\n",
    "jugadas_B = disparos_b.values()"
   ]
  },
  {
   "cell_type": "code",
   "execution_count": 126,
   "id": "619dfb7f-2490-44a0-a445-bd2db2caa617",
   "metadata": {},
   "outputs": [
    {
     "data": {
      "text/plain": [
       "23"
      ]
     },
     "execution_count": 126,
     "metadata": {},
     "output_type": "execute_result"
    }
   ],
   "source": [
    "jugadas_A\n",
    "\n",
    "len(jugadas_A)"
   ]
  },
  {
   "cell_type": "code",
   "execution_count": 127,
   "id": "88e7fbac-ef66-4daa-bd26-6b386cc64183",
   "metadata": {},
   "outputs": [],
   "source": [
    "ind_A = [*range(1,len(jugadas_A)+1, 1)]"
   ]
  },
  {
   "cell_type": "code",
   "execution_count": 128,
   "id": "25e3e8f0-4f0c-438c-834a-1e436cd9486d",
   "metadata": {},
   "outputs": [
    {
     "data": {
      "text/plain": [
       "dict_values(['X', 'X', 'T', 'H', 'X'])"
      ]
     },
     "execution_count": 128,
     "metadata": {},
     "output_type": "execute_result"
    }
   ],
   "source": [
    "jugadas_B"
   ]
  },
  {
   "cell_type": "code",
   "execution_count": 129,
   "id": "1c78ff57-5178-4226-a057-5fe423ef8e45",
   "metadata": {},
   "outputs": [
    {
     "data": {
      "text/plain": [
       "[1,\n",
       " 2,\n",
       " 3,\n",
       " 4,\n",
       " 5,\n",
       " 6,\n",
       " 7,\n",
       " 8,\n",
       " 9,\n",
       " 10,\n",
       " 11,\n",
       " 12,\n",
       " 13,\n",
       " 14,\n",
       " 15,\n",
       " 16,\n",
       " 17,\n",
       " 18,\n",
       " 19,\n",
       " 20,\n",
       " 21,\n",
       " 22,\n",
       " 23]"
      ]
     },
     "execution_count": 129,
     "metadata": {},
     "output_type": "execute_result"
    }
   ],
   "source": [
    "ind_A"
   ]
  },
  {
   "cell_type": "code",
   "execution_count": 130,
   "id": "4d9be076-8a46-4b1a-8796-8efef25abbce",
   "metadata": {},
   "outputs": [],
   "source": [
    "x = pd.Series(jugadas_A, index = ind_A)"
   ]
  },
  {
   "cell_type": "code",
   "execution_count": 131,
   "id": "6e11467f-407e-45a5-964d-72fc9de3c02f",
   "metadata": {},
   "outputs": [
    {
     "data": {
      "text/plain": [
       "1     X\n",
       "2     X\n",
       "3     T\n",
       "4     T\n",
       "5     T\n",
       "6     H\n",
       "7     H\n",
       "8     X\n",
       "9     T\n",
       "10    T\n",
       "11    H\n",
       "12    T\n",
       "13    T\n",
       "14    H\n",
       "15    T\n",
       "16    H\n",
       "17    T\n",
       "18    H\n",
       "19    T\n",
       "20    H\n",
       "21    H\n",
       "22    H\n",
       "23    H\n",
       "dtype: object"
      ]
     },
     "execution_count": 131,
     "metadata": {},
     "output_type": "execute_result"
    }
   ],
   "source": [
    "x\n"
   ]
  },
  {
   "cell_type": "code",
   "execution_count": 157,
   "id": "cea8236a-33c6-46f1-8637-320765db45cb",
   "metadata": {},
   "outputs": [],
   "source": [
    "tipos_jugada = {'T':'Tocados', 'H':'Hundidos', 'X':'Agua'}"
   ]
  },
  {
   "cell_type": "code",
   "execution_count": 161,
   "id": "af7e1ba2-605d-414c-b10b-226e8461d924",
   "metadata": {},
   "outputs": [
    {
     "name": "stdout",
     "output_type": "stream",
     "text": [
      "Jugadas: 23\n"
     ]
    }
   ],
   "source": [
    "print(f'Jugadas: { x.describe()[\"count\"] }')"
   ]
  },
  {
   "cell_type": "code",
   "execution_count": 145,
   "id": "bc7feda0-8a5e-43e1-8d16-0221de86b551",
   "metadata": {},
   "outputs": [
    {
     "data": {
      "text/plain": [
       "['T', 'H', 'X']"
      ]
     },
     "execution_count": 145,
     "metadata": {},
     "output_type": "execute_result"
    }
   ],
   "source": [
    "list(x.value_counts().keys())\n"
   ]
  },
  {
   "cell_type": "code",
   "execution_count": 158,
   "id": "16cca1c7-e92f-424a-8eb8-43a0092677c8",
   "metadata": {},
   "outputs": [
    {
     "data": {
      "text/plain": [
       "['Tocados: 10', 'Hundidos: 10', 'Agua: 3']"
      ]
     },
     "execution_count": 158,
     "metadata": {},
     "output_type": "execute_result"
    }
   ],
   "source": [
    "[f'{tipos_jugada[j]}: {x.value_counts()[j]}' for j in list(x.value_counts().keys())]"
   ]
  },
  {
   "cell_type": "code",
   "execution_count": 160,
   "id": "cceb1b2d-2a63-40c7-87d4-eee8a151ded7",
   "metadata": {},
   "outputs": [
    {
     "name": "stdout",
     "output_type": "stream",
     "text": [
      "Tocados: 10\n",
      "Hundidos: 10\n",
      "Agua: 3\n"
     ]
    }
   ],
   "source": [
    "for m in [f'{tipos_jugada[j]}: {x.value_counts()[j]}' for j in list(x.value_counts().keys())]:\n",
    "    print(m)"
   ]
  },
  {
   "cell_type": "code",
   "execution_count": 162,
   "id": "2b0b4887-2ea0-4974-9dd6-7630cfa83c9f",
   "metadata": {},
   "outputs": [],
   "source": [
    "def resumen_jugadas(nombre_jugador, disparos_jugador ):\n",
    "    disparos = disparos_jugador\n",
    "    jugadas = list(disparos.values())\n",
    "    indx = [*range(1, len(jugadas) + 1, 1)]\n",
    "    x = pd.Series(jugadas, index=indx)\n",
    "    total = x.describe()['count']\n",
    "    tipos_jugada = {'T': 'Tocados', 'H': 'Hundidos', 'X': 'Agua'}\n",
    "    print(f'\\n\\nJugadas de {nombre_jugador}')\n",
    "    print(f'Número de disparos: {x.describe()[\"count\"]}')\n",
    "    for m in [f'{tipos_jugada[j]}: {x.value_counts()[j]}' for j in list(x.value_counts().keys())]:\n",
    "        print(m)"
   ]
  },
  {
   "cell_type": "code",
   "execution_count": 163,
   "id": "de53d9e8-1549-4a7a-a311-bb5101ce838c",
   "metadata": {},
   "outputs": [
    {
     "name": "stdout",
     "output_type": "stream",
     "text": [
      "\n",
      "\n",
      "Jugadas de Fede\n",
      "Número de disparos: 23\n",
      "Tocados: 10\n",
      "Hundidos: 10\n",
      "Agua: 3\n"
     ]
    }
   ],
   "source": [
    "resumen_jugadas('Fede', disparos_a )"
   ]
  },
  {
   "cell_type": "code",
   "execution_count": null,
   "id": "98ba9e96-c4cc-4d1e-aef5-d5dfd8be6977",
   "metadata": {},
   "outputs": [],
   "source": []
  }
 ],
 "metadata": {
  "kernelspec": {
   "display_name": "Python 3 (ipykernel)",
   "language": "python",
   "name": "python3"
  },
  "language_info": {
   "codemirror_mode": {
    "name": "ipython",
    "version": 3
   },
   "file_extension": ".py",
   "mimetype": "text/x-python",
   "name": "python",
   "nbconvert_exporter": "python",
   "pygments_lexer": "ipython3",
   "version": "3.7.11"
  }
 },
 "nbformat": 4,
 "nbformat_minor": 5
}
