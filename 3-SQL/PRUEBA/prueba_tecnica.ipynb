{
 "cells": [
  {
   "cell_type": "code",
   "execution_count": 1,
   "id": "da1095c3-e820-4848-bff1-b674184d8b9f",
   "metadata": {},
   "outputs": [],
   "source": [
    "import sqlite3\n",
    "import pandas as pd"
   ]
  },
  {
   "cell_type": "code",
   "execution_count": 2,
   "id": "083e01f0-85a3-4b15-8883-ac7fd1c28835",
   "metadata": {},
   "outputs": [],
   "source": [
    "con = sqlite3.connect('prueba_tecnica.db')"
   ]
  },
  {
   "cell_type": "code",
   "execution_count": 3,
   "id": "6ada48db-3d5a-464c-b767-40d143065d38",
   "metadata": {},
   "outputs": [],
   "source": [
    "# dfs = pd.read_excel('dataset_pruebaTecnica___.xlsx', sheet_name = None)"
   ]
  },
  {
   "cell_type": "code",
   "execution_count": 4,
   "id": "7d40e0ad-05aa-4c0e-bf79-2a7f52289625",
   "metadata": {},
   "outputs": [],
   "source": [
    "# dfs.keys()"
   ]
  },
  {
   "cell_type": "code",
   "execution_count": 5,
   "id": "412436fd-ee75-49be-94a6-75bed5d073e3",
   "metadata": {},
   "outputs": [],
   "source": [
    "#for nombre, df in dfs.items():\n",
    "#    df.to_sql(nombre, con)\n",
    "\n"
   ]
  },
  {
   "cell_type": "code",
   "execution_count": 6,
   "id": "086ae5fc-b409-4d50-b944-4212bf7257c8",
   "metadata": {},
   "outputs": [],
   "source": [
    "# dfs['client_dim'].to_sql('client_dim', con)"
   ]
  },
  {
   "cell_type": "code",
   "execution_count": 7,
   "id": "4c9d7f20-3b41-4eca-bf81-930e3dd05d27",
   "metadata": {},
   "outputs": [],
   "source": [
    "# dfs['contract_dim'].to_sql('contract_dim', con)"
   ]
  },
  {
   "cell_type": "code",
   "execution_count": 8,
   "id": "af68431f-3a33-48d7-8ad2-259b74a6998b",
   "metadata": {},
   "outputs": [],
   "source": [
    "# dfs['tickets_ft'].to_sql('tickets_ft', con)"
   ]
  },
  {
   "cell_type": "markdown",
   "id": "d5bf2c58-a319-4bde-bfb8-1c42c61a5eab",
   "metadata": {},
   "source": [
    "![alt text](esquema_dataset.png \"Esquema tablas dataset_holaluz\")"
   ]
  },
  {
   "cell_type": "code",
   "execution_count": null,
   "id": "0c0ec3bf-c165-49fd-9488-8053688e1e8f",
   "metadata": {},
   "outputs": [
    {
     "data": {
      "text/html": [
       "<div>\n",
       "<style scoped>\n",
       "    .dataframe tbody tr th:only-of-type {\n",
       "        vertical-align: middle;\n",
       "    }\n",
       "\n",
       "    .dataframe tbody tr th {\n",
       "        vertical-align: top;\n",
       "    }\n",
       "\n",
       "    .dataframe thead th {\n",
       "        text-align: right;\n",
       "    }\n",
       "</style>\n",
       "<table border=\"1\" class=\"dataframe\">\n",
       "  <thead>\n",
       "    <tr style=\"text-align: right;\">\n",
       "      <th></th>\n",
       "      <th>'index'</th>\n",
       "      <th>client_id</th>\n",
       "      <th>cl_web_id</th>\n",
       "      <th>cl_name</th>\n",
       "      <th>email</th>\n",
       "    </tr>\n",
       "  </thead>\n",
       "  <tbody>\n",
       "    <tr>\n",
       "      <th>0</th>\n",
       "      <td>index</td>\n",
       "      <td>16</td>\n",
       "      <td>7b26c53b-b2b8-4a54-a760-faea3fe64f27</td>\n",
       "      <td>client1</td>\n",
       "      <td>email36@gmail.com</td>\n",
       "    </tr>\n",
       "    <tr>\n",
       "      <th>1</th>\n",
       "      <td>index</td>\n",
       "      <td>17</td>\n",
       "      <td>4794ce00-5a71-486a-b59a-89b628bd7597</td>\n",
       "      <td>client2</td>\n",
       "      <td>email440@gmail.com</td>\n",
       "    </tr>\n",
       "    <tr>\n",
       "      <th>2</th>\n",
       "      <td>index</td>\n",
       "      <td>18</td>\n",
       "      <td>0e22b5d7-99fa-40f1-bc0a-2dde670c5f7a</td>\n",
       "      <td>client3</td>\n",
       "      <td>email688@gmail.com</td>\n",
       "    </tr>\n",
       "    <tr>\n",
       "      <th>3</th>\n",
       "      <td>index</td>\n",
       "      <td>19</td>\n",
       "      <td></td>\n",
       "      <td>client4</td>\n",
       "      <td>email745@gmail.com</td>\n",
       "    </tr>\n",
       "    <tr>\n",
       "      <th>4</th>\n",
       "      <td>index</td>\n",
       "      <td>20</td>\n",
       "      <td></td>\n",
       "      <td>client5</td>\n",
       "      <td>email223@gmail.com</td>\n",
       "    </tr>\n",
       "    <tr>\n",
       "      <th>...</th>\n",
       "      <td>...</td>\n",
       "      <td>...</td>\n",
       "      <td>...</td>\n",
       "      <td>...</td>\n",
       "      <td>...</td>\n",
       "    </tr>\n",
       "    <tr>\n",
       "      <th>987</th>\n",
       "      <td>index</td>\n",
       "      <td>1142</td>\n",
       "      <td>f4de1d9b-9a07-42cb-b8be-193586f62397</td>\n",
       "      <td>client988</td>\n",
       "      <td>email82@gmail.com</td>\n",
       "    </tr>\n",
       "    <tr>\n",
       "      <th>988</th>\n",
       "      <td>index</td>\n",
       "      <td>1143</td>\n",
       "      <td>c9cde543-a744-4b22-ac13-a8268fdcf58c</td>\n",
       "      <td>client989</td>\n",
       "      <td>email84@gmail.com</td>\n",
       "    </tr>\n",
       "    <tr>\n",
       "      <th>989</th>\n",
       "      <td>index</td>\n",
       "      <td>1144</td>\n",
       "      <td>6152427e-eb6d-4dca-8f69-4164fda3a4da</td>\n",
       "      <td>client990</td>\n",
       "      <td>email366@gmail.com</td>\n",
       "    </tr>\n",
       "    <tr>\n",
       "      <th>990</th>\n",
       "      <td>index</td>\n",
       "      <td>1145</td>\n",
       "      <td>22d4cbc5-e8c8-4235-8daa-f1aede68dec7</td>\n",
       "      <td>client991</td>\n",
       "      <td>email995@gmail.com</td>\n",
       "    </tr>\n",
       "    <tr>\n",
       "      <th>991</th>\n",
       "      <td>index</td>\n",
       "      <td>1146</td>\n",
       "      <td>cc230971-97c8-4407-8633-518df1ed58f1</td>\n",
       "      <td>client992</td>\n",
       "      <td>email18@gmail.com</td>\n",
       "    </tr>\n",
       "  </tbody>\n",
       "</table>\n",
       "<p>992 rows × 5 columns</p>\n",
       "</div>"
      ],
      "text/plain": [
       "    'index'  client_id                              cl_web_id    cl_name  \\\n",
       "0     index         16   7b26c53b-b2b8-4a54-a760-faea3fe64f27    client1   \n",
       "1     index         17   4794ce00-5a71-486a-b59a-89b628bd7597    client2   \n",
       "2     index         18   0e22b5d7-99fa-40f1-bc0a-2dde670c5f7a    client3   \n",
       "3     index         19                                           client4   \n",
       "4     index         20                                           client5   \n",
       "..      ...        ...                                    ...        ...   \n",
       "987   index       1142   f4de1d9b-9a07-42cb-b8be-193586f62397  client988   \n",
       "988   index       1143   c9cde543-a744-4b22-ac13-a8268fdcf58c  client989   \n",
       "989   index       1144   6152427e-eb6d-4dca-8f69-4164fda3a4da  client990   \n",
       "990   index       1145   22d4cbc5-e8c8-4235-8daa-f1aede68dec7  client991   \n",
       "991   index       1146   cc230971-97c8-4407-8633-518df1ed58f1  client992   \n",
       "\n",
       "                  email  \n",
       "0     email36@gmail.com  \n",
       "1    email440@gmail.com  \n",
       "2    email688@gmail.com  \n",
       "3    email745@gmail.com  \n",
       "4    email223@gmail.com  \n",
       "..                  ...  \n",
       "987   email82@gmail.com  \n",
       "988   email84@gmail.com  \n",
       "989  email366@gmail.com  \n",
       "990  email995@gmail.com  \n",
       "991   email18@gmail.com  \n",
       "\n",
       "[992 rows x 5 columns]"
      ]
     },
     "execution_count": 10,
     "metadata": {},
     "output_type": "execute_result"
    }
   ],
   "source": [
    "pd.read_sql(\"SELECT 'index', client_id, cl_web_id, cl_name, email FROM client_dim;\", con)  "
   ]
  },
  {
   "cell_type": "markdown",
   "id": "4f9d978f-12fb-48aa-9c11-5b3b58c67f42",
   "metadata": {},
   "source": [
    "1) Cuántos clientes con estado ‘Alta’ tenemos con cada tarifa y producto.\n"
   ]
  },
  {
   "cell_type": "code",
   "execution_count": 18,
   "id": "eb051569-b08c-4ddb-aa7c-6ee698621b27",
   "metadata": {},
   "outputs": [
    {
     "data": {
      "text/html": [
       "<div>\n",
       "<style scoped>\n",
       "    .dataframe tbody tr th:only-of-type {\n",
       "        vertical-align: middle;\n",
       "    }\n",
       "\n",
       "    .dataframe tbody tr th {\n",
       "        vertical-align: top;\n",
       "    }\n",
       "\n",
       "    .dataframe thead th {\n",
       "        text-align: right;\n",
       "    }\n",
       "</style>\n",
       "<table border=\"1\" class=\"dataframe\">\n",
       "  <thead>\n",
       "    <tr style=\"text-align: right;\">\n",
       "      <th></th>\n",
       "      <th>contract_tariff</th>\n",
       "      <th>contract_product</th>\n",
       "      <th>Num Clientes</th>\n",
       "    </tr>\n",
       "  </thead>\n",
       "  <tbody>\n",
       "    <tr>\n",
       "      <th>0</th>\n",
       "      <td>2.0A</td>\n",
       "      <td>Clásico</td>\n",
       "      <td>152</td>\n",
       "    </tr>\n",
       "    <tr>\n",
       "      <th>1</th>\n",
       "      <td>2.0A</td>\n",
       "      <td>Sin Sorpresas</td>\n",
       "      <td>73</td>\n",
       "    </tr>\n",
       "    <tr>\n",
       "      <th>2</th>\n",
       "      <td>2.0A</td>\n",
       "      <td>Tarifa Justa</td>\n",
       "      <td>29</td>\n",
       "    </tr>\n",
       "    <tr>\n",
       "      <th>3</th>\n",
       "      <td>2.0DHA</td>\n",
       "      <td>Clásico</td>\n",
       "      <td>334</td>\n",
       "    </tr>\n",
       "    <tr>\n",
       "      <th>4</th>\n",
       "      <td>2.0DHA</td>\n",
       "      <td>Sin Sorpresas</td>\n",
       "      <td>163</td>\n",
       "    </tr>\n",
       "    <tr>\n",
       "      <th>5</th>\n",
       "      <td>2.0DHA</td>\n",
       "      <td>Tarifa Justa</td>\n",
       "      <td>91</td>\n",
       "    </tr>\n",
       "    <tr>\n",
       "      <th>6</th>\n",
       "      <td>2.1A</td>\n",
       "      <td>Clásico</td>\n",
       "      <td>115</td>\n",
       "    </tr>\n",
       "    <tr>\n",
       "      <th>7</th>\n",
       "      <td>2.1A</td>\n",
       "      <td>Sin Sorpresas</td>\n",
       "      <td>62</td>\n",
       "    </tr>\n",
       "    <tr>\n",
       "      <th>8</th>\n",
       "      <td>2.1A</td>\n",
       "      <td>Tarifa Justa</td>\n",
       "      <td>36</td>\n",
       "    </tr>\n",
       "    <tr>\n",
       "      <th>9</th>\n",
       "      <td>3.0A</td>\n",
       "      <td>Clásico</td>\n",
       "      <td>147</td>\n",
       "    </tr>\n",
       "    <tr>\n",
       "      <th>10</th>\n",
       "      <td>3.0A</td>\n",
       "      <td>Sin Sorpresas</td>\n",
       "      <td>72</td>\n",
       "    </tr>\n",
       "    <tr>\n",
       "      <th>11</th>\n",
       "      <td>3.0A</td>\n",
       "      <td>Tarifa Justa</td>\n",
       "      <td>54</td>\n",
       "    </tr>\n",
       "  </tbody>\n",
       "</table>\n",
       "</div>"
      ],
      "text/plain": [
       "   contract_tariff contract_product  Num Clientes\n",
       "0             2.0A          Clásico           152\n",
       "1             2.0A    Sin Sorpresas            73\n",
       "2             2.0A     Tarifa Justa            29\n",
       "3           2.0DHA          Clásico           334\n",
       "4           2.0DHA    Sin Sorpresas           163\n",
       "5           2.0DHA     Tarifa Justa            91\n",
       "6             2.1A          Clásico           115\n",
       "7             2.1A    Sin Sorpresas            62\n",
       "8             2.1A     Tarifa Justa            36\n",
       "9             3.0A          Clásico           147\n",
       "10            3.0A    Sin Sorpresas            72\n",
       "11            3.0A     Tarifa Justa            54"
      ]
     },
     "execution_count": 18,
     "metadata": {},
     "output_type": "execute_result"
    }
   ],
   "source": [
    "pd.read_sql(\"\"\"\n",
    "SELECT  co.contract_tariff, co.contract_product, count(*) AS 'Num Clientes'\n",
    "  FROM contract_dim co\n",
    "  JOIN client_dim cl ON cl.client_id == co.client_id\n",
    "  WHERE co_status == 'Alta'\n",
    "  GROUP BY co.contract_tariff, co.contract_product\n",
    "  ORDER BY co.contract_tariff, co.contract_product ASC;\n",
    "\"\"\",con)"
   ]
  },
  {
   "cell_type": "markdown",
   "id": "d5082a23-a139-4077-a718-39972b911525",
   "metadata": {},
   "source": [
    "2) Cuántos clientes en estado Alta tienen o han tenido una incidencia."
   ]
  },
  {
   "cell_type": "code",
   "execution_count": 19,
   "id": "87f81e59-4250-4512-a61b-1d571364784a",
   "metadata": {},
   "outputs": [
    {
     "data": {
      "text/html": [
       "<div>\n",
       "<style scoped>\n",
       "    .dataframe tbody tr th:only-of-type {\n",
       "        vertical-align: middle;\n",
       "    }\n",
       "\n",
       "    .dataframe tbody tr th {\n",
       "        vertical-align: top;\n",
       "    }\n",
       "\n",
       "    .dataframe thead th {\n",
       "        text-align: right;\n",
       "    }\n",
       "</style>\n",
       "<table border=\"1\" class=\"dataframe\">\n",
       "  <thead>\n",
       "    <tr style=\"text-align: right;\">\n",
       "      <th></th>\n",
       "      <th>Num Clientes con incidencias</th>\n",
       "    </tr>\n",
       "  </thead>\n",
       "  <tbody>\n",
       "    <tr>\n",
       "      <th>0</th>\n",
       "      <td>227</td>\n",
       "    </tr>\n",
       "  </tbody>\n",
       "</table>\n",
       "</div>"
      ],
      "text/plain": [
       "   Num Clientes con incidencias\n",
       "0                           227"
      ]
     },
     "execution_count": 19,
     "metadata": {},
     "output_type": "execute_result"
    }
   ],
   "source": [
    "pd.read_sql(\"\"\"\n",
    "SELECT  count(DISTINCT co.client_id) AS 'Num Clientes con incidencias'\n",
    "  FROM contract_dim co \n",
    "  WHERE co.co_status == 'Alta' AND co.client_id in (SELECT DISTINCT client_id\n",
    "  FROM tickets_ft) ;\n",
    "\"\"\",con)"
   ]
  },
  {
   "cell_type": "markdown",
   "id": "ed52b790-2e61-40b7-a901-a747c63eb174",
   "metadata": {},
   "source": [
    "3) Una lista de los client_id y el número de incidencias abiertas de los clientes que tengan\n",
    "más de 2 incidencias con estado ‘Abierta’.\n"
   ]
  },
  {
   "cell_type": "code",
   "execution_count": null,
   "id": "02b7a496-2fdb-4637-88cd-741c30efd191",
   "metadata": {},
   "outputs": [],
   "source": []
  },
  {
   "cell_type": "markdown",
   "id": "a70a5e9f-39dc-4cb9-ab0b-632478f690f2",
   "metadata": {},
   "source": [
    "4) Una lista de todos los clientes (client_id) con su número de incidencias total y el número\n",
    "de incidencias dividido el tiempo que lleva activo el cliente con Holaluz (incidencias por\n",
    "mes).\n"
   ]
  },
  {
   "cell_type": "code",
   "execution_count": null,
   "id": "68fce364-589a-4533-beb5-12292109c356",
   "metadata": {},
   "outputs": [],
   "source": []
  }
 ],
 "metadata": {
  "kernelspec": {
   "display_name": "Python 3 (ipykernel)",
   "language": "python",
   "name": "python3"
  },
  "language_info": {
   "codemirror_mode": {
    "name": "ipython",
    "version": 3
   },
   "file_extension": ".py",
   "mimetype": "text/x-python",
   "name": "python",
   "nbconvert_exporter": "python",
   "pygments_lexer": "ipython3",
   "version": "3.7.11"
  }
 },
 "nbformat": 4,
 "nbformat_minor": 5
}
